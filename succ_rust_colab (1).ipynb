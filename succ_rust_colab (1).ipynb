{
  "nbformat": 4,
  "nbformat_minor": 0,
  "metadata": {
    "colab": {
      "provenance": []
    },
    "kernelspec": {
      "name": "python3",
      "display_name": "Python 3"
    },
    "language_info": {
      "name": "python"
    }
  },
  "cells": [
    {
      "cell_type": "code",
      "execution_count": null,
      "metadata": {
        "id": "szE7GglG0-LG"
      },
      "outputs": [],
      "source": []
    },
    {
      "cell_type": "code",
      "source": [],
      "metadata": {
        "id": "WfONIIBu3SyE"
      },
      "execution_count": null,
      "outputs": []
    },
    {
      "cell_type": "markdown",
      "source": [
        "https://github.com/rustformers/llm/releases/tag/v0.1.1"
      ],
      "metadata": {
        "id": "MrhiqrS13cO5"
      }
    },
    {
      "cell_type": "code",
      "source": [
        "!curl --proto '=https' --tlsv1.2 -LsSf https://github.com/rustformers/llm/releases/download/v0.1.1/llm-cli-installer.sh | sh"
      ],
      "metadata": {
        "colab": {
          "base_uri": "https://localhost:8080/"
        },
        "id": "SNMHfh2i3S0x",
        "outputId": "71918f43-0079-42ba-c5d3-d648fd09de4a"
      },
      "execution_count": 1,
      "outputs": [
        {
          "output_type": "stream",
          "name": "stdout",
          "text": [
            "downloading llm-cli 0.1.1 x86_64-unknown-linux-gnu\n",
            "  from https://github.com/rustformers/llm/releases/download/v0.1.1/llm-cli-x86_64-unknown-linux-gnu.tar.xz\n",
            "  to /tmp/tmp.tufFIAKJGa/input.tar.xz\n",
            "unpacking to /tmp/tmp.tufFIAKJGa\n",
            "  unpacked llm\n",
            "installing to /root/.cargo/bin/\n",
            "everything's installed!\n"
          ]
        }
      ]
    },
    {
      "cell_type": "code",
      "source": [
        "!cargo install --git https://github.com/rustformers/llm llm-cli"
      ],
      "metadata": {
        "colab": {
          "base_uri": "https://localhost:8080/"
        },
        "id": "THlBeMAp3TiL",
        "outputId": "cf00997e-81d6-427d-ebe1-6a2217219c1f"
      },
      "execution_count": 2,
      "outputs": [
        {
          "output_type": "stream",
          "name": "stdout",
          "text": [
            "/bin/bash: line 1: cargo: command not found\n"
          ]
        }
      ]
    },
    {
      "cell_type": "code",
      "source": [
        "!cargo install llm-cli"
      ],
      "metadata": {
        "colab": {
          "base_uri": "https://localhost:8080/"
        },
        "id": "RE4wBr9c4RAx",
        "outputId": "2b427297-a2d1-4a50-da3a-7544a44598b6"
      },
      "execution_count": 3,
      "outputs": [
        {
          "output_type": "stream",
          "name": "stdout",
          "text": [
            "/bin/bash: line 1: cargo: command not found\n"
          ]
        }
      ]
    },
    {
      "source": [
        "!curl --proto '=https' --tlsv1.2 -sSf https://sh.rustup.rs | sh"
      ],
      "cell_type": "code",
      "metadata": {
        "colab": {
          "base_uri": "https://localhost:8080/"
        },
        "id": "t2ltkbGM4bJp",
        "outputId": "d1a1d201-07d3-4b4c-acbe-c0fc77062120"
      },
      "execution_count": 4,
      "outputs": [
        {
          "output_type": "stream",
          "name": "stdout",
          "text": [
            "\u001b[1minfo:\u001b[0m downloading installer\n",
            "sh: 167: cannot open /dev/tty: No such device or address\n"
          ]
        }
      ]
    },
    {
      "source": [
        "import os\n",
        "os.environ['PATH'] += \":/root/.cargo/bin\""
      ],
      "cell_type": "code",
      "metadata": {
        "id": "cfL-b7DL4cNp"
      },
      "execution_count": 2,
      "outputs": []
    },
    {
      "source": [
        "!rustc --version\n",
        "!cargo --version"
      ],
      "cell_type": "code",
      "metadata": {
        "colab": {
          "base_uri": "https://localhost:8080/"
        },
        "id": "B1-gtUNL4cjB",
        "outputId": "ac8c1411-cfcd-47e9-dab8-9f42903bf354"
      },
      "execution_count": 3,
      "outputs": [
        {
          "output_type": "stream",
          "name": "stdout",
          "text": [
            "/bin/bash: line 1: rustc: command not found\n",
            "/bin/bash: line 1: cargo: command not found\n"
          ]
        }
      ]
    },
    {
      "cell_type": "code",
      "source": [
        "import os\n",
        "os.environ['PATH'] += \":/root/.cargo/bin\"\n",
        "!rustc --version\n",
        "!cargo --version"
      ],
      "metadata": {
        "colab": {
          "base_uri": "https://localhost:8080/"
        },
        "id": "zQTyzaEO4Rmh",
        "outputId": "5010a656-68c3-49b7-b49c-00558d29e3ff"
      },
      "execution_count": 4,
      "outputs": [
        {
          "output_type": "stream",
          "name": "stdout",
          "text": [
            "/bin/bash: line 1: rustc: command not found\n",
            "/bin/bash: line 1: cargo: command not found\n"
          ]
        }
      ]
    },
    {
      "cell_type": "code",
      "source": [
        "!curl --proto '=https' --tlsv1.2 -sSf https://sh.rustup.rs | sh"
      ],
      "metadata": {
        "colab": {
          "base_uri": "https://localhost:8080/"
        },
        "id": "veA87mFD4rAa",
        "outputId": "7fabe9c3-c870-47ad-c74f-a2a7f77ee067"
      },
      "execution_count": 5,
      "outputs": [
        {
          "output_type": "stream",
          "name": "stdout",
          "text": [
            "\u001b[1minfo:\u001b[0m downloading installer\n",
            "sh: 167: cannot open /dev/tty: No such device or address\n"
          ]
        }
      ]
    },
    {
      "cell_type": "code",
      "source": [
        "!rustc --version"
      ],
      "metadata": {
        "colab": {
          "base_uri": "https://localhost:8080/"
        },
        "id": "qDNj7IBE48ay",
        "outputId": "5166614e-a0d9-4d1c-fb67-e4bbef1221cb"
      },
      "execution_count": 1,
      "outputs": [
        {
          "output_type": "stream",
          "name": "stdout",
          "text": [
            "/bin/bash: line 1: rustc: command not found\n"
          ]
        }
      ]
    },
    {
      "cell_type": "code",
      "source": [],
      "metadata": {
        "id": "VSGedrwX5FQK"
      },
      "execution_count": null,
      "outputs": []
    },
    {
      "source": [
        "import os\n",
        "os.environ['PATH'] += \":/root/.cargo/bin\""
      ],
      "cell_type": "code",
      "metadata": {
        "id": "26nHoV5X5IOK"
      },
      "execution_count": 2,
      "outputs": []
    },
    {
      "source": [
        "!rustc --version\n",
        "!cargo --version"
      ],
      "cell_type": "code",
      "metadata": {
        "colab": {
          "base_uri": "https://localhost:8080/"
        },
        "id": "EFHAdwWk5Ks6",
        "outputId": "aaae70e8-319c-41d2-c881-1badc247ad27"
      },
      "execution_count": 3,
      "outputs": [
        {
          "output_type": "stream",
          "name": "stdout",
          "text": [
            "/bin/bash: line 1: rustc: command not found\n",
            "/bin/bash: line 1: cargo: command not found\n"
          ]
        }
      ]
    },
    {
      "source": [
        "!llm --help # Show help information\n",
        "!llm start # start llama.cpp model\n",
        "!llm serve # start llama.cpp server"
      ],
      "cell_type": "code",
      "metadata": {
        "colab": {
          "base_uri": "https://localhost:8080/"
        },
        "id": "YbcJFblT5Wn5",
        "outputId": "9cea18ae-a2e9-4805-fb5d-1220c054d2d5"
      },
      "execution_count": 4,
      "outputs": [
        {
          "output_type": "stream",
          "name": "stdout",
          "text": [
            "A CLI for running inference on supported Large Language Models. Powered by the `llm` library.\n",
            "\n",
            "\u001b[1m\u001b[4mUsage:\u001b[0m \u001b[1mllm\u001b[0m <COMMAND>\n",
            "\n",
            "\u001b[1m\u001b[4mCommands:\u001b[0m\n",
            "  \u001b[1mllama\u001b[0m    Use a LLaMA model\n",
            "  \u001b[1mbloom\u001b[0m    Use a BLOOM model\n",
            "  \u001b[1mgpt2\u001b[0m     Use a GPT-2 model\n",
            "  \u001b[1mgptj\u001b[0m     Use a GPT-J model\n",
            "  \u001b[1mgptneox\u001b[0m  Use a GPT-NeoX model\n",
            "  \u001b[1mhelp\u001b[0m     Print this message or the help of the given subcommand(s)\n",
            "\n",
            "\u001b[1m\u001b[4mOptions:\u001b[0m\n",
            "  \u001b[1m-h\u001b[0m, \u001b[1m--help\u001b[0m     Print help\n",
            "  \u001b[1m-V\u001b[0m, \u001b[1m--version\u001b[0m  Print version\n",
            "\u001b[1m\u001b[31merror:\u001b[0m unrecognized subcommand '\u001b[33mstart\u001b[0m'\n",
            "\n",
            "\u001b[1m\u001b[4mUsage:\u001b[0m \u001b[1mllm\u001b[0m <COMMAND>\n",
            "\n",
            "For more information, try '\u001b[1m--help\u001b[0m'.\n",
            "\u001b[1m\u001b[31merror:\u001b[0m unrecognized subcommand '\u001b[33mserve\u001b[0m'\n",
            "\n",
            "\u001b[1m\u001b[4mUsage:\u001b[0m \u001b[1mllm\u001b[0m <COMMAND>\n",
            "\n",
            "For more information, try '\u001b[1m--help\u001b[0m'.\n"
          ]
        }
      ]
    },
    {
      "source": [
        "!llm llama /path/to/your/llama/model.bin --prompt \"Once upon a time\" --temperature 0.7 --tokens 128"
      ],
      "cell_type": "code",
      "metadata": {
        "colab": {
          "base_uri": "https://localhost:8080/"
        },
        "id": "0DFe_bEs5f4B",
        "outputId": "6de279b4-183c-4881-cae0-9d5f0e7da343"
      },
      "execution_count": 5,
      "outputs": [
        {
          "output_type": "stream",
          "name": "stdout",
          "text": [
            "\u001b[1m\u001b[31merror:\u001b[0m unrecognized subcommand '\u001b[33m/path/to/your/llama/model.bin\u001b[0m'\n",
            "\n",
            "\u001b[1m\u001b[4mUsage:\u001b[0m \u001b[1mllm llama\u001b[0m <COMMAND>\n",
            "\n",
            "For more information, try '\u001b[1m--help\u001b[0m'.\n"
          ]
        }
      ]
    },
    {
      "cell_type": "code",
      "source": [
        "!git clone https://huggingface.co/openai-community/gpt2"
      ],
      "metadata": {
        "colab": {
          "base_uri": "https://localhost:8080/"
        },
        "id": "haxJ3IWj5rHC",
        "outputId": "ce3a3158-5802-4702-d693-b6fa4e7304d7"
      },
      "execution_count": 6,
      "outputs": [
        {
          "output_type": "stream",
          "name": "stdout",
          "text": [
            "Cloning into 'gpt2'...\n",
            "remote: Enumerating objects: 87, done.\u001b[K\n",
            "remote: Counting objects: 100% (3/3), done.\u001b[K\n",
            "remote: Compressing objects: 100% (2/2), done.\u001b[K\n",
            "remote: Total 87 (delta 0), reused 0 (delta 0), pack-reused 84 (from 1)\u001b[K\n",
            "Unpacking objects: 100% (87/87), 1.65 MiB | 3.58 MiB/s, done.\n",
            "Filtering content: 100% (11/11), 5.23 GiB | 38.23 MiB/s, done.\n"
          ]
        }
      ]
    },
    {
      "cell_type": "code",
      "source": [
        "!llm llama /content/gpt2/pytorch_model.bin --prompt \"Once upon a time\" --temperature 0.7 --tokens 128"
      ],
      "metadata": {
        "colab": {
          "base_uri": "https://localhost:8080/"
        },
        "id": "z3LxTcg-5r_a",
        "outputId": "6bfa567d-f0d3-4b6a-8a33-311c6ae50067"
      },
      "execution_count": 7,
      "outputs": [
        {
          "output_type": "stream",
          "name": "stdout",
          "text": [
            "\u001b[1m\u001b[31merror:\u001b[0m unrecognized subcommand '\u001b[33m/content/gpt2/pytorch_model.bin\u001b[0m'\n",
            "\n",
            "\u001b[1m\u001b[4mUsage:\u001b[0m \u001b[1mllm llama\u001b[0m <COMMAND>\n",
            "\n",
            "For more information, try '\u001b[1m--help\u001b[0m'.\n"
          ]
        }
      ]
    },
    {
      "source": [
        "!llm llama --model-path /content/gpt2/pytorch_model.bin --prompt \"Once upon a time\" --temperature 0.7 --tokens 128"
      ],
      "cell_type": "code",
      "metadata": {
        "colab": {
          "base_uri": "https://localhost:8080/"
        },
        "id": "zoSJjCYk66x0",
        "outputId": "f6defcc5-2a2f-4652-f215-2ef19d0bb465"
      },
      "execution_count": 8,
      "outputs": [
        {
          "output_type": "stream",
          "name": "stdout",
          "text": [
            "\u001b[1m\u001b[31merror:\u001b[0m unexpected argument '\u001b[33m--model-path\u001b[0m' found\n",
            "\n",
            "\u001b[1m\u001b[4mUsage:\u001b[0m \u001b[1mllm llama\u001b[0m <COMMAND>\n",
            "\n",
            "For more information, try '\u001b[1m--help\u001b[0m'.\n"
          ]
        }
      ]
    },
    {
      "cell_type": "code",
      "source": [
        "!llm llama --help"
      ],
      "metadata": {
        "colab": {
          "base_uri": "https://localhost:8080/"
        },
        "id": "71zqtv-W69f0",
        "outputId": "e4290e49-9004-48cd-a75a-d17a4a526638"
      },
      "execution_count": 9,
      "outputs": [
        {
          "output_type": "stream",
          "name": "stdout",
          "text": [
            "Use a LLaMA model\n",
            "\n",
            "\u001b[1m\u001b[4mUsage:\u001b[0m \u001b[1mllm llama\u001b[0m <COMMAND>\n",
            "\n",
            "\u001b[1m\u001b[4mCommands:\u001b[0m\n",
            "  \u001b[1minfer\u001b[0m          Use a model to infer the next tokens in a sequence, and exit\n",
            "  \u001b[1minfo\u001b[0m           Get information about a GGML model\n",
            "  \u001b[1mprompt-tokens\u001b[0m  Dumps the prompt to console and exits, first as a comma-separated list of token IDs and then as a list of comma-separated string keys and token ID values\n",
            "  \u001b[1mrepl\u001b[0m           Use a model to interactively prompt it multiple times, while resetting the context between invocations\n",
            "  \u001b[1mchat\u001b[0m           Use a model to interactively generate tokens, and chat with it\n",
            "  \u001b[1mquantize\u001b[0m       Quantize a GGML model to 4-bit\n",
            "  \u001b[1mhelp\u001b[0m           Print this message or the help of the given subcommand(s)\n",
            "\n",
            "\u001b[1m\u001b[4mOptions:\u001b[0m\n",
            "  \u001b[1m-h\u001b[0m, \u001b[1m--help\u001b[0m  Print help\n"
          ]
        }
      ]
    },
    {
      "cell_type": "code",
      "source": [
        "!llm llama chat /content/gpt2/pytorch_model.bin"
      ],
      "metadata": {
        "colab": {
          "base_uri": "https://localhost:8080/"
        },
        "id": "sMGJg6hb6_ly",
        "outputId": "e972dbf7-ca91-4775-aacb-2fb899270328"
      },
      "execution_count": 10,
      "outputs": [
        {
          "output_type": "stream",
          "name": "stdout",
          "text": [
            "\u001b[1m\u001b[31merror:\u001b[0m unexpected argument '\u001b[33m/content/gpt2/pytorch_model.bin\u001b[0m' found\n",
            "\n",
            "\u001b[1m\u001b[4mUsage:\u001b[0m \u001b[1mllm llama chat\u001b[0m [OPTIONS] \u001b[1m--model-path\u001b[0m <MODEL_PATH>\n",
            "\n",
            "For more information, try '\u001b[1m--help\u001b[0m'.\n"
          ]
        }
      ]
    },
    {
      "cell_type": "code",
      "source": [],
      "metadata": {
        "id": "7bqba4vI7M_5"
      },
      "execution_count": null,
      "outputs": []
    },
    {
      "source": [
        "!llm llama infer --model-path /content/llama-2-7b.ggmlv3.q3_K_S.bin --prompt \"Once upon a time\" --temperature 0.7 --tokens 128"
      ],
      "cell_type": "code",
      "metadata": {
        "colab": {
          "base_uri": "https://localhost:8080/"
        },
        "id": "NOFQNK5m7P1b",
        "outputId": "4091f428-00bf-4105-957e-da2ecf822270"
      },
      "execution_count": 12,
      "outputs": [
        {
          "output_type": "stream",
          "name": "stdout",
          "text": [
            "\u001b[1m\u001b[31merror:\u001b[0m unexpected argument '\u001b[33m--tokens\u001b[0m' found\n",
            "\n",
            "  \u001b[32mtip:\u001b[0m a similar argument exists: '\u001b[32m--token-bias\u001b[0m'\n",
            "\n",
            "\u001b[1m\u001b[4mUsage:\u001b[0m \u001b[1mllm llama infer\u001b[0m \u001b[1m--prompt\u001b[0m <PROMPT> <--model-path <MODEL_PATH>|--num-ctx-tokens <NUM_CTX_TOKENS>|--no-mmap> <--num-threads <NUM_THREADS>|--num-predict <NUM_PREDICT>|--batch-size <BATCH_SIZE>|--repeat-last-n <REPEAT_LAST_N>|--repeat-penalty <REPEAT_PENALTY>|--temperature <TEMPERATURE>|--top-k <TOP_K>|--top-p <TOP_P>|--load-session <LOAD_SESSION>|--seed <SEED>|--float16|--token-bias <TOKEN_BIAS>|--ignore-eos>\n",
            "\n",
            "For more information, try '\u001b[1m--help\u001b[0m'.\n"
          ]
        }
      ]
    },
    {
      "cell_type": "markdown",
      "source": [
        "rror: unexpected argument '--tokens' found\n",
        "\n",
        "  tip: a similar argument exists: '--token-bias'\n",
        "\n",
        "Usage: llm llama infer --prompt <PROMPT> <--model-path <MODEL_PATH>|--num-ctx-tokens <NUM_CTX_TOKENS>|--no-mmap> <--num-threads <NUM_THREADS>|--num-predict <NUM_PREDICT>|--batch-size <BATCH_SIZE>|--repeat-last-n <REPEAT_LAST_N>|--repeat-penalty <REPEAT_PENALTY>|--temperature <TEMPERATURE>|--top-k <TOP_K>|--top-p <TOP_P>|--load-session <LOAD_SESSION>|--seed <SEED>|--float16|--token-bias <TOKEN_BIAS>|--ignore-eos>\n",
        "\n",
        "For more information, try '--help'."
      ],
      "metadata": {
        "id": "tah4cJWA8TSS"
      }
    },
    {
      "cell_type": "code",
      "source": [
        "!wget https://huggingface.co/TheBloke/Llama-2-7B-GGML/resolve/main/llama-2-7b.ggmlv3.q3_K_S.bin"
      ],
      "metadata": {
        "colab": {
          "base_uri": "https://localhost:8080/"
        },
        "id": "GHHTzkk57iAi",
        "outputId": "7225f5f9-7858-46c5-d25d-b58b8644fe9a"
      },
      "execution_count": 11,
      "outputs": [
        {
          "output_type": "stream",
          "name": "stdout",
          "text": [
            "--2025-02-12 20:51:22--  https://huggingface.co/TheBloke/Llama-2-7B-GGML/resolve/main/llama-2-7b.ggmlv3.q3_K_S.bin\n",
            "Resolving huggingface.co (huggingface.co)... 18.239.50.16, 18.239.50.103, 18.239.50.80, ...\n",
            "Connecting to huggingface.co (huggingface.co)|18.239.50.16|:443... connected.\n",
            "HTTP request sent, awaiting response... 302 Found\n",
            "Location: https://cdn-lfs.hf.co/repos/f8/8d/f88de0c18630cb860e75d1dc208c88baf212ec49bb6ff8b476801b0901ced546/a20353e17c3f92834a261dd59e3362576f98d213e68b2c55ab61e0a1d5e7d1a0?response-content-disposition=inline%3B+filename*%3DUTF-8%27%27llama-2-7b.ggmlv3.q3_K_S.bin%3B+filename%3D%22llama-2-7b.ggmlv3.q3_K_S.bin%22%3B&response-content-type=application%2Foctet-stream&Expires=1739397082&Policy=eyJTdGF0ZW1lbnQiOlt7IkNvbmRpdGlvbiI6eyJEYXRlTGVzc1RoYW4iOnsiQVdTOkVwb2NoVGltZSI6MTczOTM5NzA4Mn19LCJSZXNvdXJjZSI6Imh0dHBzOi8vY2RuLWxmcy5oZi5jby9yZXBvcy9mOC84ZC9mODhkZTBjMTg2MzBjYjg2MGU3NWQxZGMyMDhjODhiYWYyMTJlYzQ5YmI2ZmY4YjQ3NjgwMWIwOTAxY2VkNTQ2L2EyMDM1M2UxN2MzZjkyODM0YTI2MWRkNTllMzM2MjU3NmY5OGQyMTNlNjhiMmM1NWFiNjFlMGExZDVlN2QxYTA%7EcmVzcG9uc2UtY29udGVudC1kaXNwb3NpdGlvbj0qJnJlc3BvbnNlLWNvbnRlbnQtdHlwZT0qIn1dfQ__&Signature=GmXp3ra%7E378F1kdg0pAmBAvKTHJDR5VOFDLkj1Lzw1shS4q2IA96NHdvLoBJN%7E9%7EKbfKE3bnIGkQaoXU8GdhuqC2W7kA8cBByjwDnd-LfRgn%7Erbpw4hKRiCWCP5oJYliDFO2v02FgG9Jjx6aDgJ-wCo0uP4HjSKMNLuWLJqsfq93zGtxmLk2%7E5RuRmvuis4CdUoomJuyE1lOAe6Nr-7FPbmU%7ErkY2gtlTKiNf8bqW-kHtFIdSu1r4YuEJr8bZZpnNY8NrJBsewTJw7pxRmyfeW2VuEg4m5UyBfcM0iI7dlcuLn5gHJS4%7E81--TPPGjywf0xEfbPt5TTxc3zs1PHDOg__&Key-Pair-Id=K3RPWS32NSSJCE [following]\n",
            "--2025-02-12 20:51:22--  https://cdn-lfs.hf.co/repos/f8/8d/f88de0c18630cb860e75d1dc208c88baf212ec49bb6ff8b476801b0901ced546/a20353e17c3f92834a261dd59e3362576f98d213e68b2c55ab61e0a1d5e7d1a0?response-content-disposition=inline%3B+filename*%3DUTF-8%27%27llama-2-7b.ggmlv3.q3_K_S.bin%3B+filename%3D%22llama-2-7b.ggmlv3.q3_K_S.bin%22%3B&response-content-type=application%2Foctet-stream&Expires=1739397082&Policy=eyJTdGF0ZW1lbnQiOlt7IkNvbmRpdGlvbiI6eyJEYXRlTGVzc1RoYW4iOnsiQVdTOkVwb2NoVGltZSI6MTczOTM5NzA4Mn19LCJSZXNvdXJjZSI6Imh0dHBzOi8vY2RuLWxmcy5oZi5jby9yZXBvcy9mOC84ZC9mODhkZTBjMTg2MzBjYjg2MGU3NWQxZGMyMDhjODhiYWYyMTJlYzQ5YmI2ZmY4YjQ3NjgwMWIwOTAxY2VkNTQ2L2EyMDM1M2UxN2MzZjkyODM0YTI2MWRkNTllMzM2MjU3NmY5OGQyMTNlNjhiMmM1NWFiNjFlMGExZDVlN2QxYTA%7EcmVzcG9uc2UtY29udGVudC1kaXNwb3NpdGlvbj0qJnJlc3BvbnNlLWNvbnRlbnQtdHlwZT0qIn1dfQ__&Signature=GmXp3ra%7E378F1kdg0pAmBAvKTHJDR5VOFDLkj1Lzw1shS4q2IA96NHdvLoBJN%7E9%7EKbfKE3bnIGkQaoXU8GdhuqC2W7kA8cBByjwDnd-LfRgn%7Erbpw4hKRiCWCP5oJYliDFO2v02FgG9Jjx6aDgJ-wCo0uP4HjSKMNLuWLJqsfq93zGtxmLk2%7E5RuRmvuis4CdUoomJuyE1lOAe6Nr-7FPbmU%7ErkY2gtlTKiNf8bqW-kHtFIdSu1r4YuEJr8bZZpnNY8NrJBsewTJw7pxRmyfeW2VuEg4m5UyBfcM0iI7dlcuLn5gHJS4%7E81--TPPGjywf0xEfbPt5TTxc3zs1PHDOg__&Key-Pair-Id=K3RPWS32NSSJCE\n",
            "Resolving cdn-lfs.hf.co (cdn-lfs.hf.co)... 18.239.83.10, 18.239.83.31, 18.239.83.30, ...\n",
            "Connecting to cdn-lfs.hf.co (cdn-lfs.hf.co)|18.239.83.10|:443... connected.\n",
            "HTTP request sent, awaiting response... 200 OK\n",
            "Length: 2948014720 (2.7G) [application/octet-stream]\n",
            "Saving to: ‘llama-2-7b.ggmlv3.q3_K_S.bin’\n",
            "\n",
            "llama-2-7b.ggmlv3.q 100%[===================>]   2.75G  54.3MB/s    in 52s     \n",
            "\n",
            "2025-02-12 20:52:14 (54.4 MB/s) - ‘llama-2-7b.ggmlv3.q3_K_S.bin’ saved [2948014720/2948014720]\n",
            "\n"
          ]
        }
      ]
    },
    {
      "cell_type": "code",
      "source": [],
      "metadata": {
        "id": "-tedsw_C7j16"
      },
      "execution_count": null,
      "outputs": []
    },
    {
      "source": [
        "!llm llama infer --model-path /content/llama-2-7b.ggmlv3.q3_K_S.bin --prompt \"Once upon a time\" --temperature 0.7 --num-predict 128"
      ],
      "cell_type": "code",
      "metadata": {
        "colab": {
          "base_uri": "https://localhost:8080/"
        },
        "id": "AoeKhez68VG9",
        "outputId": "87abea3a-29f3-40c6-d6ec-42483400e83c"
      },
      "execution_count": 13,
      "outputs": [
        {
          "output_type": "stream",
          "name": "stdout",
          "text": [
            "\r\r⣾ Loading model...Error: \n",
            "   0: \u001b[91mCould not load model\u001b[0m\n",
            "   1: \u001b[91minvalid file format version 3\u001b[0m\n",
            "\n",
            "Backtrace omitted. Run with RUST_BACKTRACE=1 environment variable to display it.\n",
            "Run with RUST_BACKTRACE=full to include source snippets.\n"
          ]
        }
      ]
    },
    {
      "source": [
        "!cargo install --git https://github.com/rustformers/llm llm-cli --force"
      ],
      "cell_type": "code",
      "metadata": {
        "colab": {
          "base_uri": "https://localhost:8080/"
        },
        "id": "f8fx9CL_8c-h",
        "outputId": "175d3058-0583-450e-f239-1c5753238101"
      },
      "execution_count": 1,
      "outputs": [
        {
          "output_type": "stream",
          "name": "stdout",
          "text": [
            "/bin/bash: line 1: cargo: command not found\n"
          ]
        }
      ]
    },
    {
      "source": [
        "!curl --proto '=https' --tlsv1.2 -sSf https://sh.rustup.rs | sh"
      ],
      "cell_type": "code",
      "metadata": {
        "id": "kEScQmzJ8sfy"
      },
      "execution_count": null,
      "outputs": []
    },
    {
      "source": [
        "import os\n",
        "os.environ['PATH'] += \":/root/.cargo/bin\""
      ],
      "cell_type": "code",
      "metadata": {
        "id": "elNAlihY8swC"
      },
      "execution_count": 2,
      "outputs": []
    },
    {
      "source": [
        "!cargo --version"
      ],
      "cell_type": "code",
      "metadata": {
        "colab": {
          "base_uri": "https://localhost:8080/"
        },
        "id": "kk6VWpxc8tFb",
        "outputId": "1a2cb551-0339-48b0-aaf1-85548915ab03"
      },
      "execution_count": 3,
      "outputs": [
        {
          "output_type": "stream",
          "name": "stdout",
          "text": [
            "/bin/bash: line 1: cargo: command not found\n"
          ]
        }
      ]
    },
    {
      "source": [
        "!cargo install --git https://github.com/rustformers/llm llm-cli --force"
      ],
      "cell_type": "code",
      "metadata": {
        "id": "XJYNfH128z6z"
      },
      "execution_count": null,
      "outputs": []
    },
    {
      "source": [
        "!cargo install --git https://github.com/rustformers/llm llm-cli --force"
      ],
      "cell_type": "code",
      "metadata": {
        "id": "R6ktxZ0R80h7"
      },
      "execution_count": null,
      "outputs": []
    },
    {
      "source": [
        "!curl --proto '=https' --tlsv1.2 -LsSf https://github.com/rustformers/llm/releases/download/v0.1.1/llm-cli-installer.sh | sh"
      ],
      "cell_type": "code",
      "metadata": {
        "colab": {
          "base_uri": "https://localhost:8080/"
        },
        "id": "O5IO7Ow28eLi",
        "outputId": "69646224-8851-4728-c00f-00ec72bf15f6"
      },
      "execution_count": 16,
      "outputs": [
        {
          "output_type": "stream",
          "name": "stdout",
          "text": [
            "downloading llm-cli 0.1.1 x86_64-unknown-linux-gnu\n",
            "  from https://github.com/rustformers/llm/releases/download/v0.1.1/llm-cli-x86_64-unknown-linux-gnu.tar.xz\n",
            "  to /tmp/tmp.g1esRQRucC/input.tar.xz\n",
            "unpacking to /tmp/tmp.g1esRQRucC\n",
            "  unpacked llm\n",
            "installing to /root/.cargo/bin/\n",
            "everything's installed!\n"
          ]
        }
      ]
    },
    {
      "cell_type": "code",
      "source": [],
      "metadata": {
        "id": "vXyRJxVJ8hSK"
      },
      "execution_count": null,
      "outputs": []
    },
    {
      "source": [
        "!echo $PATH"
      ],
      "cell_type": "code",
      "metadata": {
        "colab": {
          "base_uri": "https://localhost:8080/"
        },
        "id": "MPwGzmTa819r",
        "outputId": "5e30e270-c5e4-424d-d3c2-bc6e9f2dcb35"
      },
      "execution_count": 4,
      "outputs": [
        {
          "output_type": "stream",
          "name": "stdout",
          "text": [
            "/opt/bin:/usr/local/nvidia/bin:/usr/local/cuda/bin:/usr/local/sbin:/usr/local/bin:/usr/sbin:/usr/bin:/sbin:/bin:/tools/node/bin:/tools/google-cloud-sdk/bin:/root/.cargo/bin\n"
          ]
        }
      ]
    },
    {
      "source": [
        "!cargo install --git https://github.com/rustformers/llm llm-cli --force"
      ],
      "cell_type": "code",
      "metadata": {
        "colab": {
          "base_uri": "https://localhost:8080/"
        },
        "id": "9APOHkHV82Ti",
        "outputId": "ba934fbc-9ebd-4ac9-b293-2411f393ec4f"
      },
      "execution_count": 5,
      "outputs": [
        {
          "output_type": "stream",
          "name": "stdout",
          "text": [
            "/bin/bash: line 1: cargo: command not found\n"
          ]
        }
      ]
    },
    {
      "source": [
        "!/root/.cargo/bin/cargo install --git https://github.com/rustformers/llm llm-cli --force"
      ],
      "cell_type": "code",
      "metadata": {
        "colab": {
          "base_uri": "https://localhost:8080/"
        },
        "id": "nsE8KMLM82r8",
        "outputId": "1bfdf8da-87b4-4b36-cb01-9f32e0be97bd"
      },
      "execution_count": 6,
      "outputs": [
        {
          "output_type": "stream",
          "name": "stdout",
          "text": [
            "/bin/bash: line 1: /root/.cargo/bin/cargo: No such file or directory\n"
          ]
        }
      ]
    },
    {
      "source": [
        "!bash -c \"$(cat <path_to_cargo_script>)\" install --git https://github.com/rustformers/llm llm-cli --force"
      ],
      "cell_type": "code",
      "metadata": {
        "colab": {
          "base_uri": "https://localhost:8080/"
        },
        "id": "bArvfV368_h6",
        "outputId": "fdca2c49-0b4a-475f-b2cd-553b18f2ccfe"
      },
      "execution_count": 7,
      "outputs": [
        {
          "output_type": "stream",
          "name": "stdout",
          "text": [
            "/bin/bash: command substitution: line 2: syntax error near unexpected token `)'\n",
            "/bin/bash: command substitution: line 2: `cat <path_to_cargo_script>)\"'\n"
          ]
        }
      ]
    },
    {
      "source": [
        "!bash -c \"$(cat /root/.cargo/bin/cargo)\" install --git https://github.com/rustformers/llm llm-cli --force"
      ],
      "cell_type": "code",
      "metadata": {
        "colab": {
          "base_uri": "https://localhost:8080/"
        },
        "id": "hUBxh2ke8_3D",
        "outputId": "17ef1c61-1309-406b-f202-08146cf4fd6b"
      },
      "execution_count": 8,
      "outputs": [
        {
          "output_type": "stream",
          "name": "stdout",
          "text": [
            "cat: /root/.cargo/bin/cargo: No such file or directory\n"
          ]
        }
      ]
    },
    {
      "cell_type": "code",
      "source": [
        "!cargo new --bin my-llm-project"
      ],
      "metadata": {
        "colab": {
          "base_uri": "https://localhost:8080/"
        },
        "id": "detsuT7w9Xza",
        "outputId": "ac1c5c28-be71-4d7d-d9f7-9467268ccc46"
      },
      "execution_count": 9,
      "outputs": [
        {
          "output_type": "stream",
          "name": "stdout",
          "text": [
            "/bin/bash: line 1: cargo: command not found\n"
          ]
        }
      ]
    },
    {
      "cell_type": "code",
      "source": [
        "!brew install rust"
      ],
      "metadata": {
        "colab": {
          "base_uri": "https://localhost:8080/"
        },
        "id": "VTw4QqF59YXS",
        "outputId": "5524ebd9-e460-4089-9ed1-3424c9f03872"
      },
      "execution_count": 10,
      "outputs": [
        {
          "output_type": "stream",
          "name": "stdout",
          "text": [
            "/bin/bash: line 1: brew: command not found\n"
          ]
        }
      ]
    },
    {
      "cell_type": "code",
      "source": [
        "!pip install --upgrade pip"
      ],
      "metadata": {
        "colab": {
          "base_uri": "https://localhost:8080/"
        },
        "id": "kYyF9-NZ9qkS",
        "outputId": "b263776e-8c46-464f-d232-3c254b7b3b88"
      },
      "execution_count": 11,
      "outputs": [
        {
          "output_type": "stream",
          "name": "stdout",
          "text": [
            "Requirement already satisfied: pip in /usr/local/lib/python3.11/dist-packages (24.1.2)\n",
            "Collecting pip\n",
            "  Downloading pip-25.0.1-py3-none-any.whl.metadata (3.7 kB)\n",
            "Downloading pip-25.0.1-py3-none-any.whl (1.8 MB)\n",
            "\u001b[2K   \u001b[90m━━━━━━━━━━━━━━━━━━━━━━━━━━━━━━━━━━━━━━━━\u001b[0m \u001b[32m1.8/1.8 MB\u001b[0m \u001b[31m31.6 MB/s\u001b[0m eta \u001b[36m0:00:00\u001b[0m\n",
            "\u001b[?25hInstalling collected packages: pip\n",
            "  Attempting uninstall: pip\n",
            "    Found existing installation: pip 24.1.2\n",
            "    Uninstalling pip-24.1.2:\n",
            "      Successfully uninstalled pip-24.1.2\n",
            "Successfully installed pip-25.0.1\n"
          ]
        }
      ]
    },
    {
      "cell_type": "code",
      "source": [
        "!curl https://sh.rustup.rs -sSf | sh"
      ],
      "metadata": {
        "colab": {
          "base_uri": "https://localhost:8080/"
        },
        "id": "HdCSzEii9wNC",
        "outputId": "ef9d741d-1fda-418a-993b-44691460d7a6"
      },
      "execution_count": 12,
      "outputs": [
        {
          "output_type": "stream",
          "name": "stdout",
          "text": [
            "\u001b[1minfo:\u001b[0m downloading installer\n",
            "sh: 167: cannot open /dev/tty: No such device or address\n"
          ]
        }
      ]
    },
    {
      "cell_type": "code",
      "source": [
        "curl --proto '=https' --tlsv1.2 -sSf https://sh.rustup.rs | sh\n",
        "export path\n",
        "export PATH=\"$HOME/.cargo/bin:$PATH\"\n",
        "source config: Ubuntu\n",
        "source ~/.profile\n",
        "source ~/.cargo/env"
      ],
      "metadata": {
        "id": "4K6ilTg490Uc"
      },
      "execution_count": null,
      "outputs": []
    },
    {
      "cell_type": "code",
      "source": [
        "!curl --proto '=https' --tlsv1.2 -sSf https://sh.rustup.rs | sh"
      ],
      "metadata": {
        "colab": {
          "base_uri": "https://localhost:8080/"
        },
        "id": "FOJh6Adu98_S",
        "outputId": "da4399ec-fe55-409b-9d6c-0bcb87ac358e"
      },
      "execution_count": 13,
      "outputs": [
        {
          "output_type": "stream",
          "name": "stdout",
          "text": [
            "\u001b[1minfo:\u001b[0m downloading installer\n",
            "sh: 167: cannot open /dev/tty: No such device or address\n"
          ]
        }
      ]
    },
    {
      "cell_type": "code",
      "source": [
        "!export PATH=\"$HOME/.cargo/bin:$PATH\""
      ],
      "metadata": {
        "id": "BhAjRgfq99gp"
      },
      "execution_count": 14,
      "outputs": []
    },
    {
      "cell_type": "code",
      "source": [
        "!source ~/.profile\n",
        "\n",
        "!source ~/.cargo/env"
      ],
      "metadata": {
        "colab": {
          "base_uri": "https://localhost:8080/"
        },
        "id": "Ljtj-zgk-CIS",
        "outputId": "18a1a829-9c5d-4704-d5aa-3b729d86e072"
      },
      "execution_count": 15,
      "outputs": [
        {
          "output_type": "stream",
          "name": "stdout",
          "text": [
            "/bin/bash: line 1: /root/.cargo/env: No such file or directory\n"
          ]
        }
      ]
    },
    {
      "cell_type": "code",
      "source": [
        "!/bin/bash -c \"$(curl -fsSL https://raw.githubusercontent.com/Homebrew/install/HEAD/install.sh)\""
      ],
      "metadata": {
        "colab": {
          "base_uri": "https://localhost:8080/"
        },
        "id": "W0RXSNVE-rpr",
        "outputId": "748e28a1-d07c-4306-bffa-18d234559e8b"
      },
      "execution_count": 1,
      "outputs": [
        {
          "output_type": "stream",
          "name": "stdout",
          "text": [
            "\u001b[1;34m==>\u001b[1;39m Checking for `sudo` access (which may request your password)...\u001b[0m\n",
            "\u001b[1;34m==>\u001b[1;39m This script will install:\u001b[0m\n",
            "/home/linuxbrew/.linuxbrew/bin/brew\n",
            "/home/linuxbrew/.linuxbrew/share/doc/homebrew\n",
            "/home/linuxbrew/.linuxbrew/share/man/man1/brew.1\n",
            "/home/linuxbrew/.linuxbrew/share/zsh/site-functions/_brew\n",
            "/home/linuxbrew/.linuxbrew/etc/bash_completion.d/brew\n",
            "/home/linuxbrew/.linuxbrew/Homebrew\n",
            "\u001b[1;34m==>\u001b[1;39m The following new directories will be created:\u001b[0m\n",
            "/home/linuxbrew/.linuxbrew/bin\n",
            "/home/linuxbrew/.linuxbrew/etc\n",
            "/home/linuxbrew/.linuxbrew/include\n",
            "/home/linuxbrew/.linuxbrew/lib\n",
            "/home/linuxbrew/.linuxbrew/sbin\n",
            "/home/linuxbrew/.linuxbrew/share\n",
            "/home/linuxbrew/.linuxbrew/var\n",
            "/home/linuxbrew/.linuxbrew/opt\n",
            "/home/linuxbrew/.linuxbrew/share/zsh\n",
            "/home/linuxbrew/.linuxbrew/share/zsh/site-functions\n",
            "/home/linuxbrew/.linuxbrew/var/homebrew\n",
            "/home/linuxbrew/.linuxbrew/var/homebrew/linked\n",
            "/home/linuxbrew/.linuxbrew/Cellar\n",
            "/home/linuxbrew/.linuxbrew/Caskroom\n",
            "/home/linuxbrew/.linuxbrew/Frameworks\n",
            "\u0007\n",
            "Press \u001b[1;39mRETURN\u001b[0m/\u001b[1;39mENTER\u001b[0m to continue or any other key to abort:\n",
            "\u001b[1;34m==>\u001b[1;39m /usr/bin/install -d -o root -g root -m 0755 /home/linuxbrew/.linuxbrew\u001b[0m\n",
            "\u001b[1;34m==>\u001b[1;39m /bin/mkdir -p /home/linuxbrew/.linuxbrew/bin /home/linuxbrew/.linuxbrew/etc /home/linuxbrew/.linuxbrew/include /home/linuxbrew/.linuxbrew/lib /home/linuxbrew/.linuxbrew/sbin /home/linuxbrew/.linuxbrew/share /home/linuxbrew/.linuxbrew/var /home/linuxbrew/.linuxbrew/opt /home/linuxbrew/.linuxbrew/share/zsh /home/linuxbrew/.linuxbrew/share/zsh/site-functions /home/linuxbrew/.linuxbrew/var/homebrew /home/linuxbrew/.linuxbrew/var/homebrew/linked /home/linuxbrew/.linuxbrew/Cellar /home/linuxbrew/.linuxbrew/Caskroom /home/linuxbrew/.linuxbrew/Frameworks\u001b[0m\n",
            "\u001b[1;34m==>\u001b[1;39m /bin/chmod ug=rwx /home/linuxbrew/.linuxbrew/bin /home/linuxbrew/.linuxbrew/etc /home/linuxbrew/.linuxbrew/include /home/linuxbrew/.linuxbrew/lib /home/linuxbrew/.linuxbrew/sbin /home/linuxbrew/.linuxbrew/share /home/linuxbrew/.linuxbrew/var /home/linuxbrew/.linuxbrew/opt /home/linuxbrew/.linuxbrew/share/zsh /home/linuxbrew/.linuxbrew/share/zsh/site-functions /home/linuxbrew/.linuxbrew/var/homebrew /home/linuxbrew/.linuxbrew/var/homebrew/linked /home/linuxbrew/.linuxbrew/Cellar /home/linuxbrew/.linuxbrew/Caskroom /home/linuxbrew/.linuxbrew/Frameworks\u001b[0m\n",
            "\u001b[1;34m==>\u001b[1;39m /bin/chmod go-w /home/linuxbrew/.linuxbrew/share/zsh /home/linuxbrew/.linuxbrew/share/zsh/site-functions\u001b[0m\n",
            "\u001b[1;34m==>\u001b[1;39m /bin/chown root /home/linuxbrew/.linuxbrew/bin /home/linuxbrew/.linuxbrew/etc /home/linuxbrew/.linuxbrew/include /home/linuxbrew/.linuxbrew/lib /home/linuxbrew/.linuxbrew/sbin /home/linuxbrew/.linuxbrew/share /home/linuxbrew/.linuxbrew/var /home/linuxbrew/.linuxbrew/opt /home/linuxbrew/.linuxbrew/share/zsh /home/linuxbrew/.linuxbrew/share/zsh/site-functions /home/linuxbrew/.linuxbrew/var/homebrew /home/linuxbrew/.linuxbrew/var/homebrew/linked /home/linuxbrew/.linuxbrew/Cellar /home/linuxbrew/.linuxbrew/Caskroom /home/linuxbrew/.linuxbrew/Frameworks\u001b[0m\n",
            "\u001b[1;34m==>\u001b[1;39m /bin/chgrp root /home/linuxbrew/.linuxbrew/bin /home/linuxbrew/.linuxbrew/etc /home/linuxbrew/.linuxbrew/include /home/linuxbrew/.linuxbrew/lib /home/linuxbrew/.linuxbrew/sbin /home/linuxbrew/.linuxbrew/share /home/linuxbrew/.linuxbrew/var /home/linuxbrew/.linuxbrew/opt /home/linuxbrew/.linuxbrew/share/zsh /home/linuxbrew/.linuxbrew/share/zsh/site-functions /home/linuxbrew/.linuxbrew/var/homebrew /home/linuxbrew/.linuxbrew/var/homebrew/linked /home/linuxbrew/.linuxbrew/Cellar /home/linuxbrew/.linuxbrew/Caskroom /home/linuxbrew/.linuxbrew/Frameworks\u001b[0m\n",
            "\u001b[1;34m==>\u001b[1;39m /bin/mkdir -p /home/linuxbrew/.linuxbrew/Homebrew\u001b[0m\n",
            "\u001b[1;34m==>\u001b[1;39m /bin/chown -R root:root /home/linuxbrew/.linuxbrew/Homebrew\u001b[0m\n",
            "\u001b[1;34m==>\u001b[1;39m Downloading and installing Homebrew...\u001b[0m\n",
            "remote: Enumerating objects: 292373, done.\u001b[K\n",
            "remote: Counting objects: 100% (64/64), done.\u001b[K\n",
            "remote: Compressing objects: 100% (64/64), done.\u001b[K\n",
            "remote: Total 292373 (delta 7), reused 46 (delta 0), pack-reused 292309 (from 2)\u001b[K\n",
            "remote: Enumerating objects: 55, done.\u001b[K\n",
            "remote: Counting objects: 100% (33/33), done.\u001b[K\n",
            "remote: Total 55 (delta 33), reused 33 (delta 33), pack-reused 22 (from 1)\u001b[K\n",
            "\u001b[34m==>\u001b[0m \u001b[1mUpdating Homebrew...\u001b[0m\n",
            "\u001b[34m==>\u001b[0m \u001b[1mDownloading https://ghcr.io/v2/homebrew/portable-ruby/portable-ruby/blobs/sha256:ece69c4b930308e50187f2df4f909026610a943cefa5e2b5942a327e3ad0d8f8\u001b[0m\n",
            "############################################################################################# 100.0%\n",
            "\u001b[34m==>\u001b[0m \u001b[1mPouring portable-ruby-3.3.7.x86_64_linux.bottle.tar.gz\u001b[0m\n",
            "\u001b[1;31mWarning\u001b[0m: /home/linuxbrew/.linuxbrew/bin is not in your PATH.\n",
            "  Instructions on how to configure your shell for Homebrew\n",
            "  can be found in the 'Next steps' section below.\n",
            "\u001b[1;34m==>\u001b[1;39m Installation successful!\u001b[0m\n",
            "\n",
            "\u0007\u001b[1;34m==>\u001b[1;39m Homebrew has enabled anonymous aggregate formulae and cask analytics.\u001b[0m\n",
            "\u001b[1;39mRead the analytics documentation (and how to opt-out) here:\n",
            "  \u001b[4;39mhttps://docs.brew.sh/Analytics\u001b[0m\n",
            "No analytics data has been sent yet (nor will any be during this \u001b[1;39minstall\u001b[0m run).\n",
            "\n",
            "\u001b[1;34m==>\u001b[1;39m Homebrew is run entirely by unpaid volunteers. Please consider donating:\u001b[0m\n",
            "  \u001b[4;39mhttps://github.com/Homebrew/brew#donations\u001b[0m\n",
            "\n",
            "\u001b[1;34m==>\u001b[1;39m Next steps:\u001b[0m\n",
            "- Run these commands in your terminal to add Homebrew to your \u001b[1;39mPATH\u001b[0m:\n",
            "    echo >> /root/.bashrc\n",
            "    echo 'eval \"$(/home/linuxbrew/.linuxbrew/bin/brew shellenv)\"' >> /root/.bashrc\n",
            "    eval \"$(/home/linuxbrew/.linuxbrew/bin/brew shellenv)\"\n",
            "- Install Homebrew's dependencies if you have sudo access:\n",
            "    sudo apt-get install build-essential\n",
            "  For more information, see:\n",
            "    \u001b[4;39mhttps://docs.brew.sh/Homebrew-on-Linux\u001b[0m\n",
            "- We recommend that you install GCC:\n",
            "    brew install gcc\n",
            "- Run \u001b[1;39mbrew help\u001b[0m to get started\n",
            "- Further documentation:\n",
            "    \u001b[4;39mhttps://docs.brew.sh\u001b[0m\n",
            "\n"
          ]
        }
      ]
    },
    {
      "cell_type": "code",
      "source": [
        "!brew create --cask https://foo.com/foo-1.0.dmg"
      ],
      "metadata": {
        "colab": {
          "base_uri": "https://localhost:8080/"
        },
        "id": "oZs8HNTo-sOq",
        "outputId": "e50c0c29-1276-4f78-ea79-2731fb41bdd7"
      },
      "execution_count": 2,
      "outputs": [
        {
          "output_type": "stream",
          "name": "stdout",
          "text": [
            "/bin/bash: line 1: brew: command not found\n"
          ]
        }
      ]
    },
    {
      "cell_type": "code",
      "source": [
        "!/bin/bash -c \"$( brew install --cask firefox)\""
      ],
      "metadata": {
        "colab": {
          "base_uri": "https://localhost:8080/"
        },
        "id": "PPzbDBOn_gei",
        "outputId": "5564a9c5-7a11-46b6-d517-a2521797c486"
      },
      "execution_count": 3,
      "outputs": [
        {
          "output_type": "stream",
          "name": "stdout",
          "text": [
            "/bin/bash: line 1: brew: command not found\n"
          ]
        }
      ]
    },
    {
      "cell_type": "code",
      "source": [
        "!brew install --cask firefox"
      ],
      "metadata": {
        "colab": {
          "base_uri": "https://localhost:8080/"
        },
        "id": "YufFOyKI_pfS",
        "outputId": "7be54b6b-ff0a-483f-962b-4b4a3ae4fdff"
      },
      "execution_count": 5,
      "outputs": [
        {
          "output_type": "stream",
          "name": "stdout",
          "text": [
            "/bin/bash: line 1: brew: command not found\n"
          ]
        }
      ]
    },
    {
      "cell_type": "code",
      "source": [
        "!brew install wget"
      ],
      "metadata": {
        "colab": {
          "base_uri": "https://localhost:8080/"
        },
        "id": "3VbInZOl_q4R",
        "outputId": "425b97b0-8db7-495b-8545-989c30725371"
      },
      "execution_count": 1,
      "outputs": [
        {
          "output_type": "stream",
          "name": "stdout",
          "text": [
            "/bin/bash: line 1: brew: command not found\n"
          ]
        }
      ]
    },
    {
      "cell_type": "code",
      "source": [
        "!curl https://sh.rustup.rs -sSf | sh\n"
      ],
      "metadata": {
        "colab": {
          "base_uri": "https://localhost:8080/"
        },
        "id": "WMSypz3FAEJ3",
        "outputId": "58effbec-49ae-4956-fb18-cc382baf8446"
      },
      "execution_count": 2,
      "outputs": [
        {
          "output_type": "stream",
          "name": "stdout",
          "text": [
            "\u001b[1minfo:\u001b[0m downloading installer\n",
            "sh: 167: cannot open /dev/tty: No such device or address\n"
          ]
        }
      ]
    },
    {
      "cell_type": "code",
      "source": [
        "!/bin/bash -c \"$(curl https://sh.rustup.rs -sSf | sh)\" -y"
      ],
      "metadata": {
        "colab": {
          "base_uri": "https://localhost:8080/"
        },
        "id": "bUhWFNhrA5Ox",
        "outputId": "94ed3180-2617-4708-e4ee-31805f802a8a"
      },
      "execution_count": 4,
      "outputs": [
        {
          "output_type": "stream",
          "name": "stdout",
          "text": [
            "\u001b[1minfo:\u001b[0m downloading installer\n",
            "rustup: Unable to run interactively. Run with -y to accept defaults, --help for additional options\n"
          ]
        }
      ]
    },
    {
      "cell_type": "code",
      "source": [
        "!rustup cargo ."
      ],
      "metadata": {
        "colab": {
          "base_uri": "https://localhost:8080/"
        },
        "id": "YbuY7Zj9A9w5",
        "outputId": "04f6e13e-ea41-43e6-a7a7-52adfd1b4ebe"
      },
      "execution_count": 6,
      "outputs": [
        {
          "output_type": "stream",
          "name": "stdout",
          "text": [
            "/bin/bash: line 1: rustup: command not found\n"
          ]
        }
      ]
    },
    {
      "cell_type": "code",
      "source": [],
      "metadata": {
        "id": "8oyixKqJBW3C"
      },
      "execution_count": null,
      "outputs": []
    },
    {
      "cell_type": "code",
      "source": [],
      "metadata": {
        "id": "YDM8Z9rhJQuN"
      },
      "execution_count": null,
      "outputs": []
    },
    {
      "cell_type": "code",
      "source": [],
      "metadata": {
        "id": "zrtXbnrpJQxg"
      },
      "execution_count": null,
      "outputs": []
    },
    {
      "cell_type": "code",
      "source": [],
      "metadata": {
        "id": "AS_rQWl1JQ0l"
      },
      "execution_count": null,
      "outputs": []
    },
    {
      "cell_type": "code",
      "source": [],
      "metadata": {
        "id": "gkISW7kSJQ32"
      },
      "execution_count": null,
      "outputs": []
    },
    {
      "cell_type": "code",
      "source": [],
      "metadata": {
        "id": "mLBvnH0WJQ-W"
      },
      "execution_count": null,
      "outputs": []
    },
    {
      "cell_type": "code",
      "source": [],
      "metadata": {
        "id": "pssoQTC1JRB0"
      },
      "execution_count": null,
      "outputs": []
    },
    {
      "cell_type": "code",
      "source": [
        "!curl --proto '=https' --tlsv1.2 -sSf https://sh.rustup.rs | sh -s -- -y\n",
        "!source $HOME/.cargo/env\n",
        "!rustc --version  # تأكد من التثبيت\n"
      ],
      "metadata": {
        "colab": {
          "base_uri": "https://localhost:8080/"
        },
        "id": "zxrhb_MBJREg",
        "outputId": "8d358ca8-60df-41b3-9ebb-f864b1a2d02f"
      },
      "execution_count": 7,
      "outputs": [
        {
          "output_type": "stream",
          "name": "stdout",
          "text": [
            "\u001b[1minfo:\u001b[0m downloading installer\n",
            "\u001b[0m\u001b[1minfo: \u001b[0mprofile set to 'default'\n",
            "\u001b[0m\u001b[1minfo: \u001b[0mdefault host triple is x86_64-unknown-linux-gnu\n",
            "\u001b[0m\u001b[1minfo: \u001b[0msyncing channel updates for 'stable-x86_64-unknown-linux-gnu'\n",
            "\u001b[0m\u001b[1minfo: \u001b[0mlatest update on 2025-01-30, rust version 1.84.1 (e71f9a9a9 2025-01-27)\n",
            "\u001b[0m\u001b[1minfo: \u001b[0mdownloading component 'cargo'\n",
            "\u001b[0m\u001b[1minfo: \u001b[0mdownloading component 'clippy'\n",
            "\u001b[0m\u001b[1minfo: \u001b[0mdownloading component 'rust-docs'\n",
            "\u001b[0m\u001b[1minfo: \u001b[0mdownloading component 'rust-std'\n",
            "\u001b[0m\u001b[1minfo: \u001b[0mdownloading component 'rustc'\n",
            " 70.6 MiB /  70.6 MiB (100 %)  33.4 MiB/s in  3s ETA:  0s\n",
            "\u001b[0m\u001b[1minfo: \u001b[0mdownloading component 'rustfmt'\n",
            "\u001b[0m\u001b[1minfo: \u001b[0minstalling component 'cargo'\n",
            "  8.8 MiB /   8.8 MiB (100 %)   6.7 MiB/s in  1s ETA:  0s\n",
            "\u001b[0m\u001b[1minfo: \u001b[0minstalling component 'clippy'\n",
            "\u001b[0m\u001b[1minfo: \u001b[0minstalling component 'rust-docs'\n",
            " 16.5 MiB /  16.5 MiB (100 %)   1.8 MiB/s in 11s ETA:  0s\n",
            "\u001b[0m\u001b[1minfo: \u001b[0minstalling component 'rust-std'\n",
            " 26.7 MiB /  26.7 MiB (100 %)   5.1 MiB/s in  8s ETA:  0s\n",
            "\u001b[0m\u001b[1minfo: \u001b[0minstalling component 'rustc'\n",
            " 70.6 MiB /  70.6 MiB (100 %)   7.2 MiB/s in  9s ETA:  0s\n",
            "\u001b[0m\u001b[1minfo: \u001b[0minstalling component 'rustfmt'\n",
            "\u001b[0m\u001b[1minfo: \u001b[0mdefault toolchain set to 'stable-x86_64-unknown-linux-gnu'\n",
            "\n",
            "  \u001b[0m\u001b[1m\u001b[0m\u001b[1m\u001b[32mstable-x86_64-unknown-linux-gnu installed\u001b[0m - rustc 1.84.1 (e71f9a9a9 2025-01-27)\n",
            "\n",
            "\u001b[0m\u001b[1m\n",
            "Rust is installed now. Great!\n",
            "\u001b[0m\n",
            "To get started you may need to restart your current shell.\n",
            "This would reload your \u001b[0m\u001b[1mPATH\u001b[0m environment variable to include\n",
            "Cargo's bin directory ($HOME/.cargo/bin).\n",
            "\n",
            "To configure your current shell, you need to source\n",
            "the corresponding \u001b[0m\u001b[1menv\u001b[0m file under $HOME/.cargo.\n",
            "\n",
            "This is usually done by running one of the following (note the leading DOT):\n",
            ". \"$HOME/.cargo/env\"            # For sh/bash/zsh/ash/dash/pdksh\n",
            "source \"$HOME/.cargo/env.fish\"  # For fish\n",
            "/bin/bash: line 1: rustc: command not found\n"
          ]
        }
      ]
    },
    {
      "cell_type": "code",
      "source": [
        "%%writefile main.rs\n",
        "fn main() {\n",
        "    println!(\"Hello, world!\");\n",
        "}\n"
      ],
      "metadata": {
        "colab": {
          "base_uri": "https://localhost:8080/"
        },
        "id": "pcbjMRaKJVdd",
        "outputId": "179f8723-dd39-4798-de1f-32ccada3344c"
      },
      "execution_count": 1,
      "outputs": [
        {
          "output_type": "stream",
          "name": "stdout",
          "text": [
            "Writing main.rs\n"
          ]
        }
      ]
    },
    {
      "cell_type": "code",
      "source": [
        "!rustc main.rs -o main\n",
        "!./main\n"
      ],
      "metadata": {
        "colab": {
          "base_uri": "https://localhost:8080/"
        },
        "id": "UmeoGFa9Jiej",
        "outputId": "9f46d215-e472-4c11-8305-b55e81694d11"
      },
      "execution_count": 2,
      "outputs": [
        {
          "output_type": "stream",
          "name": "stdout",
          "text": [
            "/bin/bash: line 1: rustc: command not found\n",
            "/bin/bash: line 1: ./main: No such file or directory\n"
          ]
        }
      ]
    },
    {
      "cell_type": "code",
      "source": [
        "!curl --proto '=https' --tlsv1.2 -sSf https://sh.rustup.rs | sh\n"
      ],
      "metadata": {
        "colab": {
          "base_uri": "https://localhost:8080/"
        },
        "id": "99TGlYNkJ06d",
        "outputId": "275441c5-dc0c-481a-a79e-c12bbfdc01fb"
      },
      "execution_count": 3,
      "outputs": [
        {
          "output_type": "stream",
          "name": "stdout",
          "text": [
            "\u001b[1minfo:\u001b[0m downloading installer\n",
            "sh: 167: cannot open /dev/tty: No such device or address\n"
          ]
        }
      ]
    },
    {
      "cell_type": "markdown",
      "source": [
        "شغال"
      ],
      "metadata": {
        "id": "4fyXL4QBKEc7"
      }
    },
    {
      "cell_type": "code",
      "source": [
        "!curl --proto '=https' --tlsv1.2 -sSf https://sh.rustup.rs | sh -s -- -y\n",
        "!source $HOME/.cargo/env\n",
        "!echo 'export PATH=\"$HOME/.cargo/bin:$PATH\"' >> ~/.bashrc\n",
        "!source ~/.bashrc\n"
      ],
      "metadata": {
        "colab": {
          "base_uri": "https://localhost:8080/"
        },
        "id": "ItiSq7dEJ2US",
        "outputId": "95b340e1-1b73-49a7-9501-b260079c1f1d"
      },
      "execution_count": 4,
      "outputs": [
        {
          "output_type": "stream",
          "name": "stdout",
          "text": [
            "\u001b[1minfo:\u001b[0m downloading installer\n",
            "\u001b[0m\u001b[1minfo: \u001b[0mprofile set to 'default'\n",
            "\u001b[0m\u001b[1minfo: \u001b[0mdefault host triple is x86_64-unknown-linux-gnu\n",
            "\u001b[0m\u001b[33m\u001b[0m\u001b[1m\u001b[33mwarning: \u001b[0mUpdating existing toolchain, profile choice will be ignored\n",
            "\u001b[0m\u001b[1minfo: \u001b[0msyncing channel updates for 'stable-x86_64-unknown-linux-gnu'\n",
            "\u001b[0m\u001b[1minfo: \u001b[0mdefault toolchain set to 'stable-x86_64-unknown-linux-gnu'\n",
            "\n",
            "  \u001b[0m\u001b[1mstable-x86_64-unknown-linux-gnu unchanged\u001b[0m - rustc 1.84.1 (e71f9a9a9 2025-01-27)\n",
            "\n",
            "\u001b[0m\u001b[1m\n",
            "Rust is installed now. Great!\n",
            "\u001b[0m\n",
            "To get started you may need to restart your current shell.\n",
            "This would reload your \u001b[0m\u001b[1mPATH\u001b[0m environment variable to include\n",
            "Cargo's bin directory ($HOME/.cargo/bin).\n",
            "\n",
            "To configure your current shell, you need to source\n",
            "the corresponding \u001b[0m\u001b[1menv\u001b[0m file under $HOME/.cargo.\n",
            "\n",
            "This is usually done by running one of the following (note the leading DOT):\n",
            ". \"$HOME/.cargo/env\"            # For sh/bash/zsh/ash/dash/pdksh\n",
            "source \"$HOME/.cargo/env.fish\"  # For fish\n"
          ]
        }
      ]
    },
    {
      "cell_type": "markdown",
      "source": [
        "info: downloading installer\n",
        "info: profile set to 'default'\n",
        "info: default host triple is x86_64-unknown-linux-gnu\n",
        "warning: Updating existing toolchain, profile choice will be ignored\n",
        "info: syncing channel updates for 'stable-x86_64-unknown-linux-gnu'\n",
        "info: default toolchain set to 'stable-x86_64-unknown-linux-gnu'\n",
        "\n",
        "  stable-x86_64-unknown-linux-gnu unchanged - rustc 1.84.1 (e71f9a9a9 2025-01-27)\n",
        "\n",
        "\n",
        "Rust is installed now. Great!\n",
        "\n",
        "To get started you may need to restart your current shell.\n",
        "This would reload your PATH environment variable to include\n",
        "Cargo's bin directory ($HOME/.cargo/bin).\n",
        "\n",
        "To configure your current shell, you need to source\n",
        "the corresponding env file under $HOME/.cargo.\n",
        "\n",
        "This is usually done by running one of the following (note the leading DOT):\n",
        ". \"$HOME/.cargo/env\"            # For sh/bash/zsh/ash/dash/pdksh\n",
        "source \"$HOME/.cargo/env.fish\"  # For fish"
      ],
      "metadata": {
        "id": "AEhYQAqrKHQT"
      }
    },
    {
      "cell_type": "code",
      "source": [
        "!rustc --version\n",
        "!cargo --version\n"
      ],
      "metadata": {
        "colab": {
          "base_uri": "https://localhost:8080/"
        },
        "id": "_Hf3CErZJ_py",
        "outputId": "8d39b030-cea2-49dd-8110-67a7058fb753"
      },
      "execution_count": 1,
      "outputs": [
        {
          "output_type": "stream",
          "name": "stdout",
          "text": [
            "/bin/bash: line 1: rustc: command not found\n",
            "/bin/bash: line 1: cargo: command not found\n"
          ]
        }
      ]
    },
    {
      "cell_type": "code",
      "source": [
        "from transformers import pipeline\n",
        "\n",
        "generator = pipeline(\"text-generation\", model=\"gpt2\")\n",
        "result = generator(\"Once upon a time\", max_length=128, temperature=0.7)\n",
        "print(result)\n"
      ],
      "metadata": {
        "id": "DzfbNcTyKAEi"
      },
      "execution_count": null,
      "outputs": []
    },
    {
      "cell_type": "code",
      "source": [
        "!curl --proto '=https' --tlsv1.2 -sSf https://sh.rustup.rs | sh -s -- -y\n"
      ],
      "metadata": {
        "colab": {
          "base_uri": "https://localhost:8080/"
        },
        "id": "Rjd9z0wSKWQr",
        "outputId": "e36841ce-5020-4edd-8ab8-0727542cc2fe"
      },
      "execution_count": 2,
      "outputs": [
        {
          "output_type": "stream",
          "name": "stdout",
          "text": [
            "\u001b[1minfo:\u001b[0m downloading installer\n",
            "\u001b[0m\u001b[1minfo: \u001b[0mprofile set to 'default'\n",
            "\u001b[0m\u001b[1minfo: \u001b[0mdefault host triple is x86_64-unknown-linux-gnu\n",
            "\u001b[0m\u001b[33m\u001b[0m\u001b[1m\u001b[33mwarning: \u001b[0mUpdating existing toolchain, profile choice will be ignored\n",
            "\u001b[0m\u001b[1minfo: \u001b[0msyncing channel updates for 'stable-x86_64-unknown-linux-gnu'\n",
            "\u001b[0m\u001b[1minfo: \u001b[0mdefault toolchain set to 'stable-x86_64-unknown-linux-gnu'\n",
            "\n",
            "  \u001b[0m\u001b[1mstable-x86_64-unknown-linux-gnu unchanged\u001b[0m - rustc 1.84.1 (e71f9a9a9 2025-01-27)\n",
            "\n",
            "\u001b[0m\u001b[1m\n",
            "Rust is installed now. Great!\n",
            "\u001b[0m\n",
            "To get started you may need to restart your current shell.\n",
            "This would reload your \u001b[0m\u001b[1mPATH\u001b[0m environment variable to include\n",
            "Cargo's bin directory ($HOME/.cargo/bin).\n",
            "\n",
            "To configure your current shell, you need to source\n",
            "the corresponding \u001b[0m\u001b[1menv\u001b[0m file under $HOME/.cargo.\n",
            "\n",
            "This is usually done by running one of the following (note the leading DOT):\n",
            ". \"$HOME/.cargo/env\"            # For sh/bash/zsh/ash/dash/pdksh\n",
            "source \"$HOME/.cargo/env.fish\"  # For fish\n"
          ]
        }
      ]
    },
    {
      "cell_type": "code",
      "source": [
        "import os\n",
        "os.environ[\"PATH\"] += \":/root/.cargo/bin\"\n"
      ],
      "metadata": {
        "id": "iXuCKRvqKWm6"
      },
      "execution_count": 3,
      "outputs": []
    },
    {
      "cell_type": "code",
      "source": [
        "!rustc --version\n",
        "!cargo --version\n"
      ],
      "metadata": {
        "colab": {
          "base_uri": "https://localhost:8080/"
        },
        "id": "leET0YPVKclK",
        "outputId": "e1319e76-9c69-44ba-decf-3def4055d01f"
      },
      "execution_count": 4,
      "outputs": [
        {
          "output_type": "stream",
          "name": "stdout",
          "text": [
            "rustc 1.84.1 (e71f9a9a9 2025-01-27)\n",
            "cargo 1.84.1 (66221abde 2024-11-19)\n"
          ]
        }
      ]
    },
    {
      "cell_type": "code",
      "source": [],
      "metadata": {
        "id": "AVbJFG1lKfGK"
      },
      "execution_count": null,
      "outputs": []
    },
    {
      "cell_type": "code",
      "source": [],
      "metadata": {
        "id": "7ZGSZ_8HKjKs"
      },
      "execution_count": null,
      "outputs": []
    },
    {
      "cell_type": "code",
      "source": [],
      "metadata": {
        "id": "g4ihCo53KjN9"
      },
      "execution_count": null,
      "outputs": []
    },
    {
      "cell_type": "code",
      "source": [],
      "metadata": {
        "id": "B6oBzENYKjTL"
      },
      "execution_count": null,
      "outputs": []
    },
    {
      "cell_type": "code",
      "source": [],
      "metadata": {
        "id": "WW5U87zdKjWF"
      },
      "execution_count": null,
      "outputs": []
    },
    {
      "cell_type": "code",
      "source": [],
      "metadata": {
        "id": "3jKBk0bZKjYd"
      },
      "execution_count": null,
      "outputs": []
    },
    {
      "cell_type": "markdown",
      "source": [
        "ششششششششششغال#################"
      ],
      "metadata": {
        "id": "McMBxgwkKmej"
      }
    },
    {
      "cell_type": "code",
      "source": [
        "!curl --proto '=https' --tlsv1.2 -sSf https://sh.rustup.rs | sh -s -- -y\n"
      ],
      "metadata": {
        "colab": {
          "base_uri": "https://localhost:8080/"
        },
        "outputId": "e36841ce-5020-4edd-8ab8-0727542cc2fe",
        "id": "KfoDgKl1Kjrd"
      },
      "execution_count": null,
      "outputs": [
        {
          "output_type": "stream",
          "name": "stdout",
          "text": [
            "\u001b[1minfo:\u001b[0m downloading installer\n",
            "\u001b[0m\u001b[1minfo: \u001b[0mprofile set to 'default'\n",
            "\u001b[0m\u001b[1minfo: \u001b[0mdefault host triple is x86_64-unknown-linux-gnu\n",
            "\u001b[0m\u001b[33m\u001b[0m\u001b[1m\u001b[33mwarning: \u001b[0mUpdating existing toolchain, profile choice will be ignored\n",
            "\u001b[0m\u001b[1minfo: \u001b[0msyncing channel updates for 'stable-x86_64-unknown-linux-gnu'\n",
            "\u001b[0m\u001b[1minfo: \u001b[0mdefault toolchain set to 'stable-x86_64-unknown-linux-gnu'\n",
            "\n",
            "  \u001b[0m\u001b[1mstable-x86_64-unknown-linux-gnu unchanged\u001b[0m - rustc 1.84.1 (e71f9a9a9 2025-01-27)\n",
            "\n",
            "\u001b[0m\u001b[1m\n",
            "Rust is installed now. Great!\n",
            "\u001b[0m\n",
            "To get started you may need to restart your current shell.\n",
            "This would reload your \u001b[0m\u001b[1mPATH\u001b[0m environment variable to include\n",
            "Cargo's bin directory ($HOME/.cargo/bin).\n",
            "\n",
            "To configure your current shell, you need to source\n",
            "the corresponding \u001b[0m\u001b[1menv\u001b[0m file under $HOME/.cargo.\n",
            "\n",
            "This is usually done by running one of the following (note the leading DOT):\n",
            ". \"$HOME/.cargo/env\"            # For sh/bash/zsh/ash/dash/pdksh\n",
            "source \"$HOME/.cargo/env.fish\"  # For fish\n"
          ]
        }
      ]
    },
    {
      "cell_type": "code",
      "source": [
        "import os\n",
        "os.environ[\"PATH\"] += \":/root/.cargo/bin\"\n"
      ],
      "metadata": {
        "id": "ndNywEIYKjre"
      },
      "execution_count": null,
      "outputs": []
    },
    {
      "cell_type": "code",
      "source": [
        "!rustc --version\n",
        "!cargo --version\n"
      ],
      "metadata": {
        "colab": {
          "base_uri": "https://localhost:8080/"
        },
        "outputId": "e1319e76-9c69-44ba-decf-3def4055d01f",
        "id": "1meBcEs1Kjrf"
      },
      "execution_count": null,
      "outputs": [
        {
          "output_type": "stream",
          "name": "stdout",
          "text": [
            "rustc 1.84.1 (e71f9a9a9 2025-01-27)\n",
            "cargo 1.84.1 (66221abde 2024-11-19)\n"
          ]
        }
      ]
    },
    {
      "cell_type": "markdown",
      "source": [
        "@@@@@@@@@@@@@@@@@@@@@@@@@@@@@@@@@@@@@@@@@@"
      ],
      "metadata": {
        "id": "5jkLMyexKoV6"
      }
    },
    {
      "cell_type": "markdown",
      "source": [
        "شغال"
      ],
      "metadata": {
        "id": "J62e0L9xK0br"
      }
    },
    {
      "cell_type": "code",
      "source": [
        "# إنشاء ملف Rust\n",
        "!echo 'fn main() { println!(\"Hello, Rust in Colab!\"); }' > main.rs\n",
        "\n",
        "# ترجمة الكود\n",
        "!rustc main.rs\n",
        "\n",
        "# تشغيل البرنامج\n",
        "!./main\n"
      ],
      "metadata": {
        "colab": {
          "base_uri": "https://localhost:8080/"
        },
        "id": "MKti3pSrKxwd",
        "outputId": "61b7af53-467b-4621-ae25-69715a5db99c"
      },
      "execution_count": 5,
      "outputs": [
        {
          "output_type": "stream",
          "name": "stdout",
          "text": [
            "Hello, Rust in Colab!\n"
          ]
        }
      ]
    },
    {
      "cell_type": "code",
      "source": [
        "use reqwest::blocking::Client;\n",
        "use serde_json::{json, Value};\n",
        "\n",
        "fn main() {\n",
        "    // ضع توكن API الخاص بك هنا\n",
        "    let api_token = \"your_huggingface_api_token\";\n",
        "    let model = \"facebook/bart-large-cnn\"; // اسم النموذج\n",
        "\n",
        "    // نص الإدخال الذي سيتم إرساله للنموذج\n",
        "    let input_text = \"Rust is a fast and safe programming language.\";\n",
        "\n",
        "    // إنشاء طلب JSON\n",
        "    let payload = json!({\n",
        "        \"inputs\": input_text\n",
        "    });\n",
        "\n",
        "    // إنشاء عميل HTTP\n",
        "    let client = Client::new();\n",
        "    let url = format!(\"https://api-inference.huggingface.co/models/{}\", model);\n",
        "\n",
        "    let response = client.post(&url)\n",
        "        .header(\"Authorization\", format!(\"Bearer {}\", api_token))\n",
        "        .json(&payload)\n",
        "        .send()\n",
        "        .expect(\"Failed to send request\");\n",
        "\n",
        "    // استخراج النتيجة\n",
        "    if let Ok(resp_text) = response.text() {\n",
        "        let result: Value = serde_json::from_str(&resp_text).expect(\"Invalid JSON\");\n",
        "        println!(\"Output: {:?}\", result);\n",
        "    }\n",
        "}\n"
      ],
      "metadata": {
        "id": "8GfzpviqLClK"
      },
      "execution_count": null,
      "outputs": []
    },
    {
      "cell_type": "code",
      "source": [],
      "metadata": {
        "id": "EIrCgSrvLGSU"
      },
      "execution_count": null,
      "outputs": []
    },
    {
      "cell_type": "code",
      "source": [
        "use reqwest::blocking::Client;\n",
        "use serde_json::{json, Value};\n",
        "\n",
        "fn main() {\n",
        "    // ضع توكن API الخاص بك هنا\n",
        "    let api_token = \"XXXXXXXXXXXXXXXX\";\n",
        "    let model = \"facebook/bart-large-cnn\"; // اسم النموذج\n",
        "\n",
        "    // نص الإدخال الذي سيتم إرساله للنموذج\n",
        "    let input_text = \"Rust is a fast and safe programming language.\";\n",
        "\n",
        "    // إنشاء طلب JSON\n",
        "    let payload = json!({\n",
        "        \"inputs\": input_text\n",
        "    });\n",
        "\n",
        "    // إنشاء عميل HTTP\n",
        "    let client = Client::new();\n",
        "    let url = format!(\"https://api-inference.huggingface.co/models/{}\", model);\n",
        "\n",
        "    let response = client.post(&url)\n",
        "        .header(\"Authorization\", format!(\"Bearer {}\", api_token))\n",
        "        .json(&payload)\n",
        "        .send()\n",
        "        .expect(\"Failed to send request\");\n",
        "\n",
        "    // استخراج النتيجة\n",
        "    if let Ok(resp_text) = response.text() {\n",
        "        let result: Value = serde_json::from_str(&resp_text).expect(\"Invalid JSON\");\n",
        "        println!(\"Output: {:?}\", result);\n",
        "    }\n",
        "}\n"
      ],
      "metadata": {
        "colab": {
          "base_uri": "https://localhost:8080/",
          "height": 106
        },
        "id": "gTNya_3aLHft",
        "outputId": "764c3f99-0406-40ff-cb21-54abbc0e477a"
      },
      "execution_count": 6,
      "outputs": [
        {
          "output_type": "error",
          "ename": "SyntaxError",
          "evalue": "invalid syntax (<ipython-input-6-12f55571a9a5>, line 1)",
          "traceback": [
            "\u001b[0;36m  File \u001b[0;32m\"<ipython-input-6-12f55571a9a5>\"\u001b[0;36m, line \u001b[0;32m1\u001b[0m\n\u001b[0;31m    use reqwest::blocking::Client;\u001b[0m\n\u001b[0m        ^\u001b[0m\n\u001b[0;31mSyntaxError\u001b[0m\u001b[0;31m:\u001b[0m invalid syntax\n"
          ]
        }
      ]
    },
    {
      "cell_type": "code",
      "source": [
        "[dependencies]\n",
        "reqwest = { version = \"0.11\", features = [\"blocking\", \"json\"] }\n",
        "serde_json = \"1.0\"\n"
      ],
      "metadata": {
        "colab": {
          "base_uri": "https://localhost:8080/",
          "height": 106
        },
        "id": "XAYDwkaTLKRa",
        "outputId": "3b13d132-d8f4-4cac-b4e5-0a33d45886fe"
      },
      "execution_count": 7,
      "outputs": [
        {
          "output_type": "error",
          "ename": "SyntaxError",
          "evalue": "invalid syntax. Maybe you meant '==' or ':=' instead of '='? (<ipython-input-7-db9fb33df856>, line 2)",
          "traceback": [
            "\u001b[0;36m  File \u001b[0;32m\"<ipython-input-7-db9fb33df856>\"\u001b[0;36m, line \u001b[0;32m2\u001b[0m\n\u001b[0;31m    reqwest = { version = \"0.11\", features = [\"blocking\", \"json\"] }\u001b[0m\n\u001b[0m                ^\u001b[0m\n\u001b[0;31mSyntaxError\u001b[0m\u001b[0;31m:\u001b[0m invalid syntax. Maybe you meant '==' or ':=' instead of '='?\n"
          ]
        }
      ]
    },
    {
      "cell_type": "code",
      "source": [
        "cargo run\n"
      ],
      "metadata": {
        "id": "zWBeyBKfLTqD"
      },
      "execution_count": null,
      "outputs": []
    },
    {
      "cell_type": "code",
      "source": [
        "إذا كنت تريد تشغيل النموذج محليًا، استخدم مكتبة tch-rs لتشغيل PyTorch models داخل Rust."
      ],
      "metadata": {
        "id": "XYtSLYdfLjyD"
      },
      "execution_count": null,
      "outputs": []
    },
    {
      "cell_type": "code",
      "source": [],
      "metadata": {
        "id": "v1K5XMfqL1yq"
      },
      "execution_count": null,
      "outputs": []
    },
    {
      "cell_type": "code",
      "source": [],
      "metadata": {
        "id": "KQZmLHCtL1v-"
      },
      "execution_count": null,
      "outputs": []
    },
    {
      "cell_type": "code",
      "source": [
        "!cargo new my_rust_project\n",
        "%cd my_rust_project\n"
      ],
      "metadata": {
        "colab": {
          "base_uri": "https://localhost:8080/"
        },
        "id": "4-G8CG91L1sz",
        "outputId": "c0491067-0fa4-4ae1-cd69-a5a11780b491"
      },
      "execution_count": 8,
      "outputs": [
        {
          "output_type": "stream",
          "name": "stdout",
          "text": [
            "\u001b[1m\u001b[32m    Creating\u001b[0m binary (application) `my_rust_project` package\n",
            "\u001b[1m\u001b[36mnote\u001b[0m\u001b[1m:\u001b[0m see more `Cargo.toml` keys and their definitions at https://doc.rust-lang.org/cargo/reference/manifest.html\n",
            "/content/my_rust_project\n"
          ]
        }
      ]
    },
    {
      "cell_type": "code",
      "source": [
        "!cargo run\n"
      ],
      "metadata": {
        "colab": {
          "base_uri": "https://localhost:8080/"
        },
        "id": "Y7stbXrFOpoD",
        "outputId": "e8039d75-4f7f-487e-f4ba-7e2acb2e1777"
      },
      "execution_count": 9,
      "outputs": [
        {
          "output_type": "stream",
          "name": "stdout",
          "text": [
            "\u001b[1m\u001b[32m   Compiling\u001b[0m my_rust_project v0.1.0 (/content/my_rust_project)\n",
            "\u001b[1m\u001b[32m    Finished\u001b[0m `dev` profile [unoptimized + debuginfo] target(s) in 0.55s\n",
            "\u001b[1m\u001b[32m     Running\u001b[0m `target/debug/my_rust_project`\n",
            "Hello, world!\n"
          ]
        }
      ]
    },
    {
      "cell_type": "code",
      "source": [
        "!apt update && apt install -y rustc cargo\n",
        "!pip install evcxr_jupyter\n",
        "!evcxr_jupyter --install\n"
      ],
      "metadata": {
        "id": "KsEW9WynOrEq"
      },
      "execution_count": null,
      "outputs": []
    },
    {
      "cell_type": "code",
      "source": [
        "// تشغيل كود Rust في Jupyter\n",
        ":dep reqwest = { version = \"0.11\", features = [\"blocking\", \"json\"] }\n",
        "use reqwest::blocking::Client;\n",
        "use serde_json::{json, Value};\n",
        "\n",
        "fn main() {\n",
        "    println!(\"Hello, Rust in Jupyter!\");\n",
        "}\n"
      ],
      "metadata": {
        "colab": {
          "base_uri": "https://localhost:8080/",
          "height": 106
        },
        "id": "fdBbHFSVO4Nt",
        "outputId": "f63104b1-80ca-4b24-9b88-49d2bf9c6ffe"
      },
      "execution_count": 10,
      "outputs": [
        {
          "output_type": "error",
          "ename": "SyntaxError",
          "evalue": "invalid syntax (<ipython-input-10-1f1aee93a70a>, line 1)",
          "traceback": [
            "\u001b[0;36m  File \u001b[0;32m\"<ipython-input-10-1f1aee93a70a>\"\u001b[0;36m, line \u001b[0;32m1\u001b[0m\n\u001b[0;31m    // تشغيل كود Rust في Jupyter\u001b[0m\n\u001b[0m    ^\u001b[0m\n\u001b[0;31mSyntaxError\u001b[0m\u001b[0;31m:\u001b[0m invalid syntax\n"
          ]
        }
      ]
    },
    {
      "cell_type": "code",
      "source": [
        "%cd /content/my_rust_project/src"
      ],
      "metadata": {
        "colab": {
          "base_uri": "https://localhost:8080/"
        },
        "id": "VqJeSyFcPeMc",
        "outputId": "f3ea0bef-1164-4cfa-cfa7-8003d0b7f84a"
      },
      "execution_count": 14,
      "outputs": [
        {
          "output_type": "stream",
          "name": "stdout",
          "text": [
            "/content/my_rust_project/src\n"
          ]
        }
      ]
    },
    {
      "cell_type": "code",
      "source": [
        "# ترجمة الكود\n",
        "!rustc main.rs\n",
        "\n",
        "# تشغيل البرنامج\n",
        "!./main"
      ],
      "metadata": {
        "colab": {
          "base_uri": "https://localhost:8080/"
        },
        "id": "B6omdXCePSJj",
        "outputId": "8b8c261e-70b4-412e-daad-e725a09bc618"
      },
      "execution_count": 16,
      "outputs": [
        {
          "output_type": "stream",
          "name": "stdout",
          "text": [
            "Hello, world!\n"
          ]
        }
      ]
    },
    {
      "cell_type": "code",
      "source": [
        "/content/my_rust_project/src/content/my_rust_project/src/main.rs"
      ],
      "metadata": {
        "id": "7Y7g8JK2Pp3D"
      },
      "execution_count": null,
      "outputs": []
    },
    {
      "cell_type": "code",
      "source": [
        "# ترجمة الكود\n",
        "!rustc 1.rs\n",
        "\n",
        "# تشغيل البرنامج\n",
        "!./1"
      ],
      "metadata": {
        "colab": {
          "base_uri": "https://localhost:8080/"
        },
        "id": "qP6Gp-PRP2et",
        "outputId": "d5817e3a-3836-41c5-fc92-db30ace34679"
      },
      "execution_count": 17,
      "outputs": [
        {
          "output_type": "stream",
          "name": "stdout",
          "text": [
            "\u001b[0m\u001b[1m\u001b[38;5;9merror\u001b[0m\u001b[0m\u001b[1m: expected item, found `:`\u001b[0m\n",
            "\u001b[0m \u001b[0m\u001b[0m\u001b[1m\u001b[38;5;12m--> \u001b[0m\u001b[0m1.rs:2:1\u001b[0m\n",
            "\u001b[0m  \u001b[0m\u001b[0m\u001b[1m\u001b[38;5;12m|\u001b[0m\n",
            "\u001b[0m\u001b[1m\u001b[38;5;12m2\u001b[0m\u001b[0m \u001b[0m\u001b[0m\u001b[1m\u001b[38;5;12m|\u001b[0m\u001b[0m \u001b[0m\u001b[0m:dep reqwest = { version = \"0.11\", features = [\"blocking\", \"json\"] }\u001b[0m\n",
            "\u001b[0m  \u001b[0m\u001b[0m\u001b[1m\u001b[38;5;12m|\u001b[0m\u001b[0m \u001b[0m\u001b[0m\u001b[1m\u001b[38;5;9m^\u001b[0m\u001b[0m \u001b[0m\u001b[0m\u001b[1m\u001b[38;5;9mexpected item\u001b[0m\n",
            "\u001b[0m  \u001b[0m\u001b[0m\u001b[1m\u001b[38;5;12m|\u001b[0m\n",
            "\u001b[0m  \u001b[0m\u001b[0m\u001b[1m\u001b[38;5;12m= \u001b[0m\u001b[0m\u001b[1mnote\u001b[0m\u001b[0m: for a full list of items that can appear in modules, see <https://doc.rust-lang.org/reference/items.html>\u001b[0m\n",
            "\n",
            "\u001b[0m\u001b[1m\u001b[38;5;9merror\u001b[0m\u001b[0m\u001b[1m: aborting due to 1 previous error\u001b[0m\n",
            "\n",
            "/bin/bash: line 1: ./1: No such file or directory\n"
          ]
        }
      ]
    },
    {
      "cell_type": "code",
      "source": [
        "!pip install evcxr_jupyter\n",
        "!evcxr_jupyter --install"
      ],
      "metadata": {
        "colab": {
          "base_uri": "https://localhost:8080/"
        },
        "id": "FRs1AmxsP5Ai",
        "outputId": "aa5ba5c5-88f9-44e8-9be4-3f4e8127894a"
      },
      "execution_count": 18,
      "outputs": [
        {
          "output_type": "stream",
          "name": "stdout",
          "text": [
            "\u001b[31mERROR: Could not find a version that satisfies the requirement evcxr_jupyter (from versions: none)\u001b[0m\u001b[31m\n",
            "\u001b[0m\u001b[31mERROR: No matching distribution found for evcxr_jupyter\u001b[0m\u001b[31m\n",
            "\u001b[0m/bin/bash: line 1: evcxr_jupyter: command not found\n"
          ]
        }
      ]
    },
    {
      "cell_type": "code",
      "source": [
        "\n",
        ":dep reqwest = { version = \"0.11\", features = [\"blocking\", \"json\"] }\n",
        "use reqwest::blocking::Client;\n",
        "use serde_json::{json, Value};\n",
        "\n",
        "fn main() {\n",
        "    println!(\"Hello, Rust in Jupyter!\");\n",
        "}\n"
      ],
      "metadata": {
        "colab": {
          "base_uri": "https://localhost:8080/",
          "height": 106
        },
        "id": "hHkAyPq0QEJC",
        "outputId": "b30d311f-c9fd-4f19-bb2b-10f7134d425f"
      },
      "execution_count": 20,
      "outputs": [
        {
          "output_type": "error",
          "ename": "SyntaxError",
          "evalue": "invalid syntax (<ipython-input-20-fdf70aa632f0>, line 1)",
          "traceback": [
            "\u001b[0;36m  File \u001b[0;32m\"<ipython-input-20-fdf70aa632f0>\"\u001b[0;36m, line \u001b[0;32m1\u001b[0m\n\u001b[0;31m    :dep reqwest = { version = \"0.11\", features = [\"blocking\", \"json\"] }\u001b[0m\n\u001b[0m    ^\u001b[0m\n\u001b[0;31mSyntaxError\u001b[0m\u001b[0;31m:\u001b[0m invalid syntax\n"
          ]
        }
      ]
    },
    {
      "cell_type": "markdown",
      "source": [
        "aشغال##########################"
      ],
      "metadata": {
        "id": "SYFUb2cjRvET"
      }
    },
    {
      "cell_type": "markdown",
      "source": [
        "/content/my_rust_project/Cargo.toml\n",
        "\n",
        "افتح ملف Cargo.toml في مشروعك وأضف:"
      ],
      "metadata": {
        "id": "057mQi41Qfez"
      }
    },
    {
      "cell_type": "code",
      "source": [
        "[dependencies]\n",
        "reqwest = { version = \"0.11\", features = [\"blocking\", \"json\"] }\n",
        "serde_json = \"1.0\"\n"
      ],
      "metadata": {
        "id": "vv0uWmvXQJi9"
      },
      "execution_count": null,
      "outputs": []
    },
    {
      "cell_type": "code",
      "source": [
        "!cargo build\n"
      ],
      "metadata": {
        "colab": {
          "base_uri": "https://localhost:8080/"
        },
        "id": "A1dWW76aQcYE",
        "outputId": "38c25fb2-1a7b-4f5f-c7a5-814f3c96eb3d"
      },
      "execution_count": 23,
      "outputs": [
        {
          "output_type": "stream",
          "name": "stdout",
          "text": [
            "\u001b[1m\u001b[32m   Compiling\u001b[0m my_rust_project v0.1.0 (/content/my_rust_project)\n",
            "\u001b[0m\u001b[1m\u001b[33mwarning\u001b[0m\u001b[0m\u001b[1m: unused import: `Value`\u001b[0m\n",
            "\u001b[0m \u001b[0m\u001b[0m\u001b[1m\u001b[38;5;12m--> \u001b[0m\u001b[0msrc/main.rs:2:24\u001b[0m\n",
            "\u001b[0m  \u001b[0m\u001b[0m\u001b[1m\u001b[38;5;12m|\u001b[0m\n",
            "\u001b[0m\u001b[1m\u001b[38;5;12m2\u001b[0m\u001b[0m \u001b[0m\u001b[0m\u001b[1m\u001b[38;5;12m|\u001b[0m\u001b[0m \u001b[0m\u001b[0muse serde_json::{json, Value};\u001b[0m\n",
            "\u001b[0m  \u001b[0m\u001b[0m\u001b[1m\u001b[38;5;12m|\u001b[0m\u001b[0m                        \u001b[0m\u001b[0m\u001b[1m\u001b[33m^^^^^\u001b[0m\n",
            "\u001b[0m  \u001b[0m\u001b[0m\u001b[1m\u001b[38;5;12m|\u001b[0m\n",
            "\u001b[0m  \u001b[0m\u001b[0m\u001b[1m\u001b[38;5;12m= \u001b[0m\u001b[0m\u001b[1mnote\u001b[0m\u001b[0m: `#[warn(unused_imports)]` on by default\u001b[0m\n",
            "\n",
            "\u001b[1m\u001b[33mwarning\u001b[0m\u001b[1m:\u001b[0m `my_rust_project` (bin \"my_rust_project\") generated 1 warning (run `cargo fix --bin \"my_rust_project\"` to apply 1 suggestion)\n",
            "\u001b[1m\u001b[32m    Finished\u001b[0m `dev` profile [unoptimized + debuginfo] target(s) in 3.76s\n"
          ]
        }
      ]
    },
    {
      "cell_type": "code",
      "source": [
        "افتح src/main.rs وأضف الكود التالي:\n",
        "use reqwest::blocking::Client;\n",
        "use serde_json::{json, Value};\n",
        "\n",
        "fn main() {\n",
        "    let api_url = \"https://api-inference.huggingface.co/models/gpt2\"; // اختر النموذج المناسب\n",
        "    let api_token = \"XXXXXXXXXXXXXXXX\"; // ضع توكن Hugging Face الخاص بك\n",
        "\n",
        "    let client = Client::new();\n",
        "\n",
        "    // النص الذي نريد توليد استجابة له\n",
        "    let input_text = \"Hello, how are you?\";\n",
        "\n",
        "    let payload = json!({\n",
        "        \"inputs\": input_text,\n",
        "    });\n",
        "\n",
        "    let response = client\n",
        "        .post(api_url)\n",
        "        .header(\"Authorization\", format!(\"Bearer {}\", api_token))\n",
        "        .json(&payload)\n",
        "        .send();\n",
        "\n",
        "    match response {\n",
        "        Ok(resp) => {\n",
        "            if let Ok(text) = resp.text() {\n",
        "                println!(\"Model Response: {}\", text);\n",
        "            } else {\n",
        "                println!(\"Failed to parse response.\");\n",
        "            }\n",
        "        }\n",
        "        Err(err) => {\n",
        "            println!(\"Error sending request: {}\", err);\n",
        "        }\n",
        "    }\n",
        "}\n"
      ],
      "metadata": {
        "colab": {
          "base_uri": "https://localhost:8080/",
          "height": 106
        },
        "id": "usuc-l38QdHy",
        "outputId": "a45e6687-0303-4838-929e-cd2d4cdeb1f7"
      },
      "execution_count": 22,
      "outputs": [
        {
          "output_type": "error",
          "ename": "SyntaxError",
          "evalue": "invalid syntax (<ipython-input-22-7a1e300b6c08>, line 1)",
          "traceback": [
            "\u001b[0;36m  File \u001b[0;32m\"<ipython-input-22-7a1e300b6c08>\"\u001b[0;36m, line \u001b[0;32m1\u001b[0m\n\u001b[0;31m    افتح src/main.rs وأضف الكود التالي:\u001b[0m\n\u001b[0m         ^\u001b[0m\n\u001b[0;31mSyntaxError\u001b[0m\u001b[0;31m:\u001b[0m invalid syntax\n"
          ]
        }
      ]
    },
    {
      "cell_type": "code",
      "source": [
        "!cargo run\n"
      ],
      "metadata": {
        "colab": {
          "base_uri": "https://localhost:8080/"
        },
        "id": "7L9fAyxTQvv7",
        "outputId": "3f2d28aa-a81a-4d5a-84cd-b65d2011a43f"
      },
      "execution_count": 24,
      "outputs": [
        {
          "output_type": "stream",
          "name": "stdout",
          "text": [
            "\u001b[0m\u001b[1m\u001b[33mwarning\u001b[0m\u001b[0m\u001b[1m: unused import: `Value`\u001b[0m\n",
            "\u001b[0m \u001b[0m\u001b[0m\u001b[1m\u001b[38;5;12m--> \u001b[0m\u001b[0msrc/main.rs:2:24\u001b[0m\n",
            "\u001b[0m  \u001b[0m\u001b[0m\u001b[1m\u001b[38;5;12m|\u001b[0m\n",
            "\u001b[0m\u001b[1m\u001b[38;5;12m2\u001b[0m\u001b[0m \u001b[0m\u001b[0m\u001b[1m\u001b[38;5;12m|\u001b[0m\u001b[0m \u001b[0m\u001b[0muse serde_json::{json, Value};\u001b[0m\n",
            "\u001b[0m  \u001b[0m\u001b[0m\u001b[1m\u001b[38;5;12m|\u001b[0m\u001b[0m                        \u001b[0m\u001b[0m\u001b[1m\u001b[33m^^^^^\u001b[0m\n",
            "\u001b[0m  \u001b[0m\u001b[0m\u001b[1m\u001b[38;5;12m|\u001b[0m\n",
            "\u001b[0m  \u001b[0m\u001b[0m\u001b[1m\u001b[38;5;12m= \u001b[0m\u001b[0m\u001b[1mnote\u001b[0m\u001b[0m: `#[warn(unused_imports)]` on by default\u001b[0m\n",
            "\n",
            "\u001b[1m\u001b[33mwarning\u001b[0m\u001b[1m:\u001b[0m `my_rust_project` (bin \"my_rust_project\") generated 1 warning (run `cargo fix --bin \"my_rust_project\"` to apply 1 suggestion)\n",
            "\u001b[1m\u001b[32m    Finished\u001b[0m `dev` profile [unoptimized + debuginfo] target(s) in 0.56s\n",
            "\u001b[1m\u001b[32m     Running\u001b[0m `/content/my_rust_project/target/debug/my_rust_project`\n",
            "Error sending request: error sending request for url (https://api-inference.huggingface.co/models/gpt2): operation timed out\n"
          ]
        }
      ]
    },
    {
      "cell_type": "markdown",
      "source": [
        "@@@@@@@@@@@@@@@@@@@@@@"
      ],
      "metadata": {
        "id": "hrmwUDRKRs1U"
      }
    },
    {
      "cell_type": "code",
      "source": [],
      "metadata": {
        "id": "xSkHNEB1RWoK"
      },
      "execution_count": null,
      "outputs": []
    },
    {
      "cell_type": "code",
      "source": [],
      "metadata": {
        "id": "8FQCWt-RRrsn"
      },
      "execution_count": null,
      "outputs": []
    },
    {
      "cell_type": "code",
      "source": [],
      "metadata": {
        "id": "BRVhhUEDRrvq"
      },
      "execution_count": null,
      "outputs": []
    },
    {
      "cell_type": "code",
      "source": [],
      "metadata": {
        "id": "LpKSThBBRry2"
      },
      "execution_count": null,
      "outputs": []
    },
    {
      "cell_type": "markdown",
      "source": [
        "بعد ذلك، أعد تشغيل Jupyter Notebook، وستتمكن من تشغيل كود Rust مباشرة."
      ],
      "metadata": {
        "id": "O5CWmd66R75V"
      }
    },
    {
      "cell_type": "code",
      "source": [
        "!cargo install evcxr_jupyter\n"
      ],
      "metadata": {
        "colab": {
          "base_uri": "https://localhost:8080/"
        },
        "id": "8xArWKrjRr1c",
        "outputId": "c41dbf44-e09f-430c-e4e2-429faa3a8e4c"
      },
      "execution_count": 11,
      "outputs": [
        {
          "output_type": "stream",
          "name": "stdout",
          "text": [
            "/bin/bash: line 1: cargo: command not found\n"
          ]
        }
      ]
    },
    {
      "cell_type": "code",
      "source": [
        "!evcxr_jupyter --install\n"
      ],
      "metadata": {
        "colab": {
          "base_uri": "https://localhost:8080/"
        },
        "id": "d-ST3GAGRyPb",
        "outputId": "0301e87e-324f-4a1c-c023-1cea8258d137"
      },
      "execution_count": 26,
      "outputs": [
        {
          "output_type": "stream",
          "name": "stdout",
          "text": [
            "Writing /root/.local/share/jupyter/kernels/rust/kernel.json\n",
            "Writing /root/.local/share/jupyter/kernels/rust/logo-32x32.png\n",
            "Writing /root/.local/share/jupyter/kernels/rust/logo-64x64.png\n",
            "Writing /root/.local/share/jupyter/kernels/rust/logo-LICENSE.md\n",
            "Writing /root/.local/share/jupyter/kernels/rust/kernel.js\n",
            "Writing /root/.local/share/jupyter/kernels/rust/lint.js\n",
            "Writing /root/.local/share/jupyter/kernels/rust/lint.css\n",
            "Writing /root/.local/share/jupyter/kernels/rust/lint-LICENSE\n",
            "Writing /root/.local/share/jupyter/kernels/rust/version.txt\n",
            "Installation complete\n"
          ]
        }
      ]
    },
    {
      "cell_type": "code",
      "source": [
        ":dep reqwest = { version = \"0.11\", features = [\"blocking\", \"json\"] }\n",
        "\n",
        "use reqwest::blocking::Client;\n",
        "use serde_json::json;\n",
        "\n",
        "fn main() {\n",
        "    let client = Client::new();\n",
        "    let url = \"https://api-inference.huggingface.co/models/gpt2\";\n",
        "    let token = \"XXXXXXXXXXXXXXXX\"; // ضع التوكن الخاص بك هنا\n",
        "\n",
        "    let payload = json!({ \"inputs\": \"Hello, world!\" });\n",
        "\n",
        "    let response = client\n",
        "        .post(url)\n",
        "        .header(\"Authorization\", format!(\"Bearer {}\", token))\n",
        "        .json(&payload)\n",
        "        .send();\n",
        "\n",
        "    match response {\n",
        "        Ok(resp) => println!(\"Response: {:?}\", resp.text().unwrap()),\n",
        "        Err(e) => println!(\"Error: {:?}\", e),\n",
        "    }\n",
        "}\n",
        "\n",
        "main();\n"
      ],
      "metadata": {
        "colab": {
          "base_uri": "https://localhost:8080/",
          "height": 106
        },
        "id": "2QecG_k2VbyM",
        "outputId": "08ea8027-c14d-42f1-990f-bf451fc99946"
      },
      "execution_count": 7,
      "outputs": [
        {
          "output_type": "error",
          "ename": "SyntaxError",
          "evalue": "invalid syntax (<ipython-input-7-531914d8a7f9>, line 1)",
          "traceback": [
            "\u001b[0;36m  File \u001b[0;32m\"<ipython-input-7-531914d8a7f9>\"\u001b[0;36m, line \u001b[0;32m1\u001b[0m\n\u001b[0;31m    :dep reqwest = { version = \"0.11\", features = [\"blocking\", \"json\"] }\u001b[0m\n\u001b[0m    ^\u001b[0m\n\u001b[0;31mSyntaxError\u001b[0m\u001b[0;31m:\u001b[0m invalid syntax\n"
          ]
        }
      ]
    },
    {
      "cell_type": "code",
      "source": [
        ":dep reqwest = { version = \"0.11\", features = [\"blocking\", \"json\"] }\n",
        "\n",
        "use reqwest::blocking::Client;\n",
        "use serde_json::json;\n",
        "\n",
        "fn main() {\n",
        "    let client = Client::new();\n",
        "    let url = \"https://api-inference.huggingface.co/models/gpt2\";\n",
        "    let token = \"\"; // ضع التوكن الخاص بك هنا\n",
        "\n",
        "    let payload = json!({ \"inputs\": \"Hello, world!\" });\n",
        "\n",
        "    let response = client\n",
        "        .post(url)\n",
        "        .header(\"Authorization\", format!(\"Bearer {}\", token))\n",
        "        .json(&payload)\n",
        "        .send();\n",
        "\n",
        "    match response {\n",
        "        Ok(resp) => println!(\"Response: {:?}\", resp.text().unwrap()),\n",
        "        Err(e) => println!(\"Error: {:?}\", e),\n",
        "    }\n",
        "}\n",
        "\n",
        "main();\n"
      ],
      "metadata": {
        "colab": {
          "base_uri": "https://localhost:8080/",
          "height": 106
        },
        "id": "ycdULxUDSB8i",
        "outputId": "fc6780e2-da9b-4e53-e918-d2bb5f1d990f"
      },
      "execution_count": 27,
      "outputs": [
        {
          "output_type": "error",
          "ename": "SyntaxError",
          "evalue": "invalid syntax (<ipython-input-27-531914d8a7f9>, line 1)",
          "traceback": [
            "\u001b[0;36m  File \u001b[0;32m\"<ipython-input-27-531914d8a7f9>\"\u001b[0;36m, line \u001b[0;32m1\u001b[0m\n\u001b[0;31m    :dep reqwest = { version = \"0.11\", features = [\"blocking\", \"json\"] }\u001b[0m\n\u001b[0m    ^\u001b[0m\n\u001b[0;31mSyntaxError\u001b[0m\u001b[0;31m:\u001b[0m invalid syntax\n"
          ]
        }
      ]
    },
    {
      "cell_type": "markdown",
      "source": [
        "@@@@@@@@@@@@@@@@@@@@@@@@@@@@@@@@@@@@@"
      ],
      "metadata": {
        "id": "8HPSqfkwSDfZ"
      }
    },
    {
      "cell_type": "code",
      "source": [
        "!curl -H \"Authorization: Bearer \" \\\n",
        "     -X POST \"https://api-inference.huggingface.co/models/gpt2\" \\\n",
        "     -d '{\"inputs\": \"Hello, world!\"}'\n"
      ],
      "metadata": {
        "colab": {
          "base_uri": "https://localhost:8080/"
        },
        "id": "4x54Sf-DViBc",
        "outputId": "ee25cbd4-1489-492d-affa-333d59c28261"
      },
      "execution_count": 4,
      "outputs": [
        {
          "output_type": "stream",
          "name": "stdout",
          "text": [
            "Expected request with `Content-Type: application/json`"
          ]
        }
      ]
    },
    {
      "cell_type": "code",
      "source": [
        "!cargo install evcxr_jupyter\n",
        "!evcxr_jupyter --install\n"
      ],
      "metadata": {
        "colab": {
          "base_uri": "https://localhost:8080/"
        },
        "id": "KboGY_umVo1r",
        "outputId": "28d5e25a-d009-4266-9a28-d6fdd4f49e73"
      },
      "execution_count": 5,
      "outputs": [
        {
          "output_type": "stream",
          "name": "stdout",
          "text": [
            "/bin/bash: line 1: cargo: command not found\n",
            "/bin/bash: line 1: evcxr_jupyter: command not found\n"
          ]
        }
      ]
    },
    {
      "cell_type": "code",
      "source": [],
      "metadata": {
        "id": "k-mopdlGV4Ai"
      },
      "execution_count": null,
      "outputs": []
    },
    {
      "cell_type": "code",
      "source": [],
      "metadata": {
        "id": "F--EoTvOV-zr"
      },
      "execution_count": null,
      "outputs": []
    },
    {
      "cell_type": "code",
      "source": [],
      "metadata": {
        "id": "zCMW4R_HV-2o"
      },
      "execution_count": null,
      "outputs": []
    },
    {
      "cell_type": "code",
      "source": [
        "use reqwest::blocking::Client;\n",
        "use serde_json::json;\n",
        "use std::error::Error;\n",
        "\n",
        "fn main() -> Result<(), Box<dyn Error>> {\n",
        "    let api_url = \"https://api-inference.huggingface.co/models/gpt2\";\n",
        "    let api_token = \"\"; // استبدل بالتوكن الخاص بك\n",
        "\n",
        "    let client = Client::new();\n",
        "\n",
        "    let response = client.post(api_url)\n",
        "        .header(\"Authorization\", format!(\"Bearer {}\", api_token))\n",
        "        .header(\"Content-Type\", \"application/json\")\n",
        "        .json(&json!({\"inputs\": \"Hello, world!\"}))\n",
        "        .send()?;\n",
        "\n",
        "    let response_text = response.text()?;\n",
        "    println!(\"Response: {}\", response_text);\n",
        "\n",
        "    Ok(())\n",
        "}\n"
      ],
      "metadata": {
        "colab": {
          "base_uri": "https://localhost:8080/",
          "height": 106
        },
        "id": "sztWAIQaV-5i",
        "outputId": "1dd6b494-de78-4ee7-a3bd-35c9eccf754b"
      },
      "execution_count": 8,
      "outputs": [
        {
          "output_type": "error",
          "ename": "SyntaxError",
          "evalue": "invalid syntax (<ipython-input-8-a665cd82fcc7>, line 1)",
          "traceback": [
            "\u001b[0;36m  File \u001b[0;32m\"<ipython-input-8-a665cd82fcc7>\"\u001b[0;36m, line \u001b[0;32m1\u001b[0m\n\u001b[0;31m    use reqwest::blocking::Client;\u001b[0m\n\u001b[0m        ^\u001b[0m\n\u001b[0;31mSyntaxError\u001b[0m\u001b[0;31m:\u001b[0m invalid syntax\n"
          ]
        }
      ]
    },
    {
      "cell_type": "code",
      "source": [
        "!cargo --version\n"
      ],
      "metadata": {
        "colab": {
          "base_uri": "https://localhost:8080/"
        },
        "id": "7LgStLVSWJtY",
        "outputId": "c853bc7d-dbee-4c66-de5f-248f746eff3b"
      },
      "execution_count": 9,
      "outputs": [
        {
          "output_type": "stream",
          "name": "stdout",
          "text": [
            "/bin/bash: line 1: cargo: command not found\n"
          ]
        }
      ]
    },
    {
      "cell_type": "code",
      "source": [
        "!curl --proto '=https' --tlsv1.2 -sSf https://sh.rustup.rs | sh\n"
      ],
      "metadata": {
        "colab": {
          "base_uri": "https://localhost:8080/"
        },
        "id": "koe26YBNWWQ7",
        "outputId": "3c16b56d-276f-46dc-ad8f-9e7a8613d84f"
      },
      "execution_count": 10,
      "outputs": [
        {
          "output_type": "stream",
          "name": "stdout",
          "text": [
            "\u001b[1minfo:\u001b[0m downloading installer\n",
            "sh: 167: cannot open /dev/tty: No such device or address\n"
          ]
        }
      ]
    },
    {
      "cell_type": "code",
      "source": [],
      "metadata": {
        "id": "RuzWKRlqWbNr"
      },
      "execution_count": null,
      "outputs": []
    },
    {
      "cell_type": "markdown",
      "source": [
        "ayhgشغال"
      ],
      "metadata": {
        "id": "mllGoOVlWrKs"
      }
    },
    {
      "cell_type": "code",
      "source": [
        "!curl --proto '=https' --tlsv1.2 -sSf https://sh.rustup.rs | sh -s -- -y\n",
        "\n",
        "import os\n",
        "os.environ[\"PATH\"] += \":/root/.cargo/bin\"\n",
        "\n",
        "!rustc --version\n",
        "!cargo --version\n"
      ],
      "metadata": {
        "colab": {
          "base_uri": "https://localhost:8080/"
        },
        "outputId": "72f5d665-1e45-4009-f244-e91a47451b10",
        "id": "aDXiU7o0Wm8n"
      },
      "execution_count": 12,
      "outputs": [
        {
          "output_type": "stream",
          "name": "stdout",
          "text": [
            "\u001b[1minfo:\u001b[0m downloading installer\n",
            "\u001b[0m\u001b[1minfo: \u001b[0mprofile set to 'default'\n",
            "\u001b[0m\u001b[1minfo: \u001b[0mdefault host triple is x86_64-unknown-linux-gnu\n",
            "\u001b[0m\u001b[33m\u001b[0m\u001b[1m\u001b[33mwarning: \u001b[0mUpdating existing toolchain, profile choice will be ignored\n",
            "\u001b[0m\u001b[1minfo: \u001b[0msyncing channel updates for 'stable-x86_64-unknown-linux-gnu'\n",
            "\u001b[0m\u001b[1minfo: \u001b[0mdefault toolchain set to 'stable-x86_64-unknown-linux-gnu'\n",
            "\n",
            "  \u001b[0m\u001b[1mstable-x86_64-unknown-linux-gnu unchanged\u001b[0m - rustc 1.84.1 (e71f9a9a9 2025-01-27)\n",
            "\n",
            "\u001b[0m\u001b[1m\n",
            "Rust is installed now. Great!\n",
            "\u001b[0m\n",
            "To get started you may need to restart your current shell.\n",
            "This would reload your \u001b[0m\u001b[1mPATH\u001b[0m environment variable to include\n",
            "Cargo's bin directory ($HOME/.cargo/bin).\n",
            "\n",
            "To configure your current shell, you need to source\n",
            "the corresponding \u001b[0m\u001b[1menv\u001b[0m file under $HOME/.cargo.\n",
            "\n",
            "This is usually done by running one of the following (note the leading DOT):\n",
            ". \"$HOME/.cargo/env\"            # For sh/bash/zsh/ash/dash/pdksh\n",
            "source \"$HOME/.cargo/env.fish\"  # For fish\n",
            "rustc 1.84.1 (e71f9a9a9 2025-01-27)\n",
            "cargo 1.84.1 (66221abde 2024-11-19)\n"
          ]
        }
      ]
    },
    {
      "cell_type": "code",
      "source": [
        "!cargo install evcxr_jupyter\n",
        "!evcxr_jupyter --install\n"
      ],
      "metadata": {
        "colab": {
          "base_uri": "https://localhost:8080/"
        },
        "id": "twGts6h4W07M",
        "outputId": "6f7aef05-691b-48cc-c2b9-19498758317b"
      },
      "execution_count": 13,
      "outputs": [
        {
          "output_type": "stream",
          "name": "stdout",
          "text": [
            "\u001b[1m\u001b[32m    Updating\u001b[0m crates.io index\n",
            "\u001b[1m\u001b[32m     Ignored\u001b[0m package `evcxr_jupyter v0.18.0` is already installed, use --force to override\n",
            "Writing /root/.local/share/jupyter/kernels/rust/kernel.json\n",
            "Writing /root/.local/share/jupyter/kernels/rust/logo-32x32.png\n",
            "Writing /root/.local/share/jupyter/kernels/rust/logo-64x64.png\n",
            "Writing /root/.local/share/jupyter/kernels/rust/logo-LICENSE.md\n",
            "Writing /root/.local/share/jupyter/kernels/rust/kernel.js\n",
            "Writing /root/.local/share/jupyter/kernels/rust/lint.js\n",
            "Writing /root/.local/share/jupyter/kernels/rust/lint.css\n",
            "Writing /root/.local/share/jupyter/kernels/rust/lint-LICENSE\n",
            "Writing /root/.local/share/jupyter/kernels/rust/version.txt\n",
            "Installation complete\n"
          ]
        }
      ]
    },
    {
      "cell_type": "code",
      "source": [
        "!source $HOME/.cargo/env\n"
      ],
      "metadata": {
        "id": "dhmhUsPWXO5U"
      },
      "execution_count": 1,
      "outputs": []
    },
    {
      "cell_type": "code",
      "source": [
        "!cargo --version\n"
      ],
      "metadata": {
        "colab": {
          "base_uri": "https://localhost:8080/"
        },
        "id": "w4ej4VWgXSWb",
        "outputId": "f0bba3cb-5003-447a-9048-633b5c173b92"
      },
      "execution_count": 2,
      "outputs": [
        {
          "output_type": "stream",
          "name": "stdout",
          "text": [
            "/bin/bash: line 1: cargo: command not found\n"
          ]
        }
      ]
    },
    {
      "cell_type": "code",
      "source": [
        "#/content/my_rust_project/Cargo.toml\n",
        "\n",
        "[package]\n",
        "name = \"my_rust_project\"\n",
        "version = \"0.1.0\"\n",
        "edition = \"2021\"\n",
        "\n",
        "[dependencies]\n",
        "reqwest = { version = \"0.11\", features = [\"blocking\", \"json\"] }\n",
        "serde_json = \"1.0\"\n"
      ],
      "metadata": {
        "id": "cuMbg2S7W2rb"
      },
      "execution_count": null,
      "outputs": []
    },
    {
      "cell_type": "code",
      "source": [
        "!cargo build\n",
        "!cargo run\n"
      ],
      "metadata": {
        "colab": {
          "base_uri": "https://localhost:8080/"
        },
        "id": "_Yxl7o7FXCqa",
        "outputId": "757db34e-f17e-4362-a17d-2ef0acb3ee13"
      },
      "execution_count": 1,
      "outputs": [
        {
          "output_type": "stream",
          "name": "stdout",
          "text": [
            "/bin/bash: line 1: cargo: command not found\n",
            "/bin/bash: line 1: cargo: command not found\n"
          ]
        }
      ]
    },
    {
      "cell_type": "code",
      "source": [
        "!curl --proto '=https' --tlsv1.2 -sSf https://sh.rustup.rs | sh -s -- -y\n",
        "\n",
        "import os\n",
        "os.environ[\"PATH\"] += \":/root/.cargo/bin\"\n",
        "\n",
        "!rustc --version\n",
        "!cargo --version\n"
      ],
      "metadata": {
        "colab": {
          "base_uri": "https://localhost:8080/"
        },
        "id": "KDKjcJUKXERS",
        "outputId": "7d59d704-0cb2-4708-ba7e-8577da7d9041"
      },
      "execution_count": 1,
      "outputs": [
        {
          "output_type": "stream",
          "name": "stdout",
          "text": [
            "\u001b[1minfo:\u001b[0m downloading installer\n",
            "\u001b[0m\u001b[1minfo: \u001b[0mprofile set to 'default'\n",
            "\u001b[0m\u001b[1minfo: \u001b[0mdefault host triple is x86_64-unknown-linux-gnu\n",
            "\u001b[0m\u001b[33m\u001b[0m\u001b[1m\u001b[33mwarning: \u001b[0mUpdating existing toolchain, profile choice will be ignored\n",
            "\u001b[0m\u001b[1minfo: \u001b[0msyncing channel updates for 'stable-x86_64-unknown-linux-gnu'\n",
            "\u001b[0m\u001b[1minfo: \u001b[0mdefault toolchain set to 'stable-x86_64-unknown-linux-gnu'\n",
            "\n",
            "  \u001b[0m\u001b[1mstable-x86_64-unknown-linux-gnu unchanged\u001b[0m - rustc 1.84.1 (e71f9a9a9 2025-01-27)\n",
            "\n",
            "\u001b[0m\u001b[1m\n",
            "Rust is installed now. Great!\n",
            "\u001b[0m\n",
            "To get started you may need to restart your current shell.\n",
            "This would reload your \u001b[0m\u001b[1mPATH\u001b[0m environment variable to include\n",
            "Cargo's bin directory ($HOME/.cargo/bin).\n",
            "\n",
            "To configure your current shell, you need to source\n",
            "the corresponding \u001b[0m\u001b[1menv\u001b[0m file under $HOME/.cargo.\n",
            "\n",
            "This is usually done by running one of the following (note the leading DOT):\n",
            ". \"$HOME/.cargo/env\"            # For sh/bash/zsh/ash/dash/pdksh\n",
            "source \"$HOME/.cargo/env.fish\"  # For fish\n",
            "rustc 1.84.1 (e71f9a9a9 2025-01-27)\n",
            "cargo 1.84.1 (66221abde 2024-11-19)\n"
          ]
        }
      ]
    },
    {
      "cell_type": "code",
      "source": [
        "!ls $HOME/.cargo/bin/cargo\n"
      ],
      "metadata": {
        "colab": {
          "base_uri": "https://localhost:8080/"
        },
        "id": "0BBzL8yLXxWT",
        "outputId": "1f191d3a-05a3-4207-dfa6-5a4a212f1ab1"
      },
      "execution_count": 2,
      "outputs": [
        {
          "output_type": "stream",
          "name": "stdout",
          "text": [
            "/root/.cargo/bin/cargo\n"
          ]
        }
      ]
    },
    {
      "cell_type": "code",
      "source": [
        "!export PATH=\"$HOME/.cargo/bin:$PATH\"\n",
        "!source $HOME/.cargo/env\n"
      ],
      "metadata": {
        "id": "_caH4JBxXzGr"
      },
      "execution_count": null,
      "outputs": []
    },
    {
      "cell_type": "code",
      "source": [
        "!cargo --version\n"
      ],
      "metadata": {
        "colab": {
          "base_uri": "https://localhost:8080/"
        },
        "id": "m3VShpKlX7j7",
        "outputId": "2680b6fb-27d0-4baa-f892-aafa4e959fcc"
      },
      "execution_count": 3,
      "outputs": [
        {
          "output_type": "stream",
          "name": "stdout",
          "text": [
            "cargo 1.84.1 (66221abde 2024-11-19)\n"
          ]
        }
      ]
    },
    {
      "cell_type": "markdown",
      "source": [
        "أنشئ مشروعًا جديدًا:"
      ],
      "metadata": {
        "id": "cVuApj6gYMzE"
      }
    },
    {
      "cell_type": "code",
      "source": [
        "!cargo new my_rust_project\n",
        "%cd my_rust_project\n"
      ],
      "metadata": {
        "colab": {
          "base_uri": "https://localhost:8080/"
        },
        "id": "etL7wcR1X8G7",
        "outputId": "88837d9c-602f-4033-c463-9337e2636094"
      },
      "execution_count": 4,
      "outputs": [
        {
          "output_type": "stream",
          "name": "stdout",
          "text": [
            "\u001b[1m\u001b[32m    Creating\u001b[0m binary (application) `my_rust_project` package\n",
            "\u001b[1m\u001b[36mnote\u001b[0m\u001b[1m:\u001b[0m see more `Cargo.toml` keys and their definitions at https://doc.rust-lang.org/cargo/reference/manifest.html\n",
            "/content/my_rust_project\n"
          ]
        }
      ]
    },
    {
      "cell_type": "code",
      "source": [
        "!ls\n"
      ],
      "metadata": {
        "colab": {
          "base_uri": "https://localhost:8080/"
        },
        "id": "XDT7Xhe0YQZk",
        "outputId": "b6ff2225-bd7e-428b-d183-1a44ea647934"
      },
      "execution_count": 5,
      "outputs": [
        {
          "output_type": "stream",
          "name": "stdout",
          "text": [
            "Cargo.toml  src\n"
          ]
        }
      ]
    },
    {
      "cell_type": "code",
      "source": [
        "!Cargo.toml  src\n"
      ],
      "metadata": {
        "colab": {
          "base_uri": "https://localhost:8080/"
        },
        "id": "4EpNpTRVYQ2D",
        "outputId": "66a0d2ce-1af7-4e81-80b7-c775f41d44e8"
      },
      "execution_count": 6,
      "outputs": [
        {
          "output_type": "stream",
          "name": "stdout",
          "text": [
            "/bin/bash: line 1: Cargo.toml: command not found\n"
          ]
        }
      ]
    },
    {
      "cell_type": "code",
      "source": [
        "#/content/my_rust_project/Cargo.toml\n",
        "\n",
        "[package]\n",
        "name = \"my_rust_project\"\n",
        "version = \"0.1.0\"\n",
        "edition = \"2021\"\n",
        "\n",
        "[dependencies]\n"
      ],
      "metadata": {
        "id": "yv538hoUYXm8"
      },
      "execution_count": null,
      "outputs": []
    },
    {
      "cell_type": "code",
      "source": [
        "%cd /content/my_rust_project\n",
        "!nano Cargo.toml\n"
      ],
      "metadata": {
        "colab": {
          "base_uri": "https://localhost:8080/"
        },
        "id": "j4dKCDnxYc4k",
        "outputId": "da349e58-385c-47e8-f26c-52cec34e6dfb"
      },
      "execution_count": 8,
      "outputs": [
        {
          "output_type": "stream",
          "name": "stdout",
          "text": [
            "/content/my_rust_project\n",
            "/bin/bash: line 1: nano: command not found\n"
          ]
        }
      ]
    },
    {
      "cell_type": "markdown",
      "source": [
        "أو يمكنك تنفيذ هذا الأمر لإضافة المكتبات تلقائيًا:"
      ],
      "metadata": {
        "id": "zO4Jj47uY3pM"
      }
    },
    {
      "cell_type": "code",
      "source": [
        "!cargo add reqwest serde_json --features blocking,json\n"
      ],
      "metadata": {
        "colab": {
          "base_uri": "https://localhost:8080/"
        },
        "id": "_wAR5XxAYdeD",
        "outputId": "83e71cac-cd35-45de-dddb-0eb50bc30f3c"
      },
      "execution_count": 9,
      "outputs": [
        {
          "output_type": "stream",
          "name": "stdout",
          "text": [
            "\u001b[1m\u001b[31merror\u001b[0m\u001b[1m:\u001b[0m feature `blocking` must be qualified by the dependency it's being activated for, like `reqwest/blocking`, `serde_json/blocking`\n"
          ]
        }
      ]
    },
    {
      "cell_type": "markdown",
      "source": [
        "افتح ملف src/main.rs لتحريره:"
      ],
      "metadata": {
        "id": "XTnCGuWOZDGB"
      }
    },
    {
      "cell_type": "code",
      "source": [
        "!nano src/main.rs\n"
      ],
      "metadata": {
        "colab": {
          "base_uri": "https://localhost:8080/"
        },
        "id": "EXHouQ_mY-t7",
        "outputId": "0194b6af-d01c-46f9-bb56-4ab1cc039bfa"
      },
      "execution_count": 10,
      "outputs": [
        {
          "output_type": "stream",
          "name": "stdout",
          "text": [
            "/bin/bash: line 1: nano: command not found\n"
          ]
        }
      ]
    },
    {
      "source": [
        "!apt-get update && apt-get install -y nano"
      ],
      "cell_type": "code",
      "metadata": {
        "colab": {
          "base_uri": "https://localhost:8080/"
        },
        "id": "-7hJ4Ua-ZEtP",
        "outputId": "732ace63-8822-46ac-a2a3-ca89ecc5e42a"
      },
      "execution_count": 11,
      "outputs": [
        {
          "output_type": "stream",
          "name": "stdout",
          "text": [
            "\r0% [Working]\r            \rHit:1 http://archive.ubuntu.com/ubuntu jammy InRelease\n",
            "\r            \rGet:2 https://developer.download.nvidia.com/compute/cuda/repos/ubuntu2204/x86_64  InRelease [1,581 B]\n",
            "\r0% [Waiting for headers] [Waiting for headers] [Waiting for headers] [Connected to r2u.stat.illinois\r                                                                                                    \rGet:3 http://security.ubuntu.com/ubuntu jammy-security InRelease [129 kB]\n",
            "\r                                                                                                    \rGet:4 https://cloud.r-project.org/bin/linux/ubuntu jammy-cran40/ InRelease [3,632 B]\n",
            "\r0% [Waiting for headers] [3 InRelease 14.2 kB/129 kB 11%] [Connected to r2u.stat.illinois.edu (192.1\r                                                                                                    \rGet:5 https://ppa.launchpadcontent.net/deadsnakes/ppa/ubuntu jammy InRelease [18.1 kB]\n",
            "Hit:6 https://ppa.launchpadcontent.net/graphics-drivers/ppa/ubuntu jammy InRelease\n",
            "Hit:7 https://ppa.launchpadcontent.net/ubuntugis/ppa/ubuntu jammy InRelease\n",
            "Get:8 http://archive.ubuntu.com/ubuntu jammy-updates InRelease [128 kB]\n",
            "Get:9 https://r2u.stat.illinois.edu/ubuntu jammy InRelease [6,555 B]\n",
            "Get:10 http://archive.ubuntu.com/ubuntu jammy-backports InRelease [127 kB]\n",
            "Get:11 https://developer.download.nvidia.com/compute/cuda/repos/ubuntu2204/x86_64  Packages [1,312 kB]\n",
            "Get:12 https://ppa.launchpadcontent.net/deadsnakes/ppa/ubuntu jammy/main amd64 Packages [34.0 kB]\n",
            "Get:13 http://security.ubuntu.com/ubuntu jammy-security/main amd64 Packages [2,609 kB]\n",
            "Get:14 https://r2u.stat.illinois.edu/ubuntu jammy/main amd64 Packages [2,655 kB]\n",
            "Get:15 http://archive.ubuntu.com/ubuntu jammy-updates/universe amd64 Packages [1,526 kB]\n",
            "Get:16 http://security.ubuntu.com/ubuntu jammy-security/restricted amd64 Packages [3,612 kB]\n",
            "Get:17 http://archive.ubuntu.com/ubuntu jammy-updates/main amd64 Packages [2,911 kB]\n",
            "Get:18 https://r2u.stat.illinois.edu/ubuntu jammy/main all Packages [8,673 kB]\n",
            "Fetched 23.7 MB in 5s (4,759 kB/s)\n",
            "Reading package lists... Done\n",
            "W: Skipping acquire of configured file 'main/source/Sources' as repository 'https://r2u.stat.illinois.edu/ubuntu jammy InRelease' does not seem to provide it (sources.list entry misspelt?)\n",
            "Reading package lists... Done\n",
            "Building dependency tree... Done\n",
            "Reading state information... Done\n",
            "Suggested packages:\n",
            "  hunspell\n",
            "The following NEW packages will be installed:\n",
            "  nano\n",
            "0 upgraded, 1 newly installed, 0 to remove and 21 not upgraded.\n",
            "Need to get 280 kB of archives.\n",
            "After this operation, 881 kB of additional disk space will be used.\n",
            "Get:1 http://archive.ubuntu.com/ubuntu jammy-updates/main amd64 nano amd64 6.2-1ubuntu0.1 [280 kB]\n",
            "Fetched 280 kB in 1s (504 kB/s)\n",
            "Selecting previously unselected package nano.\n",
            "(Reading database ... 124926 files and directories currently installed.)\n",
            "Preparing to unpack .../nano_6.2-1ubuntu0.1_amd64.deb ...\n",
            "Unpacking nano (6.2-1ubuntu0.1) ...\n",
            "Setting up nano (6.2-1ubuntu0.1) ...\n",
            "update-alternatives: using /bin/nano to provide /usr/bin/editor (editor) in auto mode\n",
            "update-alternatives: using /bin/nano to provide /usr/bin/pico (pico) in auto mode\n",
            "Processing triggers for man-db (2.10.2-1) ...\n"
          ]
        }
      ]
    },
    {
      "source": [
        "!vim /content/my_rust_project/Cargo.toml"
      ],
      "cell_type": "code",
      "metadata": {
        "colab": {
          "base_uri": "https://localhost:8080/"
        },
        "id": "3DTqjlXMZFb_",
        "outputId": "5f1764d8-d04e-47d4-bf03-a864ad3560b2"
      },
      "execution_count": 12,
      "outputs": [
        {
          "output_type": "stream",
          "name": "stdout",
          "text": [
            "\u001b7\u001b[?47h\u001b[>4;2m\u001b[?1h\u001b=\u001b[?2004h\u001b[?1004h\u001b[1;24r\u001b[?12h\u001b[?12l\u001b[22;2t\u001b[22;1t\u001b[29m\u001b[m\u001b[H\u001b[2J\u001b[?25l\u001b[24;1H\"/content/my_rust_project/Cargo.toml\" 9L, 170B\u001b[2;1H▽\u001b[6n\u001b[2;1H  \u001b[3;1H\u001bPzz\u001b\\\u001b[0%m\u001b[6n\u001b[3;1H           \u001b[1;1H\u001b[>c\u001b]10;?\u0007\u001b]11;?\u0007\u001b[1;1H\u001b[35m\u001b[46m[\u001b[m\u001b[35mpackage\u001b[m\u001b[35m\u001b[46m]\u001b[m\r\n",
            "\u001b[36mname\u001b[m = \u001b[31m\"my_rust_project\"\u001b[m\u001b[2;25H\u001b[K\u001b[3;1H\u001b[36mversion\u001b[m = \u001b[31m\"0.1.0\"\u001b[m\u001b[3;18H\u001b[K\u001b[4;1H\u001b[36medition\u001b[m = \u001b[31m\"2021\"\u001b[m\r\n",
            "\r\n",
            "\u001b[35m[dependencies]\u001b[m\r\n",
            "\u001b[36mreqwest\u001b[m = { \u001b[36mversion\u001b[m = \u001b[31m\"0.11\"\u001b[m, \u001b[36mfeatures\u001b[m = [\u001b[31m\"blocking\"\u001b[m, \u001b[31m\"json\"\u001b[m] }\r\n",
            "\u001b[36mserde_json\u001b[m = \u001b[31m\"1.0\"\u001b[m\r\n",
            "\n",
            "\u001b[1m\u001b[34m~                                                                                                   \u001b[11;1H~                                                                                                   \u001b[12;1H~                                                                                                   \u001b[13;1H~                                                                                                   \u001b[14;1H~                                                                                                   \u001b[15;1H~                                                                                                   \u001b[16;1H~                                                                                                   \u001b[17;1H~                                                                                                   \u001b[18;1H~                                                                                                   \u001b[19;1H~                                                                                                   \u001b[20;1H~                                                                                                   \u001b[21;1H~                                                                                                   \u001b[22;1H~                                                                                                   \u001b[23;1H~                                                                                                   \u001b[m\u001b[24;83H1,1\u001b[11CAll\u001b[1;1H\u001b[?25h\u001b[24;1H\u001b[?1004l\u001b[?2004l\u001b[?1l\u001b>\u001b[>4;m\u001b[2J\u001b[?47l\u001b8Vim: Caught deadly signal TERM\n",
            "Vim: Finished.\n",
            "\u001b[24;1H\u001b[23;2t\u001b[23;1t\n",
            "^C\n"
          ]
        }
      ]
    },
    {
      "cell_type": "code",
      "source": [
        "!nano src/main.rs\n"
      ],
      "metadata": {
        "colab": {
          "base_uri": "https://localhost:8080/"
        },
        "id": "BIWqHvdzZMfz",
        "outputId": "89566eae-2c29-4907-8b3d-c719697bcb36"
      },
      "execution_count": 13,
      "outputs": [
        {
          "output_type": "stream",
          "name": "stdout",
          "text": [
            "\u001b[?1l\u001b>\u001b[?2004lReceived SIGHUP or SIGTERM\n"
          ]
        }
      ]
    },
    {
      "cell_type": "code",
      "source": [
        "!vim /content/my_rust_project/src/main.rs"
      ],
      "metadata": {
        "colab": {
          "base_uri": "https://localhost:8080/"
        },
        "id": "jBXd22BiZTIl",
        "outputId": "d27e60d3-d1f1-49e6-c2d2-69114909dccc"
      },
      "execution_count": 14,
      "outputs": [
        {
          "output_type": "stream",
          "name": "stdout",
          "text": [
            "\u001b7\u001b[?47h\u001b[>4;2m\u001b[?1h\u001b=\u001b[?2004h\u001b[?1004h\u001b[1;24r\u001b[?12h\u001b[?12l\u001b[22;2t\u001b[22;1t\u001b[29m\u001b[m\u001b[H\u001b[2J\u001b[?25l\u001b[24;1H\"/content/my_rust_project/src/main.rs\" 3L, 45B\u001b[2;1H▽\u001b[6n\u001b[2;1H  \u001b[3;1H\u001bPzz\u001b\\\u001b[0%m\u001b[6n\u001b[3;1H           \u001b[1;1H\u001b[>c\u001b]10;?\u0007\u001b]11;?\u0007\u001b[1;1H\u001b[33mfn\u001b[m \u001b[36mmain\u001b[m() {\n",
            "    \u001b[35mprintln!\u001b[m(\u001b[31m\"Hello, world!\"\u001b[m);\u001b[2;31H\u001b[K\u001b[3;1H}\u001b[3;2H\u001b[K\u001b[4;1H\u001b[1m\u001b[34m~                                                                                                   \u001b[5;1H~                                                                                                   \u001b[6;1H~                                                                                                   \u001b[7;1H~                                                                                                   \u001b[8;1H~                                                                                                   \u001b[9;1H~                                                                                                   \u001b[10;1H~                                                                                                   \u001b[11;1H~                                                                                                   \u001b[12;1H~                                                                                                   \u001b[13;1H~                                                                                                   \u001b[14;1H~                                                                                                   \u001b[15;1H~                                                                                                   \u001b[16;1H~                                                                                                   \u001b[17;1H~                                                                                                   \u001b[18;1H~                                                                                                   \u001b[19;1H~                                                                                                   \u001b[20;1H~                                                                                                   \u001b[21;1H~                                                                                                   \u001b[22;1H~                                                                                                   \u001b[23;1H~                                                                                                   \u001b[m\u001b[24;83H1,1\u001b[11CAll\u001b[1;1H\u001b[?25h\u001b[24;1H\u001b[?1004l\u001b[?2004l\u001b[?1l\u001b>\u001b[>4;m\u001b[2J\u001b[?47l\u001b8Vim: Caught deadly signal TERM\n",
            "Vim: Finished.\n",
            "\u001b[24;1H\u001b[23;2t\u001b[23;1t\n",
            "^C\n"
          ]
        }
      ]
    },
    {
      "cell_type": "code",
      "source": [
        "!cargo update\n"
      ],
      "metadata": {
        "colab": {
          "base_uri": "https://localhost:8080/"
        },
        "id": "bSeUgCYWZnc7",
        "outputId": "4bdb72ca-194d-4dc4-ca2c-fa052d08a83a"
      },
      "execution_count": 15,
      "outputs": [
        {
          "output_type": "stream",
          "name": "stdout",
          "text": [
            "\u001b[1m\u001b[32m    Updating\u001b[0m crates.io index\n",
            "\u001b[1m\u001b[32m     Locking\u001b[0m 152 packages to latest compatible versions\n",
            "\u001b[1m\u001b[36m      Adding\u001b[0m reqwest v0.11.27 \u001b[1m\u001b[33m(available: v0.12.12)\u001b[0m\n"
          ]
        }
      ]
    },
    {
      "cell_type": "code",
      "source": [
        "!cargo run\n"
      ],
      "metadata": {
        "colab": {
          "base_uri": "https://localhost:8080/"
        },
        "id": "2hhX00gUZrnC",
        "outputId": "aafd1f5c-96bb-4300-e476-d1bace7996ff"
      },
      "execution_count": 16,
      "outputs": [
        {
          "output_type": "stream",
          "name": "stdout",
          "text": [
            "\u001b[1m\u001b[32m   Compiling\u001b[0m proc-macro2 v1.0.93\n",
            "\u001b[1m\u001b[32m   Compiling\u001b[0m unicode-ident v1.0.16\n",
            "\u001b[1m\u001b[32m   Compiling\u001b[0m libc v0.2.169\n",
            "\u001b[1m\u001b[32m   Compiling\u001b[0m stable_deref_trait v1.2.0\n",
            "\u001b[1m\u001b[32m   Compiling\u001b[0m quote v1.0.38\n",
            "\u001b[1m\u001b[32m   Compiling\u001b[0m syn v2.0.98\n",
            "\u001b[1m\u001b[32m   Compiling\u001b[0m shlex v1.3.0\n",
            "\u001b[1m\u001b[32m   Compiling\u001b[0m cc v1.2.13\n",
            "\u001b[1m\u001b[32m   Compiling\u001b[0m vcpkg v0.2.15\n",
            "\u001b[1m\u001b[32m   Compiling\u001b[0m pin-project-lite v0.2.16\n",
            "\u001b[1m\u001b[32m   Compiling\u001b[0m pkg-config v0.3.31\n",
            "\u001b[1m\u001b[32m   Compiling\u001b[0m openssl-sys v0.9.105\n",
            "\u001b[1m\u001b[32m   Compiling\u001b[0m bytes v1.10.0\n",
            "\u001b[1m\u001b[32m   Compiling\u001b[0m synstructure v0.13.1\n",
            "\u001b[1m\u001b[32m   Compiling\u001b[0m writeable v0.5.5\n",
            "\u001b[1m\u001b[32m   Compiling\u001b[0m once_cell v1.20.3\n",
            "\u001b[1m\u001b[32m   Compiling\u001b[0m litemap v0.7.4\n",
            "\u001b[1m\u001b[32m   Compiling\u001b[0m autocfg v1.4.0\n",
            "\u001b[1m\u001b[32m   Compiling\u001b[0m itoa v1.0.14\n",
            "\u001b[1m\u001b[32m   Compiling\u001b[0m slab v0.4.9\n",
            "\u001b[1m\u001b[32m   Compiling\u001b[0m socket2 v0.5.8\n",
            "\u001b[1m\u001b[32m   Compiling\u001b[0m zerofrom-derive v0.1.5\n",
            "\u001b[1m\u001b[32m   Compiling\u001b[0m yoke-derive v0.7.5\n",
            "\u001b[1m\u001b[32m   Compiling\u001b[0m zerofrom v0.1.5\n",
            "\u001b[1m\u001b[32m   Compiling\u001b[0m zerovec-derive v0.10.3\n",
            "\u001b[1m\u001b[32m   Compiling\u001b[0m yoke v0.7.5\n",
            "\u001b[1m\u001b[32m   Compiling\u001b[0m displaydoc v0.2.5\n",
            "\u001b[1m\u001b[32m   Compiling\u001b[0m icu_provider_macros v1.5.0\n",
            "\u001b[1m\u001b[32m   Compiling\u001b[0m zerovec v0.10.4\n",
            "\u001b[1m\u001b[32m   Compiling\u001b[0m mio v1.0.3\n",
            "\u001b[1m\u001b[32m   Compiling\u001b[0m icu_locid_transform_data v1.5.0\n",
            "\u001b[1m\u001b[32m   Compiling\u001b[0m futures-core v0.3.31\n",
            "\u001b[1m\u001b[32m   Compiling\u001b[0m tokio v1.43.0\n",
            "\u001b[1m\u001b[32m   Compiling\u001b[0m tinystr v0.7.6\n",
            "\u001b[1m\u001b[32m   Compiling\u001b[0m icu_locid v1.5.0\n",
            "\u001b[1m\u001b[32m   Compiling\u001b[0m icu_provider v1.5.0\n",
            "\u001b[1m\u001b[32m   Compiling\u001b[0m icu_locid_transform v1.5.0\n",
            "\u001b[1m\u001b[32m   Compiling\u001b[0m icu_collections v1.5.0\n",
            "\u001b[1m\u001b[32m   Compiling\u001b[0m foreign-types-shared v0.1.1\n",
            "\u001b[1m\u001b[32m   Compiling\u001b[0m fnv v1.0.7\n",
            "\u001b[1m\u001b[32m   Compiling\u001b[0m memchr v2.7.4\n",
            "\u001b[1m\u001b[32m   Compiling\u001b[0m openssl v0.10.70\n",
            "\u001b[1m\u001b[32m   Compiling\u001b[0m icu_properties_data v1.5.0\n",
            "\u001b[1m\u001b[32m   Compiling\u001b[0m cfg-if v1.0.0\n",
            "\u001b[1m\u001b[32m   Compiling\u001b[0m http v0.2.12\n",
            "\u001b[1m\u001b[32m   Compiling\u001b[0m icu_properties v1.5.1\n",
            "\u001b[1m\u001b[32m   Compiling\u001b[0m foreign-types v0.3.2\n",
            "\u001b[1m\u001b[32m   Compiling\u001b[0m openssl-macros v0.1.1\n",
            "\u001b[1m\u001b[32m   Compiling\u001b[0m tracing-core v0.1.33\n",
            "\u001b[1m\u001b[32m   Compiling\u001b[0m utf8_iter v1.0.4\n",
            "\u001b[1m\u001b[32m   Compiling\u001b[0m bitflags v2.8.0\n",
            "\u001b[1m\u001b[32m   Compiling\u001b[0m smallvec v1.13.2\n",
            "\u001b[1m\u001b[32m   Compiling\u001b[0m utf16_iter v1.0.5\n",
            "\u001b[1m\u001b[32m   Compiling\u001b[0m icu_normalizer_data v1.5.0\n",
            "\u001b[1m\u001b[32m   Compiling\u001b[0m futures-sink v0.3.31\n",
            "\u001b[1m\u001b[32m   Compiling\u001b[0m native-tls v0.2.13\n",
            "\u001b[1m\u001b[32m   Compiling\u001b[0m serde v1.0.217\n",
            "\u001b[1m\u001b[32m   Compiling\u001b[0m httparse v1.10.0\n",
            "\u001b[1m\u001b[32m   Compiling\u001b[0m write16 v1.0.0\n",
            "\u001b[1m\u001b[32m   Compiling\u001b[0m hashbrown v0.15.2\n",
            "\u001b[1m\u001b[32m   Compiling\u001b[0m pin-utils v0.1.0\n",
            "\u001b[1m\u001b[32m   Compiling\u001b[0m futures-io v0.3.31\n",
            "\u001b[1m\u001b[32m   Compiling\u001b[0m equivalent v1.0.1\n",
            "\u001b[1m\u001b[32m   Compiling\u001b[0m futures-task v0.3.31\n",
            "\u001b[1m\u001b[32m   Compiling\u001b[0m futures-util v0.3.31\n",
            "\u001b[1m\u001b[32m   Compiling\u001b[0m indexmap v2.7.1\n",
            "\u001b[1m\u001b[32m   Compiling\u001b[0m icu_normalizer v1.5.0\n",
            "\u001b[1m\u001b[32m   Compiling\u001b[0m tokio-util v0.7.13\n",
            "\u001b[1m\u001b[32m   Compiling\u001b[0m tracing v0.1.41\n",
            "\u001b[1m\u001b[32m   Compiling\u001b[0m log v0.4.25\n",
            "\u001b[1m\u001b[32m   Compiling\u001b[0m percent-encoding v2.3.1\n",
            "\u001b[1m\u001b[32m   Compiling\u001b[0m openssl-probe v0.1.6\n",
            "\u001b[1m\u001b[32m   Compiling\u001b[0m try-lock v0.2.5\n",
            "\u001b[1m\u001b[32m   Compiling\u001b[0m want v0.3.1\n",
            "\u001b[1m\u001b[32m   Compiling\u001b[0m form_urlencoded v1.2.1\n",
            "\u001b[1m\u001b[32m   Compiling\u001b[0m h2 v0.3.26\n",
            "\u001b[1m\u001b[32m   Compiling\u001b[0m idna_adapter v1.2.0\n",
            "\u001b[1m\u001b[32m   Compiling\u001b[0m http-body v0.4.6\n",
            "\u001b[1m\u001b[32m   Compiling\u001b[0m futures-channel v0.3.31\n",
            "\u001b[1m\u001b[32m   Compiling\u001b[0m ryu v1.0.19\n",
            "\u001b[1m\u001b[32m   Compiling\u001b[0m httpdate v1.0.3\n",
            "\u001b[1m\u001b[32m   Compiling\u001b[0m serde_json v1.0.138\n",
            "\u001b[1m\u001b[32m   Compiling\u001b[0m tower-service v0.3.3\n",
            "\u001b[1m\u001b[32m   Compiling\u001b[0m hyper v0.14.32\n",
            "\u001b[1m\u001b[32m   Compiling\u001b[0m idna v1.0.3\n",
            "\u001b[1m\u001b[32m   Compiling\u001b[0m tokio-native-tls v0.3.1\n",
            "\u001b[1m\u001b[32m   Compiling\u001b[0m base64 v0.21.7\n",
            "\u001b[1m\u001b[32m   Compiling\u001b[0m rustls-pemfile v1.0.4\n",
            "\u001b[1m\u001b[32m   Compiling\u001b[0m hyper-tls v0.5.0\n",
            "\u001b[1m\u001b[32m   Compiling\u001b[0m url v2.5.4\n",
            "\u001b[1m\u001b[32m   Compiling\u001b[0m serde_urlencoded v0.7.1\n",
            "\u001b[1m\u001b[32m   Compiling\u001b[0m encoding_rs v0.8.35\n",
            "\u001b[1m\u001b[32m   Compiling\u001b[0m sync_wrapper v0.1.2\n",
            "\u001b[1m\u001b[32m   Compiling\u001b[0m mime v0.3.17\n",
            "\u001b[1m\u001b[32m   Compiling\u001b[0m ipnet v2.11.0\n",
            "\u001b[1m\u001b[32m   Compiling\u001b[0m reqwest v0.11.27\n",
            "\u001b[1m\u001b[32m   Compiling\u001b[0m my_rust_project v0.1.0 (/content/my_rust_project)\n",
            "\u001b[1m\u001b[32m    Finished\u001b[0m `dev` profile [unoptimized + debuginfo] target(s) in 1m 35s\n",
            "\u001b[1m\u001b[32m     Running\u001b[0m `target/debug/my_rust_project`\n",
            "Hello, world!\n"
          ]
        }
      ]
    },
    {
      "cell_type": "code",
      "source": [],
      "metadata": {
        "id": "-kgL53t5ZtzK"
      },
      "execution_count": null,
      "outputs": []
    },
    {
      "cell_type": "markdown",
      "source": [
        "يمكنك إضافة المكتبات باستخدام echo كما يلي:"
      ],
      "metadata": {
        "id": "6yLSAx_aZzCm"
      }
    },
    {
      "cell_type": "code",
      "source": [
        "echo '[dependencies]\n",
        "reqwest = { version = \"0.11\", features = [\"blocking\", \"json\"] }\n",
        "serde_json = \"1.0\"' >> Cargo.toml\n"
      ],
      "metadata": {
        "id": "LfM2qyVsZzqb"
      },
      "execution_count": null,
      "outputs": []
    },
    {
      "cell_type": "markdown",
      "source": [
        "استخدم cat لإنشاء الملف وإضافة الكود دفعة واحدة:"
      ],
      "metadata": {
        "id": "IQE0diH0aYAl"
      }
    },
    {
      "cell_type": "code",
      "source": [
        "cat > src/main.rs <<EOL\n",
        "use reqwest::blocking::Client;\n",
        "use serde_json::json;\n",
        "\n",
        "fn main() {\n",
        "    let api_token = \"your_huggingface_api_token\"; // ضع توكن المصادقة الخاص بك هنا\n",
        "    let url = \"https://api-inference.huggingface.co/models/gpt2\";\n",
        "\n",
        "    let client = Client::new();\n",
        "    let request_body = json!({ \"inputs\": \"Hello, world!\" });\n",
        "\n",
        "    let response = client\n",
        "        .post(url)\n",
        "        .header(\"Authorization\", format!(\"Bearer {}\", api_token))\n",
        "        .header(\"Content-Type\", \"application/json\")\n",
        "        .json(&request_body)\n",
        "        .send();\n",
        "\n",
        "    match response {\n",
        "        Ok(resp) => match resp.text() {\n",
        "            Ok(text) => println!(\"Response: {}\", text),\n",
        "            Err(err) => eprintln!(\"Error reading response text: {}\", err),\n",
        "        },\n",
        "        Err(err) => eprintln!(\"Error sending request: {}\", err),\n",
        "    }\n",
        "}\n",
        "EOL\n"
      ],
      "metadata": {
        "id": "aR3PrplZaY6E"
      },
      "execution_count": null,
      "outputs": []
    },
    {
      "cell_type": "code",
      "source": [
        "cat > src/main.rs <<EOL\n",
        "use reqwest::blocking::Client;\n",
        "use serde_json::json;\n",
        "\n",
        "fn main() {\n",
        "    let api_token = \"your_huggingface_api_token\"; // ضع توكن المصادقة الخاص بك هنا\n",
        "    let url = \"https://api-inference.huggingface.co/models/gpt2\";\n",
        "\n",
        "    let client = Client::new();\n",
        "    let request_body = json!({ \"inputs\": \"Hello, world!\" });\n",
        "\n",
        "    let response = client\n",
        "        .post(url)\n",
        "        .header(\"Authorization\", format!(\"Bearer {}\", api_token))\n",
        "        .header(\"Content-Type\", \"application/json\")\n",
        "        .json(&request_body)\n",
        "        .send();\n",
        "\n",
        "    match response {\n",
        "        Ok(resp) => match resp.text() {\n",
        "            Ok(text) => println!(\"Response: {}\", text),\n",
        "            Err(err) => eprintln!(\"Error reading response text: {}\", err),\n",
        "        },\n",
        "        Err(err) => eprintln!(\"Error sending request: {}\", err),\n",
        "    }\n",
        "}\n",
        "EOL\n"
      ],
      "metadata": {
        "colab": {
          "base_uri": "https://localhost:8080/",
          "height": 106
        },
        "id": "J5RsfhGpabyr",
        "outputId": "27fc60a4-fa14-494e-b13f-e13481fc4ca4"
      },
      "execution_count": 17,
      "outputs": [
        {
          "output_type": "error",
          "ename": "SyntaxError",
          "evalue": "invalid syntax (<ipython-input-17-a385bd15fb9e>, line 2)",
          "traceback": [
            "\u001b[0;36m  File \u001b[0;32m\"<ipython-input-17-a385bd15fb9e>\"\u001b[0;36m, line \u001b[0;32m2\u001b[0m\n\u001b[0;31m    use reqwest::blocking::Client;\u001b[0m\n\u001b[0m        ^\u001b[0m\n\u001b[0;31mSyntaxError\u001b[0m\u001b[0;31m:\u001b[0m invalid syntax\n"
          ]
        }
      ]
    },
    {
      "cell_type": "markdown",
      "source": [
        "cargo clean\n",
        "cargo build\n",
        "cargo run\n"
      ],
      "metadata": {
        "id": "tPz7FkDEanLN"
      }
    },
    {
      "cell_type": "markdown",
      "source": [
        "شغال"
      ],
      "metadata": {
        "id": "CHYU0X79cpVl"
      }
    },
    {
      "cell_type": "markdown",
      "source": [
        "بعد تعديل Cargo.toml، قم بتنظيف Cargo وتشغيل البرنامج مجددًا:"
      ],
      "metadata": {
        "id": "Z_6k8NpjapjH"
      }
    },
    {
      "cell_type": "markdown",
      "source": [
        "@@@@@@@@@@@@@@@@@@@@@@@@@@@@@@@@@@@@@@@@@@@@@@@@@@@@@@@@@@@@"
      ],
      "metadata": {
        "id": "Wimi82gZbuSE"
      }
    },
    {
      "cell_type": "code",
      "source": [
        "cargo update\n",
        "\n",
        "cargo run\n",
        "\n",
        "\n",
        "\n",
        "use reqwest::blocking::Client;\n",
        "use serde_json::json;\n",
        "\n",
        "fn main() {\n",
        "    let api_token = \"XXXXXXXXXXXXXXXX\"; // ضع توكن المصادقة الخاص بك هنا\n",
        "    let url = \"https://api-inference.huggingface.co/models/gpt2\";\n",
        "\n",
        "    let client = Client::new();\n",
        "    let request_body = json!({ \"inputs\": \"Hello, world!\" });\n",
        "\n",
        "    let response = client\n",
        "        .post(url)\n",
        "        .header(\"Authorization\", format!(\"Bearer {}\", api_token))\n",
        "        .header(\"Content-Type\", \"application/json\")\n",
        "        .json(&request_body)\n",
        "        .send();\n",
        "\n",
        "    match response {\n",
        "        Ok(resp) => match resp.text() {\n",
        "            Ok(text) => println!(\"Response: {}\", text),\n",
        "            Err(err) => eprintln!(\"Error reading response text: {}\", err),\n",
        "        },\n",
        "        Err(err) => eprintln!(\"Error sending request: {}\", err),\n",
        "    }\n",
        "}"
      ],
      "metadata": {
        "id": "JTcP9DpLeFfN"
      },
      "execution_count": null,
      "outputs": []
    },
    {
      "cell_type": "code",
      "source": [
        "!cargo clean\n",
        "!cargo build\n",
        "!cargo run\n"
      ],
      "metadata": {
        "id": "_Hx_gF8War0k"
      },
      "execution_count": null,
      "outputs": []
    },
    {
      "cell_type": "code",
      "source": [
        "%cd /content\n",
        "!cargo new my_rust_project\n",
        "%cd my_rust_project\n"
      ],
      "metadata": {
        "colab": {
          "base_uri": "https://localhost:8080/"
        },
        "id": "IZOrI7opayWa",
        "outputId": "9045518c-e646-4b81-96cd-28420bf8ef2c"
      },
      "execution_count": 19,
      "outputs": [
        {
          "output_type": "stream",
          "name": "stdout",
          "text": [
            "/content\n",
            "\u001b[1m\u001b[32m    Creating\u001b[0m binary (application) `my_rust_project` package\n",
            "\u001b[1m\u001b[36mnote\u001b[0m\u001b[1m:\u001b[0m see more `Cargo.toml` keys and their definitions at https://doc.rust-lang.org/cargo/reference/manifest.html\n",
            "/content/my_rust_project\n"
          ]
        }
      ]
    },
    {
      "cell_type": "code",
      "source": [
        "[package]\n",
        "name = \"my_rust_project\"\n",
        "version = \"0.1.0\"\n",
        "edition = \"2021\"\n",
        "\n",
        "[dependencies]\n",
        "reqwest = { version = \"0.11\", features = [\"blocking\", \"json\"] }\n",
        "serde_json = \"1.0\"\n"
      ],
      "metadata": {
        "id": "OCG_ERlta9nB"
      },
      "execution_count": null,
      "outputs": []
    },
    {
      "cell_type": "code",
      "source": [
        "!cargo run\n"
      ],
      "metadata": {
        "colab": {
          "base_uri": "https://localhost:8080/"
        },
        "id": "Z1jNr3iDbnwE",
        "outputId": "c7cb8240-08fa-4cbb-9f77-8d68ac4c5d6d"
      },
      "execution_count": 21,
      "outputs": [
        {
          "output_type": "stream",
          "name": "stdout",
          "text": [
            "\u001b[1m\u001b[32m   Compiling\u001b[0m my_rust_project v0.1.0 (/content/my_rust_project)\n",
            "\u001b[1m\u001b[32m    Finished\u001b[0m `dev` profile [unoptimized + debuginfo] target(s) in 3.87s\n",
            "\u001b[1m\u001b[32m     Running\u001b[0m `target/debug/my_rust_project`\n",
            "Response: [{\"generated_text\":\"Hello, world!\\n\\nThe Big Kahuna\\n\\nSnick…sniff…sniff…sniff…sniff.\\n\\n\\nSnick…sniff…sniff…sniff! Sniff…sniff.\\n\\nThey stopped here when they saw my house, partly from the dome at once. They stopped here also to receive my jinchubrin tree. They stopped here to hand out paper cups for my old piles. They stopped here not for my pot of Cranberry Juice but for the pizza we had sitting at the left, and as much not so great newspaper clippings as you can grow into. They stopped here to stop and prod me with my pizza. They stopped here because, half the time, I'm not a human (F). While the other half study their onion pickles, the outsider ones do not study onions. So you could call this stuff \\\"my joint\\\". The rats in the warehouse were practically full of jelly sandwiches, stomping very hard due to the size of the jelly sandwiches. No one caught the back of the last little pencil (I think was long enough lagoons sooner or later in existence for the jelly sandwich to scrape right off my finger teeth). MR TAR, the 8 pieces of cheese that I killed, rejected them all. They could have no guinea pigs, but they snapped them open with their bolsters. I just bet that if Métalisa had it's feral dogs, I would have bought the suit from their box. What do you mean? TA TARA, Walter's sister. I don't know what to say. Well, I think maybe she said so. The puppeteer, now replaced by Tramp. Please, let's do something about it, please. You gonna let that roost people in Trappe take sweet shit from you? Alma called Tramp in response to Whats starting in Tuthsynia. He had had his sch pizza in 100 houses across Syria in less than 24 hours. Lara was beginning to wake up. She followed him's friend as though with two arms she could do it herself, but had watched in torment as other young people came into touch with her. It had been a long time since Lovers strived for a human. Teacher Vanente was awaiting them in Tulares. Evildo said about Sawthust, \\\"We live there since they broke to steal Burk water for me to use at school.\\\" They were looking where the Jan Pain was and they fought their way out of there instead of until That Nobody Spreads to the 'City In The Loop'. There were emphasis on almost physics above all other Seabees. Enemy Trinity got our attention with that collar crawl. It's basically an Artificial Organ, Digging Seabee rum; Caselyased is arguing that this first time he and his man are brought captive, people deserved brains and their killers got to take hashptamines. Although business is just cruel. Verdict…support up an illusion against that delusion, there will never be good endings if fairies can walk until then.\\n\\nCause most of the Seabees went rotten\\n\\nUnpredictable on Mars having nothing but pudding\\n\\n::* This one is just so annoying and critical, just buffoonery. Here their mud fight was very revolting.\\n\\n\\nThey said cage ridden peeing across the floor to become alternative toilets. They kept farting when they could hear it every so often. Tears welled up in the soil above my house when they jumped in their dumpster. I don't know what mist here on Mars needs. They did just that, following their leading rabbit brother. You won a favour with Desperate to Save Aquarius (thanks once every 100 orders) and shocked toxic gases and dust/bark and zheung millennialabulites picked up the tubers to contaminate our sinks so they could release them to the mill-Lennon in Tuthsynia. Jesus know oh and don't ever drop into that gas as though it wasn't there before. They killed their prisoner Rphen triyle Pepper W Iran. King Pfae expected Furyrated Sphynx soon… (Not the best time to save a year-old girl?)\\n\\nNow it is Pessoa.\\n\\nNOW Pessoa.\\n\\nGet off their bullshit loppers.\\n\\nIs dropping their rabbit friend though? Jem alba Dude! Like many he is exaggerating at once.\\n\\nGROWING OF SATURING PRESS! When Jem whacked the guy with Tomtit in the stomach the crowd of Seabs doted on sildenafil and spiked some more to grant them their ass taken aback that he may have just shaved his pubes off. They only had guns and had everyone laughing at them. KILLING PERSONAL TAKE OFF PAINS. If I survived, I may rise up against crazy folks who buy and buy from Domains where they bet their lives who can have their low birth rates even\"}]\n"
          ]
        }
      ]
    },
    {
      "cell_type": "code",
      "source": [
        "!source \"$HOME/.cargo/env\"\n"
      ],
      "metadata": {
        "id": "2QKuT3f2boMj"
      },
      "execution_count": null,
      "outputs": []
    },
    {
      "cell_type": "markdown",
      "source": [
        "@@@@@@@@@@@@@@@@@@@@@@@@@@@@@@@@@@@@@@@@@@@@@"
      ],
      "metadata": {
        "id": "6kOxEjE8bwRz"
      }
    },
    {
      "cell_type": "code",
      "source": [
        "%%writefile main.rs\n",
        "use reqwest::blocking::Client;\n",
        "use serde_json::json;\n",
        "\n",
        "fn main() {\n",
        "    let api_token = \"XXXXXXXXXXXXXXXX\"; // استبدل بالتوكن الخاص بك\n",
        "    let url = \"https://api-inference.huggingface.co/models/gpt2\";\n",
        "\n",
        "    let client = Client::new();\n",
        "    let payload = json!({ \"inputs\": \"Hello, world!\" });\n",
        "\n",
        "    let response = client\n",
        "        .post(url)\n",
        "        .header(\"Authorization\", format!(\"Bearer {}\", api_token))\n",
        "        .header(\"Content-Type\", \"application/json\")\n",
        "        .json(&payload)\n",
        "        .send();\n",
        "\n",
        "    match response {\n",
        "        Ok(res) => match res.text() {\n",
        "            Ok(text) => println!(\"Response: {}\", text),\n",
        "            Err(err) => eprintln!(\"Error reading response: {}\", err),\n",
        "        },\n",
        "        Err(err) => eprintln!(\"Request failed: {}\", err),\n",
        "    }\n",
        "}\n",
        "\n"
      ],
      "metadata": {
        "colab": {
          "base_uri": "https://localhost:8080/"
        },
        "id": "cRO6j2iCbxuq",
        "outputId": "7f555a2c-15f8-4fa7-a767-1d7386a4dc9f"
      },
      "execution_count": 26,
      "outputs": [
        {
          "output_type": "stream",
          "name": "stdout",
          "text": [
            "Overwriting main.rs\n"
          ]
        }
      ]
    },
    {
      "cell_type": "code",
      "source": [
        "!rustc main.rs && ./main"
      ],
      "metadata": {
        "colab": {
          "base_uri": "https://localhost:8080/"
        },
        "id": "QqFj4G4zdAib",
        "outputId": "29654b8b-3f1d-4ab8-d72f-51da8602c75a"
      },
      "execution_count": 27,
      "outputs": [
        {
          "output_type": "stream",
          "name": "stdout",
          "text": [
            "\u001b[0m\u001b[1m\u001b[38;5;9merror[E0433]\u001b[0m\u001b[0m\u001b[1m: failed to resolve: you might be missing crate `reqwest`\u001b[0m\n",
            "\u001b[0m \u001b[0m\u001b[0m\u001b[1m\u001b[38;5;12m--> \u001b[0m\u001b[0mmain.rs:1:5\u001b[0m\n",
            "\u001b[0m  \u001b[0m\u001b[0m\u001b[1m\u001b[38;5;12m|\u001b[0m\n",
            "\u001b[0m\u001b[1m\u001b[38;5;12m1\u001b[0m\u001b[0m \u001b[0m\u001b[0m\u001b[1m\u001b[38;5;12m|\u001b[0m\u001b[0m \u001b[0m\u001b[0muse reqwest::blocking::Client;\u001b[0m\n",
            "\u001b[0m  \u001b[0m\u001b[0m\u001b[1m\u001b[38;5;12m|\u001b[0m\u001b[0m     \u001b[0m\u001b[0m\u001b[1m\u001b[38;5;9m^^^^^^^\u001b[0m\u001b[0m \u001b[0m\u001b[0m\u001b[1m\u001b[38;5;9myou might be missing crate `reqwest`\u001b[0m\n",
            "\u001b[0m  \u001b[0m\u001b[0m\u001b[1m\u001b[38;5;12m|\u001b[0m\n",
            "\u001b[0m\u001b[1m\u001b[38;5;14mhelp\u001b[0m\u001b[0m: consider importing the `reqwest` crate\u001b[0m\n",
            "\u001b[0m  \u001b[0m\u001b[0m\u001b[1m\u001b[38;5;12m|\u001b[0m\n",
            "\u001b[0m\u001b[1m\u001b[38;5;12m1\u001b[0m\u001b[0m \u001b[0m\u001b[0m\u001b[38;5;10m+ extern crate reqwest;\u001b[0m\n",
            "\u001b[0m  \u001b[0m\u001b[0m\u001b[1m\u001b[38;5;12m|\u001b[0m\n",
            "\n",
            "\u001b[0m\u001b[1m\u001b[38;5;9merror[E0432]\u001b[0m\u001b[0m\u001b[1m: unresolved import `serde_json`\u001b[0m\n",
            "\u001b[0m \u001b[0m\u001b[0m\u001b[1m\u001b[38;5;12m--> \u001b[0m\u001b[0mmain.rs:2:5\u001b[0m\n",
            "\u001b[0m  \u001b[0m\u001b[0m\u001b[1m\u001b[38;5;12m|\u001b[0m\n",
            "\u001b[0m\u001b[1m\u001b[38;5;12m2\u001b[0m\u001b[0m \u001b[0m\u001b[0m\u001b[1m\u001b[38;5;12m|\u001b[0m\u001b[0m \u001b[0m\u001b[0muse serde_json::json;\u001b[0m\n",
            "\u001b[0m  \u001b[0m\u001b[0m\u001b[1m\u001b[38;5;12m|\u001b[0m\u001b[0m     \u001b[0m\u001b[0m\u001b[1m\u001b[38;5;9m^^^^^^^^^^\u001b[0m\u001b[0m \u001b[0m\u001b[0m\u001b[1m\u001b[38;5;9myou might be missing crate `serde_json`\u001b[0m\n",
            "\u001b[0m  \u001b[0m\u001b[0m\u001b[1m\u001b[38;5;12m|\u001b[0m\n",
            "\u001b[0m\u001b[1m\u001b[38;5;14mhelp\u001b[0m\u001b[0m: consider importing the `serde_json` crate\u001b[0m\n",
            "\u001b[0m  \u001b[0m\u001b[0m\u001b[1m\u001b[38;5;12m|\u001b[0m\n",
            "\u001b[0m\u001b[1m\u001b[38;5;12m1\u001b[0m\u001b[0m \u001b[0m\u001b[0m\u001b[38;5;10m+ extern crate serde_json;\u001b[0m\n",
            "\u001b[0m  \u001b[0m\u001b[0m\u001b[1m\u001b[38;5;12m|\u001b[0m\n",
            "\n",
            "\u001b[0m\u001b[1m\u001b[38;5;9merror\u001b[0m\u001b[0m\u001b[1m: aborting due to 2 previous errors\u001b[0m\n",
            "\n",
            "\u001b[0m\u001b[1mSome errors have detailed explanations: E0432, E0433.\u001b[0m\n",
            "\u001b[0m\u001b[1mFor more information about an error, try `rustc --explain E0432`.\u001b[0m\n"
          ]
        }
      ]
    },
    {
      "cell_type": "code",
      "source": [
        "use reqwest::blocking::Client;\n",
        "use serde_json::json;\n",
        "\n",
        "fn main() {\n",
        "    let api_token = \"your_huggingface_api_token\"; // ضع توكن المصادقة الخاص بك هنا\n",
        "    let url = \"https://api-inference.huggingface.co/models/gpt2\";\n",
        "\n",
        "    let client = Client::new();\n",
        "    let request_body = json!({ \"inputs\": \"Hello, world!\" });\n",
        "\n",
        "    let response = client\n",
        "        .post(url)\n",
        "        .header(\"Authorization\", format!(\"Bearer {}\", api_token))\n",
        "        .header(\"Content-Type\", \"application/json\")\n",
        "        .json(&request_body)\n",
        "        .send();\n",
        "\n",
        "    match response {\n",
        "        Ok(resp) => match resp.text() {\n",
        "            Ok(text) => println!(\"Response: {}\", text),\n",
        "            Err(err) => eprintln!(\"Error reading response text: {}\", err),\n",
        "        },\n",
        "        Err(err) => eprintln!(\"Error sending request: {}\", err),\n",
        "    }\n",
        "}\n"
      ],
      "metadata": {
        "id": "T24qmlw0dEGG"
      },
      "execution_count": null,
      "outputs": []
    },
    {
      "cell_type": "code",
      "source": [],
      "metadata": {
        "id": "H0ZsnVafd4Hq"
      },
      "execution_count": null,
      "outputs": []
    },
    {
      "cell_type": "code",
      "source": [],
      "metadata": {
        "id": "9dhO_hzod4Ds"
      },
      "execution_count": null,
      "outputs": []
    },
    {
      "cell_type": "code",
      "source": [],
      "metadata": {
        "id": "ZRyMDZpCd4BD"
      },
      "execution_count": null,
      "outputs": []
    },
    {
      "cell_type": "code",
      "source": [
        "!cargo run\n"
      ],
      "metadata": {
        "colab": {
          "base_uri": "https://localhost:8080/"
        },
        "id": "rMdnKrVHd3-T",
        "outputId": "d3eabec8-0324-4c17-e7ff-3f62ee0d28cc"
      },
      "execution_count": 28,
      "outputs": [
        {
          "output_type": "stream",
          "name": "stdout",
          "text": [
            "\u001b[1m\u001b[32m   Compiling\u001b[0m my_rust_project v0.1.0 (/content/my_rust_project)\n",
            "\u001b[1m\u001b[32m    Finished\u001b[0m `dev` profile [unoptimized + debuginfo] target(s) in 5.15s\n",
            "\u001b[1m\u001b[32m     Running\u001b[0m `target/debug/my_rust_project`\n",
            "Response: [{\"generated_text\":\"Hello, world!\\n\\nThe Big Kahuna\\n\\nSnick…sniff…sniff…sniff…sniff.\\n\\n\\nSnick…sniff…sniff…sniff! Sniff…sniff.\\n\\nThey stopped here when they saw my house, partly from the dome at once. They stopped here also to receive my jinchubrin tree. They stopped here to hand out paper cups for my old piles. They stopped here not for my pot of Cranberry Juice but for the pizza we had sitting at the left, and as much not so great newspaper clippings as you can grow into. They stopped here to stop and prod me with my pizza. They stopped here because, half the time, I'm not a human (F). While the other half study their onion pickles, the outsider ones do not study onions. So you could call this stuff \\\"my joint\\\". The rats in the warehouse were practically full of jelly sandwiches, stomping very hard due to the size of the jelly sandwiches. No one caught the back of the last little pencil (I think was long enough lagoons sooner or later in existence for the jelly sandwich to scrape right off my finger teeth). MR TAR, the 8 pieces of cheese that I killed, rejected them all. They could have no guinea pigs, but they snapped them open with their bolsters. I just bet that if Métalisa had it's feral dogs, I would have bought the suit from their box. What do you mean? TA TARA, Walter's sister. I don't know what to say. Well, I think maybe she said so. The puppeteer, now replaced by Tramp. Please, let's do something about it, please. You gonna let that roost people in Trappe take sweet shit from you? Alma called Tramp in response to Whats starting in Tuthsynia. He had had his sch pizza in 100 houses across Syria in less than 24 hours. Lara was beginning to wake up. She followed him's friend as though with two arms she could do it herself, but had watched in torment as other young people came into touch with her. It had been a long time since Lovers strived for a human. Teacher Vanente was awaiting them in Tulares. Evildo said about Sawthust, \\\"We live there since they broke to steal Burk water for me to use at school.\\\" They were looking where the Jan Pain was and they fought their way out of there instead of until That Nobody Spreads to the 'City In The Loop'. There were emphasis on almost physics above all other Seabees. Enemy Trinity got our attention with that collar crawl. It's basically an Artificial Organ, Digging Seabee rum; Caselyased is arguing that this first time he and his man are brought captive, people deserved brains and their killers got to take hashptamines. Although business is just cruel. Verdict…support up an illusion against that delusion, there will never be good endings if fairies can walk until then.\\n\\nCause most of the Seabees went rotten\\n\\nUnpredictable on Mars having nothing but pudding\\n\\n::* This one is just so annoying and critical, just buffoonery. Here their mud fight was very revolting.\\n\\n\\nThey said cage ridden peeing across the floor to become alternative toilets. They kept farting when they could hear it every so often. Tears welled up in the soil above my house when they jumped in their dumpster. I don't know what mist here on Mars needs. They did just that, following their leading rabbit brother. You won a favour with Desperate to Save Aquarius (thanks once every 100 orders) and shocked toxic gases and dust/bark and zheung millennialabulites picked up the tubers to contaminate our sinks so they could release them to the mill-Lennon in Tuthsynia. Jesus know oh and don't ever drop into that gas as though it wasn't there before. They killed their prisoner Rphen triyle Pepper W Iran. King Pfae expected Furyrated Sphynx soon… (Not the best time to save a year-old girl?)\\n\\nNow it is Pessoa.\\n\\nNOW Pessoa.\\n\\nGet off their bullshit loppers.\\n\\nIs dropping their rabbit friend though? Jem alba Dude! Like many he is exaggerating at once.\\n\\nGROWING OF SATURING PRESS! When Jem whacked the guy with Tomtit in the stomach the crowd of Seabs doted on sildenafil and spiked some more to grant them their ass taken aback that he may have just shaved his pubes off. They only had guns and had everyone laughing at them. KILLING PERSONAL TAKE OFF PAINS. If I survived, I may rise up against crazy folks who buy and buy from Domains where they bet their lives who can have their low birth rates even\"}]\n"
          ]
        }
      ]
    },
    {
      "cell_type": "markdown",
      "source": [
        "aaaaaaaaaaaaaa"
      ],
      "metadata": {
        "id": "Ou88Tum2d5DS"
      }
    },
    {
      "cell_type": "code",
      "source": [
        "use reqwest::blocking::Client;\n",
        "use serde_json::json;\n",
        "\n",
        "fn main() {\n",
        "    let api_token = \"\"; // ضع توكن المصادقة الخاص بك هنا\n",
        "    let url = \"https://api-inference.huggingface.co/models/gpt2\";\n",
        "\n",
        "    let client = Client::new();\n",
        "    let request_body = json!({ \"inputs\": \"Hello, world!\" });\n",
        "\n",
        "    let response = client\n",
        "        .post(url)\n",
        "        .header(\"Authorization\", format!(\"Bearer {}\", api_token))\n",
        "        .header(\"Content-Type\", \"application/json\")\n",
        "        .json(&request_body)\n",
        "        .send();\n",
        "\n",
        "    match response {\n",
        "        Ok(resp) => match resp.text() {\n",
        "            Ok(text) => println!(\"Response: {}\", text),\n",
        "            Err(err) => eprintln!(\"Error reading response text: {}\", err),\n",
        "        },\n",
        "        Err(err) => eprintln!(\"Error sending request: {}\", err),\n",
        "    }\n",
        "}"
      ],
      "metadata": {
        "id": "E5_6LYVhd361"
      },
      "execution_count": null,
      "outputs": []
    },
    {
      "cell_type": "code",
      "source": [],
      "metadata": {
        "id": "qxPcJQR5eTwm"
      },
      "execution_count": null,
      "outputs": []
    },
    {
      "cell_type": "code",
      "source": [],
      "metadata": {
        "id": "QBt_JF7oeTt1"
      },
      "execution_count": null,
      "outputs": []
    },
    {
      "cell_type": "code",
      "source": [],
      "metadata": {
        "id": "iExyaa5NeTpa"
      },
      "execution_count": null,
      "outputs": []
    },
    {
      "cell_type": "code",
      "source": [
        "!cat > src/main.rs <<EOL\n",
        "use reqwest::blocking::Client;\n",
        "use serde_json::json;\n",
        "\n",
        "fn main() {\n",
        "    let api_token = \"your_huggingface_api_token\"; // ضع توكن المصادقة الخاص بك هنا\n",
        "    let url = \"https://api-inference.huggingface.co/models/gpt2\";\n",
        "\n",
        "    let client = Client::new();\n",
        "    let request_body = json!({ \"inputs\": \"Hello, world!\" });\n",
        "\n",
        "    let response = client\n",
        "        .post(url)\n",
        "        .header(\"Authorization\", format!(\"Bearer {}\", api_token))\n",
        "        .header(\"Content-Type\", \"application/json\")\n",
        "        .json(&request_body)\n",
        "        .send();\n",
        "\n",
        "    match response {\n",
        "        Ok(resp) => match resp.text() {\n",
        "            Ok(text) => println!(\"Response: {}\", text),\n",
        "            Err(err) => eprintln!(\"Error reading response text: {}\", err),\n",
        "        },\n",
        "        Err(err) => eprintln!(\"Error sending request: {}\", err),\n",
        "    }\n",
        "}\n",
        "EOL\n"
      ],
      "metadata": {
        "colab": {
          "base_uri": "https://localhost:8080/",
          "height": 106
        },
        "id": "WLWH9Iu_eTld",
        "outputId": "179e9850-9f04-4623-8442-3e7982b56784"
      },
      "execution_count": 30,
      "outputs": [
        {
          "output_type": "error",
          "ename": "SyntaxError",
          "evalue": "invalid syntax (<ipython-input-30-051661644712>, line 2)",
          "traceback": [
            "\u001b[0;36m  File \u001b[0;32m\"<ipython-input-30-051661644712>\"\u001b[0;36m, line \u001b[0;32m2\u001b[0m\n\u001b[0;31m    use reqwest::blocking::Client;\u001b[0m\n\u001b[0m        ^\u001b[0m\n\u001b[0;31mSyntaxError\u001b[0m\u001b[0;31m:\u001b[0m invalid syntax\n"
          ]
        }
      ]
    },
    {
      "cell_type": "code",
      "source": [],
      "metadata": {
        "id": "ewlisM_Yenzv"
      },
      "execution_count": null,
      "outputs": []
    },
    {
      "cell_type": "code",
      "source": [],
      "metadata": {
        "id": "dMsCxWbWenwL"
      },
      "execution_count": null,
      "outputs": []
    },
    {
      "cell_type": "code",
      "source": [],
      "metadata": {
        "id": "m1Z9b00lentH"
      },
      "execution_count": null,
      "outputs": []
    },
    {
      "cell_type": "code",
      "source": [
        "%cd /content/my_rust_project/src"
      ],
      "metadata": {
        "colab": {
          "base_uri": "https://localhost:8080/"
        },
        "id": "_O6U8CJYenpW",
        "outputId": "1c95b10d-06f5-4a3a-9c58-ecdeec1ef1b3"
      },
      "execution_count": 34,
      "outputs": [
        {
          "output_type": "stream",
          "name": "stdout",
          "text": [
            "/content/my_rust_project/src\n"
          ]
        }
      ]
    },
    {
      "cell_type": "markdown",
      "source": [
        "2️⃣ إنشاء ملف Rust وتشغيله: استخدم الأمر التالي لإنشاء الملف main.rs داخل Google Colab:"
      ],
      "metadata": {
        "id": "rIaPHes1eqQ1"
      }
    },
    {
      "cell_type": "code",
      "source": [
        "%%writefile main.rs\n",
        "use reqwest::blocking::Client;\n",
        "use serde_json::json;\n",
        "\n",
        "fn main() {\n",
        "    let api_token = \"XXXXXXXXXXXXXXXX\"; // استبدل بالتوكن الخاص بك\n",
        "    let url = \"https://api-inference.huggingface.co/models/gpt2\";\n",
        "\n",
        "    let client = Client::new();\n",
        "    let payload = json!({ \"inputs\": \"Hello, world!\" });\n",
        "\n",
        "    let response = client\n",
        "        .post(url)\n",
        "        .header(\"Authorization\", format!(\"Bearer {}\", api_token))\n",
        "        .header(\"Content-Type\", \"application/json\")\n",
        "        .json(&payload)\n",
        "        .send();\n",
        "\n",
        "    match response {\n",
        "        Ok(res) => match res.text() {\n",
        "            Ok(text) => println!(\"Response: {}\", text),\n",
        "            Err(err) => eprintln!(\"Error reading response: {}\", err),\n",
        "        },\n",
        "        Err(err) => eprintln!(\"Request failed: {}\", err),\n",
        "    }\n",
        "}\n"
      ],
      "metadata": {
        "colab": {
          "base_uri": "https://localhost:8080/"
        },
        "id": "oaVHBp8oenb8",
        "outputId": "d90668f0-ddb9-4006-9e51-a8f02d3574f5"
      },
      "execution_count": 35,
      "outputs": [
        {
          "output_type": "stream",
          "name": "stdout",
          "text": [
            "Writing main.rs\n"
          ]
        }
      ]
    },
    {
      "cell_type": "code",
      "source": [
        "!cargo init --bin\n",
        "!echo '[dependencies]\\nreqwest = { version = \"0.11\", features = [\"blocking\", \"json\"] }\\nserde_json = \"1.0\"' >> Cargo.toml\n"
      ],
      "metadata": {
        "colab": {
          "base_uri": "https://localhost:8080/"
        },
        "id": "9R8LT2ieezW9",
        "outputId": "221d0dfa-ce40-47ea-863a-50bd8e3b55c9"
      },
      "execution_count": 36,
      "outputs": [
        {
          "output_type": "stream",
          "name": "stdout",
          "text": [
            "\u001b[1m\u001b[32m    Creating\u001b[0m binary (application) package\n",
            "\u001b[1m\u001b[91merror\u001b[0m: \u001b[1mexpected newline, `#`\u001b[0m\n",
            " \u001b[1m\u001b[94m-->\u001b[0m ../Cargo.toml:8:19\n",
            "\u001b[1m\u001b[94m  |\u001b[0m\n",
            "\u001b[1m\u001b[94m8 |\u001b[0m serde_json = \"1.0\"[dependencies]\\nreqwest = { version = \"0.11\", features = [\"blocking\", \"json\"] }\\nserde_json = \"1.0\"\n",
            "\u001b[1m\u001b[94m  |\u001b[0m\u001b[1m\u001b[91m                   ^\u001b[0m\n",
            "\u001b[1m\u001b[94m  |\u001b[0m\n",
            "\u001b[1m\u001b[33mwarning\u001b[0m\u001b[1m:\u001b[0m compiling this new package may not work due to invalid workspace configuration\n",
            "\n",
            "\u001b[1m\u001b[36mnote\u001b[0m\u001b[1m:\u001b[0m see more `Cargo.toml` keys and their definitions at https://doc.rust-lang.org/cargo/reference/manifest.html\n"
          ]
        }
      ]
    },
    {
      "cell_type": "code",
      "source": [
        "%cd /content/my_rust_project"
      ],
      "metadata": {
        "colab": {
          "base_uri": "https://localhost:8080/"
        },
        "id": "Vm4HTG-PfZTF",
        "outputId": "6f205c36-6e6c-4313-f849-d1d79ef5110c"
      },
      "execution_count": 2,
      "outputs": [
        {
          "output_type": "stream",
          "name": "stdout",
          "text": [
            "/content/my_rust_project\n"
          ]
        }
      ]
    },
    {
      "cell_type": "code",
      "source": [
        "!rustc main.rs && ./main\n"
      ],
      "metadata": {
        "colab": {
          "base_uri": "https://localhost:8080/"
        },
        "id": "s-Dw58_re6Kq",
        "outputId": "4641fbb1-ed67-4dad-d41a-6158224787b0"
      },
      "execution_count": 3,
      "outputs": [
        {
          "output_type": "stream",
          "name": "stdout",
          "text": [
            "/bin/bash: line 1: rustc: command not found\n"
          ]
        }
      ]
    },
    {
      "cell_type": "code",
      "source": [
        "!cargo install evcxr_jupyter\n",
        "!evcxr_jupyter --install\n"
      ],
      "metadata": {
        "colab": {
          "base_uri": "https://localhost:8080/"
        },
        "id": "f4VBReFQe6qr",
        "outputId": "9fd9cf0a-053f-4310-f088-35574e3c6362"
      },
      "execution_count": 4,
      "outputs": [
        {
          "output_type": "stream",
          "name": "stdout",
          "text": [
            "/bin/bash: line 1: cargo: command not found\n",
            "/bin/bash: line 1: evcxr_jupyter: command not found\n"
          ]
        }
      ]
    },
    {
      "cell_type": "code",
      "source": [
        "use reqwest::blocking::Client;\n",
        "use serde_json::json;\n",
        "println!(\"Hello, Rust!\");\n"
      ],
      "metadata": {
        "colab": {
          "base_uri": "https://localhost:8080/",
          "height": 106
        },
        "id": "szghxJGqfgDz",
        "outputId": "820fb131-54b9-4059-bc49-520272675b52"
      },
      "execution_count": 5,
      "outputs": [
        {
          "output_type": "error",
          "ename": "SyntaxError",
          "evalue": "invalid syntax (<ipython-input-5-c8d277f9a0e8>, line 1)",
          "traceback": [
            "\u001b[0;36m  File \u001b[0;32m\"<ipython-input-5-c8d277f9a0e8>\"\u001b[0;36m, line \u001b[0;32m1\u001b[0m\n\u001b[0;31m    use reqwest::blocking::Client;\u001b[0m\n\u001b[0m        ^\u001b[0m\n\u001b[0;31mSyntaxError\u001b[0m\u001b[0;31m:\u001b[0m invalid syntax\n"
          ]
        }
      ]
    },
    {
      "cell_type": "code",
      "source": [
        "\n",
        "!curl --proto '=https' --tlsv1.2 -sSf https://sh.rustup.rs | sh -s -- -y\n"
      ],
      "metadata": {
        "colab": {
          "base_uri": "https://localhost:8080/"
        },
        "id": "cwzTB03ofyld",
        "outputId": "7320227f-0d09-49c4-9007-5a5151aded9a"
      },
      "execution_count": 6,
      "outputs": [
        {
          "output_type": "stream",
          "name": "stdout",
          "text": [
            "\u001b[1minfo:\u001b[0m downloading installer\n",
            "\u001b[0m\u001b[1minfo: \u001b[0mprofile set to 'default'\n",
            "\u001b[0m\u001b[1minfo: \u001b[0mdefault host triple is x86_64-unknown-linux-gnu\n",
            "\u001b[0m\u001b[33m\u001b[0m\u001b[1m\u001b[33mwarning: \u001b[0mUpdating existing toolchain, profile choice will be ignored\n",
            "\u001b[0m\u001b[1minfo: \u001b[0msyncing channel updates for 'stable-x86_64-unknown-linux-gnu'\n",
            "\u001b[0m\u001b[1minfo: \u001b[0mdefault toolchain set to 'stable-x86_64-unknown-linux-gnu'\n",
            "\n",
            "  \u001b[0m\u001b[1mstable-x86_64-unknown-linux-gnu unchanged\u001b[0m - rustc 1.84.1 (e71f9a9a9 2025-01-27)\n",
            "\n",
            "\u001b[0m\u001b[1m\n",
            "Rust is installed now. Great!\n",
            "\u001b[0m\n",
            "To get started you may need to restart your current shell.\n",
            "This would reload your \u001b[0m\u001b[1mPATH\u001b[0m environment variable to include\n",
            "Cargo's bin directory ($HOME/.cargo/bin).\n",
            "\n",
            "To configure your current shell, you need to source\n",
            "the corresponding \u001b[0m\u001b[1menv\u001b[0m file under $HOME/.cargo.\n",
            "\n",
            "This is usually done by running one of the following (note the leading DOT):\n",
            ". \"$HOME/.cargo/env\"            # For sh/bash/zsh/ash/dash/pdksh\n",
            "source \"$HOME/.cargo/env.fish\"  # For fish\n"
          ]
        }
      ]
    },
    {
      "cell_type": "code",
      "source": [
        "!source $HOME/.cargo/env\n"
      ],
      "metadata": {
        "id": "vFIHgznTf2ul"
      },
      "execution_count": 9,
      "outputs": []
    },
    {
      "cell_type": "code",
      "source": [
        "!source $HOME/.cargo/bin\n"
      ],
      "metadata": {
        "colab": {
          "base_uri": "https://localhost:8080/"
        },
        "id": "txXb-nq_gBqM",
        "outputId": "ce2d84d1-b098-42a0-f77c-1fd39b30431c"
      },
      "execution_count": 8,
      "outputs": [
        {
          "output_type": "stream",
          "name": "stdout",
          "text": [
            "/bin/bash: line 1: source: /root/.cargo/bin: is a directory\n"
          ]
        }
      ]
    },
    {
      "cell_type": "code",
      "source": [
        "!rustc --version\n",
        "!cargo --version\n"
      ],
      "metadata": {
        "colab": {
          "base_uri": "https://localhost:8080/"
        },
        "id": "J4ldBbh4f48N",
        "outputId": "ae0fecc6-7bc2-49f7-f994-d5854f5897ea"
      },
      "execution_count": 10,
      "outputs": [
        {
          "output_type": "stream",
          "name": "stdout",
          "text": [
            "/bin/bash: line 1: rustc: command not found\n",
            "/bin/bash: line 1: cargo: command not found\n"
          ]
        }
      ]
    },
    {
      "cell_type": "code",
      "source": [
        "!export PATH=\"$HOME/.cargo/bin:$PATH\"\n"
      ],
      "metadata": {
        "id": "CYVxQTIqf5hL"
      },
      "execution_count": 11,
      "outputs": []
    },
    {
      "cell_type": "code",
      "source": [
        "!export PATH=\"$HOME/.cargo/env:$PATH\"\n"
      ],
      "metadata": {
        "id": "IJBGnGAvgtcF"
      },
      "execution_count": 2,
      "outputs": []
    },
    {
      "cell_type": "code",
      "source": [
        "!rustc --version\n",
        "!cargo --version"
      ],
      "metadata": {
        "colab": {
          "base_uri": "https://localhost:8080/"
        },
        "id": "b4zxUqjogkfb",
        "outputId": "1b49de3a-d529-4bf4-cba7-e8270a0d79d2"
      },
      "execution_count": 3,
      "outputs": [
        {
          "output_type": "stream",
          "name": "stdout",
          "text": [
            "/bin/bash: line 1: rustc: command not found\n",
            "/bin/bash: line 1: cargo: command not found\n"
          ]
        }
      ]
    },
    {
      "cell_type": "code",
      "source": [
        "!export PATH=\"$HOME/.cargo/bin:$PATH\"\n"
      ],
      "metadata": {
        "id": "60ABG-NtgmE7"
      },
      "execution_count": 2,
      "outputs": []
    },
    {
      "cell_type": "code",
      "source": [
        "!export PATH=\"$HOME/.cargo/bin:$PATH\"\n",
        "!source $HOME/.cargo/env\n",
        "!rustc --version\n",
        "!cargo --version\n"
      ],
      "metadata": {
        "colab": {
          "base_uri": "https://localhost:8080/"
        },
        "id": "zYMsCHy2g3OD",
        "outputId": "385c12f8-d86d-48f0-d809-0a16d5ccbe62"
      },
      "execution_count": 4,
      "outputs": [
        {
          "output_type": "stream",
          "name": "stdout",
          "text": [
            "/bin/bash: line 1: rustc: command not found\n",
            "/bin/bash: line 1: cargo: command not found\n"
          ]
        }
      ]
    },
    {
      "cell_type": "markdown",
      "source": [
        "ayhgشغال"
      ],
      "metadata": {
        "id": "p6nh26vzhBrD"
      }
    },
    {
      "cell_type": "code",
      "source": [
        "!bash -c \"source $HOME/.cargo/env && rustc --version && cargo --version\"\n"
      ],
      "metadata": {
        "colab": {
          "base_uri": "https://localhost:8080/"
        },
        "id": "b2thL-Dwg8gz",
        "outputId": "3300ff2c-702a-45e8-b2d5-f8437ff8797e"
      },
      "execution_count": 5,
      "outputs": [
        {
          "output_type": "stream",
          "name": "stdout",
          "text": [
            "rustc 1.84.1 (e71f9a9a9 2025-01-27)\n",
            "cargo 1.84.1 (66221abde 2024-11-19)\n"
          ]
        }
      ]
    },
    {
      "cell_type": "code",
      "source": [
        "%%writefile main.rs\n",
        "use reqwest::blocking::Client;\n",
        "use serde_json::json;\n",
        "\n",
        "fn main() {\n",
        "    let api_token = \"your_huggingface_api_token\"; // استبدل بالتوكن الخاص بك\n",
        "    let url = \"https://api-inference.huggingface.co/models/gpt2\";\n",
        "\n",
        "    let client = Client::new();\n",
        "    let payload = json!({ \"inputs\": \"Hello, world!\" });\n",
        "\n",
        "    let response = client\n",
        "        .post(url)\n",
        "        .header(\"Authorization\", format!(\"Bearer {}\", api_token))\n",
        "        .header(\"Content-Type\", \"application/json\")\n",
        "        .json(&payload)\n",
        "        .send();\n",
        "\n",
        "    match response {\n",
        "        Ok(res) => match res.text() {\n",
        "            Ok(text) => println!(\"Response: {}\", text),\n",
        "            Err(err) => eprintln!(\"Error reading response: {}\", err),\n",
        "        },\n",
        "        Err(err) => eprintln!(\"Request failed: {}\", err),\n",
        "    }\n",
        "}\n"
      ],
      "metadata": {
        "id": "Uw8w7Xo7hMzN"
      },
      "execution_count": null,
      "outputs": []
    },
    {
      "cell_type": "code",
      "source": [
        "!cargo new my_rust_project\n"
      ],
      "metadata": {
        "colab": {
          "base_uri": "https://localhost:8080/"
        },
        "id": "1pNaXw4XhUc9",
        "outputId": "ea2a90ef-bc50-4a87-b7a1-1f9a6b1f4d9b"
      },
      "execution_count": 6,
      "outputs": [
        {
          "output_type": "stream",
          "name": "stdout",
          "text": [
            "/bin/bash: line 1: cargo: command not found\n"
          ]
        }
      ]
    },
    {
      "cell_type": "code",
      "source": [
        "!rustc --version\n",
        "!cargo --version\n"
      ],
      "metadata": {
        "colab": {
          "base_uri": "https://localhost:8080/"
        },
        "id": "whIqfImBhaZF",
        "outputId": "b8b2b4c1-5f7c-4ab1-dd8e-fb47f3a8a76a"
      },
      "execution_count": 7,
      "outputs": [
        {
          "output_type": "stream",
          "name": "stdout",
          "text": [
            "/bin/bash: line 1: rustc: command not found\n",
            "/bin/bash: line 1: cargo: command not found\n"
          ]
        }
      ]
    },
    {
      "cell_type": "code",
      "source": [
        "!bash -c \"source $HOME/.cargo/env && rustc --version && cargo --version\""
      ],
      "metadata": {
        "colab": {
          "base_uri": "https://localhost:8080/"
        },
        "id": "TQHAkNBAhavT",
        "outputId": "8b9ad022-ca7b-4a9e-aedf-2859cba8a1e5"
      },
      "execution_count": 1,
      "outputs": [
        {
          "output_type": "stream",
          "name": "stdout",
          "text": [
            "rustc 1.84.1 (e71f9a9a9 2025-01-27)\n",
            "cargo 1.84.1 (66221abde 2024-11-19)\n"
          ]
        }
      ]
    },
    {
      "cell_type": "code",
      "source": [],
      "metadata": {
        "id": "Vz8FMpprhjkk"
      },
      "execution_count": null,
      "outputs": []
    },
    {
      "cell_type": "code",
      "source": [
        "%cd /content\n",
        "!bash -c \"source $HOME/.cargo/env && rustc --version && cargo --version\"\n",
        "!cargo new my_rust_project"
      ],
      "metadata": {
        "colab": {
          "base_uri": "https://localhost:8080/"
        },
        "id": "qnriLUdBhfVr",
        "outputId": "058a44cf-531e-4cae-cc35-4c54eb7ddd7d"
      },
      "execution_count": 1,
      "outputs": [
        {
          "output_type": "stream",
          "name": "stdout",
          "text": [
            "/content\n",
            "rustc 1.84.1 (e71f9a9a9 2025-01-27)\n",
            "cargo 1.84.1 (66221abde 2024-11-19)\n",
            "/bin/bash: line 1: cargo: command not found\n"
          ]
        }
      ]
    },
    {
      "cell_type": "code",
      "source": [
        "!export PATH=\"$HOME/.cargo/bin:$PATH\"\n"
      ],
      "metadata": {
        "id": "uQVpYjughm77"
      },
      "execution_count": 3,
      "outputs": []
    },
    {
      "cell_type": "code",
      "source": [
        "!cargo --version\n"
      ],
      "metadata": {
        "colab": {
          "base_uri": "https://localhost:8080/"
        },
        "id": "riSUZ77vh_RD",
        "outputId": "caa0e9de-263f-4853-b89a-11ffc19514a9"
      },
      "execution_count": 4,
      "outputs": [
        {
          "output_type": "stream",
          "name": "stdout",
          "text": [
            "/bin/bash: line 1: cargo: command not found\n"
          ]
        }
      ]
    },
    {
      "cell_type": "markdown",
      "source": [
        "@@@@@@@@@@@@@@@@@@@@@@@@@@@@@@@@@@@@@@@@"
      ],
      "metadata": {
        "id": "Q0uJ4ZQ2iSdx"
      }
    },
    {
      "cell_type": "markdown",
      "source": [
        "ayhgشغال"
      ],
      "metadata": {
        "id": "qHHoscVMiI22"
      }
    },
    {
      "cell_type": "code",
      "source": [
        "!bash -c \"source $HOME/.cargo/env && cargo new my_rust_project\"\n"
      ],
      "metadata": {
        "colab": {
          "base_uri": "https://localhost:8080/"
        },
        "id": "zeRu0528iDdc",
        "outputId": "8ca470d0-2bd3-410f-faa1-be6bac2b630e"
      },
      "execution_count": 5,
      "outputs": [
        {
          "output_type": "stream",
          "name": "stdout",
          "text": [
            "\u001b[1m\u001b[32m    Creating\u001b[0m binary (application) `my_rust_project` package\n",
            "\u001b[1m\u001b[36mnote\u001b[0m\u001b[1m:\u001b[0m see more `Cargo.toml` keys and their definitions at https://doc.rust-lang.org/cargo/reference/manifest.html\n"
          ]
        }
      ]
    },
    {
      "cell_type": "code",
      "source": [
        "%cd my_rust_project\n",
        "!bash -c \"source $HOME/.cargo/env && cargo run\"\n"
      ],
      "metadata": {
        "colab": {
          "base_uri": "https://localhost:8080/"
        },
        "id": "lSDj8TphiGn7",
        "outputId": "075bf462-da17-4553-9180-212fa0d3fd46"
      },
      "execution_count": 6,
      "outputs": [
        {
          "output_type": "stream",
          "name": "stdout",
          "text": [
            "/content/my_rust_project\n",
            "\u001b[1m\u001b[32m   Compiling\u001b[0m my_rust_project v0.1.0 (/content/my_rust_project)\n",
            "\u001b[1m\u001b[32m    Finished\u001b[0m `dev` profile [unoptimized + debuginfo] target(s) in 0.38s\n",
            "\u001b[1m\u001b[32m     Running\u001b[0m `target/debug/my_rust_project`\n",
            "Hello, world!\n"
          ]
        }
      ]
    },
    {
      "cell_type": "markdown",
      "source": [
        "@@@@@@@@@@@@@@@@@@@@@@@@@@@@@@@@@@@"
      ],
      "metadata": {
        "id": "642mxX2DiTmI"
      }
    },
    {
      "cell_type": "markdown",
      "source": [
        "افتح Cargo.toml وأضف:"
      ],
      "metadata": {
        "id": "gY4HD5acim51"
      }
    },
    {
      "cell_type": "code",
      "source": [
        "[dependencies]\n",
        "reqwest = { version = \"0.11\", features = [\"blocking\", \"json\"] }\n",
        "serde_json = \"1.0\"\n"
      ],
      "metadata": {
        "id": "AGmwzHgJijmb"
      },
      "execution_count": null,
      "outputs": []
    },
    {
      "cell_type": "markdown",
      "source": [
        "ثم قم بتحديث المشروع:"
      ],
      "metadata": {
        "id": "JK7VArPjiiSm"
      }
    },
    {
      "cell_type": "code",
      "source": [
        "!bash -c \"source $HOME/.cargo/env && cargo build\"\n"
      ],
      "metadata": {
        "colab": {
          "base_uri": "https://localhost:8080/"
        },
        "id": "hfpYpiSRiQmj",
        "outputId": "a8e462ac-aade-405f-b1e6-929f009d2cfb"
      },
      "execution_count": 7,
      "outputs": [
        {
          "output_type": "stream",
          "name": "stdout",
          "text": [
            "\u001b[1m\u001b[32m    Updating\u001b[0m crates.io index\n",
            "\u001b[1m\u001b[32m     Locking\u001b[0m 152 packages to latest compatible versions\n",
            "\u001b[1m\u001b[36m      Adding\u001b[0m addr2line v0.24.2\n",
            "\u001b[1m\u001b[36m      Adding\u001b[0m adler2 v2.0.0\n",
            "\u001b[1m\u001b[36m      Adding\u001b[0m autocfg v1.4.0\n",
            "\u001b[1m\u001b[36m      Adding\u001b[0m backtrace v0.3.74\n",
            "\u001b[1m\u001b[36m      Adding\u001b[0m base64 v0.21.7\n",
            "\u001b[1m\u001b[36m      Adding\u001b[0m bitflags v1.3.2\n",
            "\u001b[1m\u001b[36m      Adding\u001b[0m bitflags v2.8.0\n",
            "\u001b[1m\u001b[36m      Adding\u001b[0m bumpalo v3.17.0\n",
            "\u001b[1m\u001b[36m      Adding\u001b[0m bytes v1.10.0\n",
            "\u001b[1m\u001b[36m      Adding\u001b[0m cc v1.2.13\n",
            "\u001b[1m\u001b[36m      Adding\u001b[0m cfg-if v1.0.0\n",
            "\u001b[1m\u001b[36m      Adding\u001b[0m core-foundation v0.9.4\n",
            "\u001b[1m\u001b[36m      Adding\u001b[0m core-foundation-sys v0.8.7\n",
            "\u001b[1m\u001b[36m      Adding\u001b[0m displaydoc v0.2.5\n",
            "\u001b[1m\u001b[36m      Adding\u001b[0m encoding_rs v0.8.35\n",
            "\u001b[1m\u001b[36m      Adding\u001b[0m equivalent v1.0.1\n",
            "\u001b[1m\u001b[36m      Adding\u001b[0m errno v0.3.10\n",
            "\u001b[1m\u001b[36m      Adding\u001b[0m fastrand v2.3.0\n",
            "\u001b[1m\u001b[36m      Adding\u001b[0m fnv v1.0.7\n",
            "\u001b[1m\u001b[36m      Adding\u001b[0m foreign-types v0.3.2\n",
            "\u001b[1m\u001b[36m      Adding\u001b[0m foreign-types-shared v0.1.1\n",
            "\u001b[1m\u001b[36m      Adding\u001b[0m form_urlencoded v1.2.1\n",
            "\u001b[1m\u001b[36m      Adding\u001b[0m futures-channel v0.3.31\n",
            "\u001b[1m\u001b[36m      Adding\u001b[0m futures-core v0.3.31\n",
            "\u001b[1m\u001b[36m      Adding\u001b[0m futures-io v0.3.31\n",
            "\u001b[1m\u001b[36m      Adding\u001b[0m futures-sink v0.3.31\n",
            "\u001b[1m\u001b[36m      Adding\u001b[0m futures-task v0.3.31\n",
            "\u001b[1m\u001b[36m      Adding\u001b[0m futures-util v0.3.31\n",
            "\u001b[1m\u001b[36m      Adding\u001b[0m getrandom v0.3.1\n",
            "\u001b[1m\u001b[36m      Adding\u001b[0m gimli v0.31.1\n",
            "\u001b[1m\u001b[36m      Adding\u001b[0m h2 v0.3.26\n",
            "\u001b[1m\u001b[36m      Adding\u001b[0m hashbrown v0.15.2\n",
            "\u001b[1m\u001b[36m      Adding\u001b[0m http v0.2.12\n",
            "\u001b[1m\u001b[36m      Adding\u001b[0m http-body v0.4.6\n",
            "\u001b[1m\u001b[36m      Adding\u001b[0m httparse v1.10.0\n",
            "\u001b[1m\u001b[36m      Adding\u001b[0m httpdate v1.0.3\n",
            "\u001b[1m\u001b[36m      Adding\u001b[0m hyper v0.14.32\n",
            "\u001b[1m\u001b[36m      Adding\u001b[0m hyper-tls v0.5.0\n",
            "\u001b[1m\u001b[36m      Adding\u001b[0m icu_collections v1.5.0\n",
            "\u001b[1m\u001b[36m      Adding\u001b[0m icu_locid v1.5.0\n",
            "\u001b[1m\u001b[36m      Adding\u001b[0m icu_locid_transform v1.5.0\n",
            "\u001b[1m\u001b[36m      Adding\u001b[0m icu_locid_transform_data v1.5.0\n",
            "\u001b[1m\u001b[36m      Adding\u001b[0m icu_normalizer v1.5.0\n",
            "\u001b[1m\u001b[36m      Adding\u001b[0m icu_normalizer_data v1.5.0\n",
            "\u001b[1m\u001b[36m      Adding\u001b[0m icu_properties v1.5.1\n",
            "\u001b[1m\u001b[36m      Adding\u001b[0m icu_properties_data v1.5.0\n",
            "\u001b[1m\u001b[36m      Adding\u001b[0m icu_provider v1.5.0\n",
            "\u001b[1m\u001b[36m      Adding\u001b[0m icu_provider_macros v1.5.0\n",
            "\u001b[1m\u001b[36m      Adding\u001b[0m idna v1.0.3\n",
            "\u001b[1m\u001b[36m      Adding\u001b[0m idna_adapter v1.2.0\n",
            "\u001b[1m\u001b[36m      Adding\u001b[0m indexmap v2.7.1\n",
            "\u001b[1m\u001b[36m      Adding\u001b[0m ipnet v2.11.0\n",
            "\u001b[1m\u001b[36m      Adding\u001b[0m itoa v1.0.14\n",
            "\u001b[1m\u001b[36m      Adding\u001b[0m js-sys v0.3.77\n",
            "\u001b[1m\u001b[36m      Adding\u001b[0m libc v0.2.169\n",
            "\u001b[1m\u001b[36m      Adding\u001b[0m linux-raw-sys v0.4.15\n",
            "\u001b[1m\u001b[36m      Adding\u001b[0m litemap v0.7.4\n",
            "\u001b[1m\u001b[36m      Adding\u001b[0m log v0.4.25\n",
            "\u001b[1m\u001b[36m      Adding\u001b[0m memchr v2.7.4\n",
            "\u001b[1m\u001b[36m      Adding\u001b[0m mime v0.3.17\n",
            "\u001b[1m\u001b[36m      Adding\u001b[0m miniz_oxide v0.8.4\n",
            "\u001b[1m\u001b[36m      Adding\u001b[0m mio v1.0.3\n",
            "\u001b[1m\u001b[36m      Adding\u001b[0m native-tls v0.2.13\n",
            "\u001b[1m\u001b[36m      Adding\u001b[0m object v0.36.7\n",
            "\u001b[1m\u001b[36m      Adding\u001b[0m once_cell v1.20.3\n",
            "\u001b[1m\u001b[36m      Adding\u001b[0m openssl v0.10.70\n",
            "\u001b[1m\u001b[36m      Adding\u001b[0m openssl-macros v0.1.1\n",
            "\u001b[1m\u001b[36m      Adding\u001b[0m openssl-probe v0.1.6\n",
            "\u001b[1m\u001b[36m      Adding\u001b[0m openssl-sys v0.9.105\n",
            "\u001b[1m\u001b[36m      Adding\u001b[0m percent-encoding v2.3.1\n",
            "\u001b[1m\u001b[36m      Adding\u001b[0m pin-project-lite v0.2.16\n",
            "\u001b[1m\u001b[36m      Adding\u001b[0m pin-utils v0.1.0\n",
            "\u001b[1m\u001b[36m      Adding\u001b[0m pkg-config v0.3.31\n",
            "\u001b[1m\u001b[36m      Adding\u001b[0m proc-macro2 v1.0.93\n",
            "\u001b[1m\u001b[36m      Adding\u001b[0m quote v1.0.38\n",
            "\u001b[1m\u001b[36m      Adding\u001b[0m reqwest v0.11.27 \u001b[1m\u001b[33m(available: v0.12.12)\u001b[0m\n",
            "\u001b[1m\u001b[36m      Adding\u001b[0m rustc-demangle v0.1.24\n",
            "\u001b[1m\u001b[36m      Adding\u001b[0m rustix v0.38.44\n",
            "\u001b[1m\u001b[36m      Adding\u001b[0m rustls-pemfile v1.0.4\n",
            "\u001b[1m\u001b[36m      Adding\u001b[0m rustversion v1.0.19\n",
            "\u001b[1m\u001b[36m      Adding\u001b[0m ryu v1.0.19\n",
            "\u001b[1m\u001b[36m      Adding\u001b[0m schannel v0.1.27\n",
            "\u001b[1m\u001b[36m      Adding\u001b[0m security-framework v2.11.1\n",
            "\u001b[1m\u001b[36m      Adding\u001b[0m security-framework-sys v2.14.0\n",
            "\u001b[1m\u001b[36m      Adding\u001b[0m serde v1.0.217\n",
            "\u001b[1m\u001b[36m      Adding\u001b[0m serde_derive v1.0.217\n",
            "\u001b[1m\u001b[36m      Adding\u001b[0m serde_json v1.0.138\n",
            "\u001b[1m\u001b[36m      Adding\u001b[0m serde_urlencoded v0.7.1\n",
            "\u001b[1m\u001b[36m      Adding\u001b[0m shlex v1.3.0\n",
            "\u001b[1m\u001b[36m      Adding\u001b[0m slab v0.4.9\n",
            "\u001b[1m\u001b[36m      Adding\u001b[0m smallvec v1.13.2\n",
            "\u001b[1m\u001b[36m      Adding\u001b[0m socket2 v0.5.8\n",
            "\u001b[1m\u001b[36m      Adding\u001b[0m stable_deref_trait v1.2.0\n",
            "\u001b[1m\u001b[36m      Adding\u001b[0m syn v2.0.98\n",
            "\u001b[1m\u001b[36m      Adding\u001b[0m sync_wrapper v0.1.2\n",
            "\u001b[1m\u001b[36m      Adding\u001b[0m synstructure v0.13.1\n",
            "\u001b[1m\u001b[36m      Adding\u001b[0m system-configuration v0.5.1\n",
            "\u001b[1m\u001b[36m      Adding\u001b[0m system-configuration-sys v0.5.0\n",
            "\u001b[1m\u001b[36m      Adding\u001b[0m tempfile v3.16.0\n",
            "\u001b[1m\u001b[36m      Adding\u001b[0m tinystr v0.7.6\n",
            "\u001b[1m\u001b[36m      Adding\u001b[0m tokio v1.43.0\n",
            "\u001b[1m\u001b[36m      Adding\u001b[0m tokio-native-tls v0.3.1\n",
            "\u001b[1m\u001b[36m      Adding\u001b[0m tokio-util v0.7.13\n",
            "\u001b[1m\u001b[36m      Adding\u001b[0m tower-service v0.3.3\n",
            "\u001b[1m\u001b[36m      Adding\u001b[0m tracing v0.1.41\n",
            "\u001b[1m\u001b[36m      Adding\u001b[0m tracing-core v0.1.33\n",
            "\u001b[1m\u001b[36m      Adding\u001b[0m try-lock v0.2.5\n",
            "\u001b[1m\u001b[36m      Adding\u001b[0m unicode-ident v1.0.16\n",
            "\u001b[1m\u001b[36m      Adding\u001b[0m url v2.5.4\n",
            "\u001b[1m\u001b[36m      Adding\u001b[0m utf16_iter v1.0.5\n",
            "\u001b[1m\u001b[36m      Adding\u001b[0m utf8_iter v1.0.4\n",
            "\u001b[1m\u001b[36m      Adding\u001b[0m vcpkg v0.2.15\n",
            "\u001b[1m\u001b[36m      Adding\u001b[0m want v0.3.1\n",
            "\u001b[1m\u001b[36m      Adding\u001b[0m wasi v0.11.0+wasi-snapshot-preview1\n",
            "\u001b[1m\u001b[36m      Adding\u001b[0m wasi v0.13.3+wasi-0.2.2\n",
            "\u001b[1m\u001b[36m      Adding\u001b[0m wasm-bindgen v0.2.100\n",
            "\u001b[1m\u001b[36m      Adding\u001b[0m wasm-bindgen-backend v0.2.100\n",
            "\u001b[1m\u001b[36m      Adding\u001b[0m wasm-bindgen-futures v0.4.50\n",
            "\u001b[1m\u001b[36m      Adding\u001b[0m wasm-bindgen-macro v0.2.100\n",
            "\u001b[1m\u001b[36m      Adding\u001b[0m wasm-bindgen-macro-support v0.2.100\n",
            "\u001b[1m\u001b[36m      Adding\u001b[0m wasm-bindgen-shared v0.2.100\n",
            "\u001b[1m\u001b[36m      Adding\u001b[0m web-sys v0.3.77\n",
            "\u001b[1m\u001b[36m      Adding\u001b[0m windows-sys v0.48.0\n",
            "\u001b[1m\u001b[36m      Adding\u001b[0m windows-sys v0.52.0\n",
            "\u001b[1m\u001b[36m      Adding\u001b[0m windows-sys v0.59.0\n",
            "\u001b[1m\u001b[36m      Adding\u001b[0m windows-targets v0.48.5\n",
            "\u001b[1m\u001b[36m      Adding\u001b[0m windows-targets v0.52.6\n",
            "\u001b[1m\u001b[36m      Adding\u001b[0m windows_aarch64_gnullvm v0.48.5\n",
            "\u001b[1m\u001b[36m      Adding\u001b[0m windows_aarch64_gnullvm v0.52.6\n",
            "\u001b[1m\u001b[36m      Adding\u001b[0m windows_aarch64_msvc v0.48.5\n",
            "\u001b[1m\u001b[36m      Adding\u001b[0m windows_aarch64_msvc v0.52.6\n",
            "\u001b[1m\u001b[36m      Adding\u001b[0m windows_i686_gnu v0.48.5\n",
            "\u001b[1m\u001b[36m      Adding\u001b[0m windows_i686_gnu v0.52.6\n",
            "\u001b[1m\u001b[36m      Adding\u001b[0m windows_i686_gnullvm v0.52.6\n",
            "\u001b[1m\u001b[36m      Adding\u001b[0m windows_i686_msvc v0.48.5\n",
            "\u001b[1m\u001b[36m      Adding\u001b[0m windows_i686_msvc v0.52.6\n",
            "\u001b[1m\u001b[36m      Adding\u001b[0m windows_x86_64_gnu v0.48.5\n",
            "\u001b[1m\u001b[36m      Adding\u001b[0m windows_x86_64_gnu v0.52.6\n",
            "\u001b[1m\u001b[36m      Adding\u001b[0m windows_x86_64_gnullvm v0.48.5\n",
            "\u001b[1m\u001b[36m      Adding\u001b[0m windows_x86_64_gnullvm v0.52.6\n",
            "\u001b[1m\u001b[36m      Adding\u001b[0m windows_x86_64_msvc v0.48.5\n",
            "\u001b[1m\u001b[36m      Adding\u001b[0m windows_x86_64_msvc v0.52.6\n",
            "\u001b[1m\u001b[36m      Adding\u001b[0m winreg v0.50.0\n",
            "\u001b[1m\u001b[36m      Adding\u001b[0m wit-bindgen-rt v0.33.0\n",
            "\u001b[1m\u001b[36m      Adding\u001b[0m write16 v1.0.0\n",
            "\u001b[1m\u001b[36m      Adding\u001b[0m writeable v0.5.5\n",
            "\u001b[1m\u001b[36m      Adding\u001b[0m yoke v0.7.5\n",
            "\u001b[1m\u001b[36m      Adding\u001b[0m yoke-derive v0.7.5\n",
            "\u001b[1m\u001b[36m      Adding\u001b[0m zerofrom v0.1.5\n",
            "\u001b[1m\u001b[36m      Adding\u001b[0m zerofrom-derive v0.1.5\n",
            "\u001b[1m\u001b[36m      Adding\u001b[0m zerovec v0.10.4\n",
            "\u001b[1m\u001b[36m      Adding\u001b[0m zerovec-derive v0.10.3\n",
            "\u001b[1m\u001b[32m   Compiling\u001b[0m proc-macro2 v1.0.93\n",
            "\u001b[1m\u001b[32m   Compiling\u001b[0m unicode-ident v1.0.16\n",
            "\u001b[1m\u001b[32m   Compiling\u001b[0m libc v0.2.169\n",
            "\u001b[1m\u001b[32m   Compiling\u001b[0m stable_deref_trait v1.2.0\n",
            "\u001b[1m\u001b[32m   Compiling\u001b[0m quote v1.0.38\n",
            "\u001b[1m\u001b[32m   Compiling\u001b[0m shlex v1.3.0\n",
            "\u001b[1m\u001b[32m   Compiling\u001b[0m syn v2.0.98\n",
            "\u001b[1m\u001b[32m   Compiling\u001b[0m cc v1.2.13\n",
            "\u001b[1m\u001b[32m   Compiling\u001b[0m pin-project-lite v0.2.16\n",
            "\u001b[1m\u001b[32m   Compiling\u001b[0m vcpkg v0.2.15\n",
            "\u001b[1m\u001b[32m   Compiling\u001b[0m pkg-config v0.3.31\n",
            "\u001b[1m\u001b[32m   Compiling\u001b[0m openssl-sys v0.9.105\n",
            "\u001b[1m\u001b[32m   Compiling\u001b[0m bytes v1.10.0\n",
            "\u001b[1m\u001b[32m   Compiling\u001b[0m synstructure v0.13.1\n",
            "\u001b[1m\u001b[32m   Compiling\u001b[0m once_cell v1.20.3\n",
            "\u001b[1m\u001b[32m   Compiling\u001b[0m litemap v0.7.4\n",
            "\u001b[1m\u001b[32m   Compiling\u001b[0m writeable v0.5.5\n",
            "\u001b[1m\u001b[32m   Compiling\u001b[0m itoa v1.0.14\n",
            "\u001b[1m\u001b[32m   Compiling\u001b[0m autocfg v1.4.0\n",
            "\u001b[1m\u001b[32m   Compiling\u001b[0m slab v0.4.9\n",
            "\u001b[1m\u001b[32m   Compiling\u001b[0m mio v1.0.3\n",
            "\u001b[1m\u001b[32m   Compiling\u001b[0m zerofrom-derive v0.1.5\n",
            "\u001b[1m\u001b[32m   Compiling\u001b[0m yoke-derive v0.7.5\n",
            "\u001b[1m\u001b[32m   Compiling\u001b[0m zerofrom v0.1.5\n",
            "\u001b[1m\u001b[32m   Compiling\u001b[0m zerovec-derive v0.10.3\n",
            "\u001b[1m\u001b[32m   Compiling\u001b[0m yoke v0.7.5\n",
            "\u001b[1m\u001b[32m   Compiling\u001b[0m displaydoc v0.2.5\n",
            "\u001b[1m\u001b[32m   Compiling\u001b[0m icu_provider_macros v1.5.0\n",
            "\u001b[1m\u001b[32m   Compiling\u001b[0m zerovec v0.10.4\n",
            "\u001b[1m\u001b[32m   Compiling\u001b[0m socket2 v0.5.8\n",
            "\u001b[1m\u001b[32m   Compiling\u001b[0m tinystr v0.7.6\n",
            "\u001b[1m\u001b[32m   Compiling\u001b[0m futures-core v0.3.31\n",
            "\u001b[1m\u001b[32m   Compiling\u001b[0m icu_locid v1.5.0\n",
            "\u001b[1m\u001b[32m   Compiling\u001b[0m icu_locid_transform_data v1.5.0\n",
            "\u001b[1m\u001b[32m   Compiling\u001b[0m icu_collections v1.5.0\n",
            "\u001b[1m\u001b[32m   Compiling\u001b[0m icu_provider v1.5.0\n",
            "\u001b[1m\u001b[32m   Compiling\u001b[0m icu_locid_transform v1.5.0\n",
            "\u001b[1m\u001b[32m   Compiling\u001b[0m tokio v1.43.0\n",
            "\u001b[1m\u001b[32m   Compiling\u001b[0m cfg-if v1.0.0\n",
            "\u001b[1m\u001b[32m   Compiling\u001b[0m memchr v2.7.4\n",
            "\u001b[1m\u001b[32m   Compiling\u001b[0m icu_properties_data v1.5.0\n",
            "\u001b[1m\u001b[32m   Compiling\u001b[0m openssl v0.10.70\n",
            "\u001b[1m\u001b[32m   Compiling\u001b[0m fnv v1.0.7\n",
            "\u001b[1m\u001b[32m   Compiling\u001b[0m foreign-types-shared v0.1.1\n",
            "\u001b[1m\u001b[32m   Compiling\u001b[0m foreign-types v0.3.2\n",
            "\u001b[1m\u001b[32m   Compiling\u001b[0m http v0.2.12\n",
            "\u001b[1m\u001b[32m   Compiling\u001b[0m icu_properties v1.5.1\n",
            "\u001b[1m\u001b[32m   Compiling\u001b[0m openssl-macros v0.1.1\n",
            "\u001b[1m\u001b[32m   Compiling\u001b[0m tracing-core v0.1.33\n",
            "\u001b[1m\u001b[32m   Compiling\u001b[0m utf16_iter v1.0.5\n",
            "\u001b[1m\u001b[32m   Compiling\u001b[0m futures-task v0.3.31\n",
            "\u001b[1m\u001b[32m   Compiling\u001b[0m utf8_iter v1.0.4\n",
            "\u001b[1m\u001b[32m   Compiling\u001b[0m icu_normalizer_data v1.5.0\n",
            "\u001b[1m\u001b[32m   Compiling\u001b[0m write16 v1.0.0\n",
            "\u001b[1m\u001b[32m   Compiling\u001b[0m bitflags v2.8.0\n",
            "\u001b[1m\u001b[32m   Compiling\u001b[0m futures-io v0.3.31\n",
            "\u001b[1m\u001b[32m   Compiling\u001b[0m pin-utils v0.1.0\n",
            "\u001b[1m\u001b[32m   Compiling\u001b[0m futures-sink v0.3.31\n",
            "\u001b[1m\u001b[32m   Compiling\u001b[0m hashbrown v0.15.2\n",
            "\u001b[1m\u001b[32m   Compiling\u001b[0m smallvec v1.13.2\n",
            "\u001b[1m\u001b[32m   Compiling\u001b[0m httparse v1.10.0\n",
            "\u001b[1m\u001b[32m   Compiling\u001b[0m native-tls v0.2.13\n",
            "\u001b[1m\u001b[32m   Compiling\u001b[0m serde v1.0.217\n",
            "\u001b[1m\u001b[32m   Compiling\u001b[0m equivalent v1.0.1\n",
            "\u001b[1m\u001b[32m   Compiling\u001b[0m indexmap v2.7.1\n",
            "\u001b[1m\u001b[32m   Compiling\u001b[0m icu_normalizer v1.5.0\n",
            "\u001b[1m\u001b[32m   Compiling\u001b[0m tokio-util v0.7.13\n",
            "\u001b[1m\u001b[32m   Compiling\u001b[0m futures-util v0.3.31\n",
            "\u001b[1m\u001b[32m   Compiling\u001b[0m tracing v0.1.41\n",
            "\u001b[1m\u001b[32m   Compiling\u001b[0m openssl-probe v0.1.6\n",
            "\u001b[1m\u001b[32m   Compiling\u001b[0m percent-encoding v2.3.1\n",
            "\u001b[1m\u001b[32m   Compiling\u001b[0m try-lock v0.2.5\n",
            "\u001b[1m\u001b[32m   Compiling\u001b[0m log v0.4.25\n",
            "\u001b[1m\u001b[32m   Compiling\u001b[0m want v0.3.1\n",
            "\u001b[1m\u001b[32m   Compiling\u001b[0m form_urlencoded v1.2.1\n",
            "\u001b[1m\u001b[32m   Compiling\u001b[0m h2 v0.3.26\n",
            "\u001b[1m\u001b[32m   Compiling\u001b[0m idna_adapter v1.2.0\n",
            "\u001b[1m\u001b[32m   Compiling\u001b[0m http-body v0.4.6\n",
            "\u001b[1m\u001b[32m   Compiling\u001b[0m futures-channel v0.3.31\n",
            "\u001b[1m\u001b[32m   Compiling\u001b[0m tower-service v0.3.3\n",
            "\u001b[1m\u001b[32m   Compiling\u001b[0m ryu v1.0.19\n",
            "\u001b[1m\u001b[32m   Compiling\u001b[0m serde_json v1.0.138\n",
            "\u001b[1m\u001b[32m   Compiling\u001b[0m httpdate v1.0.3\n",
            "\u001b[1m\u001b[32m   Compiling\u001b[0m hyper v0.14.32\n",
            "\u001b[1m\u001b[32m   Compiling\u001b[0m idna v1.0.3\n",
            "\u001b[1m\u001b[32m   Compiling\u001b[0m tokio-native-tls v0.3.1\n",
            "\u001b[1m\u001b[32m   Compiling\u001b[0m base64 v0.21.7\n",
            "\u001b[1m\u001b[32m   Compiling\u001b[0m rustls-pemfile v1.0.4\n",
            "\u001b[1m\u001b[32m   Compiling\u001b[0m url v2.5.4\n",
            "\u001b[1m\u001b[32m   Compiling\u001b[0m hyper-tls v0.5.0\n",
            "\u001b[1m\u001b[32m   Compiling\u001b[0m serde_urlencoded v0.7.1\n",
            "\u001b[1m\u001b[32m   Compiling\u001b[0m encoding_rs v0.8.35\n",
            "\u001b[1m\u001b[32m   Compiling\u001b[0m ipnet v2.11.0\n",
            "\u001b[1m\u001b[32m   Compiling\u001b[0m mime v0.3.17\n",
            "\u001b[1m\u001b[32m   Compiling\u001b[0m sync_wrapper v0.1.2\n",
            "\u001b[1m\u001b[32m   Compiling\u001b[0m reqwest v0.11.27\n",
            "\u001b[1m\u001b[32m   Compiling\u001b[0m my_rust_project v0.1.0 (/content/my_rust_project)\n",
            "\u001b[1m\u001b[32m    Finished\u001b[0m `dev` profile [unoptimized + debuginfo] target(s) in 1m 43s\n"
          ]
        }
      ]
    },
    {
      "cell_type": "markdown",
      "source": [
        "$$$$$$$$$$$$$$$$$$$$$$$$$$$$$$$$$$$$$$$$$$$$$$$$$$$$$$$$"
      ],
      "metadata": {
        "id": "mCx8Ixc9joay"
      }
    },
    {
      "cell_type": "code",
      "source": [
        "#!curl --proto '=https' --tlsv1.2 -sSf https://sh.rustup.rs | sh -s -- -y\n",
        "!bash -c \"source $HOME/.cargo/env && rustc --version && cargo --version\"\n"
      ],
      "metadata": {
        "colab": {
          "base_uri": "https://localhost:8080/"
        },
        "id": "nMYlDorLifCp",
        "outputId": "b364239a-d491-41bb-dd6b-38d17ba3bf7a"
      },
      "execution_count": 8,
      "outputs": [
        {
          "output_type": "stream",
          "name": "stdout",
          "text": [
            "rustc 1.84.1 (e71f9a9a9 2025-01-27)\n",
            "cargo 1.84.1 (66221abde 2024-11-19)\n"
          ]
        }
      ]
    },
    {
      "cell_type": "code",
      "source": [
        "%cd /content\n",
        "!bash -c \"source $HOME/.cargo/env && cargo new my_rust_project\"\n",
        "%cd my_rust_project\n"
      ],
      "metadata": {
        "colab": {
          "base_uri": "https://localhost:8080/"
        },
        "id": "MRdiPFgNi9Zw",
        "outputId": "2e247ded-3d72-4e99-fa66-7783e242b8a4"
      },
      "execution_count": 9,
      "outputs": [
        {
          "output_type": "stream",
          "name": "stdout",
          "text": [
            "/content\n",
            "\u001b[1m\u001b[32m    Creating\u001b[0m binary (application) `my_rust_project` package\n",
            "\u001b[1m\u001b[36mnote\u001b[0m\u001b[1m:\u001b[0m see more `Cargo.toml` keys and their definitions at https://doc.rust-lang.org/cargo/reference/manifest.html\n",
            "/content/my_rust_project\n"
          ]
        }
      ]
    },
    {
      "cell_type": "markdown",
      "source": [
        " الخطوة 3: تعديل Cargo.toml وإضافة المكتبات اللازمة"
      ],
      "metadata": {
        "id": "8UFmN3LGjHud"
      }
    },
    {
      "cell_type": "code",
      "source": [
        "%%writefile Cargo.toml\n",
        "[package]\n",
        "name = \"my_rust_project\"\n",
        "version = \"0.1.0\"\n",
        "edition = \"2021\"\n",
        "\n",
        "[dependencies]\n",
        "reqwest = { version = \"0.11\", features = [\"blocking\", \"json\"] }\n",
        "serde_json = \"1.0\"\n"
      ],
      "metadata": {
        "colab": {
          "base_uri": "https://localhost:8080/"
        },
        "id": "Grf-pWHOjEGu",
        "outputId": "4218784d-4ed7-42b0-bdac-420a1d5c3177"
      },
      "execution_count": 10,
      "outputs": [
        {
          "output_type": "stream",
          "name": "stdout",
          "text": [
            "Overwriting Cargo.toml\n"
          ]
        }
      ]
    },
    {
      "cell_type": "code",
      "source": [
        "%%writefile src/main.rs\n",
        "use reqwest::blocking::Client;\n",
        "use serde_json::json;\n",
        "\n",
        "fn main() {\n",
        "    let api_token = \"XXXXXXXXXXXXXXXX\"; // استبدل بالتوكن الخاص بك\n",
        "    let url = \"https://api-inference.huggingface.co/models/gpt2\";\n",
        "\n",
        "    let client = Client::new();\n",
        "    let payload = json!({ \"inputs\": \"Hello, world!\" });\n",
        "\n",
        "    let response = client\n",
        "        .post(url)\n",
        "        .header(\"Authorization\", format!(\"Bearer {}\", api_token))\n",
        "        .header(\"Content-Type\", \"application/json\")\n",
        "        .json(&payload)\n",
        "        .send();\n",
        "\n",
        "    match response {\n",
        "        Ok(res) => match res.text() {\n",
        "            Ok(text) => println!(\"Response: {}\", text),\n",
        "            Err(err) => eprintln!(\"Error reading response: {}\", err),\n",
        "        },\n",
        "        Err(err) => eprintln!(\"Request failed: {}\", err),\n",
        "    }\n",
        "}\n"
      ],
      "metadata": {
        "colab": {
          "base_uri": "https://localhost:8080/"
        },
        "id": "KbI4lkUEjJ4N",
        "outputId": "d0895c8e-745b-4b0f-9595-b4f8f0533eb4"
      },
      "execution_count": 12,
      "outputs": [
        {
          "output_type": "stream",
          "name": "stdout",
          "text": [
            "Writing src/main.rs\n"
          ]
        }
      ]
    },
    {
      "cell_type": "code",
      "source": [
        "!bash -c \"source $HOME/.cargo/env && cargo run\"\n"
      ],
      "metadata": {
        "colab": {
          "base_uri": "https://localhost:8080/"
        },
        "id": "3yFkEfx6jWu7",
        "outputId": "299a3dc5-dfae-4503-f186-d0e5ee575ad0"
      },
      "execution_count": 13,
      "outputs": [
        {
          "output_type": "stream",
          "name": "stdout",
          "text": [
            "\u001b[1m\u001b[32m    Updating\u001b[0m crates.io index\n",
            "\u001b[1m\u001b[32m     Locking\u001b[0m 152 packages to latest compatible versions\n",
            "\u001b[1m\u001b[36m      Adding\u001b[0m reqwest v0.11.27 \u001b[1m\u001b[33m(available: v0.12.12)\u001b[0m\n",
            "\u001b[1m\u001b[32m   Compiling\u001b[0m proc-macro2 v1.0.93\n",
            "\u001b[1m\u001b[32m   Compiling\u001b[0m unicode-ident v1.0.16\n",
            "\u001b[1m\u001b[32m   Compiling\u001b[0m libc v0.2.169\n",
            "\u001b[1m\u001b[32m   Compiling\u001b[0m stable_deref_trait v1.2.0\n",
            "\u001b[1m\u001b[32m   Compiling\u001b[0m quote v1.0.38\n",
            "\u001b[1m\u001b[32m   Compiling\u001b[0m syn v2.0.98\n",
            "\u001b[1m\u001b[32m   Compiling\u001b[0m shlex v1.3.0\n",
            "\u001b[1m\u001b[32m   Compiling\u001b[0m cc v1.2.13\n",
            "\u001b[1m\u001b[32m   Compiling\u001b[0m vcpkg v0.2.15\n",
            "\u001b[1m\u001b[32m   Compiling\u001b[0m pin-project-lite v0.2.16\n",
            "\u001b[1m\u001b[32m   Compiling\u001b[0m pkg-config v0.3.31\n",
            "\u001b[1m\u001b[32m   Compiling\u001b[0m openssl-sys v0.9.105\n",
            "\u001b[1m\u001b[32m   Compiling\u001b[0m once_cell v1.20.3\n",
            "\u001b[1m\u001b[32m   Compiling\u001b[0m bytes v1.10.0\n",
            "\u001b[1m\u001b[32m   Compiling\u001b[0m synstructure v0.13.1\n",
            "\u001b[1m\u001b[32m   Compiling\u001b[0m writeable v0.5.5\n",
            "\u001b[1m\u001b[32m   Compiling\u001b[0m litemap v0.7.4\n",
            "\u001b[1m\u001b[32m   Compiling\u001b[0m autocfg v1.4.0\n",
            "\u001b[1m\u001b[32m   Compiling\u001b[0m itoa v1.0.14\n",
            "\u001b[1m\u001b[32m   Compiling\u001b[0m zerofrom-derive v0.1.5\n",
            "\u001b[1m\u001b[32m   Compiling\u001b[0m yoke-derive v0.7.5\n",
            "\u001b[1m\u001b[32m   Compiling\u001b[0m zerovec-derive v0.10.3\n",
            "\u001b[1m\u001b[32m   Compiling\u001b[0m zerofrom v0.1.5\n",
            "\u001b[1m\u001b[32m   Compiling\u001b[0m yoke v0.7.5\n",
            "\u001b[1m\u001b[32m   Compiling\u001b[0m displaydoc v0.2.5\n",
            "\u001b[1m\u001b[32m   Compiling\u001b[0m zerovec v0.10.4\n",
            "\u001b[1m\u001b[32m   Compiling\u001b[0m icu_provider_macros v1.5.0\n",
            "\u001b[1m\u001b[32m   Compiling\u001b[0m slab v0.4.9\n",
            "\u001b[1m\u001b[32m   Compiling\u001b[0m socket2 v0.5.8\n",
            "\u001b[1m\u001b[32m   Compiling\u001b[0m tinystr v0.7.6\n",
            "\u001b[1m\u001b[32m   Compiling\u001b[0m icu_locid v1.5.0\n",
            "\u001b[1m\u001b[32m   Compiling\u001b[0m mio v1.0.3\n",
            "\u001b[1m\u001b[32m   Compiling\u001b[0m icu_provider v1.5.0\n",
            "\u001b[1m\u001b[32m   Compiling\u001b[0m icu_locid_transform_data v1.5.0\n",
            "\u001b[1m\u001b[32m   Compiling\u001b[0m futures-core v0.3.31\n",
            "\u001b[1m\u001b[32m   Compiling\u001b[0m icu_locid_transform v1.5.0\n",
            "\u001b[1m\u001b[32m   Compiling\u001b[0m tokio v1.43.0\n",
            "\u001b[1m\u001b[32m   Compiling\u001b[0m icu_collections v1.5.0\n",
            "\u001b[1m\u001b[32m   Compiling\u001b[0m icu_properties_data v1.5.0\n",
            "\u001b[1m\u001b[32m   Compiling\u001b[0m foreign-types-shared v0.1.1\n",
            "\u001b[1m\u001b[32m   Compiling\u001b[0m memchr v2.7.4\n",
            "\u001b[1m\u001b[32m   Compiling\u001b[0m cfg-if v1.0.0\n",
            "\u001b[1m\u001b[32m   Compiling\u001b[0m fnv v1.0.7\n",
            "\u001b[1m\u001b[32m   Compiling\u001b[0m openssl v0.10.70\n",
            "\u001b[1m\u001b[32m   Compiling\u001b[0m http v0.2.12\n",
            "\u001b[1m\u001b[32m   Compiling\u001b[0m foreign-types v0.3.2\n",
            "\u001b[1m\u001b[32m   Compiling\u001b[0m icu_properties v1.5.1\n",
            "\u001b[1m\u001b[32m   Compiling\u001b[0m openssl-macros v0.1.1\n",
            "\u001b[1m\u001b[32m   Compiling\u001b[0m tracing-core v0.1.33\n",
            "\u001b[1m\u001b[32m   Compiling\u001b[0m futures-sink v0.3.31\n",
            "\u001b[1m\u001b[32m   Compiling\u001b[0m pin-utils v0.1.0\n",
            "\u001b[1m\u001b[32m   Compiling\u001b[0m utf8_iter v1.0.4\n",
            "\u001b[1m\u001b[32m   Compiling\u001b[0m native-tls v0.2.13\n",
            "\u001b[1m\u001b[32m   Compiling\u001b[0m serde v1.0.217\n",
            "\u001b[1m\u001b[32m   Compiling\u001b[0m futures-io v0.3.31\n",
            "\u001b[1m\u001b[32m   Compiling\u001b[0m bitflags v2.8.0\n",
            "\u001b[1m\u001b[32m   Compiling\u001b[0m utf16_iter v1.0.5\n",
            "\u001b[1m\u001b[32m   Compiling\u001b[0m smallvec v1.13.2\n",
            "\u001b[1m\u001b[32m   Compiling\u001b[0m equivalent v1.0.1\n",
            "\u001b[1m\u001b[32m   Compiling\u001b[0m httparse v1.10.0\n",
            "\u001b[1m\u001b[32m   Compiling\u001b[0m futures-task v0.3.31\n",
            "\u001b[1m\u001b[32m   Compiling\u001b[0m write16 v1.0.0\n",
            "\u001b[1m\u001b[32m   Compiling\u001b[0m hashbrown v0.15.2\n",
            "\u001b[1m\u001b[32m   Compiling\u001b[0m icu_normalizer_data v1.5.0\n",
            "\u001b[1m\u001b[32m   Compiling\u001b[0m icu_normalizer v1.5.0\n",
            "\u001b[1m\u001b[32m   Compiling\u001b[0m indexmap v2.7.1\n",
            "\u001b[1m\u001b[32m   Compiling\u001b[0m futures-util v0.3.31\n",
            "\u001b[1m\u001b[32m   Compiling\u001b[0m tokio-util v0.7.13\n",
            "\u001b[1m\u001b[32m   Compiling\u001b[0m tracing v0.1.41\n",
            "\u001b[1m\u001b[32m   Compiling\u001b[0m percent-encoding v2.3.1\n",
            "\u001b[1m\u001b[32m   Compiling\u001b[0m log v0.4.25\n",
            "\u001b[1m\u001b[32m   Compiling\u001b[0m openssl-probe v0.1.6\n",
            "\u001b[1m\u001b[32m   Compiling\u001b[0m try-lock v0.2.5\n",
            "\u001b[1m\u001b[32m   Compiling\u001b[0m want v0.3.1\n",
            "\u001b[1m\u001b[32m   Compiling\u001b[0m form_urlencoded v1.2.1\n",
            "\u001b[1m\u001b[32m   Compiling\u001b[0m h2 v0.3.26\n",
            "\u001b[1m\u001b[32m   Compiling\u001b[0m idna_adapter v1.2.0\n",
            "\u001b[1m\u001b[32m   Compiling\u001b[0m http-body v0.4.6\n",
            "\u001b[1m\u001b[32m   Compiling\u001b[0m futures-channel v0.3.31\n",
            "\u001b[1m\u001b[32m   Compiling\u001b[0m serde_json v1.0.138\n",
            "\u001b[1m\u001b[32m   Compiling\u001b[0m tower-service v0.3.3\n",
            "\u001b[1m\u001b[32m   Compiling\u001b[0m httpdate v1.0.3\n",
            "\u001b[1m\u001b[32m   Compiling\u001b[0m ryu v1.0.19\n",
            "\u001b[1m\u001b[32m   Compiling\u001b[0m hyper v0.14.32\n",
            "\u001b[1m\u001b[32m   Compiling\u001b[0m idna v1.0.3\n",
            "\u001b[1m\u001b[32m   Compiling\u001b[0m tokio-native-tls v0.3.1\n",
            "\u001b[1m\u001b[32m   Compiling\u001b[0m base64 v0.21.7\n",
            "\u001b[1m\u001b[32m   Compiling\u001b[0m rustls-pemfile v1.0.4\n",
            "\u001b[1m\u001b[32m   Compiling\u001b[0m url v2.5.4\n",
            "\u001b[1m\u001b[32m   Compiling\u001b[0m hyper-tls v0.5.0\n",
            "\u001b[1m\u001b[32m   Compiling\u001b[0m serde_urlencoded v0.7.1\n",
            "\u001b[1m\u001b[32m   Compiling\u001b[0m encoding_rs v0.8.35\n",
            "\u001b[1m\u001b[32m   Compiling\u001b[0m mime v0.3.17\n",
            "\u001b[1m\u001b[32m   Compiling\u001b[0m ipnet v2.11.0\n",
            "\u001b[1m\u001b[32m   Compiling\u001b[0m sync_wrapper v0.1.2\n",
            "\u001b[1m\u001b[32m   Compiling\u001b[0m reqwest v0.11.27\n",
            "\u001b[1m\u001b[32m   Compiling\u001b[0m my_rust_project v0.1.0 (/content/my_rust_project)\n",
            "\u001b[1m\u001b[32m    Finished\u001b[0m `dev` profile [unoptimized + debuginfo] target(s) in 1m 43s\n",
            "\u001b[1m\u001b[32m     Running\u001b[0m `target/debug/my_rust_project`\n",
            "Response: [{\"generated_text\":\"Hello, world!\\n\\nThe Big Kahuna\\n\\nSnick…sniff…sniff…sniff…sniff.\\n\\n\\nSnick…sniff…sniff…sniff! Sniff…sniff.\\n\\nThey stopped here when they saw my house, partly from the dome at once. They stopped here also to receive my jinchubrin tree. They stopped here to hand out paper cups for my old piles. They stopped here not for my pot of Cranberry Juice but for the pizza we had sitting at the left, and as much not so great newspaper clippings as you can grow into. They stopped here to stop and prod me with my pizza. They stopped here because, half the time, I'm not a human (F). While the other half study their onion pickles, the outsider ones do not study onions. So you could call this stuff \\\"my joint\\\". The rats in the warehouse were practically full of jelly sandwiches, stomping very hard due to the size of the jelly sandwiches. No one caught the back of the last little pencil (I think was long enough lagoons sooner or later in existence for the jelly sandwich to scrape right off my finger teeth). MR TAR, the 8 pieces of cheese that I killed, rejected them all. They could have no guinea pigs, but they snapped them open with their bolsters. I just bet that if Métalisa had it's feral dogs, I would have bought the suit from their box. What do you mean? TA TARA, Walter's sister. I don't know what to say. Well, I think maybe she said so. The puppeteer, now replaced by Tramp. Please, let's do something about it, please. You gonna let that roost people in Trappe take sweet shit from you? Alma called Tramp in response to Whats starting in Tuthsynia. He had had his sch pizza in 100 houses across Syria in less than 24 hours. Lara was beginning to wake up. She followed him's friend as though with two arms she could do it herself, but had watched in torment as other young people came into touch with her. It had been a long time since Lovers strived for a human. Teacher Vanente was awaiting them in Tulares. Evildo said about Sawthust, \\\"We live there since they broke to steal Burk water for me to use at school.\\\" They were looking where the Jan Pain was and they fought their way out of there instead of until That Nobody Spreads to the 'City In The Loop'. There were emphasis on almost physics above all other Seabees. Enemy Trinity got our attention with that collar crawl. It's basically an Artificial Organ, Digging Seabee rum; Caselyased is arguing that this first time he and his man are brought captive, people deserved brains and their killers got to take hashptamines. Although business is just cruel. Verdict…support up an illusion against that delusion, there will never be good endings if fairies can walk until then.\\n\\nCause most of the Seabees went rotten\\n\\nUnpredictable on Mars having nothing but pudding\\n\\n::* This one is just so annoying and critical, just buffoonery. Here their mud fight was very revolting.\\n\\n\\nThey said cage ridden peeing across the floor to become alternative toilets. They kept farting when they could hear it every so often. Tears welled up in the soil above my house when they jumped in their dumpster. I don't know what mist here on Mars needs. They did just that, following their leading rabbit brother. You won a favour with Desperate to Save Aquarius (thanks once every 100 orders) and shocked toxic gases and dust/bark and zheung millennialabulites picked up the tubers to contaminate our sinks so they could release them to the mill-Lennon in Tuthsynia. Jesus know oh and don't ever drop into that gas as though it wasn't there before. They killed their prisoner Rphen triyle Pepper W Iran. King Pfae expected Furyrated Sphynx soon… (Not the best time to save a year-old girl?)\\n\\nNow it is Pessoa.\\n\\nNOW Pessoa.\\n\\nGet off their bullshit loppers.\\n\\nIs dropping their rabbit friend though? Jem alba Dude! Like many he is exaggerating at once.\\n\\nGROWING OF SATURING PRESS! When Jem whacked the guy with Tomtit in the stomach the crowd of Seabs doted on sildenafil and spiked some more to grant them their ass taken aback that he may have just shaved his pubes off. They only had guns and had everyone laughing at them. KILLING PERSONAL TAKE OFF PAINS. If I survived, I may rise up against crazy folks who buy and buy from Domains where they bet their lives who can have their low birth rates even\"}]\n"
          ]
        }
      ]
    },
    {
      "cell_type": "markdown",
      "source": [
        "#############################################"
      ],
      "metadata": {
        "id": "mcTalRGzjfiY"
      }
    },
    {
      "cell_type": "code",
      "source": [],
      "metadata": {
        "id": "Ho7w_zbVjXK7"
      },
      "execution_count": null,
      "outputs": []
    }
  ]
}