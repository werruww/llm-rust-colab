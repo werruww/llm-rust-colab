{
  "nbformat": 4,
  "nbformat_minor": 0,
  "metadata": {
    "colab": {
      "provenance": []
    },
    "kernelspec": {
      "name": "python3",
      "display_name": "Python 3"
    },
    "language_info": {
      "name": "python"
    }
  },
  "cells": [
    {
      "cell_type": "code",
      "execution_count": null,
      "metadata": {
        "id": "_2PEJl8c7Km8"
      },
      "outputs": [],
      "source": []
    },
    {
      "cell_type": "code",
      "source": [],
      "metadata": {
        "id": "DeBbYa8B7OCr"
      },
      "execution_count": null,
      "outputs": []
    },
    {
      "cell_type": "markdown",
      "source": [
        "https://huggingface.co/docs/text-embeddings-inference/main/en/local_cpu#step-1-install-rust"
      ],
      "metadata": {
        "id": "5Ow-Fxy-9j_r"
      }
    },
    {
      "cell_type": "code",
      "source": [
        "# 1️⃣ الانتقال إلى مجلد العمل في Google Colab\n",
        "%cd /content\n",
        "\n",
        "# 2️⃣ تثبيت Rust في Google Colab\n",
        "!curl --proto '=https' --tlsv1.2 -sSf https://sh.rustup.rs | sh -s -- -y\n",
        "\n",
        "# تحديث المسار بعد التثبيت\n",
        "import os\n",
        "os.environ[\"PATH\"] += \":/root/.cargo/bin\"\n",
        "\n",
        "# التحقق من تثبيت Rust و Cargo\n",
        "!rustc --version\n",
        "!cargo --version"
      ],
      "metadata": {
        "colab": {
          "base_uri": "https://localhost:8080/"
        },
        "id": "kwT0wo1h7OF6",
        "outputId": "277b34d6-c185-4d48-eefc-6bc9e617dd12"
      },
      "execution_count": 1,
      "outputs": [
        {
          "output_type": "stream",
          "name": "stdout",
          "text": [
            "/content\n",
            "\u001b[1minfo:\u001b[0m downloading installer\n",
            "\u001b[0m\u001b[1minfo: \u001b[0mprofile set to 'default'\n",
            "\u001b[0m\u001b[1minfo: \u001b[0mdefault host triple is x86_64-unknown-linux-gnu\n",
            "\u001b[0m\u001b[1minfo: \u001b[0msyncing channel updates for 'stable-x86_64-unknown-linux-gnu'\n",
            "\u001b[0m\u001b[1minfo: \u001b[0mlatest update on 2025-01-30, rust version 1.84.1 (e71f9a9a9 2025-01-27)\n",
            "\u001b[0m\u001b[1minfo: \u001b[0mdownloading component 'cargo'\n",
            "\u001b[0m\u001b[1minfo: \u001b[0mdownloading component 'clippy'\n",
            "\u001b[0m\u001b[1minfo: \u001b[0mdownloading component 'rust-docs'\n",
            "\u001b[0m\u001b[1minfo: \u001b[0mdownloading component 'rust-std'\n",
            "\u001b[0m\u001b[1minfo: \u001b[0mdownloading component 'rustc'\n",
            " 70.6 MiB /  70.6 MiB (100 %)  33.3 MiB/s in  2s ETA:  0s\n",
            "\u001b[0m\u001b[1minfo: \u001b[0mdownloading component 'rustfmt'\n",
            "\u001b[0m\u001b[1minfo: \u001b[0minstalling component 'cargo'\n",
            "  8.8 MiB /   8.8 MiB (100 %)   8.0 MiB/s in  1s ETA:  0s\n",
            "\u001b[0m\u001b[1minfo: \u001b[0minstalling component 'clippy'\n",
            "\u001b[0m\u001b[1minfo: \u001b[0minstalling component 'rust-docs'\n",
            " 16.5 MiB /  16.5 MiB (100 %)   1.7 MiB/s in  7s ETA:  0s\n",
            "\u001b[0m\u001b[1minfo: \u001b[0minstalling component 'rust-std'\n",
            " 26.7 MiB /  26.7 MiB (100 %)   6.5 MiB/s in  4s ETA:  0s\n",
            "\u001b[0m\u001b[1minfo: \u001b[0minstalling component 'rustc'\n",
            " 70.6 MiB /  70.6 MiB (100 %)   7.7 MiB/s in  9s ETA:  0s\n",
            "\u001b[0m\u001b[1minfo: \u001b[0minstalling component 'rustfmt'\n",
            "\u001b[0m\u001b[1minfo: \u001b[0mdefault toolchain set to 'stable-x86_64-unknown-linux-gnu'\n",
            "\n",
            "  \u001b[0m\u001b[1m\u001b[0m\u001b[1m\u001b[32mstable-x86_64-unknown-linux-gnu installed\u001b[0m - rustc 1.84.1 (e71f9a9a9 2025-01-27)\n",
            "\n",
            "\u001b[0m\u001b[1m\n",
            "Rust is installed now. Great!\n",
            "\u001b[0m\n",
            "To get started you may need to restart your current shell.\n",
            "This would reload your \u001b[0m\u001b[1mPATH\u001b[0m environment variable to include\n",
            "Cargo's bin directory ($HOME/.cargo/bin).\n",
            "\n",
            "To configure your current shell, you need to source\n",
            "the corresponding \u001b[0m\u001b[1menv\u001b[0m file under $HOME/.cargo.\n",
            "\n",
            "This is usually done by running one of the following (note the leading DOT):\n",
            ". \"$HOME/.cargo/env\"            # For sh/bash/zsh/ash/dash/pdksh\n",
            "source \"$HOME/.cargo/env.fish\"  # For fish\n",
            "rustc 1.84.1 (e71f9a9a9 2025-01-27)\n",
            "cargo 1.84.1 (66221abde 2024-11-19)\n"
          ]
        }
      ]
    },
    {
      "cell_type": "code",
      "source": [
        "!cargo new my_rust_project\n",
        "%cd my_rust_project"
      ],
      "metadata": {
        "colab": {
          "base_uri": "https://localhost:8080/"
        },
        "id": "ca2UP44m7Scq",
        "outputId": "fff6cf23-fd3b-4957-f270-35d595dda014"
      },
      "execution_count": 2,
      "outputs": [
        {
          "output_type": "stream",
          "name": "stdout",
          "text": [
            "\u001b[1m\u001b[32m    Creating\u001b[0m binary (application) `my_rust_project` package\n",
            "\u001b[1m\u001b[36mnote\u001b[0m\u001b[1m:\u001b[0m see more `Cargo.toml` keys and their definitions at https://doc.rust-lang.org/cargo/reference/manifest.html\n",
            "/content/my_rust_project\n"
          ]
        }
      ]
    },
    {
      "cell_type": "code",
      "source": [
        "!cargo build\n",
        "!cargo run"
      ],
      "metadata": {
        "colab": {
          "base_uri": "https://localhost:8080/"
        },
        "id": "fomMqqPu7Unz",
        "outputId": "6885b633-ee76-4ce3-df24-c39aed8d2dab"
      },
      "execution_count": 3,
      "outputs": [
        {
          "output_type": "stream",
          "name": "stdout",
          "text": [
            "\u001b[1m\u001b[32m   Compiling\u001b[0m my_rust_project v0.1.0 (/content/my_rust_project)\n",
            "\u001b[1m\u001b[32m    Finished\u001b[0m `dev` profile [unoptimized + debuginfo] target(s) in 0.54s\n",
            "\u001b[1m\u001b[32m    Finished\u001b[0m `dev` profile [unoptimized + debuginfo] target(s) in 0.02s\n",
            "\u001b[1m\u001b[32m     Running\u001b[0m `target/debug/my_rust_project`\n",
            "Hello, world!\n"
          ]
        }
      ]
    },
    {
      "cell_type": "code",
      "source": [
        "!cargo new my_rust_project2\n",
        "%cd my_rust_project2"
      ],
      "metadata": {
        "colab": {
          "base_uri": "https://localhost:8080/"
        },
        "id": "9s47tg247sD6",
        "outputId": "9a03d37a-317a-41cc-fb97-76d454698643"
      },
      "execution_count": 4,
      "outputs": [
        {
          "output_type": "stream",
          "name": "stdout",
          "text": [
            "\u001b[1m\u001b[32m    Creating\u001b[0m binary (application) `my_rust_project2` package\n",
            "\u001b[1m\u001b[36mnote\u001b[0m\u001b[1m:\u001b[0m see more `Cargo.toml` keys and their definitions at https://doc.rust-lang.org/cargo/reference/manifest.html\n",
            "/content/my_rust_project/my_rust_project2\n"
          ]
        }
      ]
    },
    {
      "cell_type": "code",
      "source": [
        "%%writefile src/main.rs\n",
        "\n",
        "fn main() {\n",
        "    println!(\"aaaaaaaaaaaaaaaaaaaaaaaaaaaaaaaaaaaaaaaaaaa\");\n",
        "}"
      ],
      "metadata": {
        "colab": {
          "base_uri": "https://localhost:8080/"
        },
        "id": "cvtmFGn-8DGE",
        "outputId": "5ad9e278-3325-420d-f0c5-95d72a29efa5"
      },
      "execution_count": 5,
      "outputs": [
        {
          "output_type": "stream",
          "name": "stdout",
          "text": [
            "Overwriting src/main.rs\n"
          ]
        }
      ]
    },
    {
      "cell_type": "code",
      "source": [
        "!cargo build\n",
        "!cargo run"
      ],
      "metadata": {
        "colab": {
          "base_uri": "https://localhost:8080/"
        },
        "id": "NJnaU5VF8L7j",
        "outputId": "b735f4e5-52a3-43cf-93ee-bf94460175fb"
      },
      "execution_count": 6,
      "outputs": [
        {
          "output_type": "stream",
          "name": "stdout",
          "text": [
            "\u001b[1m\u001b[32m   Compiling\u001b[0m my_rust_project2 v0.1.0 (/content/my_rust_project/my_rust_project2)\n",
            "\u001b[1m\u001b[32m    Finished\u001b[0m `dev` profile [unoptimized + debuginfo] target(s) in 0.24s\n",
            "\u001b[1m\u001b[32m    Finished\u001b[0m `dev` profile [unoptimized + debuginfo] target(s) in 0.01s\n",
            "\u001b[1m\u001b[32m     Running\u001b[0m `target/debug/my_rust_project2`\n",
            "aaaaaaaaaaaaaaaaaaaaaaaaaaaaaaaaaaaaaaaaaaa\n"
          ]
        }
      ]
    },
    {
      "cell_type": "code",
      "source": [
        "use reqwest::blocking::Client;\n",
        "use serde_json::json;\n",
        "\n",
        "fn main() {\n",
        "    let api_token = \"your_huggingface_api_token\"; // ضع توكن المصادقة الخاص بك هنا\n",
        "    let url = \"https://api-inference.huggingface.co/models/gpt2\";\n",
        "\n",
        "    let client = Client::new();\n",
        "    let request_body = json!({ \"inputs\": \"Hello, world!\" });\n",
        "\n",
        "    let response = client\n",
        "        .post(url)\n",
        "        .header(\"Authorization\", format!(\"Bearer {}\", api_token))\n",
        "        .header(\"Content-Type\", \"application/json\")\n",
        "        .json(&request_body)\n",
        "        .send();\n",
        "\n",
        "    match response {\n",
        "        Ok(resp) => match resp.text() {\n",
        "            Ok(text) => println!(\"Response: {}\", text),\n",
        "            Err(err) => eprintln!(\"Error reading response text: {}\", err),\n",
        "        },\n",
        "        Err(err) => eprintln!(\"Error sending request: {}\", err),\n",
        "    }\n",
        "}\n"
      ],
      "metadata": {
        "id": "odqxctui8PJb"
      },
      "execution_count": null,
      "outputs": []
    },
    {
      "cell_type": "code",
      "source": [
        "%%writefile src/main.rs\n",
        "\n",
        "fn main() {\n",
        "    println!(\"aaaaaaaaaaaaaaaaaaaaaaaaaaaaaaaaaaaaaaaaaaa\");\n",
        "}"
      ],
      "metadata": {
        "id": "yTaVCsjo8PGj"
      },
      "execution_count": null,
      "outputs": []
    },
    {
      "cell_type": "code",
      "source": [
        "!cargo build\n",
        "!cargo run"
      ],
      "metadata": {
        "id": "G5wCCY2t8PDL"
      },
      "execution_count": null,
      "outputs": []
    },
    {
      "cell_type": "code",
      "source": [
        "%cd /content/my_rust_project/my_rust_project2"
      ],
      "metadata": {
        "colab": {
          "base_uri": "https://localhost:8080/"
        },
        "id": "ZKzEB41u9KDq",
        "outputId": "511f9326-d57c-4e4a-e8bc-31cc6cc867a2"
      },
      "execution_count": 9,
      "outputs": [
        {
          "output_type": "stream",
          "name": "stdout",
          "text": [
            "/content/my_rust_project/my_rust_project2\n"
          ]
        }
      ]
    },
    {
      "cell_type": "code",
      "source": [
        "%%writefile main.rs\n",
        "use reqwest::blocking::Client;\n",
        "use serde_json::json;\n",
        "\n",
        "fn main() {\n",
        "    let api_token = \"xxxxxxxxxxxxxx\"; // استبدل بالتوكن الخاص بك\n",
        "    let url = \"https://api-inference.huggingface.co/models/gpt2\";\n",
        "\n",
        "    let client = Client::new();\n",
        "    let payload = json!({ \"inputs\": \"Hello, world!\" });\n",
        "\n",
        "    let response = client\n",
        "        .post(url)\n",
        "        .header(\"Authorization\", format!(\"Bearer {}\", api_token))\n",
        "        .header(\"Content-Type\", \"application/json\")\n",
        "        .json(&payload)\n",
        "        .send();\n",
        "\n",
        "    match response {\n",
        "        Ok(res) => match res.text() {\n",
        "            Ok(text) => println!(\"Response: {}\", text),\n",
        "            Err(err) => eprintln!(\"Error reading response: {}\", err),\n",
        "        },\n",
        "        Err(err) => eprintln!(\"Request failed: {}\", err),\n",
        "    }\n",
        "}\n",
        "\n"
      ],
      "metadata": {
        "colab": {
          "base_uri": "https://localhost:8080/"
        },
        "id": "I77B1tC388DL",
        "outputId": "69ed942d-ce65-4a3c-94c5-d81d14ec366c"
      },
      "execution_count": 12,
      "outputs": [
        {
          "output_type": "stream",
          "name": "stdout",
          "text": [
            "Overwriting main.rs\n"
          ]
        }
      ]
    },
    {
      "cell_type": "code",
      "source": [
        "!cargo build\n",
        "!cargo run"
      ],
      "metadata": {
        "colab": {
          "base_uri": "https://localhost:8080/"
        },
        "id": "P9KbGX1U9DGy",
        "outputId": "ff937e64-da12-4693-bbbd-95c6ac4e9540"
      },
      "execution_count": 13,
      "outputs": [
        {
          "output_type": "stream",
          "name": "stdout",
          "text": [
            "\u001b[1m\u001b[32m   Compiling\u001b[0m my_rust_project2 v0.1.0 (/content/my_rust_project/my_rust_project2)\n",
            "\u001b[0m\u001b[1m\u001b[38;5;9merror[E0433]\u001b[0m\u001b[0m\u001b[1m: failed to resolve: use of undeclared crate or module `reqwest`\u001b[0m\n",
            "\u001b[0m \u001b[0m\u001b[0m\u001b[1m\u001b[38;5;12m--> \u001b[0m\u001b[0msrc/main.rs:1:5\u001b[0m\n",
            "\u001b[0m  \u001b[0m\u001b[0m\u001b[1m\u001b[38;5;12m|\u001b[0m\n",
            "\u001b[0m\u001b[1m\u001b[38;5;12m1\u001b[0m\u001b[0m \u001b[0m\u001b[0m\u001b[1m\u001b[38;5;12m|\u001b[0m\u001b[0m \u001b[0m\u001b[0muse reqwest::blocking::Client;\u001b[0m\n",
            "\u001b[0m  \u001b[0m\u001b[0m\u001b[1m\u001b[38;5;12m|\u001b[0m\u001b[0m     \u001b[0m\u001b[0m\u001b[1m\u001b[38;5;9m^^^^^^^\u001b[0m\u001b[0m \u001b[0m\u001b[0m\u001b[1m\u001b[38;5;9muse of undeclared crate or module `reqwest`\u001b[0m\n",
            "\n",
            "\u001b[0m\u001b[1m\u001b[38;5;9merror[E0432]\u001b[0m\u001b[0m\u001b[1m: unresolved import `serde_json`\u001b[0m\n",
            "\u001b[0m \u001b[0m\u001b[0m\u001b[1m\u001b[38;5;12m--> \u001b[0m\u001b[0msrc/main.rs:2:5\u001b[0m\n",
            "\u001b[0m  \u001b[0m\u001b[0m\u001b[1m\u001b[38;5;12m|\u001b[0m\n",
            "\u001b[0m\u001b[1m\u001b[38;5;12m2\u001b[0m\u001b[0m \u001b[0m\u001b[0m\u001b[1m\u001b[38;5;12m|\u001b[0m\u001b[0m \u001b[0m\u001b[0muse serde_json::json;\u001b[0m\n",
            "\u001b[0m  \u001b[0m\u001b[0m\u001b[1m\u001b[38;5;12m|\u001b[0m\u001b[0m     \u001b[0m\u001b[0m\u001b[1m\u001b[38;5;9m^^^^^^^^^^\u001b[0m\u001b[0m \u001b[0m\u001b[0m\u001b[1m\u001b[38;5;9muse of undeclared crate or module `serde_json`\u001b[0m\n",
            "\n",
            "\u001b[0m\u001b[1mSome errors have detailed explanations: E0432, E0433.\u001b[0m\n",
            "\u001b[0m\u001b[1mFor more information about an error, try `rustc --explain E0432`.\u001b[0m\n",
            "\u001b[1m\u001b[31merror\u001b[0m\u001b[1m:\u001b[0m could not compile `my_rust_project2` (bin \"my_rust_project2\") due to 2 previous errors\n",
            "\u001b[1m\u001b[32m   Compiling\u001b[0m my_rust_project2 v0.1.0 (/content/my_rust_project/my_rust_project2)\n",
            "\u001b[0m\u001b[1m\u001b[38;5;9merror[E0433]\u001b[0m\u001b[0m\u001b[1m: failed to resolve: use of undeclared crate or module `reqwest`\u001b[0m\n",
            "\u001b[0m \u001b[0m\u001b[0m\u001b[1m\u001b[38;5;12m--> \u001b[0m\u001b[0msrc/main.rs:1:5\u001b[0m\n",
            "\u001b[0m  \u001b[0m\u001b[0m\u001b[1m\u001b[38;5;12m|\u001b[0m\n",
            "\u001b[0m\u001b[1m\u001b[38;5;12m1\u001b[0m\u001b[0m \u001b[0m\u001b[0m\u001b[1m\u001b[38;5;12m|\u001b[0m\u001b[0m \u001b[0m\u001b[0muse reqwest::blocking::Client;\u001b[0m\n",
            "\u001b[0m  \u001b[0m\u001b[0m\u001b[1m\u001b[38;5;12m|\u001b[0m\u001b[0m     \u001b[0m\u001b[0m\u001b[1m\u001b[38;5;9m^^^^^^^\u001b[0m\u001b[0m \u001b[0m\u001b[0m\u001b[1m\u001b[38;5;9muse of undeclared crate or module `reqwest`\u001b[0m\n",
            "\n",
            "\u001b[0m\u001b[1m\u001b[38;5;9merror[E0432]\u001b[0m\u001b[0m\u001b[1m: unresolved import `serde_json`\u001b[0m\n",
            "\u001b[0m \u001b[0m\u001b[0m\u001b[1m\u001b[38;5;12m--> \u001b[0m\u001b[0msrc/main.rs:2:5\u001b[0m\n",
            "\u001b[0m  \u001b[0m\u001b[0m\u001b[1m\u001b[38;5;12m|\u001b[0m\n",
            "\u001b[0m\u001b[1m\u001b[38;5;12m2\u001b[0m\u001b[0m \u001b[0m\u001b[0m\u001b[1m\u001b[38;5;12m|\u001b[0m\u001b[0m \u001b[0m\u001b[0muse serde_json::json;\u001b[0m\n",
            "\u001b[0m  \u001b[0m\u001b[0m\u001b[1m\u001b[38;5;12m|\u001b[0m\u001b[0m     \u001b[0m\u001b[0m\u001b[1m\u001b[38;5;9m^^^^^^^^^^\u001b[0m\u001b[0m \u001b[0m\u001b[0m\u001b[1m\u001b[38;5;9muse of undeclared crate or module `serde_json`\u001b[0m\n",
            "\n",
            "\u001b[0m\u001b[1mSome errors have detailed explanations: E0432, E0433.\u001b[0m\n",
            "\u001b[0m\u001b[1mFor more information about an error, try `rustc --explain E0432`.\u001b[0m\n",
            "\u001b[1m\u001b[31merror\u001b[0m\u001b[1m:\u001b[0m could not compile `my_rust_project2` (bin \"my_rust_project2\") due to 2 previous errors\n"
          ]
        }
      ]
    },
    {
      "cell_type": "code",
      "source": [
        "!cargo install --path router -F mkl"
      ],
      "metadata": {
        "colab": {
          "base_uri": "https://localhost:8080/"
        },
        "id": "v0ccWMj49DjD",
        "outputId": "4efc5938-7d9f-4105-aa0d-78c26b6a8727"
      },
      "execution_count": 14,
      "outputs": [
        {
          "output_type": "stream",
          "name": "stdout",
          "text": [
            "\u001b[1m\u001b[31merror\u001b[0m\u001b[1m:\u001b[0m `/content/my_rust_project/my_rust_project2/router` is not a directory. --path must point to a directory containing a Cargo.toml file.\n"
          ]
        }
      ]
    },
    {
      "cell_type": "code",
      "source": [
        "model=BAAI/bge-large-en-v1.5\n",
        "revision=refs/pr/5\n",
        "\n",
        "text-embeddings-router --model-id $model --revision $revision --port 8080"
      ],
      "metadata": {
        "id": "ErMcgIBb91Tr"
      },
      "execution_count": null,
      "outputs": []
    },
    {
      "cell_type": "code",
      "source": [
        "!pip install -q aiohttp==3.8.3 datasets==2.14.6 pandas==1.5.3 requests==2.31.0 tqdm==4.66.1 huggingface-hub>=0.20"
      ],
      "metadata": {
        "colab": {
          "base_uri": "https://localhost:8080/"
        },
        "id": "LFU1w6cM-GB1",
        "outputId": "a7e219cd-1a94-4389-fd57-37a3568e88cd"
      },
      "execution_count": 15,
      "outputs": [
        {
          "output_type": "stream",
          "name": "stdout",
          "text": [
            "\u001b[31mERROR: pip's dependency resolver does not currently take into account all the packages that are installed. This behaviour is the source of the following dependency conflicts.\n",
            "google-colab 1.0.0 requires pandas==2.2.2, but you have pandas 1.5.3 which is incompatible.\n",
            "google-colab 1.0.0 requires requests==2.32.3, but you have requests 2.31.0 which is incompatible.\n",
            "cudf-cu12 24.12.0 requires pandas<2.2.4dev0,>=2.0, but you have pandas 1.5.3 which is incompatible.\n",
            "xarray 2025.1.2 requires pandas>=2.1, but you have pandas 1.5.3 which is incompatible.\n",
            "torch 2.5.1+cu124 requires nvidia-cublas-cu12==12.4.5.8; platform_system == \"Linux\" and platform_machine == \"x86_64\", but you have nvidia-cublas-cu12 12.5.3.2 which is incompatible.\n",
            "torch 2.5.1+cu124 requires nvidia-cuda-cupti-cu12==12.4.127; platform_system == \"Linux\" and platform_machine == \"x86_64\", but you have nvidia-cuda-cupti-cu12 12.5.82 which is incompatible.\n",
            "torch 2.5.1+cu124 requires nvidia-cuda-nvrtc-cu12==12.4.127; platform_system == \"Linux\" and platform_machine == \"x86_64\", but you have nvidia-cuda-nvrtc-cu12 12.5.82 which is incompatible.\n",
            "torch 2.5.1+cu124 requires nvidia-cuda-runtime-cu12==12.4.127; platform_system == \"Linux\" and platform_machine == \"x86_64\", but you have nvidia-cuda-runtime-cu12 12.5.82 which is incompatible.\n",
            "torch 2.5.1+cu124 requires nvidia-cudnn-cu12==9.1.0.70; platform_system == \"Linux\" and platform_machine == \"x86_64\", but you have nvidia-cudnn-cu12 9.3.0.75 which is incompatible.\n",
            "torch 2.5.1+cu124 requires nvidia-cufft-cu12==11.2.1.3; platform_system == \"Linux\" and platform_machine == \"x86_64\", but you have nvidia-cufft-cu12 11.2.3.61 which is incompatible.\n",
            "torch 2.5.1+cu124 requires nvidia-curand-cu12==10.3.5.147; platform_system == \"Linux\" and platform_machine == \"x86_64\", but you have nvidia-curand-cu12 10.3.6.82 which is incompatible.\n",
            "torch 2.5.1+cu124 requires nvidia-cusolver-cu12==11.6.1.9; platform_system == \"Linux\" and platform_machine == \"x86_64\", but you have nvidia-cusolver-cu12 11.6.3.83 which is incompatible.\n",
            "torch 2.5.1+cu124 requires nvidia-cusparse-cu12==12.3.1.170; platform_system == \"Linux\" and platform_machine == \"x86_64\", but you have nvidia-cusparse-cu12 12.5.1.3 which is incompatible.\n",
            "torch 2.5.1+cu124 requires nvidia-nvjitlink-cu12==12.4.127; platform_system == \"Linux\" and platform_machine == \"x86_64\", but you have nvidia-nvjitlink-cu12 12.5.82 which is incompatible.\n",
            "plotnine 0.14.5 requires pandas>=2.2.0, but you have pandas 1.5.3 which is incompatible.\n",
            "mizani 0.13.1 requires pandas>=2.2.0, but you have pandas 1.5.3 which is incompatible.\n",
            "gcsfs 2024.10.0 requires fsspec==2024.10.0, but you have fsspec 2023.10.0 which is incompatible.\u001b[0m\u001b[31m\n",
            "\u001b[0m"
          ]
        }
      ]
    },
    {
      "cell_type": "code",
      "source": [
        "!sudo apt-get install libssl-dev gcc -y"
      ],
      "metadata": {
        "colab": {
          "base_uri": "https://localhost:8080/"
        },
        "id": "OrBoTRt9-bN0",
        "outputId": "486ac56f-5d28-4a15-f896-371664a434cb"
      },
      "execution_count": 16,
      "outputs": [
        {
          "output_type": "stream",
          "name": "stdout",
          "text": [
            "Reading package lists... Done\n",
            "Building dependency tree... Done\n",
            "Reading state information... Done\n",
            "gcc is already the newest version (4:11.2.0-1ubuntu1).\n",
            "gcc set to manually installed.\n",
            "libssl-dev is already the newest version (3.0.2-0ubuntu1.18).\n",
            "0 upgraded, 0 newly installed, 0 to remove and 20 not upgraded.\n"
          ]
        }
      ]
    },
    {
      "cell_type": "code",
      "source": [],
      "metadata": {
        "id": "YU0LiePf-byj"
      },
      "execution_count": null,
      "outputs": []
    },
    {
      "cell_type": "markdown",
      "source": [
        "https://huggingface.co/docs/tokenizers/main/en/quicktour?code=rust"
      ],
      "metadata": {
        "id": "SRzPAB-5-4Ea"
      }
    },
    {
      "cell_type": "markdown",
      "source": [
        "https://doc.rust-lang.org/rust-by-example/"
      ],
      "metadata": {
        "id": "LONprMsP_f17"
      }
    },
    {
      "cell_type": "markdown",
      "source": [
        "https://doc.rust-lang.org/rust-by-example/"
      ],
      "metadata": {
        "id": "foO4IP5GAH0i"
      }
    },
    {
      "cell_type": "code",
      "source": [
        "cargo update\n",
        "\n",
        "cargo run\n",
        "\n",
        "\n",
        "\n",
        "use reqwest::blocking::Client;\n",
        "use serde_json::json;\n",
        "\n",
        "fn main() {\n",
        "    let api_token = \"XXXXXXXXXXXXXXXX\"; // ضع توكن المصادقة الخاص بك هنا\n",
        "    let url = \"https://api-inference.huggingface.co/models/gpt2\";\n",
        "\n",
        "    let client = Client::new();\n",
        "    let request_body = json!({ \"inputs\": \"Hello, world!\" });\n",
        "\n",
        "    let response = client\n",
        "        .post(url)\n",
        "        .header(\"Authorization\", format!(\"Bearer {}\", api_token))\n",
        "        .header(\"Content-Type\", \"application/json\")\n",
        "        .json(&request_body)\n",
        "        .send();\n",
        "\n",
        "    match response {\n",
        "        Ok(resp) => match resp.text() {\n",
        "            Ok(text) => println!(\"Response: {}\", text),\n",
        "            Err(err) => eprintln!(\"Error reading response text: {}\", err),\n",
        "        },\n",
        "        Err(err) => eprintln!(\"Error sending request: {}\", err),\n",
        "    }\n",
        "}"
      ],
      "metadata": {
        "id": "MfSFgyEbALHU"
      },
      "execution_count": null,
      "outputs": []
    },
    {
      "cell_type": "code",
      "source": [
        "%cd /content/my_rust_project/my_rust_project2\n",
        "\n",
        "%cd /content/my_rust_project/my_rust_project2\n",
        "\n",
        "%%writefile src/main.rs\n",
        "\n",
        "{\n",
        "    println!(\"qqqqqqqqqqqqqqqqqqqqqqqq\");\n",
        "}\n",
        "\n",
        "\n",
        "\n",
        "\n",
        "\n"
      ],
      "metadata": {
        "colab": {
          "base_uri": "https://localhost:8080/",
          "height": 106
        },
        "id": "m24M9osJAzkD",
        "outputId": "f40e3f36-fd7d-43f3-9207-5ccc18f4d6d1"
      },
      "execution_count": 23,
      "outputs": [
        {
          "output_type": "error",
          "ename": "SyntaxError",
          "evalue": "invalid syntax (<ipython-input-23-91f1192099b0>, line 8)",
          "traceback": [
            "\u001b[0;36m  File \u001b[0;32m\"<ipython-input-23-91f1192099b0>\"\u001b[0;36m, line \u001b[0;32m8\u001b[0m\n\u001b[0;31m    println!(\"qqqqqqqqqqqqqqqqqqqqqqqq\");\u001b[0m\n\u001b[0m           ^\u001b[0m\n\u001b[0;31mSyntaxError\u001b[0m\u001b[0;31m:\u001b[0m invalid syntax\n"
          ]
        }
      ]
    },
    {
      "cell_type": "markdown",
      "source": [
        "@@@@@@@@@@@@@@@@@@@@@@@@@@"
      ],
      "metadata": {
        "id": "EpIq4yYtCeBq"
      }
    },
    {
      "cell_type": "code",
      "source": [
        "%%writefile src/main.rs\n",
        "fn main() {\n",
        "    println!(\"مرحباً بالعالم من راست!\");\n",
        "}"
      ],
      "metadata": {
        "colab": {
          "base_uri": "https://localhost:8080/"
        },
        "id": "Bs4t_020CQZT",
        "outputId": "c1a88b13-a980-47fb-82cb-83e9de3d8bbd"
      },
      "execution_count": 24,
      "outputs": [
        {
          "output_type": "stream",
          "name": "stdout",
          "text": [
            "Writing src/main.rs\n"
          ]
        }
      ]
    },
    {
      "cell_type": "code",
      "source": [
        "!cargo run"
      ],
      "metadata": {
        "colab": {
          "base_uri": "https://localhost:8080/"
        },
        "id": "lJIdWD7_Cbla",
        "outputId": "c590b0a4-6ebf-4775-b0e4-6c9530c6f69a"
      },
      "execution_count": 25,
      "outputs": [
        {
          "output_type": "stream",
          "name": "stdout",
          "text": [
            "\u001b[1m\u001b[32m   Compiling\u001b[0m my_rust_project2 v0.1.0 (/content/my_rust_project/my_rust_project2)\n",
            "\u001b[1m\u001b[32m    Finished\u001b[0m `dev` profile [unoptimized + debuginfo] target(s) in 0.44s\n",
            "\u001b[1m\u001b[32m     Running\u001b[0m `target/debug/my_rust_project2`\n",
            "مرحباً بالعالم من راست!\n"
          ]
        }
      ]
    },
    {
      "cell_type": "markdown",
      "source": [
        "#####################################"
      ],
      "metadata": {
        "id": "b2NgtBmUCfFy"
      }
    },
    {
      "cell_type": "code",
      "source": [
        "\n",
        "%%writefile src/main.rs\n",
        "fn main() {\n",
        "    println!(\"مرحباً\");\n",
        "}\n",
        "\n",
        "\n"
      ],
      "metadata": {
        "colab": {
          "base_uri": "https://localhost:8080/"
        },
        "id": "5popresSCcIS",
        "outputId": "518eec5f-ce0d-4d03-d1ac-bb6f69a51357"
      },
      "execution_count": 27,
      "outputs": [
        {
          "output_type": "stream",
          "name": "stdout",
          "text": [
            "Overwriting src/main.rs\n"
          ]
        }
      ]
    },
    {
      "cell_type": "code",
      "source": [
        "!cargo run"
      ],
      "metadata": {
        "colab": {
          "base_uri": "https://localhost:8080/"
        },
        "id": "OHz6HOhaCpOK",
        "outputId": "fb6bcbf1-2ab8-4785-98e2-160d975a4bd3"
      },
      "execution_count": 28,
      "outputs": [
        {
          "output_type": "stream",
          "name": "stdout",
          "text": [
            "\u001b[1m\u001b[32m   Compiling\u001b[0m my_rust_project2 v0.1.0 (/content/my_rust_project/my_rust_project2)\n",
            "\u001b[1m\u001b[32m    Finished\u001b[0m `dev` profile [unoptimized + debuginfo] target(s) in 0.32s\n",
            "\u001b[1m\u001b[32m     Running\u001b[0m `target/debug/my_rust_project2`\n",
            "مرحباً\n"
          ]
        }
      ]
    },
    {
      "cell_type": "code",
      "source": [],
      "metadata": {
        "id": "Gjna_9c0DH9K"
      },
      "execution_count": null,
      "outputs": []
    },
    {
      "cell_type": "code",
      "source": [],
      "metadata": {
        "id": "89RVXPkdDH3i"
      },
      "execution_count": null,
      "outputs": []
    },
    {
      "cell_type": "code",
      "source": [],
      "metadata": {
        "id": "98u3KaGJDH0y"
      },
      "execution_count": null,
      "outputs": []
    },
    {
      "cell_type": "markdown",
      "source": [
        "aشغال"
      ],
      "metadata": {
        "id": "3aNyWlrUDsPV"
      }
    },
    {
      "cell_type": "code",
      "source": [
        "%%writefile src/main.rs\n",
        "use std::collections::HashMap;\n",
        "use std::io::{self, Write};\n",
        "\n",
        "// هنا يتم تعريف \"النموذج\" اللغوي البسيط كقاموس (HashMap)\n",
        "// في الواقع، النماذج اللغوية الحقيقية أكثر تعقيدًا بكثير\n",
        "fn load_model() -> HashMap<&'static str, &'static str> {\n",
        "    let mut model = HashMap::new();\n",
        "    model.insert(\"مرحباً\", \"مرحباً بك!\");\n",
        "    model.insert(\"كيف حالك؟\", \"أنا بخير، شكراً لسؤالك.\");\n",
        "    model.insert(\"ما اسمك؟\", \"أنا نموذج لغوي بسيط في Rust.\");\n",
        "    model.insert(\"وداعاً\", \"إلى اللقاء!\");\n",
        "    model\n",
        "}\n",
        "\n",
        "// دالة الاستدلال الأساسية\n",
        "fn infer(model: &HashMap<&'static str, &'static str>, input: &str) -> String {\n",
        "    match model.get(input) {\n",
        "        Some(response) => response.to_string(), // إذا وجدنا إجابة في النموذج\n",
        "        None => \"لا أفهم ما تقصده.\".to_string(), // إذا لم نجد إجابة\n",
        "    }\n",
        "}\n",
        "\n",
        "fn main() {\n",
        "    let model = load_model(); // تحميل \"النموذج\"\n",
        "\n",
        "    println!(\"نموذج لغوي بسيط في Rust - ابدأ المحادثة (اكتب 'وداعاً' للخروج):\");\n",
        "\n",
        "    loop {\n",
        "        print!(\"أنت: \");\n",
        "        io::stdout().flush().unwrap(); // لضمان ظهور \"أنت:\" قبل الإدخال\n",
        "\n",
        "        let mut input = String::new();\n",
        "        io::stdin().read_line(&mut input).unwrap(); // قراءة سطر الإدخال من المستخدم\n",
        "\n",
        "        let input = input.trim(); // إزالة المسافات البيضاء الزائدة في البداية والنهاية\n",
        "\n",
        "        if input == \"وداعاً\" {\n",
        "            println!(\"النموذج: إلى اللقاء!\");\n",
        "            break; // الخروج من الحلقة إذا قال المستخدم \"وداعاً\"\n",
        "        }\n",
        "\n",
        "        let response = infer(&model, input); // إجراء الاستدلال باستخدام النموذج والمدخل\n",
        "        println!(\"النموذج: {}\", response); // طباعة الاستجابة\n",
        "    }\n",
        "}"
      ],
      "metadata": {
        "colab": {
          "base_uri": "https://localhost:8080/"
        },
        "id": "bilfpspBDHxT",
        "outputId": "c487c289-cfd5-4138-fb46-507bfa7ee3a0"
      },
      "execution_count": 29,
      "outputs": [
        {
          "output_type": "stream",
          "name": "stdout",
          "text": [
            "Overwriting src/main.rs\n"
          ]
        }
      ]
    },
    {
      "cell_type": "code",
      "source": [
        "!cargo run"
      ],
      "metadata": {
        "colab": {
          "base_uri": "https://localhost:8080/"
        },
        "id": "yELDweW7DQ_U",
        "outputId": "f80262ee-6b47-4d3a-ca66-996780b99b37"
      },
      "execution_count": 30,
      "outputs": [
        {
          "output_type": "stream",
          "name": "stdout",
          "text": [
            "\u001b[1m\u001b[32m   Compiling\u001b[0m my_rust_project2 v0.1.0 (/content/my_rust_project/my_rust_project2)\n",
            "\u001b[1m\u001b[32m    Finished\u001b[0m `dev` profile [unoptimized + debuginfo] target(s) in 1.17s\n",
            "\u001b[1m\u001b[32m     Running\u001b[0m `target/debug/my_rust_project2`\n",
            "نموذج لغوي بسيط في Rust - ابدأ المحادثة (اكتب 'وداعاً' للخروج):\n",
            "أنت: hi\n",
            "النموذج: لا أفهم ما تقصده.\n",
            "أنت: ^C\n"
          ]
        }
      ]
    },
    {
      "cell_type": "code",
      "source": [
        "%%writefile src/main.rs\n",
        "// **تنبيه: هذا الكود مبسط جدًا وغير مكتمل. يحتاج إلى تفاصيل أكثر بكثير.**\n",
        "\n",
        "use candle_core::{Device, Tensor}; // مكتبة candle\n",
        "// ... مكتبات أخرى لل tokenization، تحميل الملفات، إلخ.\n",
        "\n",
        "fn main() -> Result<(), Box<dyn std::error::Error>> {\n",
        "    let device = Device::cuda_if_available()?; // استخدام GPU إذا كان متاحًا، وإلا CPU\n",
        "\n",
        "    // 1. تحميل أوزان نموذج Llama 3.2 (هذا الجزء معقد ويتطلب معالجة ملفات الأوزان)\n",
        "    // let model_weights = load_llama_weights_from_files(\"path/to/llama_weights\")?;\n",
        "\n",
        "    // 2. تعريف بنية نموذج Llama 3.2 في Rust باستخدام candle (هذا الجزء معقد أيضًا)\n",
        "    // let model = LlamaModel::new(&model_weights, device)?;\n",
        "\n",
        "    // 3. تحميل tokenizer الخاص بـ Llama 3.2\n",
        "    // let tokenizer = load_llama_tokenizer(\"path/to/tokenizer_config\")?;\n",
        "\n",
        "    // 4. معالجة النص المدخل (Tokenization)\n",
        "    let input_text = \"مرحباً بالعالم!\";\n",
        "    // let tokens = tokenizer.encode(input_text)?; // تحويل النص إلى رموز\n",
        "\n",
        "    // **لتبسيط المثال جدًا، نفترض أن لدينا بالفعل رموزًا رقمية كـ Tensor:**\n",
        "    let tokens_tensor = Tensor::new(&[1, 2, 3], &device)?; // رموز افتراضية كمثال\n",
        "\n",
        "    // 5. الاستدلال (Forward pass)\n",
        "    // let output_logits = model.forward(&tokens_tensor)?; // تمرير الرموز عبر النموذج\n",
        "\n",
        "    // **لتبسيط المثال جدًا، نفترض أن لدينا لوجيتات الخرج:**\n",
        "    let output_logits = Tensor::new(&[[0.1, 0.2, 0.7]], &device)?; // لوجيتات افتراضية كمثال\n",
        "\n",
        "    // 6. اختيار الرمز التالي (Sampling) - بسيط جدًا هنا: اختيار الرمز الأعلى احتمالية\n",
        "    let next_token_id = candle_nn::ops::argmax(&output_logits, -1)?;\n",
        "\n",
        "    // 7. فك ترميز الرمز الناتج (Detokenization)\n",
        "    // let generated_text = tokenizer.decode(&[next_token_id])?; // تحويل الرمز إلى نص\n",
        "\n",
        "    println!(\"الرمز التالي المتوقع (كمثال): {:?}\", next_token_id); // في الواقع يجب فك الترميز هنا\n",
        "\n",
        "    Ok(())\n",
        "}"
      ],
      "metadata": {
        "colab": {
          "base_uri": "https://localhost:8080/"
        },
        "id": "vvUAI6UoDRiC",
        "outputId": "2c067ec5-20a9-46ae-e732-8f1b562d6ec2"
      },
      "execution_count": 31,
      "outputs": [
        {
          "output_type": "stream",
          "name": "stdout",
          "text": [
            "Overwriting src/main.rs\n"
          ]
        }
      ]
    },
    {
      "cell_type": "code",
      "source": [
        "!cargo run"
      ],
      "metadata": {
        "colab": {
          "base_uri": "https://localhost:8080/"
        },
        "id": "arjwNDg8DuzL",
        "outputId": "8c737590-2165-4baf-ccf6-a1d236666676"
      },
      "execution_count": 32,
      "outputs": [
        {
          "output_type": "stream",
          "name": "stdout",
          "text": [
            "\u001b[1m\u001b[32m   Compiling\u001b[0m my_rust_project2 v0.1.0 (/content/my_rust_project/my_rust_project2)\n",
            "\u001b[0m\u001b[1m\u001b[38;5;9merror[E0432]\u001b[0m\u001b[0m\u001b[1m: unresolved import `candle_core`\u001b[0m\n",
            "\u001b[0m \u001b[0m\u001b[0m\u001b[1m\u001b[38;5;12m--> \u001b[0m\u001b[0msrc/main.rs:3:5\u001b[0m\n",
            "\u001b[0m  \u001b[0m\u001b[0m\u001b[1m\u001b[38;5;12m|\u001b[0m\n",
            "\u001b[0m\u001b[1m\u001b[38;5;12m3\u001b[0m\u001b[0m \u001b[0m\u001b[0m\u001b[1m\u001b[38;5;12m|\u001b[0m\u001b[0m \u001b[0m\u001b[0muse candle_core::{Device, Tensor}; // مكتبة candle\u001b[0m\n",
            "\u001b[0m  \u001b[0m\u001b[0m\u001b[1m\u001b[38;5;12m|\u001b[0m\u001b[0m     \u001b[0m\u001b[0m\u001b[1m\u001b[38;5;9m^^^^^^^^^^^\u001b[0m\u001b[0m \u001b[0m\u001b[0m\u001b[1m\u001b[38;5;9muse of undeclared crate or module `candle_core`\u001b[0m\n",
            "\n",
            "\u001b[0m\u001b[1m\u001b[38;5;9merror[E0433]\u001b[0m\u001b[0m\u001b[1m: failed to resolve: use of undeclared crate or module `candle_nn`\u001b[0m\n",
            "\u001b[0m  \u001b[0m\u001b[0m\u001b[1m\u001b[38;5;12m--> \u001b[0m\u001b[0msrc/main.rs:32:25\u001b[0m\n",
            "\u001b[0m   \u001b[0m\u001b[0m\u001b[1m\u001b[38;5;12m|\u001b[0m\n",
            "\u001b[0m\u001b[1m\u001b[38;5;12m32\u001b[0m\u001b[0m \u001b[0m\u001b[0m\u001b[1m\u001b[38;5;12m|\u001b[0m\u001b[0m \u001b[0m\u001b[0m    let next_token_id = candle_nn::ops::argmax(&output_logits, -1)?;\u001b[0m\n",
            "\u001b[0m   \u001b[0m\u001b[0m\u001b[1m\u001b[38;5;12m|\u001b[0m\u001b[0m                         \u001b[0m\u001b[0m\u001b[1m\u001b[38;5;9m^^^^^^^^^\u001b[0m\u001b[0m \u001b[0m\u001b[0m\u001b[1m\u001b[38;5;9muse of undeclared crate or module `candle_nn`\u001b[0m\n",
            "\n",
            "\u001b[0m\u001b[1mSome errors have detailed explanations: E0432, E0433.\u001b[0m\n",
            "\u001b[0m\u001b[1mFor more information about an error, try `rustc --explain E0432`.\u001b[0m\n",
            "\u001b[1m\u001b[31merror\u001b[0m\u001b[1m:\u001b[0m could not compile `my_rust_project2` (bin \"my_rust_project2\") due to 2 previous errors\n"
          ]
        }
      ]
    },
    {
      "cell_type": "code",
      "source": [
        "!cargo build"
      ],
      "metadata": {
        "colab": {
          "base_uri": "https://localhost:8080/"
        },
        "id": "ji46ZE3fDws6",
        "outputId": "00c1b337-25bb-4924-b164-af2e64c661c7"
      },
      "execution_count": 33,
      "outputs": [
        {
          "output_type": "stream",
          "name": "stdout",
          "text": [
            "\u001b[1m\u001b[32m    Updating\u001b[0m crates.io index\n",
            "\u001b[1m\u001b[32m     Locking\u001b[0m 84 packages to latest compatible versions\n",
            "\u001b[1m\u001b[36m      Adding\u001b[0m autocfg v1.4.0\n",
            "\u001b[1m\u001b[36m      Adding\u001b[0m bitflags v1.3.2\n",
            "\u001b[1m\u001b[36m      Adding\u001b[0m bitflags v2.8.0\n",
            "\u001b[1m\u001b[36m      Adding\u001b[0m bytemuck v1.21.0\n",
            "\u001b[1m\u001b[36m      Adding\u001b[0m bytemuck_derive v1.8.1\n",
            "\u001b[1m\u001b[36m      Adding\u001b[0m byteorder v1.5.0\n",
            "\u001b[1m\u001b[36m      Adding\u001b[0m candle-core v0.3.3 \u001b[1m\u001b[33m(available: v0.8.2)\u001b[0m\n",
            "\u001b[1m\u001b[36m      Adding\u001b[0m candle-nn v0.3.3 \u001b[1m\u001b[33m(available: v0.8.2)\u001b[0m\n",
            "\u001b[1m\u001b[36m      Adding\u001b[0m cfg-if v1.0.0\n",
            "\u001b[1m\u001b[36m      Adding\u001b[0m crc32fast v1.4.2\n",
            "\u001b[1m\u001b[36m      Adding\u001b[0m crossbeam-deque v0.8.6\n",
            "\u001b[1m\u001b[36m      Adding\u001b[0m crossbeam-epoch v0.9.18\n",
            "\u001b[1m\u001b[36m      Adding\u001b[0m crossbeam-utils v0.8.21\n",
            "\u001b[1m\u001b[36m      Adding\u001b[0m crunchy v0.2.3\n",
            "\u001b[1m\u001b[36m      Adding\u001b[0m dyn-stack v0.10.0\n",
            "\u001b[1m\u001b[36m      Adding\u001b[0m either v1.13.0\n",
            "\u001b[1m\u001b[36m      Adding\u001b[0m enum-as-inner v0.6.1\n",
            "\u001b[1m\u001b[36m      Adding\u001b[0m gemm v0.17.1\n",
            "\u001b[1m\u001b[36m      Adding\u001b[0m gemm-c32 v0.17.1\n",
            "\u001b[1m\u001b[36m      Adding\u001b[0m gemm-c64 v0.17.1\n",
            "\u001b[1m\u001b[36m      Adding\u001b[0m gemm-common v0.17.1\n",
            "\u001b[1m\u001b[36m      Adding\u001b[0m gemm-f16 v0.17.1\n",
            "\u001b[1m\u001b[36m      Adding\u001b[0m gemm-f32 v0.17.1\n",
            "\u001b[1m\u001b[36m      Adding\u001b[0m gemm-f64 v0.17.1\n",
            "\u001b[1m\u001b[36m      Adding\u001b[0m getrandom v0.2.15\n",
            "\u001b[1m\u001b[36m      Adding\u001b[0m half v2.4.1\n",
            "\u001b[1m\u001b[36m      Adding\u001b[0m heck v0.5.0\n",
            "\u001b[1m\u001b[36m      Adding\u001b[0m hermit-abi v0.3.9\n",
            "\u001b[1m\u001b[36m      Adding\u001b[0m itoa v1.0.14\n",
            "\u001b[1m\u001b[36m      Adding\u001b[0m libc v0.2.169\n",
            "\u001b[1m\u001b[36m      Adding\u001b[0m libm v0.2.11\n",
            "\u001b[1m\u001b[36m      Adding\u001b[0m memchr v2.7.4\n",
            "\u001b[1m\u001b[36m      Adding\u001b[0m memmap2 v0.9.5\n",
            "\u001b[1m\u001b[36m      Adding\u001b[0m num-complex v0.4.6\n",
            "\u001b[1m\u001b[36m      Adding\u001b[0m num-traits v0.2.19\n",
            "\u001b[1m\u001b[36m      Adding\u001b[0m num_cpus v1.16.0\n",
            "\u001b[1m\u001b[36m      Adding\u001b[0m once_cell v1.20.3\n",
            "\u001b[1m\u001b[36m      Adding\u001b[0m paste v1.0.15\n",
            "\u001b[1m\u001b[36m      Adding\u001b[0m ppv-lite86 v0.2.20\n",
            "\u001b[1m\u001b[36m      Adding\u001b[0m proc-macro2 v1.0.93\n",
            "\u001b[1m\u001b[36m      Adding\u001b[0m pulp v0.18.22\n",
            "\u001b[1m\u001b[36m      Adding\u001b[0m quote v1.0.38\n",
            "\u001b[1m\u001b[36m      Adding\u001b[0m rand v0.8.5\n",
            "\u001b[1m\u001b[36m      Adding\u001b[0m rand_chacha v0.3.1\n",
            "\u001b[1m\u001b[36m      Adding\u001b[0m rand_core v0.6.4\n",
            "\u001b[1m\u001b[36m      Adding\u001b[0m rand_distr v0.4.3\n",
            "\u001b[1m\u001b[36m      Adding\u001b[0m raw-cpuid v10.7.0\n",
            "\u001b[1m\u001b[36m      Adding\u001b[0m rayon v1.10.0\n",
            "\u001b[1m\u001b[36m      Adding\u001b[0m rayon-core v1.12.1\n",
            "\u001b[1m\u001b[36m      Adding\u001b[0m reborrow v0.5.5\n",
            "\u001b[1m\u001b[36m      Adding\u001b[0m ryu v1.0.19\n",
            "\u001b[1m\u001b[36m      Adding\u001b[0m safetensors v0.4.5\n",
            "\u001b[1m\u001b[36m      Adding\u001b[0m same-file v1.0.6\n",
            "\u001b[1m\u001b[36m      Adding\u001b[0m seq-macro v0.3.5\n",
            "\u001b[1m\u001b[36m      Adding\u001b[0m serde v1.0.217\n",
            "\u001b[1m\u001b[36m      Adding\u001b[0m serde_derive v1.0.217\n",
            "\u001b[1m\u001b[36m      Adding\u001b[0m serde_json v1.0.138\n",
            "\u001b[1m\u001b[36m      Adding\u001b[0m stable_deref_trait v1.2.0\n",
            "\u001b[1m\u001b[36m      Adding\u001b[0m syn v2.0.98\n",
            "\u001b[1m\u001b[36m      Adding\u001b[0m synstructure v0.13.1\n",
            "\u001b[1m\u001b[36m      Adding\u001b[0m sysctl v0.5.5\n",
            "\u001b[1m\u001b[36m      Adding\u001b[0m thiserror v1.0.69\n",
            "\u001b[1m\u001b[36m      Adding\u001b[0m thiserror-impl v1.0.69\n",
            "\u001b[1m\u001b[36m      Adding\u001b[0m unicode-ident v1.0.16\n",
            "\u001b[1m\u001b[36m      Adding\u001b[0m walkdir v2.5.0\n",
            "\u001b[1m\u001b[36m      Adding\u001b[0m wasi v0.11.0+wasi-snapshot-preview1\n",
            "\u001b[1m\u001b[36m      Adding\u001b[0m winapi-util v0.1.9\n",
            "\u001b[1m\u001b[36m      Adding\u001b[0m windows-sys v0.59.0\n",
            "\u001b[1m\u001b[36m      Adding\u001b[0m windows-targets v0.52.6\n",
            "\u001b[1m\u001b[36m      Adding\u001b[0m windows_aarch64_gnullvm v0.52.6\n",
            "\u001b[1m\u001b[36m      Adding\u001b[0m windows_aarch64_msvc v0.52.6\n",
            "\u001b[1m\u001b[36m      Adding\u001b[0m windows_i686_gnu v0.52.6\n",
            "\u001b[1m\u001b[36m      Adding\u001b[0m windows_i686_gnullvm v0.52.6\n",
            "\u001b[1m\u001b[36m      Adding\u001b[0m windows_i686_msvc v0.52.6\n",
            "\u001b[1m\u001b[36m      Adding\u001b[0m windows_x86_64_gnu v0.52.6\n",
            "\u001b[1m\u001b[36m      Adding\u001b[0m windows_x86_64_gnullvm v0.52.6\n",
            "\u001b[1m\u001b[36m      Adding\u001b[0m windows_x86_64_msvc v0.52.6\n",
            "\u001b[1m\u001b[36m      Adding\u001b[0m yoke v0.7.5\n",
            "\u001b[1m\u001b[36m      Adding\u001b[0m yoke-derive v0.7.5\n",
            "\u001b[1m\u001b[36m      Adding\u001b[0m zerocopy v0.7.35\n",
            "\u001b[1m\u001b[36m      Adding\u001b[0m zerocopy-derive v0.7.35\n",
            "\u001b[1m\u001b[36m      Adding\u001b[0m zerofrom v0.1.5\n",
            "\u001b[1m\u001b[36m      Adding\u001b[0m zerofrom-derive v0.1.5\n",
            "\u001b[1m\u001b[36m      Adding\u001b[0m zip v0.6.6\n",
            "\u001b[1m\u001b[32m Downloading\u001b[0m crates ...\n",
            "\u001b[1m\u001b[32m  Downloaded\u001b[0m gemm-c32 v0.17.1\n",
            "\u001b[1m\u001b[32m  Downloaded\u001b[0m gemm-f16 v0.17.1\n",
            "\u001b[1m\u001b[32m  Downloaded\u001b[0m byteorder v1.5.0\n",
            "\u001b[1m\u001b[32m  Downloaded\u001b[0m reborrow v0.5.5\n",
            "\u001b[1m\u001b[32m  Downloaded\u001b[0m gemm-f64 v0.17.1\n",
            "\u001b[1m\u001b[32m  Downloaded\u001b[0m cfg-if v1.0.0\n",
            "\u001b[1m\u001b[32m  Downloaded\u001b[0m bytemuck_derive v1.8.1\n",
            "\u001b[1m\u001b[32m  Downloaded\u001b[0m zerofrom v0.1.5\n",
            "\u001b[1m\u001b[32m  Downloaded\u001b[0m crossbeam-deque v0.8.6\n",
            "\u001b[1m\u001b[32m  Downloaded\u001b[0m autocfg v1.4.0\n",
            "\u001b[1m\u001b[32m  Downloaded\u001b[0m zerofrom-derive v0.1.5\n",
            "\u001b[1m\u001b[32m  Downloaded\u001b[0m stable_deref_trait v1.2.0\n",
            "\u001b[1m\u001b[32m  Downloaded\u001b[0m bitflags v1.3.2\n",
            "\u001b[1m\u001b[32m  Downloaded\u001b[0m zerocopy-derive v0.7.35\n",
            "\u001b[1m\u001b[32m  Downloaded\u001b[0m unicode-ident v1.0.16\n",
            "\u001b[1m\u001b[32m  Downloaded\u001b[0m zip v0.6.6\n",
            "\u001b[1m\u001b[32m  Downloaded\u001b[0m rayon-core v1.12.1\n",
            "\u001b[1m\u001b[32m  Downloaded\u001b[0m serde v1.0.217\n",
            "\u001b[1m\u001b[32m  Downloaded\u001b[0m zerocopy v0.7.35\n",
            "\u001b[1m\u001b[32m  Downloaded\u001b[0m serde_json v1.0.138\n",
            "\u001b[1m\u001b[32m  Downloaded\u001b[0m rayon v1.10.0\n",
            "\u001b[1m\u001b[32m  Downloaded\u001b[0m candle-core v0.3.3\n",
            "\u001b[1m\u001b[32m  Downloaded\u001b[0m raw-cpuid v10.7.0\n",
            "\u001b[1m\u001b[32m  Downloaded\u001b[0m pulp v0.18.22\n",
            "\u001b[1m\u001b[32m  Downloaded\u001b[0m memchr v2.7.4\n",
            "\u001b[1m\u001b[32m  Downloaded\u001b[0m libm v0.2.11\n",
            "\u001b[1m\u001b[32m  Downloaded\u001b[0m syn v2.0.98\n",
            "\u001b[1m\u001b[32m  Downloaded\u001b[0m rand v0.8.5\n",
            "\u001b[1m\u001b[32m  Downloaded\u001b[0m rand_distr v0.4.3\n",
            "\u001b[1m\u001b[32m  Downloaded\u001b[0m num-traits v0.2.19\n",
            "\u001b[1m\u001b[32m  Downloaded\u001b[0m crossbeam-utils v0.8.21\n",
            "\u001b[1m\u001b[32m  Downloaded\u001b[0m crossbeam-epoch v0.9.18\n",
            "\u001b[1m\u001b[32m  Downloaded\u001b[0m getrandom v0.2.15\n",
            "\u001b[1m\u001b[32m  Downloaded\u001b[0m candle-nn v0.3.3\n",
            "\u001b[1m\u001b[32m  Downloaded\u001b[0m serde_derive v1.0.217\n",
            "\u001b[1m\u001b[32m  Downloaded\u001b[0m proc-macro2 v1.0.93\n",
            "\u001b[1m\u001b[32m  Downloaded\u001b[0m once_cell v1.20.3\n",
            "\u001b[1m\u001b[32m  Downloaded\u001b[0m memmap2 v0.9.5\n",
            "\u001b[1m\u001b[32m  Downloaded\u001b[0m half v2.4.1\n",
            "\u001b[1m\u001b[32m  Downloaded\u001b[0m gemm v0.17.1\n",
            "\u001b[1m\u001b[32m  Downloaded\u001b[0m crc32fast v1.4.2\n",
            "\u001b[1m\u001b[32m  Downloaded\u001b[0m yoke v0.7.5\n",
            "\u001b[1m\u001b[32m  Downloaded\u001b[0m safetensors v0.4.5\n",
            "\u001b[1m\u001b[32m  Downloaded\u001b[0m ryu v1.0.19\n",
            "\u001b[1m\u001b[32m  Downloaded\u001b[0m quote v1.0.38\n",
            "\u001b[1m\u001b[32m  Downloaded\u001b[0m num-complex v0.4.6\n",
            "\u001b[1m\u001b[32m  Downloaded\u001b[0m libc v0.2.169\n",
            "\u001b[1m\u001b[32m  Downloaded\u001b[0m gemm-common v0.17.1\n",
            "\u001b[1m\u001b[32m  Downloaded\u001b[0m ppv-lite86 v0.2.20\n",
            "\u001b[1m\u001b[32m  Downloaded\u001b[0m dyn-stack v0.10.0\n",
            "\u001b[1m\u001b[32m  Downloaded\u001b[0m bytemuck v1.21.0\n",
            "\u001b[1m\u001b[32m  Downloaded\u001b[0m yoke-derive v0.7.5\n",
            "\u001b[1m\u001b[32m  Downloaded\u001b[0m thiserror v1.0.69\n",
            "\u001b[1m\u001b[32m  Downloaded\u001b[0m synstructure v0.13.1\n",
            "\u001b[1m\u001b[32m  Downloaded\u001b[0m seq-macro v0.3.5\n",
            "\u001b[1m\u001b[32m  Downloaded\u001b[0m rand_core v0.6.4\n",
            "\u001b[1m\u001b[32m  Downloaded\u001b[0m rand_chacha v0.3.1\n",
            "\u001b[1m\u001b[32m  Downloaded\u001b[0m thiserror-impl v1.0.69\n",
            "\u001b[1m\u001b[32m  Downloaded\u001b[0m paste v1.0.15\n",
            "\u001b[1m\u001b[32m  Downloaded\u001b[0m num_cpus v1.16.0\n",
            "\u001b[1m\u001b[32m  Downloaded\u001b[0m itoa v1.0.14\n",
            "\u001b[1m\u001b[32m  Downloaded\u001b[0m gemm-f32 v0.17.1\n",
            "\u001b[1m\u001b[32m  Downloaded\u001b[0m gemm-c64 v0.17.1\n",
            "\u001b[1m\u001b[32m  Downloaded\u001b[0m either v1.13.0\n",
            "\u001b[1m\u001b[32m   Compiling\u001b[0m proc-macro2 v1.0.93\n",
            "\u001b[1m\u001b[32m   Compiling\u001b[0m unicode-ident v1.0.16\n",
            "\u001b[1m\u001b[32m   Compiling\u001b[0m libc v0.2.169\n",
            "\u001b[1m\u001b[32m   Compiling\u001b[0m quote v1.0.38\n",
            "\u001b[1m\u001b[32m   Compiling\u001b[0m cfg-if v1.0.0\n",
            "\u001b[1m\u001b[32m   Compiling\u001b[0m libm v0.2.11\n",
            "\u001b[1m\u001b[32m   Compiling\u001b[0m syn v2.0.98\n",
            "\u001b[1m\u001b[32m   Compiling\u001b[0m autocfg v1.4.0\n",
            "\u001b[1m\u001b[32m   Compiling\u001b[0m byteorder v1.5.0\n",
            "\u001b[1m\u001b[32m   Compiling\u001b[0m num-traits v0.2.19\n",
            "\u001b[1m\u001b[32m   Compiling\u001b[0m crossbeam-utils v0.8.21\n",
            "\u001b[1m\u001b[32m   Compiling\u001b[0m getrandom v0.2.15\n",
            "\u001b[1m\u001b[32m   Compiling\u001b[0m rand_core v0.6.4\n",
            "\u001b[1m\u001b[32m   Compiling\u001b[0m zerocopy-derive v0.7.35\n",
            "\u001b[1m\u001b[32m   Compiling\u001b[0m bytemuck_derive v1.8.1\n",
            "\u001b[1m\u001b[32m   Compiling\u001b[0m zerocopy v0.7.35\n",
            "\u001b[1m\u001b[32m   Compiling\u001b[0m bytemuck v1.21.0\n",
            "\u001b[1m\u001b[32m   Compiling\u001b[0m ppv-lite86 v0.2.20\n",
            "\u001b[1m\u001b[32m   Compiling\u001b[0m crossbeam-epoch v0.9.18\n",
            "\u001b[1m\u001b[32m   Compiling\u001b[0m rand_chacha v0.3.1\n",
            "\u001b[1m\u001b[32m   Compiling\u001b[0m rayon-core v1.12.1\n",
            "\u001b[1m\u001b[32m   Compiling\u001b[0m rand v0.8.5\n",
            "\u001b[1m\u001b[32m   Compiling\u001b[0m crossbeam-deque v0.8.6\n",
            "\u001b[1m\u001b[32m   Compiling\u001b[0m paste v1.0.15\n",
            "\u001b[1m\u001b[32m   Compiling\u001b[0m reborrow v0.5.5\n",
            "\u001b[1m\u001b[32m   Compiling\u001b[0m rand_distr v0.4.3\n",
            "\u001b[1m\u001b[32m   Compiling\u001b[0m num-complex v0.4.6\n",
            "\u001b[1m\u001b[32m   Compiling\u001b[0m either v1.13.0\n",
            "\u001b[1m\u001b[32m   Compiling\u001b[0m bitflags v1.3.2\n",
            "\u001b[1m\u001b[32m   Compiling\u001b[0m raw-cpuid v10.7.0\n",
            "\u001b[1m\u001b[32m   Compiling\u001b[0m rayon v1.10.0\n",
            "\u001b[1m\u001b[32m   Compiling\u001b[0m pulp v0.18.22\n",
            "\u001b[1m\u001b[32m   Compiling\u001b[0m half v2.4.1\n",
            "\u001b[1m\u001b[32m   Compiling\u001b[0m dyn-stack v0.10.0\n",
            "\u001b[1m\u001b[32m   Compiling\u001b[0m seq-macro v0.3.5\n",
            "\u001b[1m\u001b[32m   Compiling\u001b[0m once_cell v1.20.3\n",
            "\u001b[1m\u001b[32m   Compiling\u001b[0m synstructure v0.13.1\n",
            "\u001b[1m\u001b[32m   Compiling\u001b[0m gemm-common v0.17.1\n",
            "\u001b[1m\u001b[32m   Compiling\u001b[0m serde v1.0.217\n",
            "\u001b[1m\u001b[32m   Compiling\u001b[0m serde_derive v1.0.217\n",
            "\u001b[1m\u001b[32m   Compiling\u001b[0m serde_json v1.0.138\n",
            "\u001b[1m\u001b[32m   Compiling\u001b[0m zerofrom-derive v0.1.5\n",
            "\u001b[1m\u001b[32m   Compiling\u001b[0m gemm-f32 v0.17.1\n",
            "\u001b[1m\u001b[32m   Compiling\u001b[0m stable_deref_trait v1.2.0\n",
            "\u001b[1m\u001b[32m   Compiling\u001b[0m ryu v1.0.19\n",
            "\u001b[1m\u001b[32m   Compiling\u001b[0m thiserror v1.0.69\n",
            "\u001b[1m\u001b[32m   Compiling\u001b[0m memchr v2.7.4\n",
            "\u001b[1m\u001b[32m   Compiling\u001b[0m itoa v1.0.14\n",
            "\u001b[1m\u001b[32m   Compiling\u001b[0m gemm-f16 v0.17.1\n",
            "\u001b[1m\u001b[32m   Compiling\u001b[0m zerofrom v0.1.5\n",
            "\u001b[1m\u001b[32m   Compiling\u001b[0m yoke-derive v0.7.5\n",
            "\u001b[1m\u001b[32m   Compiling\u001b[0m gemm-c32 v0.17.1\n",
            "\u001b[1m\u001b[32m   Compiling\u001b[0m gemm-f64 v0.17.1\n",
            "\u001b[1m\u001b[32m   Compiling\u001b[0m gemm-c64 v0.17.1\n",
            "\u001b[1m\u001b[32m   Compiling\u001b[0m thiserror-impl v1.0.69\n",
            "\u001b[1m\u001b[32m   Compiling\u001b[0m crc32fast v1.4.2\n",
            "\u001b[1m\u001b[32m   Compiling\u001b[0m zip v0.6.6\n",
            "\u001b[1m\u001b[32m   Compiling\u001b[0m gemm v0.17.1\n",
            "\u001b[1m\u001b[32m   Compiling\u001b[0m safetensors v0.4.5\n",
            "\u001b[1m\u001b[32m   Compiling\u001b[0m yoke v0.7.5\n",
            "\u001b[1m\u001b[32m   Compiling\u001b[0m memmap2 v0.9.5\n",
            "\u001b[1m\u001b[32m   Compiling\u001b[0m num_cpus v1.16.0\n",
            "\u001b[1m\u001b[32m   Compiling\u001b[0m candle-core v0.3.3\n",
            "\u001b[1m\u001b[32m   Compiling\u001b[0m candle-nn v0.3.3\n",
            "\u001b[1m\u001b[32m   Compiling\u001b[0m my_rust_project2 v0.1.0 (/content/my_rust_project/my_rust_project2)\n",
            "\u001b[0m\u001b[1m\u001b[38;5;9merror[E0425]\u001b[0m\u001b[0m\u001b[1m: cannot find function `argmax` in module `candle_nn::ops`\u001b[0m\n",
            "\u001b[0m  \u001b[0m\u001b[0m\u001b[1m\u001b[38;5;12m--> \u001b[0m\u001b[0msrc/main.rs:32:41\u001b[0m\n",
            "\u001b[0m   \u001b[0m\u001b[0m\u001b[1m\u001b[38;5;12m|\u001b[0m\n",
            "\u001b[0m\u001b[1m\u001b[38;5;12m32\u001b[0m\u001b[0m \u001b[0m\u001b[0m\u001b[1m\u001b[38;5;12m|\u001b[0m\u001b[0m \u001b[0m\u001b[0m    let next_token_id = candle_nn::ops::argmax(&output_logits, -1)?;\u001b[0m\n",
            "\u001b[0m   \u001b[0m\u001b[0m\u001b[1m\u001b[38;5;12m|\u001b[0m\u001b[0m                                         \u001b[0m\u001b[0m\u001b[1m\u001b[38;5;9m^^^^^^\u001b[0m\u001b[0m \u001b[0m\u001b[0m\u001b[1m\u001b[38;5;9mnot found in `candle_nn::ops`\u001b[0m\n",
            "\n",
            "\u001b[0m\u001b[1m\u001b[38;5;9merror[E0061]\u001b[0m\u001b[0m\u001b[1m: this function takes 1 argument but 0 arguments were supplied\u001b[0m\n",
            "\u001b[0m   \u001b[0m\u001b[0m\u001b[1m\u001b[38;5;12m--> \u001b[0m\u001b[0msrc/main.rs:7:18\u001b[0m\n",
            "\u001b[0m    \u001b[0m\u001b[0m\u001b[1m\u001b[38;5;12m|\u001b[0m\n",
            "\u001b[0m\u001b[1m\u001b[38;5;12m7\u001b[0m\u001b[0m   \u001b[0m\u001b[0m\u001b[1m\u001b[38;5;12m|\u001b[0m\u001b[0m \u001b[0m\u001b[0m    let device = Device::cuda_if_available()?; // استخدام GPU إذا كان متاحًا، وإلا CPU\u001b[0m\n",
            "\u001b[0m    \u001b[0m\u001b[0m\u001b[1m\u001b[38;5;12m|\u001b[0m\u001b[0m                  \u001b[0m\u001b[0m\u001b[1m\u001b[38;5;9m^^^^^^^^^^^^^^^^^^^^^^^^^\u001b[0m\u001b[0m\u001b[1m\u001b[38;5;12m--\u001b[0m\u001b[0m \u001b[0m\u001b[0m\u001b[1m\u001b[38;5;12margument #1 of type `usize` is missing\u001b[0m\n",
            "\u001b[0m    \u001b[0m\u001b[0m\u001b[1m\u001b[38;5;12m|\u001b[0m\n",
            "\u001b[0m\u001b[1m\u001b[38;5;10mnote\u001b[0m\u001b[0m: associated function defined here\u001b[0m\n",
            "\u001b[0m   \u001b[0m\u001b[0m\u001b[1m\u001b[38;5;12m--> \u001b[0m\u001b[0m/root/.cargo/registry/src/index.crates.io-6f17d22bba15001f/candle-core-0.3.3/src/device.rs:174:12\u001b[0m\n",
            "\u001b[0m    \u001b[0m\u001b[0m\u001b[1m\u001b[38;5;12m|\u001b[0m\n",
            "\u001b[0m\u001b[1m\u001b[38;5;12m174\u001b[0m\u001b[0m \u001b[0m\u001b[0m\u001b[1m\u001b[38;5;12m|\u001b[0m\u001b[0m \u001b[0m\u001b[0m    pub fn cuda_if_available(ordinal: usize) -> Result<Self> {\u001b[0m\n",
            "\u001b[0m    \u001b[0m\u001b[0m\u001b[1m\u001b[38;5;12m|\u001b[0m\u001b[0m            \u001b[0m\u001b[0m\u001b[1m\u001b[38;5;10m^^^^^^^^^^^^^^^^^\u001b[0m\n",
            "\u001b[0m\u001b[1m\u001b[38;5;14mhelp\u001b[0m\u001b[0m: provide the argument\u001b[0m\n",
            "\u001b[0m    \u001b[0m\u001b[0m\u001b[1m\u001b[38;5;12m|\u001b[0m\n",
            "\u001b[0m\u001b[1m\u001b[38;5;12m7\u001b[0m\u001b[0m   \u001b[0m\u001b[0m\u001b[1m\u001b[38;5;12m| \u001b[0m\u001b[0m    let device = Device::cuda_if_available\u001b[0m\u001b[0m\u001b[38;5;10m(/* usize */)\u001b[0m\u001b[0m?; // استخدام GPU إذا كان متاحًا، وإلا CPU\u001b[0m\n",
            "\u001b[0m    \u001b[0m\u001b[0m\u001b[1m\u001b[38;5;12m|\u001b[0m\u001b[0m                                           \u001b[0m\u001b[0m\u001b[38;5;10m~~~~~~~~~~~~~\u001b[0m\n",
            "\n",
            "\u001b[0m\u001b[1mSome errors have detailed explanations: E0061, E0425.\u001b[0m\n",
            "\u001b[0m\u001b[1mFor more information about an error, try `rustc --explain E0061`.\u001b[0m\n",
            "\u001b[1m\u001b[31merror\u001b[0m\u001b[1m:\u001b[0m could not compile `my_rust_project2` (bin \"my_rust_project2\") due to 2 previous errors\n"
          ]
        }
      ]
    },
    {
      "cell_type": "code",
      "source": [
        "%%writefile src/main.rs\n",
        "use std::collections::HashMap;\n",
        "use std::io::{self, Write};\n",
        "\n",
        "use candle_core::{Device, Tensor, ops}; // استيراد ops من candle_core بدلاً من candle_nn::ops\n",
        "\n",
        "// هنا يتم تعريف \"النموذج\" اللغوي البسيط كقاموس (HashMap)\n",
        "// في الواقع، النماذج اللغوية الحقيقية أكثر تعقيدًا بكثير\n",
        "fn load_model() -> HashMap<&'static str, &'static str> {\n",
        "    let mut model = HashMap::new();\n",
        "    model.insert(\"مرحباً\", \"مرحباً بك!\");\n",
        "    model.insert(\"كيف حالك؟\", \"أنا بخير، شكراً لسؤالك.\");\n",
        "    model.insert(\"ما اسمك؟\", \"أنا نموذج لغوي بسيط في Rust.\");\n",
        "    model.insert(\"وداعاً\", \"إلى اللقاء!\");\n",
        "    model\n",
        "}\n",
        "\n",
        "// دالة الاستدلال الأساسية\n",
        "fn infer(model: &HashMap<&'static str, &'static str>, input: &str) -> String {\n",
        "    match model.get(input) {\n",
        "        Some(response) => response.to_string(), // إذا وجدنا إجابة في النموذج\n",
        "        None => \"لا أفهم ما تقصده.\".to_string(), // إذا لم نجد إجابة\n",
        "    }\n",
        "}\n",
        "\n",
        "fn main() -> Result<(), Box<dyn std::error::Error>> { // إضافة Result<(), Error> للتعامل مع الأخطاء المحتملة\n",
        "    let device = Device::cuda_if_available(0)?; // استخدام GPU إذا كان متاحًا، وإلا CPU، وإضافة الوسيط 0\n",
        "    let model = load_model(); // تحميل \"النموذج\"\n",
        "\n",
        "    println!(\"نموذج لغوي بسيط في Rust - ابدأ المحادثة (اكتب 'وداعاً' للخروج):\");\n",
        "\n",
        "    loop {\n",
        "        print!(\"أنت: \");\n",
        "        io::stdout().flush().unwrap(); // لضمان ظهور \"أنت:\" قبل الإدخال\n",
        "\n",
        "        let mut input = String::new();\n",
        "        io::stdin().read_line(&mut input).unwrap(); // قراءة سطر الإدخال من المستخدم\n",
        "\n",
        "        let input = input.trim(); // إزالة المسافات البيضاء الزائدة في البداية والنهاية\n",
        "\n",
        "        if input == \"وداعاً\" {\n",
        "            println!(\"النموذج: إلى اللقاء!\");\n",
        "            break; // الخروج من الحلقة إذا قال المستخدم \"وداعاً\"\n",
        "        }\n",
        "\n",
        "        let response = infer(&model, input); // إجراء الاستدلال باستخدام النموذج والمدخل\n",
        "        println!(\"النموذج: {}\", response); // طباعة الاستجابة\n",
        "    }\n",
        "    Ok(()) // إضافة Ok(()) لإرجاع نتيجة ناجحة من دالة main\n",
        "}"
      ],
      "metadata": {
        "colab": {
          "base_uri": "https://localhost:8080/"
        },
        "id": "6J3FgZVCFR20",
        "outputId": "f920b2ed-1d4c-43cb-838b-8e5355c813aa"
      },
      "execution_count": 35,
      "outputs": [
        {
          "output_type": "stream",
          "name": "stdout",
          "text": [
            "Writing src/main.rs\n"
          ]
        }
      ]
    },
    {
      "cell_type": "code",
      "source": [
        "!cargo run"
      ],
      "metadata": {
        "colab": {
          "base_uri": "https://localhost:8080/"
        },
        "id": "rm2VKMEBEJQD",
        "outputId": "9e9c8a15-fce5-4a20-d58d-2284a9f2cac9"
      },
      "execution_count": 36,
      "outputs": [
        {
          "output_type": "stream",
          "name": "stdout",
          "text": [
            "\u001b[1m\u001b[32m   Compiling\u001b[0m my_rust_project2 v0.1.0 (/content/my_rust_project/my_rust_project2)\n",
            "\u001b[0m\u001b[1m\u001b[38;5;9merror[E0432]\u001b[0m\u001b[0m\u001b[1m: unresolved import `candle_core::ops`\u001b[0m\n",
            "\u001b[0m \u001b[0m\u001b[0m\u001b[1m\u001b[38;5;12m--> \u001b[0m\u001b[0msrc/main.rs:4:35\u001b[0m\n",
            "\u001b[0m  \u001b[0m\u001b[0m\u001b[1m\u001b[38;5;12m|\u001b[0m\n",
            "\u001b[0m\u001b[1m\u001b[38;5;12m4\u001b[0m\u001b[0m \u001b[0m\u001b[0m\u001b[1m\u001b[38;5;12m|\u001b[0m\u001b[0m \u001b[0m\u001b[0muse candle_core::{Device, Tensor, ops}; // استيراد ops من candle_core بدلاً من candle_nn::ops\u001b[0m\n",
            "\u001b[0m  \u001b[0m\u001b[0m\u001b[1m\u001b[38;5;12m|\u001b[0m\u001b[0m                                   \u001b[0m\u001b[0m\u001b[1m\u001b[38;5;9m^^^\u001b[0m\n",
            "\u001b[0m  \u001b[0m\u001b[0m\u001b[1m\u001b[38;5;12m|\u001b[0m\u001b[0m                                   \u001b[0m\u001b[0m\u001b[1m\u001b[38;5;9m|\u001b[0m\n",
            "\u001b[0m  \u001b[0m\u001b[0m\u001b[1m\u001b[38;5;12m|\u001b[0m\u001b[0m                                   \u001b[0m\u001b[0m\u001b[1m\u001b[38;5;9mno `ops` in the root\u001b[0m\n",
            "\u001b[0m  \u001b[0m\u001b[0m\u001b[1m\u001b[38;5;12m|\u001b[0m\u001b[0m                                   \u001b[0m\u001b[0m\u001b[1m\u001b[38;5;9mhelp: a similar name exists in the module: `op`\u001b[0m\n",
            "\u001b[0m  \u001b[0m\u001b[0m\u001b[1m\u001b[38;5;12m|\u001b[0m\n",
            "\u001b[0m  \u001b[0m\u001b[0m\u001b[1m\u001b[38;5;12m= \u001b[0m\u001b[0m\u001b[1mhelp\u001b[0m\u001b[0m: consider importing one of these modules instead:\u001b[0m\n",
            "\u001b[0m          std::ops\u001b[0m\n",
            "\u001b[0m          candle_nn::ops\u001b[0m\n",
            "\n",
            "\u001b[0m\u001b[1m\u001b[33mwarning\u001b[0m\u001b[0m\u001b[1m: unused import: `Tensor`\u001b[0m\n",
            "\u001b[0m \u001b[0m\u001b[0m\u001b[1m\u001b[38;5;12m--> \u001b[0m\u001b[0msrc/main.rs:4:27\u001b[0m\n",
            "\u001b[0m  \u001b[0m\u001b[0m\u001b[1m\u001b[38;5;12m|\u001b[0m\n",
            "\u001b[0m\u001b[1m\u001b[38;5;12m4\u001b[0m\u001b[0m \u001b[0m\u001b[0m\u001b[1m\u001b[38;5;12m|\u001b[0m\u001b[0m \u001b[0m\u001b[0muse candle_core::{Device, Tensor, ops}; // استيراد ops من candle_core بدلاً من candle_nn::ops\u001b[0m\n",
            "\u001b[0m  \u001b[0m\u001b[0m\u001b[1m\u001b[38;5;12m|\u001b[0m\u001b[0m                           \u001b[0m\u001b[0m\u001b[1m\u001b[33m^^^^^^\u001b[0m\n",
            "\u001b[0m  \u001b[0m\u001b[0m\u001b[1m\u001b[38;5;12m|\u001b[0m\n",
            "\u001b[0m  \u001b[0m\u001b[0m\u001b[1m\u001b[38;5;12m= \u001b[0m\u001b[0m\u001b[1mnote\u001b[0m\u001b[0m: `#[warn(unused_imports)]` on by default\u001b[0m\n",
            "\n",
            "\u001b[0m\u001b[1m\u001b[33mwarning\u001b[0m\u001b[0m\u001b[1m: unused variable: `device`\u001b[0m\n",
            "\u001b[0m  \u001b[0m\u001b[0m\u001b[1m\u001b[38;5;12m--> \u001b[0m\u001b[0msrc/main.rs:26:9\u001b[0m\n",
            "\u001b[0m   \u001b[0m\u001b[0m\u001b[1m\u001b[38;5;12m|\u001b[0m\n",
            "\u001b[0m\u001b[1m\u001b[38;5;12m26\u001b[0m\u001b[0m \u001b[0m\u001b[0m\u001b[1m\u001b[38;5;12m|\u001b[0m\u001b[0m \u001b[0m\u001b[0m    let device = Device::cuda_if_available(0)?; // استخدام GPU إذا كان متاحًا، وإلا CPU، وإضافة الوس\u001b[0m\u001b[0m\u001b[1m\u001b[38;5;12m...\u001b[0m\u001b[0m0\u001b[0m\n",
            "\u001b[0m   \u001b[0m\u001b[0m\u001b[1m\u001b[38;5;12m|\u001b[0m\u001b[0m         \u001b[0m\u001b[0m\u001b[1m\u001b[33m^^^^^^\u001b[0m\u001b[0m \u001b[0m\u001b[0m\u001b[1m\u001b[33mhelp: if this is intentional, prefix it with an underscore: `_device`\u001b[0m\n",
            "\u001b[0m   \u001b[0m\u001b[0m\u001b[1m\u001b[38;5;12m|\u001b[0m\n",
            "\u001b[0m   \u001b[0m\u001b[0m\u001b[1m\u001b[38;5;12m= \u001b[0m\u001b[0m\u001b[1mnote\u001b[0m\u001b[0m: `#[warn(unused_variables)]` on by default\u001b[0m\n",
            "\n",
            "\u001b[0m\u001b[1mFor more information about this error, try `rustc --explain E0432`.\u001b[0m\n",
            "\u001b[1m\u001b[33mwarning\u001b[0m\u001b[1m:\u001b[0m `my_rust_project2` (bin \"my_rust_project2\") generated 2 warnings\n",
            "\u001b[1m\u001b[31merror\u001b[0m\u001b[1m:\u001b[0m could not compile `my_rust_project2` (bin \"my_rust_project2\") due to 1 previous error; 2 warnings emitted\n"
          ]
        }
      ]
    },
    {
      "cell_type": "code",
      "source": [
        "!cargo build"
      ],
      "metadata": {
        "colab": {
          "base_uri": "https://localhost:8080/"
        },
        "id": "jbb6LHB2Fb1g",
        "outputId": "badce5aa-ed77-4914-f182-f9a997a6f722"
      },
      "execution_count": 37,
      "outputs": [
        {
          "output_type": "stream",
          "name": "stdout",
          "text": [
            "\u001b[1m\u001b[32m   Compiling\u001b[0m my_rust_project2 v0.1.0 (/content/my_rust_project/my_rust_project2)\n",
            "\u001b[0m\u001b[1m\u001b[38;5;9merror[E0432]\u001b[0m\u001b[0m\u001b[1m: unresolved import `candle_core::ops`\u001b[0m\n",
            "\u001b[0m \u001b[0m\u001b[0m\u001b[1m\u001b[38;5;12m--> \u001b[0m\u001b[0msrc/main.rs:4:35\u001b[0m\n",
            "\u001b[0m  \u001b[0m\u001b[0m\u001b[1m\u001b[38;5;12m|\u001b[0m\n",
            "\u001b[0m\u001b[1m\u001b[38;5;12m4\u001b[0m\u001b[0m \u001b[0m\u001b[0m\u001b[1m\u001b[38;5;12m|\u001b[0m\u001b[0m \u001b[0m\u001b[0muse candle_core::{Device, Tensor, ops}; // استيراد ops من candle_core بدلاً من candle_nn::ops\u001b[0m\n",
            "\u001b[0m  \u001b[0m\u001b[0m\u001b[1m\u001b[38;5;12m|\u001b[0m\u001b[0m                                   \u001b[0m\u001b[0m\u001b[1m\u001b[38;5;9m^^^\u001b[0m\n",
            "\u001b[0m  \u001b[0m\u001b[0m\u001b[1m\u001b[38;5;12m|\u001b[0m\u001b[0m                                   \u001b[0m\u001b[0m\u001b[1m\u001b[38;5;9m|\u001b[0m\n",
            "\u001b[0m  \u001b[0m\u001b[0m\u001b[1m\u001b[38;5;12m|\u001b[0m\u001b[0m                                   \u001b[0m\u001b[0m\u001b[1m\u001b[38;5;9mno `ops` in the root\u001b[0m\n",
            "\u001b[0m  \u001b[0m\u001b[0m\u001b[1m\u001b[38;5;12m|\u001b[0m\u001b[0m                                   \u001b[0m\u001b[0m\u001b[1m\u001b[38;5;9mhelp: a similar name exists in the module: `op`\u001b[0m\n",
            "\u001b[0m  \u001b[0m\u001b[0m\u001b[1m\u001b[38;5;12m|\u001b[0m\n",
            "\u001b[0m  \u001b[0m\u001b[0m\u001b[1m\u001b[38;5;12m= \u001b[0m\u001b[0m\u001b[1mhelp\u001b[0m\u001b[0m: consider importing one of these modules instead:\u001b[0m\n",
            "\u001b[0m          std::ops\u001b[0m\n",
            "\u001b[0m          candle_nn::ops\u001b[0m\n",
            "\n",
            "\u001b[0m\u001b[1m\u001b[33mwarning\u001b[0m\u001b[0m\u001b[1m: unused import: `Tensor`\u001b[0m\n",
            "\u001b[0m \u001b[0m\u001b[0m\u001b[1m\u001b[38;5;12m--> \u001b[0m\u001b[0msrc/main.rs:4:27\u001b[0m\n",
            "\u001b[0m  \u001b[0m\u001b[0m\u001b[1m\u001b[38;5;12m|\u001b[0m\n",
            "\u001b[0m\u001b[1m\u001b[38;5;12m4\u001b[0m\u001b[0m \u001b[0m\u001b[0m\u001b[1m\u001b[38;5;12m|\u001b[0m\u001b[0m \u001b[0m\u001b[0muse candle_core::{Device, Tensor, ops}; // استيراد ops من candle_core بدلاً من candle_nn::ops\u001b[0m\n",
            "\u001b[0m  \u001b[0m\u001b[0m\u001b[1m\u001b[38;5;12m|\u001b[0m\u001b[0m                           \u001b[0m\u001b[0m\u001b[1m\u001b[33m^^^^^^\u001b[0m\n",
            "\u001b[0m  \u001b[0m\u001b[0m\u001b[1m\u001b[38;5;12m|\u001b[0m\n",
            "\u001b[0m  \u001b[0m\u001b[0m\u001b[1m\u001b[38;5;12m= \u001b[0m\u001b[0m\u001b[1mnote\u001b[0m\u001b[0m: `#[warn(unused_imports)]` on by default\u001b[0m\n",
            "\n",
            "\u001b[0m\u001b[1m\u001b[33mwarning\u001b[0m\u001b[0m\u001b[1m: unused variable: `device`\u001b[0m\n",
            "\u001b[0m  \u001b[0m\u001b[0m\u001b[1m\u001b[38;5;12m--> \u001b[0m\u001b[0msrc/main.rs:26:9\u001b[0m\n",
            "\u001b[0m   \u001b[0m\u001b[0m\u001b[1m\u001b[38;5;12m|\u001b[0m\n",
            "\u001b[0m\u001b[1m\u001b[38;5;12m26\u001b[0m\u001b[0m \u001b[0m\u001b[0m\u001b[1m\u001b[38;5;12m|\u001b[0m\u001b[0m \u001b[0m\u001b[0m    let device = Device::cuda_if_available(0)?; // استخدام GPU إذا كان متاحًا، وإلا CPU، وإضافة الوس\u001b[0m\u001b[0m\u001b[1m\u001b[38;5;12m...\u001b[0m\u001b[0m0\u001b[0m\n",
            "\u001b[0m   \u001b[0m\u001b[0m\u001b[1m\u001b[38;5;12m|\u001b[0m\u001b[0m         \u001b[0m\u001b[0m\u001b[1m\u001b[33m^^^^^^\u001b[0m\u001b[0m \u001b[0m\u001b[0m\u001b[1m\u001b[33mhelp: if this is intentional, prefix it with an underscore: `_device`\u001b[0m\n",
            "\u001b[0m   \u001b[0m\u001b[0m\u001b[1m\u001b[38;5;12m|\u001b[0m\n",
            "\u001b[0m   \u001b[0m\u001b[0m\u001b[1m\u001b[38;5;12m= \u001b[0m\u001b[0m\u001b[1mnote\u001b[0m\u001b[0m: `#[warn(unused_variables)]` on by default\u001b[0m\n",
            "\n",
            "\u001b[0m\u001b[1mFor more information about this error, try `rustc --explain E0432`.\u001b[0m\n",
            "\u001b[1m\u001b[33mwarning\u001b[0m\u001b[1m:\u001b[0m `my_rust_project2` (bin \"my_rust_project2\") generated 2 warnings\n",
            "\u001b[1m\u001b[31merror\u001b[0m\u001b[1m:\u001b[0m could not compile `my_rust_project2` (bin \"my_rust_project2\") due to 1 previous error; 2 warnings emitted\n"
          ]
        }
      ]
    },
    {
      "cell_type": "code",
      "source": [
        "%%writefile src/main.rs\n",
        "use std::collections::HashMap;\n",
        "use std::io::{self, Write};\n",
        "\n",
        "use candle_core::{Device}; // Corrected import: Removed 'Tensor, ops' as they are not used in this simple example\n",
        "\n",
        "// هنا يتم تعريف \"النموذج\" اللغوي البسيط كقاموس (HashMap)\n",
        "// في الواقع، النماذج اللغوية الحقيقية أكثر تعقيدًا بكثير\n",
        "fn load_model() -> HashMap<&'static str, &'static str> {\n",
        "    let mut model = HashMap::new();\n",
        "    model.insert(\"مرحباً\", \"مرحباً بك!\");\n",
        "    model.insert(\"كيف حالك؟\", \"أنا بخير، شكراً لسؤالك.\");\n",
        "    model.insert(\"ما اسمك؟\", \"أنا نموذج لغوي بسيط في Rust.\");\n",
        "    model.insert(\"وداعاً\", \"إلى اللقاء!\");\n",
        "    model\n",
        "}\n",
        "\n",
        "// دالة الاستدلال الأساسية\n",
        "fn infer(model: &HashMap<&'static str, &'static str>, input: &str) -> String {\n",
        "    match model.get(input) {\n",
        "        Some(response) => response.to_string(), // إذا وجدنا إجابة في النموذج\n",
        "        None => \"لا أفهم ما تقصده.\".to_string(), // إذا لم نجد إجابة\n",
        "    }\n",
        "}\n",
        "\n",
        "fn main() -> Result<(), Box<dyn std::error::Error>> { // إضافة Result<(), Error> للتعامل مع الأخطاء المحتملة\n",
        "    let device = Device::cuda_if_available(0)?; // استخدام GPU إذا كان متاحًا، وإلا CPU، وإضافة الوسيط 0 (corrected)\n",
        "    let model = load_model(); // تحميل \"النموذج\"\n",
        "\n",
        "    println!(\"نموذج لغوي بسيط في Rust - ابدأ المحادثة (اكتب 'وداعاً' للخروج):\");\n",
        "\n",
        "    loop {\n",
        "        print!(\"أنت: \");\n",
        "        io::stdout().flush().unwrap(); // لضمان ظهور \"أنت:\" قبل الإدخال\n",
        "\n",
        "        let mut input = String::new();\n",
        "        io::stdin().read_line(&mut input).unwrap(); // قراءة سطر الإدخال من المستخدم\n",
        "\n",
        "        let input = input.trim(); // إزالة المسافات البيضاء الزائدة في البداية والنهاية\n",
        "\n",
        "        if input == \"وداعاً\" {\n",
        "            println!(\"النموذج: إلى اللقاء!\");\n",
        "            break; // الخروج من الحلقة إذا قال المستخدم \"وداعاً\"\n",
        "        }\n",
        "\n",
        "        let response = infer(&model, input); // إجراء الاستدلال باستخدام النموذج والمدخل\n",
        "        println!(\"النموذج: {}\", response); // طباعة الاستجابة\n",
        "    }\n",
        "    Ok(()) // إضافة Ok(()) لإرجاع نتيجة ناجحة من دالة main\n",
        "}"
      ],
      "metadata": {
        "colab": {
          "base_uri": "https://localhost:8080/"
        },
        "id": "lplZn6ulFcei",
        "outputId": "ce25c4cc-70f8-4d8c-d669-b48e53e3864a"
      },
      "execution_count": 38,
      "outputs": [
        {
          "output_type": "stream",
          "name": "stdout",
          "text": [
            "Overwriting src/main.rs\n"
          ]
        }
      ]
    },
    {
      "cell_type": "code",
      "source": [
        "%%writefile src/main.rs\n",
        "use std::collections::HashMap;\n",
        "use std::io::{self, Write};\n",
        "\n",
        "use candle_core::Device; // استيراد Device فقط من candle_core\n",
        "\n",
        "// هنا يتم تعريف \"النموذج\" اللغوي البسيط كقاموس (HashMap)\n",
        "// في الواقع، النماذج اللغوية الحقيقية أكثر تعقيدًا بكثير\n",
        "fn load_model() -> HashMap<&'static str, &'static str> {\n",
        "    let mut model = HashMap::new();\n",
        "    model.insert(\"مرحباً\", \"مرحباً بك!\");\n",
        "    model.insert(\"كيف حالك؟\", \"أنا بخير، شكراً لسؤالك.\");\n",
        "    model.insert(\"ما اسمك؟\", \"أنا نموذج لغوي بسيط في Rust.\");\n",
        "    model.insert(\"وداعاً\", \"إلى اللقاء!\");\n",
        "    model\n",
        "}\n",
        "\n",
        "// دالة الاستدلال الأساسية\n",
        "fn infer(model: &HashMap<&'static str, &'static str>, input: &str) -> String {\n",
        "    match model.get(input) {\n",
        "        Some(response) => response.to_string(), // إذا وجدنا إجابة في النموذج\n",
        "        None => \"لا أفهم ما تقصده.\".to_string(), // إذا لم نجد إجابة\n",
        "    }\n",
        "}\n",
        "\n",
        "fn main() -> Result<(), Box<dyn std::error::Error>> { // إضافة Result<(), Error> للتعامل مع الأخطاء المحتملة\n",
        "    // let device = Device::cuda_if_available(0)?; // تم حذف هذا السطر لأنه لم يتم استخدام المتغير 'device'\n",
        "    let model = load_model(); // تحميل \"النموذج\"\n",
        "\n",
        "    println!(\"نموذج لغوي بسيط في Rust - ابدأ المحادثة (اكتب 'وداعاً' للخروج):\");\n",
        "\n",
        "    loop {\n",
        "        print!(\"أنت: \");\n",
        "        io::stdout().flush().unwrap(); // لضمان ظهور \"أنت:\" قبل الإدخال\n",
        "\n",
        "        let mut input = String::new();\n",
        "        io::stdin().read_line(&mut input).unwrap(); // قراءة سطر الإدخال من المستخدم\n",
        "\n",
        "        let input = input.trim(); // إزالة المسافات البيضاء الزائدة في البداية والنهاية\n",
        "\n",
        "        if input == \"وداعاً\" {\n",
        "            println!(\"النموذج: إلى اللقاء!\");\n",
        "            break; // الخروج من الحلقة إذا قال المستخدم \"وداعاً\"\n",
        "        }\n",
        "\n",
        "        let response = infer(&model, input); // إجراء الاستدلال باستخدام النموذج والمدخل\n",
        "        println!(\"النموذج: {}\", response); // طباعة الاستجابة\n",
        "    }\n",
        "    Ok(()) // إضافة Ok(()) لإرجاع نتيجة ناجحة من دالة main\n",
        "}"
      ],
      "metadata": {
        "colab": {
          "base_uri": "https://localhost:8080/"
        },
        "id": "8Vdltyu9F5JM",
        "outputId": "27c1470a-a395-4b87-f2c6-4b232acec515"
      },
      "execution_count": 40,
      "outputs": [
        {
          "output_type": "stream",
          "name": "stdout",
          "text": [
            "Overwriting src/main.rs\n"
          ]
        }
      ]
    },
    {
      "cell_type": "markdown",
      "source": [
        "@@@@@@@@@@@@@@@@@@@@@@@@@@@@@@"
      ],
      "metadata": {
        "id": "AwKNf0ZwGUYK"
      }
    },
    {
      "cell_type": "markdown",
      "source": [
        "شغال"
      ],
      "metadata": {
        "id": "Txat4V8EGRG8"
      }
    },
    {
      "cell_type": "code",
      "source": [
        "%%writefile src/main.rs\n",
        "use std::collections::HashMap;\n",
        "use std::io::{self, Write};\n",
        "\n",
        "// use candle_core::Device; // تم حذف هذا السطر لأن Device لم يعد مستخدمًا\n",
        "\n",
        "// هنا يتم تعريف \"النموذج\" اللغوي البسيط كقاموس (HashMap)\n",
        "// في الواقع، النماذج اللغوية الحقيقية أكثر تعقيدًا بكثير\n",
        "fn load_model() -> HashMap<&'static str, &'static str> {\n",
        "    let mut model = HashMap::new();\n",
        "    model.insert(\"مرحباً\", \"مرحباً بك!\");\n",
        "    model.insert(\"كيف حالك؟\", \"أنا بخير، شكراً لسؤالك.\");\n",
        "    model.insert(\"ما اسمك؟\", \"أنا نموذج لغوي بسيط في Rust.\");\n",
        "    model.insert(\"وداعاً\", \"إلى اللقاء!\");\n",
        "    model\n",
        "}\n",
        "\n",
        "// دالة الاستدلال الأساسية\n",
        "fn infer(model: &HashMap<&'static str, &'static str>, input: &str) -> String {\n",
        "    match model.get(input) {\n",
        "        Some(response) => response.to_string(), // إذا وجدنا إجابة في النموذج\n",
        "        None => \"لا أفهم ما تقصده.\".to_string(), // إذا لم نجد إجابة\n",
        "    }\n",
        "}\n",
        "\n",
        "fn main() -> Result<(), Box<dyn std::error::Error>> { // إضافة Result<(), Error> للتعامل مع الأخطاء المحتملة\n",
        "    // let device = Device::cuda_if_available(0)?; // تم حذف هذا السطر لأنه لم يتم استخدام المتغير 'device'\n",
        "    let model = load_model(); // تحميل \"النموذج\"\n",
        "\n",
        "    println!(\"نموذج لغوي بسيط في Rust - ابدأ المحادثة (اكتب 'وداعاً' للخروج):\");\n",
        "\n",
        "    loop {\n",
        "        print!(\"أنت: \");\n",
        "        io::stdout().flush().unwrap(); // لضمان ظهور \"أنت:\" قبل الإدخال\n",
        "\n",
        "        let mut input = String::new();\n",
        "        io::stdin().read_line(&mut input).unwrap(); // قراءة سطر الإدخال من المستخدم\n",
        "\n",
        "        let input = input.trim(); // إزالة المسافات البيضاء الزائدة في البداية والنهاية\n",
        "\n",
        "        if input == \"وداعاً\" {\n",
        "            println!(\"النموذج: إلى اللقاء!\");\n",
        "            break; // الخروج من الحلقة إذا قال المستخدم \"وداعاً\"\n",
        "        }\n",
        "\n",
        "        let response = infer(&model, input); // إجراء الاستدلال باستخدام النموذج والمدخل\n",
        "        println!(\"النموذج: {}\", response); // طباعة الاستجابة\n",
        "    }\n",
        "    Ok(()) // إضافة Ok(()) لإرجاع نتيجة ناجحة من دالة main\n",
        "}"
      ],
      "metadata": {
        "colab": {
          "base_uri": "https://localhost:8080/"
        },
        "id": "jUsOluusGALr",
        "outputId": "9149b237-cf91-4fee-f533-5c965b6cf827"
      },
      "execution_count": 42,
      "outputs": [
        {
          "output_type": "stream",
          "name": "stdout",
          "text": [
            "Overwriting src/main.rs\n"
          ]
        }
      ]
    },
    {
      "cell_type": "code",
      "source": [
        "!cargo build"
      ],
      "metadata": {
        "colab": {
          "base_uri": "https://localhost:8080/"
        },
        "id": "l25Tk-jHFjGz",
        "outputId": "3f015f34-f7c2-472f-8b4f-0fd0dd0129ca"
      },
      "execution_count": 43,
      "outputs": [
        {
          "output_type": "stream",
          "name": "stdout",
          "text": [
            "\u001b[1m\u001b[32m   Compiling\u001b[0m my_rust_project2 v0.1.0 (/content/my_rust_project/my_rust_project2)\n",
            "\u001b[1m\u001b[32m    Finished\u001b[0m `dev` profile [unoptimized + debuginfo] target(s) in 0.62s\n"
          ]
        }
      ]
    },
    {
      "cell_type": "code",
      "source": [
        "!cargo run"
      ],
      "metadata": {
        "colab": {
          "base_uri": "https://localhost:8080/"
        },
        "id": "_TZrOTaCFjja",
        "outputId": "3287c6e9-a8bc-41c5-efe6-572c8bce358c"
      },
      "execution_count": 44,
      "outputs": [
        {
          "output_type": "stream",
          "name": "stdout",
          "text": [
            "\u001b[1m\u001b[32m    Finished\u001b[0m `dev` profile [unoptimized + debuginfo] target(s) in 0.06s\n",
            "\u001b[1m\u001b[32m     Running\u001b[0m `target/debug/my_rust_project2`\n",
            "نموذج لغوي بسيط في Rust - ابدأ المحادثة (اكتب 'وداعاً' للخروج):\n",
            "أنت: اهلا\n",
            "النموذج: لا أفهم ما تقصده.\n",
            "أنت: ^C\n"
          ]
        }
      ]
    },
    {
      "cell_type": "markdown",
      "source": [
        "@@@@@@@@@@@@@@@@@@@"
      ],
      "metadata": {
        "id": "6KeANDdpGS8a"
      }
    },
    {
      "cell_type": "markdown",
      "source": [
        "### ######################شغال"
      ],
      "metadata": {
        "id": "nZHIPJI-Q8D0"
      }
    },
    {
      "cell_type": "code",
      "source": [
        "%%writefile src/main.rs\n",
        "use reqwest::blocking::Client; // استخدام Client من reqwest::blocking للطلبات المتزامنة في هذا المثال البسيط\n",
        "use serde_json::json;\n",
        "\n",
        "fn main() -> Result<(), Box<dyn std::error::Error>> {\n",
        "    let api_token = \"XXXXXXXXXXXXXXXXX\"; // **ضع توكن المصادقة الخاص بك هنا!**\n",
        "    let hf_model_name = \"gpt2\"; // يمكنك تغيير اسم النموذج هنا (مثل \"meta-llama/Llama-2-7b-chat-hf\" - يتطلب توكن صالح وربما موافقة على الوصول)\n",
        "    let api_url = format!(\"https://api-inference.huggingface.co/models/{}\", hf_model_name);\n",
        "\n",
        "    let client = Client::new();\n",
        "\n",
        "    println!(\"تحدث مع نموذج Hugging Face {} (اكتب 'وداعاً' للخروج):\", hf_model_name);\n",
        "\n",
        "    loop {\n",
        "        print!(\"أنت: \");\n",
        "        std::io::Write::flush(&mut std::io::stdout())?; // تأكد من ظهور \"أنت:\"\n",
        "\n",
        "        let mut input_text = String::new();\n",
        "        std::io::stdin().read_line(&mut input_text)?;\n",
        "        let input_text = input_text.trim();\n",
        "\n",
        "        if input_text == \"وداعاً\" {\n",
        "            println!(\"النموذج: إلى اللقاء!\");\n",
        "            break;\n",
        "        }\n",
        "\n",
        "        let request_body = json!({ \"inputs\": input_text }); // تجهيز جسم الطلب JSON\n",
        "\n",
        "        let response = client.post(&api_url)\n",
        "            .header(\"Authorization\", format!(\"Bearer {}\", api_token)) // إضافة توكن المصادقة\n",
        "            .header(\"Content-Type\", \"application/json\") // تحديد نوع المحتوى كـ JSON\n",
        "            .body(request_body.to_string()) // تحويل جسم الطلب JSON إلى سلسلة وإضافته إلى الطلب\n",
        "            .send()?; // إرسال الطلب\n",
        "\n",
        "        match response.status() {\n",
        "            reqwest::StatusCode::OK => {\n",
        "                match response.text() { // محاولة قراءة نص الاستجابة\n",
        "                    Ok(response_text) => {\n",
        "                        // **هام:** استجابة API قد تكون JSON string أو JSON array، اعتمادًا على النموذج.\n",
        "                        // هنا نفترض أنها JSON string بسيطة (إذا كان GPT-2، قد تحتاج إلى معالجة JSON array)\n",
        "                        println!(\"النموذج: {}\", response_text.trim_matches('\"')); // طباعة الاستجابة وإزالة علامات التنصيص الزائدة\n",
        "                    }\n",
        "                    Err(err) => eprintln!(\"خطأ في قراءة نص الاستجابة من API: {}\", err),\n",
        "                }\n",
        "            }\n",
        "            _ => {\n",
        "                eprintln!(\"خطأ من API! حالة: {}, النص: {:?}\", response.status(), response.text());\n",
        "            }\n",
        "        }\n",
        "    }\n",
        "\n",
        "    Ok(())\n",
        "}"
      ],
      "metadata": {
        "colab": {
          "base_uri": "https://localhost:8080/"
        },
        "id": "P4Vx8FqTGEDz",
        "outputId": "b2495a21-c54c-4a97-d00a-42f883771afe"
      },
      "execution_count": 53,
      "outputs": [
        {
          "output_type": "stream",
          "name": "stdout",
          "text": [
            "Overwriting src/main.rs\n"
          ]
        }
      ]
    },
    {
      "cell_type": "code",
      "source": [
        "!!cargo update"
      ],
      "metadata": {
        "colab": {
          "base_uri": "https://localhost:8080/"
        },
        "id": "4Py1D7ZCGfir",
        "outputId": "c2c39089-5961-4bd9-f7c1-f4997aaaeb6d"
      },
      "execution_count": 54,
      "outputs": [
        {
          "output_type": "execute_result",
          "data": {
            "text/plain": [
              "['\\x1b[1m\\x1b[32m    Updating\\x1b[0m crates.io index',\n",
              " '\\x1b[1m\\x1b[32m     Locking\\x1b[0m 125 packages to latest compatible versions',\n",
              " '\\x1b[1m\\x1b[36m      Adding\\x1b[0m addr2line v0.24.2',\n",
              " '\\x1b[1m\\x1b[36m      Adding\\x1b[0m adler2 v2.0.0',\n",
              " '\\x1b[1m\\x1b[36m      Adding\\x1b[0m backtrace v0.3.74',\n",
              " '\\x1b[1m\\x1b[36m      Adding\\x1b[0m base64 v0.21.7',\n",
              " '\\x1b[1m\\x1b[36m      Adding\\x1b[0m bumpalo v3.17.0',\n",
              " '\\x1b[1m\\x1b[31m    Removing\\x1b[0m bytemuck v1.21.0',\n",
              " '\\x1b[1m\\x1b[31m    Removing\\x1b[0m bytemuck_derive v1.8.1',\n",
              " '\\x1b[1m\\x1b[31m    Removing\\x1b[0m byteorder v1.5.0',\n",
              " '\\x1b[1m\\x1b[36m      Adding\\x1b[0m bytes v1.10.0',\n",
              " '\\x1b[1m\\x1b[31m    Removing\\x1b[0m candle-core v0.3.3',\n",
              " '\\x1b[1m\\x1b[31m    Removing\\x1b[0m candle-nn v0.3.3',\n",
              " '\\x1b[1m\\x1b[36m      Adding\\x1b[0m cc v1.2.13',\n",
              " '\\x1b[1m\\x1b[36m      Adding\\x1b[0m core-foundation v0.9.4',\n",
              " '\\x1b[1m\\x1b[36m      Adding\\x1b[0m core-foundation-sys v0.8.7',\n",
              " '\\x1b[1m\\x1b[31m    Removing\\x1b[0m crc32fast v1.4.2',\n",
              " '\\x1b[1m\\x1b[31m    Removing\\x1b[0m crossbeam-deque v0.8.6',\n",
              " '\\x1b[1m\\x1b[31m    Removing\\x1b[0m crossbeam-epoch v0.9.18',\n",
              " '\\x1b[1m\\x1b[31m    Removing\\x1b[0m crossbeam-utils v0.8.21',\n",
              " '\\x1b[1m\\x1b[31m    Removing\\x1b[0m crunchy v0.2.3',\n",
              " '\\x1b[1m\\x1b[36m      Adding\\x1b[0m displaydoc v0.2.5',\n",
              " '\\x1b[1m\\x1b[31m    Removing\\x1b[0m dyn-stack v0.10.0',\n",
              " '\\x1b[1m\\x1b[31m    Removing\\x1b[0m either v1.13.0',\n",
              " '\\x1b[1m\\x1b[36m      Adding\\x1b[0m encoding_rs v0.8.35',\n",
              " '\\x1b[1m\\x1b[31m    Removing\\x1b[0m enum-as-inner v0.6.1',\n",
              " '\\x1b[1m\\x1b[36m      Adding\\x1b[0m equivalent v1.0.1',\n",
              " '\\x1b[1m\\x1b[36m      Adding\\x1b[0m errno v0.3.10',\n",
              " '\\x1b[1m\\x1b[36m      Adding\\x1b[0m fastrand v2.3.0',\n",
              " '\\x1b[1m\\x1b[36m      Adding\\x1b[0m fnv v1.0.7',\n",
              " '\\x1b[1m\\x1b[36m      Adding\\x1b[0m foreign-types v0.3.2',\n",
              " '\\x1b[1m\\x1b[36m      Adding\\x1b[0m foreign-types-shared v0.1.1',\n",
              " '\\x1b[1m\\x1b[36m      Adding\\x1b[0m form_urlencoded v1.2.1',\n",
              " '\\x1b[1m\\x1b[36m      Adding\\x1b[0m futures-channel v0.3.31',\n",
              " '\\x1b[1m\\x1b[36m      Adding\\x1b[0m futures-core v0.3.31',\n",
              " '\\x1b[1m\\x1b[36m      Adding\\x1b[0m futures-sink v0.3.31',\n",
              " '\\x1b[1m\\x1b[36m      Adding\\x1b[0m futures-task v0.3.31',\n",
              " '\\x1b[1m\\x1b[36m      Adding\\x1b[0m futures-util v0.3.31',\n",
              " '\\x1b[1m\\x1b[31m    Removing\\x1b[0m gemm v0.17.1',\n",
              " '\\x1b[1m\\x1b[31m    Removing\\x1b[0m gemm-c32 v0.17.1',\n",
              " '\\x1b[1m\\x1b[31m    Removing\\x1b[0m gemm-c64 v0.17.1',\n",
              " '\\x1b[1m\\x1b[31m    Removing\\x1b[0m gemm-common v0.17.1',\n",
              " '\\x1b[1m\\x1b[31m    Removing\\x1b[0m gemm-f16 v0.17.1',\n",
              " '\\x1b[1m\\x1b[31m    Removing\\x1b[0m gemm-f32 v0.17.1',\n",
              " '\\x1b[1m\\x1b[31m    Removing\\x1b[0m gemm-f64 v0.17.1',\n",
              " '\\x1b[1m\\x1b[32m    Updating\\x1b[0m getrandom v0.2.15 -> v0.3.1',\n",
              " '\\x1b[1m\\x1b[36m      Adding\\x1b[0m gimli v0.31.1',\n",
              " '\\x1b[1m\\x1b[36m      Adding\\x1b[0m h2 v0.3.26',\n",
              " '\\x1b[1m\\x1b[31m    Removing\\x1b[0m half v2.4.1',\n",
              " '\\x1b[1m\\x1b[36m      Adding\\x1b[0m hashbrown v0.15.2',\n",
              " '\\x1b[1m\\x1b[31m    Removing\\x1b[0m heck v0.5.0',\n",
              " '\\x1b[1m\\x1b[31m    Removing\\x1b[0m hermit-abi v0.3.9',\n",
              " '\\x1b[1m\\x1b[36m      Adding\\x1b[0m http v0.2.12',\n",
              " '\\x1b[1m\\x1b[36m      Adding\\x1b[0m http-body v0.4.6',\n",
              " '\\x1b[1m\\x1b[36m      Adding\\x1b[0m httparse v1.10.0',\n",
              " '\\x1b[1m\\x1b[36m      Adding\\x1b[0m httpdate v1.0.3',\n",
              " '\\x1b[1m\\x1b[36m      Adding\\x1b[0m hyper v0.14.32',\n",
              " '\\x1b[1m\\x1b[36m      Adding\\x1b[0m hyper-tls v0.5.0',\n",
              " '\\x1b[1m\\x1b[36m      Adding\\x1b[0m icu_collections v1.5.0',\n",
              " '\\x1b[1m\\x1b[36m      Adding\\x1b[0m icu_locid v1.5.0',\n",
              " '\\x1b[1m\\x1b[36m      Adding\\x1b[0m icu_locid_transform v1.5.0',\n",
              " '\\x1b[1m\\x1b[36m      Adding\\x1b[0m icu_locid_transform_data v1.5.0',\n",
              " '\\x1b[1m\\x1b[36m      Adding\\x1b[0m icu_normalizer v1.5.0',\n",
              " '\\x1b[1m\\x1b[36m      Adding\\x1b[0m icu_normalizer_data v1.5.0',\n",
              " '\\x1b[1m\\x1b[36m      Adding\\x1b[0m icu_properties v1.5.1',\n",
              " '\\x1b[1m\\x1b[36m      Adding\\x1b[0m icu_properties_data v1.5.0',\n",
              " '\\x1b[1m\\x1b[36m      Adding\\x1b[0m icu_provider v1.5.0',\n",
              " '\\x1b[1m\\x1b[36m      Adding\\x1b[0m icu_provider_macros v1.5.0',\n",
              " '\\x1b[1m\\x1b[36m      Adding\\x1b[0m idna v1.0.3',\n",
              " '\\x1b[1m\\x1b[36m      Adding\\x1b[0m idna_adapter v1.2.0',\n",
              " '\\x1b[1m\\x1b[36m      Adding\\x1b[0m indexmap v2.7.1',\n",
              " '\\x1b[1m\\x1b[36m      Adding\\x1b[0m ipnet v2.11.0',\n",
              " '\\x1b[1m\\x1b[36m      Adding\\x1b[0m js-sys v0.3.77',\n",
              " '\\x1b[1m\\x1b[31m    Removing\\x1b[0m libm v0.2.11',\n",
              " '\\x1b[1m\\x1b[36m      Adding\\x1b[0m linux-raw-sys v0.4.15',\n",
              " '\\x1b[1m\\x1b[36m      Adding\\x1b[0m litemap v0.7.4',\n",
              " '\\x1b[1m\\x1b[36m      Adding\\x1b[0m lock_api v0.4.12',\n",
              " '\\x1b[1m\\x1b[36m      Adding\\x1b[0m log v0.4.25',\n",
              " '\\x1b[1m\\x1b[31m    Removing\\x1b[0m memmap2 v0.9.5',\n",
              " '\\x1b[1m\\x1b[36m      Adding\\x1b[0m mime v0.3.17',\n",
              " '\\x1b[1m\\x1b[36m      Adding\\x1b[0m miniz_oxide v0.8.4',\n",
              " '\\x1b[1m\\x1b[36m      Adding\\x1b[0m mio v1.0.3',\n",
              " '\\x1b[1m\\x1b[36m      Adding\\x1b[0m native-tls v0.2.13',\n",
              " '\\x1b[1m\\x1b[31m    Removing\\x1b[0m num-complex v0.4.6',\n",
              " '\\x1b[1m\\x1b[31m    Removing\\x1b[0m num-traits v0.2.19',\n",
              " '\\x1b[1m\\x1b[31m    Removing\\x1b[0m num_cpus v1.16.0',\n",
              " '\\x1b[1m\\x1b[36m      Adding\\x1b[0m object v0.36.7',\n",
              " '\\x1b[1m\\x1b[36m      Adding\\x1b[0m openssl v0.10.70',\n",
              " '\\x1b[1m\\x1b[36m      Adding\\x1b[0m openssl-macros v0.1.1',\n",
              " '\\x1b[1m\\x1b[36m      Adding\\x1b[0m openssl-probe v0.1.6',\n",
              " '\\x1b[1m\\x1b[36m      Adding\\x1b[0m openssl-sys v0.9.105',\n",
              " '\\x1b[1m\\x1b[36m      Adding\\x1b[0m parking_lot v0.12.3',\n",
              " '\\x1b[1m\\x1b[36m      Adding\\x1b[0m parking_lot_core v0.9.10',\n",
              " '\\x1b[1m\\x1b[31m    Removing\\x1b[0m paste v1.0.15',\n",
              " '\\x1b[1m\\x1b[36m      Adding\\x1b[0m percent-encoding v2.3.1',\n",
              " '\\x1b[1m\\x1b[36m      Adding\\x1b[0m pin-project-lite v0.2.16',\n",
              " '\\x1b[1m\\x1b[36m      Adding\\x1b[0m pin-utils v0.1.0',\n",
              " '\\x1b[1m\\x1b[36m      Adding\\x1b[0m pkg-config v0.3.31',\n",
              " '\\x1b[1m\\x1b[31m    Removing\\x1b[0m ppv-lite86 v0.2.20',\n",
              " '\\x1b[1m\\x1b[31m    Removing\\x1b[0m pulp v0.18.22',\n",
              " '\\x1b[1m\\x1b[31m    Removing\\x1b[0m rand v0.8.5',\n",
              " '\\x1b[1m\\x1b[31m    Removing\\x1b[0m rand_chacha v0.3.1',\n",
              " '\\x1b[1m\\x1b[31m    Removing\\x1b[0m rand_core v0.6.4',\n",
              " '\\x1b[1m\\x1b[31m    Removing\\x1b[0m rand_distr v0.4.3',\n",
              " '\\x1b[1m\\x1b[31m    Removing\\x1b[0m raw-cpuid v10.7.0',\n",
              " '\\x1b[1m\\x1b[31m    Removing\\x1b[0m rayon v1.10.0',\n",
              " '\\x1b[1m\\x1b[31m    Removing\\x1b[0m rayon-core v1.12.1',\n",
              " '\\x1b[1m\\x1b[31m    Removing\\x1b[0m reborrow v0.5.5',\n",
              " '\\x1b[1m\\x1b[36m      Adding\\x1b[0m redox_syscall v0.5.8',\n",
              " '\\x1b[1m\\x1b[36m      Adding\\x1b[0m reqwest v0.11.27 \\x1b[1m\\x1b[33m(available: v0.12.12)\\x1b[0m',\n",
              " '\\x1b[1m\\x1b[36m      Adding\\x1b[0m rustc-demangle v0.1.24',\n",
              " '\\x1b[1m\\x1b[36m      Adding\\x1b[0m rustix v0.38.44',\n",
              " '\\x1b[1m\\x1b[36m      Adding\\x1b[0m rustls-pemfile v1.0.4',\n",
              " '\\x1b[1m\\x1b[36m      Adding\\x1b[0m rustversion v1.0.19',\n",
              " '\\x1b[1m\\x1b[31m    Removing\\x1b[0m safetensors v0.4.5',\n",
              " '\\x1b[1m\\x1b[31m    Removing\\x1b[0m same-file v1.0.6',\n",
              " '\\x1b[1m\\x1b[36m      Adding\\x1b[0m schannel v0.1.27',\n",
              " '\\x1b[1m\\x1b[36m      Adding\\x1b[0m scopeguard v1.2.0',\n",
              " '\\x1b[1m\\x1b[36m      Adding\\x1b[0m security-framework v2.11.1',\n",
              " '\\x1b[1m\\x1b[36m      Adding\\x1b[0m security-framework-sys v2.14.0',\n",
              " '\\x1b[1m\\x1b[31m    Removing\\x1b[0m seq-macro v0.3.5',\n",
              " '\\x1b[1m\\x1b[36m      Adding\\x1b[0m serde_urlencoded v0.7.1',\n",
              " '\\x1b[1m\\x1b[36m      Adding\\x1b[0m shlex v1.3.0',\n",
              " '\\x1b[1m\\x1b[36m      Adding\\x1b[0m signal-hook-registry v1.4.2',\n",
              " '\\x1b[1m\\x1b[36m      Adding\\x1b[0m slab v0.4.9',\n",
              " '\\x1b[1m\\x1b[36m      Adding\\x1b[0m smallvec v1.13.2',\n",
              " '\\x1b[1m\\x1b[36m      Adding\\x1b[0m socket2 v0.5.8',\n",
              " '\\x1b[1m\\x1b[36m      Adding\\x1b[0m sync_wrapper v0.1.2',\n",
              " '\\x1b[1m\\x1b[31m    Removing\\x1b[0m sysctl v0.5.5',\n",
              " '\\x1b[1m\\x1b[36m      Adding\\x1b[0m system-configuration v0.5.1',\n",
              " '\\x1b[1m\\x1b[36m      Adding\\x1b[0m system-configuration-sys v0.5.0',\n",
              " '\\x1b[1m\\x1b[36m      Adding\\x1b[0m tempfile v3.16.0',\n",
              " '\\x1b[1m\\x1b[31m    Removing\\x1b[0m thiserror v1.0.69',\n",
              " '\\x1b[1m\\x1b[31m    Removing\\x1b[0m thiserror-impl v1.0.69',\n",
              " '\\x1b[1m\\x1b[36m      Adding\\x1b[0m tinystr v0.7.6',\n",
              " '\\x1b[1m\\x1b[36m      Adding\\x1b[0m tokio v1.43.0',\n",
              " '\\x1b[1m\\x1b[36m      Adding\\x1b[0m tokio-macros v2.5.0',\n",
              " '\\x1b[1m\\x1b[36m      Adding\\x1b[0m tokio-native-tls v0.3.1',\n",
              " '\\x1b[1m\\x1b[36m      Adding\\x1b[0m tokio-util v0.7.13',\n",
              " '\\x1b[1m\\x1b[36m      Adding\\x1b[0m tower-service v0.3.3',\n",
              " '\\x1b[1m\\x1b[36m      Adding\\x1b[0m tracing v0.1.41',\n",
              " '\\x1b[1m\\x1b[36m      Adding\\x1b[0m tracing-core v0.1.33',\n",
              " '\\x1b[1m\\x1b[36m      Adding\\x1b[0m try-lock v0.2.5',\n",
              " '\\x1b[1m\\x1b[36m      Adding\\x1b[0m url v2.5.4',\n",
              " '\\x1b[1m\\x1b[36m      Adding\\x1b[0m utf16_iter v1.0.5',\n",
              " '\\x1b[1m\\x1b[36m      Adding\\x1b[0m utf8_iter v1.0.4',\n",
              " '\\x1b[1m\\x1b[36m      Adding\\x1b[0m vcpkg v0.2.15',\n",
              " '\\x1b[1m\\x1b[31m    Removing\\x1b[0m walkdir v2.5.0',\n",
              " '\\x1b[1m\\x1b[36m      Adding\\x1b[0m want v0.3.1',\n",
              " '\\x1b[1m\\x1b[36m      Adding\\x1b[0m wasi v0.13.3+wasi-0.2.2',\n",
              " '\\x1b[1m\\x1b[36m      Adding\\x1b[0m wasm-bindgen v0.2.100',\n",
              " '\\x1b[1m\\x1b[36m      Adding\\x1b[0m wasm-bindgen-backend v0.2.100',\n",
              " '\\x1b[1m\\x1b[36m      Adding\\x1b[0m wasm-bindgen-futures v0.4.50',\n",
              " '\\x1b[1m\\x1b[36m      Adding\\x1b[0m wasm-bindgen-macro v0.2.100',\n",
              " '\\x1b[1m\\x1b[36m      Adding\\x1b[0m wasm-bindgen-macro-support v0.2.100',\n",
              " '\\x1b[1m\\x1b[36m      Adding\\x1b[0m wasm-bindgen-shared v0.2.100',\n",
              " '\\x1b[1m\\x1b[36m      Adding\\x1b[0m web-sys v0.3.77',\n",
              " '\\x1b[1m\\x1b[31m    Removing\\x1b[0m winapi-util v0.1.9',\n",
              " '\\x1b[1m\\x1b[36m      Adding\\x1b[0m windows-sys v0.48.0',\n",
              " '\\x1b[1m\\x1b[36m      Adding\\x1b[0m windows-sys v0.52.0',\n",
              " '\\x1b[1m\\x1b[36m      Adding\\x1b[0m windows-targets v0.48.5',\n",
              " '\\x1b[1m\\x1b[36m      Adding\\x1b[0m windows_aarch64_gnullvm v0.48.5',\n",
              " '\\x1b[1m\\x1b[36m      Adding\\x1b[0m windows_aarch64_msvc v0.48.5',\n",
              " '\\x1b[1m\\x1b[36m      Adding\\x1b[0m windows_i686_gnu v0.48.5',\n",
              " '\\x1b[1m\\x1b[36m      Adding\\x1b[0m windows_i686_msvc v0.48.5',\n",
              " '\\x1b[1m\\x1b[36m      Adding\\x1b[0m windows_x86_64_gnu v0.48.5',\n",
              " '\\x1b[1m\\x1b[36m      Adding\\x1b[0m windows_x86_64_gnullvm v0.48.5',\n",
              " '\\x1b[1m\\x1b[36m      Adding\\x1b[0m windows_x86_64_msvc v0.48.5',\n",
              " '\\x1b[1m\\x1b[36m      Adding\\x1b[0m winreg v0.50.0',\n",
              " '\\x1b[1m\\x1b[36m      Adding\\x1b[0m wit-bindgen-rt v0.33.0',\n",
              " '\\x1b[1m\\x1b[36m      Adding\\x1b[0m write16 v1.0.0',\n",
              " '\\x1b[1m\\x1b[36m      Adding\\x1b[0m writeable v0.5.5',\n",
              " '\\x1b[1m\\x1b[31m    Removing\\x1b[0m zerocopy v0.7.35',\n",
              " '\\x1b[1m\\x1b[31m    Removing\\x1b[0m zerocopy-derive v0.7.35',\n",
              " '\\x1b[1m\\x1b[36m      Adding\\x1b[0m zerovec v0.10.4',\n",
              " '\\x1b[1m\\x1b[36m      Adding\\x1b[0m zerovec-derive v0.10.3',\n",
              " '\\x1b[1m\\x1b[31m    Removing\\x1b[0m zip v0.6.6']"
            ]
          },
          "metadata": {},
          "execution_count": 54
        }
      ]
    },
    {
      "cell_type": "code",
      "source": [
        "!cargo build"
      ],
      "metadata": {
        "colab": {
          "base_uri": "https://localhost:8080/"
        },
        "outputId": "99ef29c1-f60c-443f-ac21-3ecf6a30d7f6",
        "id": "ybzj2aLtGfro"
      },
      "execution_count": 56,
      "outputs": [
        {
          "output_type": "stream",
          "name": "stdout",
          "text": [
            "\u001b[1m\u001b[32m    Updating\u001b[0m crates.io index\n",
            "\u001b[1m\u001b[32m     Locking\u001b[0m 1 package to latest compatible version\n",
            "\u001b[1m\u001b[36m      Adding\u001b[0m futures-io v0.3.31\n",
            "\u001b[1m\u001b[32m Downloading\u001b[0m crates ...\n",
            "\u001b[1m\u001b[32m  Downloaded\u001b[0m futures-io v0.3.31\n",
            "\u001b[1m\u001b[32m   Compiling\u001b[0m memchr v2.7.4\n",
            "\u001b[1m\u001b[32m   Compiling\u001b[0m futures-task v0.3.31\n",
            "\u001b[1m\u001b[32m   Compiling\u001b[0m futures-io v0.3.31\n",
            "\u001b[1m\u001b[32m   Compiling\u001b[0m futures-util v0.3.31\n",
            "\u001b[1m\u001b[32m   Compiling\u001b[0m serde_json v1.0.138\n",
            "\u001b[1m\u001b[32m   Compiling\u001b[0m h2 v0.3.26\n",
            "\u001b[1m\u001b[32m   Compiling\u001b[0m hyper v0.14.32\n",
            "\u001b[1m\u001b[32m   Compiling\u001b[0m hyper-tls v0.5.0\n",
            "\u001b[1m\u001b[32m   Compiling\u001b[0m reqwest v0.11.27\n",
            "\u001b[1m\u001b[32m   Compiling\u001b[0m my_rust_project2 v0.1.0 (/content/my_rust_project/my_rust_project2)\n",
            "\u001b[1m\u001b[32m    Finished\u001b[0m `dev` profile [unoptimized + debuginfo] target(s) in 25.29s\n"
          ]
        }
      ]
    },
    {
      "cell_type": "code",
      "source": [
        "!cargo run"
      ],
      "metadata": {
        "colab": {
          "base_uri": "https://localhost:8080/"
        },
        "outputId": "fd716d26-55ce-4bc8-f51a-892e98e99990",
        "id": "3GPS8N81Gfrp"
      },
      "execution_count": 57,
      "outputs": [
        {
          "output_type": "stream",
          "name": "stdout",
          "text": [
            "\u001b[1m\u001b[32m    Finished\u001b[0m `dev` profile [unoptimized + debuginfo] target(s) in 0.10s\n",
            "\u001b[1m\u001b[32m     Running\u001b[0m `target/debug/my_rust_project2`\n",
            "تحدث مع نموذج Hugging Face gpt2 (اكتب 'وداعاً' للخروج):\n",
            "أنت: اهلا\n",
            "خطأ من API! حالة: 503 Service Unavailable, النص: Ok(\"{\\\"error\\\":\\\"Model openai-community/gpt2 is currently loading\\\",\\\"estimated_time\\\":21.923635482788086}\")\n",
            "أنت: ^C\n"
          ]
        }
      ]
    },
    {
      "cell_type": "code",
      "source": [
        "!!cargo run"
      ],
      "metadata": {
        "colab": {
          "base_uri": "https://localhost:8080/"
        },
        "id": "IXnHxNq_QnHc",
        "outputId": "25a5cbf8-9ca5-46f1-9c1b-6789b717de8f"
      },
      "execution_count": 58,
      "outputs": [
        {
          "output_type": "stream",
          "name": "stdout",
          "text": [
            "^C\n"
          ]
        },
        {
          "output_type": "execute_result",
          "data": {
            "text/plain": [
              "['\\x1b[1m\\x1b[32m    Finished\\x1b[0m `dev` profile [unoptimized + debuginfo] target(s) in 0.22s',\n",
              " '\\x1b[1m\\x1b[32m     Running\\x1b[0m `target/debug/my_rust_project2`',\n",
              " \"تحدث مع نموذج Hugging Face gpt2 (اكتب 'وداعاً' للخروج):\",\n",
              " 'أنت: hi',\n",
              " 'خطأ من API! حالة: 503 Service Unavailable, النص: Ok(\"{\\\\\"error\\\\\":\\\\\"Model openai-community/gpt2 is currently loading\\\\\",\\\\\"estimated_time\\\\\":21.923635482788086}\")',\n",
              " 'أنت: ']"
            ]
          },
          "metadata": {},
          "execution_count": 58
        }
      ]
    },
    {
      "cell_type": "markdown",
      "source": [
        "@@@@@@@@@@@@@@@@@@@@@@@@@@@@@@"
      ],
      "metadata": {
        "id": "RKD8RJlnQ5j0"
      }
    },
    {
      "cell_type": "code",
      "source": [
        "hi"
      ],
      "metadata": {
        "id": "_hwIDDk2Qn49"
      },
      "execution_count": null,
      "outputs": []
    },
    {
      "cell_type": "code",
      "source": [],
      "metadata": {
        "id": "0S_9JCuTRAY2"
      },
      "execution_count": null,
      "outputs": []
    },
    {
      "cell_type": "code",
      "source": [],
      "metadata": {
        "id": "3DS0tA2tRAWb"
      },
      "execution_count": null,
      "outputs": []
    },
    {
      "cell_type": "code",
      "source": [],
      "metadata": {
        "id": "ZEegftZZRAS6"
      },
      "execution_count": null,
      "outputs": []
    },
    {
      "cell_type": "code",
      "source": [],
      "metadata": {
        "id": "zpf4wv04RAPL"
      },
      "execution_count": null,
      "outputs": []
    },
    {
      "cell_type": "code",
      "source": [
        "%%writefile src/main.rs\n",
        "// **تنبيه: هذا الكود هو مجرد مثال مبسط جدًا وغير قابل للتشغيل مباشرة. يحتاج إلى تفاصيل كثيرة لتشغيل نموذج حقيقي.**\n",
        "\n",
        "use candle_core::{Device, Tensor};\n",
        "// use candle_nn ...  // استيراد وحدات candle_nn اللازمة لبناء النموذج (Layers, Modules, ...)\n",
        "// use ... // مكتبات لل tokenization, safetensors, ...\n",
        "\n",
        "fn main() -> Result<(), Box<dyn std::error::Error>> {\n",
        "    let device = Device::cuda_if_available(0)?; // أو Device::Cpu إذا كنت تستخدم CPU فقط\n",
        "\n",
        "    // 1. تحميل أوزان نموذج Llama 3.2 من ملفات safetensors\n",
        "    // let model_weights = load_model_weights_from_safetensors(\"path/to/model.safetensors\")?;\n",
        "\n",
        "    // 2. تعريف بنية نموذج Llama 3.2 في Rust باستخدام candle_nn\n",
        "    // let model = LlamaForCausalLM::load(&model_weights, &config, device)?;\n",
        "\n",
        "    // 3. تحميل tokenizer الخاص بـ Llama 3.2\n",
        "    // let tokenizer = load_tokenizer(\"path/to/tokenizer.json\")?;\n",
        "\n",
        "    // حلقة المحادثة (مشابهة للمثال السابق مع API)\n",
        "    loop {\n",
        "        // ... قراءة النص المدخل من المستخدم ...\n",
        "\n",
        "        // 4. Tokenization للنص المدخل\n",
        "        // let tokens = tokenizer.encode(input_text)?;\n",
        "        // let tokens_tensor = Tensor::new(tokens, &device)?;\n",
        "\n",
        "        // 5. الاستدلال (Forward pass)\n",
        "        // let output_logits = model.forward(&tokens_tensor)?;\n",
        "\n",
        "        // 6. Sampling لاختيار الرمز التالي\n",
        "        // let next_token_id = sample_next_token(&output_logits)?;\n",
        "\n",
        "        // 7. Detokenization للرمز الناتج\n",
        "        // let generated_text = tokenizer.decode(&[next_token_id])?;\n",
        "\n",
        "        // ... طباعة الاستجابة ...\n",
        "    }\n",
        "\n",
        "    Ok(())\n",
        "}"
      ],
      "metadata": {
        "colab": {
          "base_uri": "https://localhost:8080/"
        },
        "id": "j1GK1WJ2RALD",
        "outputId": "8421addf-8178-44d4-e08f-3515618e16a2"
      },
      "execution_count": 60,
      "outputs": [
        {
          "output_type": "stream",
          "name": "stdout",
          "text": [
            "Writing src/main.rs\n"
          ]
        }
      ]
    },
    {
      "cell_type": "code",
      "source": [
        "!cargo build"
      ],
      "metadata": {
        "colab": {
          "base_uri": "https://localhost:8080/"
        },
        "id": "jsgKa9YHRZIE",
        "outputId": "63252caa-667a-456d-940f-10096076a575"
      },
      "execution_count": 61,
      "outputs": [
        {
          "output_type": "stream",
          "name": "stdout",
          "text": [
            "\u001b[1m\u001b[32m   Compiling\u001b[0m my_rust_project2 v0.1.0 (/content/my_rust_project/my_rust_project2)\n",
            "\u001b[0m\u001b[1m\u001b[38;5;9merror[E0432]\u001b[0m\u001b[0m\u001b[1m: unresolved import `candle_core`\u001b[0m\n",
            "\u001b[0m \u001b[0m\u001b[0m\u001b[1m\u001b[38;5;12m--> \u001b[0m\u001b[0msrc/main.rs:3:5\u001b[0m\n",
            "\u001b[0m  \u001b[0m\u001b[0m\u001b[1m\u001b[38;5;12m|\u001b[0m\n",
            "\u001b[0m\u001b[1m\u001b[38;5;12m3\u001b[0m\u001b[0m \u001b[0m\u001b[0m\u001b[1m\u001b[38;5;12m|\u001b[0m\u001b[0m \u001b[0m\u001b[0muse candle_core::{Device, Tensor};\u001b[0m\n",
            "\u001b[0m  \u001b[0m\u001b[0m\u001b[1m\u001b[38;5;12m|\u001b[0m\u001b[0m     \u001b[0m\u001b[0m\u001b[1m\u001b[38;5;9m^^^^^^^^^^^\u001b[0m\u001b[0m \u001b[0m\u001b[0m\u001b[1m\u001b[38;5;9muse of undeclared crate or module `candle_core`\u001b[0m\n",
            "\n",
            "\u001b[0m\u001b[1m\u001b[33mwarning\u001b[0m\u001b[0m\u001b[1m: unreachable expression\u001b[0m\n",
            "\u001b[0m  \u001b[0m\u001b[0m\u001b[1m\u001b[38;5;12m--> \u001b[0m\u001b[0msrc/main.rs:39:5\u001b[0m\n",
            "\u001b[0m   \u001b[0m\u001b[0m\u001b[1m\u001b[38;5;12m|\u001b[0m\n",
            "\u001b[0m\u001b[1m\u001b[38;5;12m20\u001b[0m\u001b[0m \u001b[0m\u001b[0m\u001b[1m\u001b[38;5;12m|\u001b[0m\u001b[0m \u001b[0m\u001b[0m\u001b[1m\u001b[38;5;12m/\u001b[0m\u001b[0m \u001b[0m\u001b[0m    loop {\u001b[0m\n",
            "\u001b[0m\u001b[1m\u001b[38;5;12m21\u001b[0m\u001b[0m \u001b[0m\u001b[0m\u001b[1m\u001b[38;5;12m|\u001b[0m\u001b[0m \u001b[0m\u001b[0m\u001b[1m\u001b[38;5;12m|\u001b[0m\u001b[0m \u001b[0m\u001b[0m        // ... قراءة النص المدخل من المستخدم ...\u001b[0m\n",
            "\u001b[0m\u001b[1m\u001b[38;5;12m22\u001b[0m\u001b[0m \u001b[0m\u001b[0m\u001b[1m\u001b[38;5;12m|\u001b[0m\u001b[0m \u001b[0m\u001b[0m\u001b[1m\u001b[38;5;12m|\u001b[0m\n",
            "\u001b[0m\u001b[1m\u001b[38;5;12m23\u001b[0m\u001b[0m \u001b[0m\u001b[0m\u001b[1m\u001b[38;5;12m|\u001b[0m\u001b[0m \u001b[0m\u001b[0m\u001b[1m\u001b[38;5;12m|\u001b[0m\u001b[0m \u001b[0m\u001b[0m        // 4. Tokenization للنص المدخل\u001b[0m\n",
            "\u001b[0m\u001b[1m\u001b[38;5;12m...\u001b[0m\u001b[0m  \u001b[0m\u001b[0m\u001b[1m\u001b[38;5;12m|\u001b[0m\n",
            "\u001b[0m\u001b[1m\u001b[38;5;12m36\u001b[0m\u001b[0m \u001b[0m\u001b[0m\u001b[1m\u001b[38;5;12m|\u001b[0m\u001b[0m \u001b[0m\u001b[0m\u001b[1m\u001b[38;5;12m|\u001b[0m\u001b[0m \u001b[0m\u001b[0m        // ... طباعة الاستجابة ...\u001b[0m\n",
            "\u001b[0m\u001b[1m\u001b[38;5;12m37\u001b[0m\u001b[0m \u001b[0m\u001b[0m\u001b[1m\u001b[38;5;12m|\u001b[0m\u001b[0m \u001b[0m\u001b[0m\u001b[1m\u001b[38;5;12m|\u001b[0m\u001b[0m \u001b[0m\u001b[0m    }\u001b[0m\n",
            "\u001b[0m   \u001b[0m\u001b[0m\u001b[1m\u001b[38;5;12m|\u001b[0m\u001b[0m \u001b[0m\u001b[0m\u001b[1m\u001b[38;5;12m|_____-\u001b[0m\u001b[0m \u001b[0m\u001b[0m\u001b[1m\u001b[38;5;12many code following this expression is unreachable\u001b[0m\n",
            "\u001b[0m\u001b[1m\u001b[38;5;12m38\u001b[0m\u001b[0m \u001b[0m\u001b[0m\u001b[1m\u001b[38;5;12m|\u001b[0m\n",
            "\u001b[0m\u001b[1m\u001b[38;5;12m39\u001b[0m\u001b[0m \u001b[0m\u001b[0m\u001b[1m\u001b[38;5;12m|\u001b[0m\u001b[0m   \u001b[0m\u001b[0m    Ok(())\u001b[0m\n",
            "\u001b[0m   \u001b[0m\u001b[0m\u001b[1m\u001b[38;5;12m|\u001b[0m\u001b[0m       \u001b[0m\u001b[0m\u001b[1m\u001b[33m^^^^^^\u001b[0m\u001b[0m \u001b[0m\u001b[0m\u001b[1m\u001b[33munreachable expression\u001b[0m\n",
            "\u001b[0m   \u001b[0m\u001b[0m\u001b[1m\u001b[38;5;12m|\u001b[0m\n",
            "\u001b[0m   \u001b[0m\u001b[0m\u001b[1m\u001b[38;5;12m= \u001b[0m\u001b[0m\u001b[1mnote\u001b[0m\u001b[0m: `#[warn(unreachable_code)]` on by default\u001b[0m\n",
            "\n",
            "\u001b[0m\u001b[1mFor more information about this error, try `rustc --explain E0432`.\u001b[0m\n",
            "\u001b[1m\u001b[33mwarning\u001b[0m\u001b[1m:\u001b[0m `my_rust_project2` (bin \"my_rust_project2\") generated 1 warning\n",
            "\u001b[1m\u001b[31merror\u001b[0m\u001b[1m:\u001b[0m could not compile `my_rust_project2` (bin \"my_rust_project2\") due to 1 previous error; 1 warning emitted\n"
          ]
        }
      ]
    },
    {
      "cell_type": "markdown",
      "source": [
        "https://github.com/Codehackerone/storyforge/blob/main/rust-server/Cargo.toml"
      ],
      "metadata": {
        "id": "beGOekeVS1i8"
      }
    },
    {
      "cell_type": "code",
      "source": [
        "[package]\n",
        "name = \"rust-server\"\n",
        "version = \"0.1.0\"\n",
        "edition = \"2021\"\n",
        "\n",
        "# See more keys and their definitions at https://doc.rust-lang.org/cargo/reference/manifest.html\n",
        "\n",
        "[dependencies]\n",
        "tonic = \"0.7.1\"\n",
        "tokio = { version = \"1.18.0\", features = [\"macros\", \"rt-multi-thread\"] }\n",
        "prost = \"0.10.1\"\n",
        "\n",
        "[build-dependencies]\n",
        "tonic-build = \"0.7.2\"\n",
        "tonic-reflection = \"0.4.0\"\n",
        "\n",
        "[[bin]]\n",
        "name = \"python-client\"\n",
        "path = \"src/python-client.rs\"\n",
        "\n",
        "[[bin]]\n",
        "name=\"cli\"\n",
        "path=\"src/cli.rs\""
      ],
      "metadata": {
        "id": "hrXudox6RZ1L"
      },
      "execution_count": null,
      "outputs": []
    },
    {
      "cell_type": "code",
      "source": [
        "%%writefile src/main.rs\n",
        "use std::{env, path::PathBuf};\n",
        "\n",
        "fn main() {\n",
        "    let proto_file = \"textgen.proto\";\n",
        "\n",
        "    tonic_build::configure()\n",
        "        .build_server(true)\n",
        "        .out_dir(\"./src\")\n",
        "        .compile(&[proto_file], &[\".\"])\n",
        "        .unwrap_or_else(|e| panic!(\"protobuf compile error: {}\", e));\n",
        "\n",
        "    println!(\"cargo:rerun-if-changed={}\", proto_file);\n",
        "}"
      ],
      "metadata": {
        "colab": {
          "base_uri": "https://localhost:8080/"
        },
        "id": "UFVDV_nHS7-U",
        "outputId": "123a37b3-e34c-446e-e3ee-8254c7e9a758"
      },
      "execution_count": 62,
      "outputs": [
        {
          "output_type": "stream",
          "name": "stdout",
          "text": [
            "Overwriting src/main.rs\n"
          ]
        }
      ]
    },
    {
      "cell_type": "code",
      "source": [
        "!cargo build"
      ],
      "metadata": {
        "colab": {
          "base_uri": "https://localhost:8080/"
        },
        "id": "MFJuoNptTBUc",
        "outputId": "74645c42-4e98-43aa-d06c-b92f7b37c621"
      },
      "execution_count": 64,
      "outputs": [
        {
          "output_type": "stream",
          "name": "stdout",
          "text": [
            "\u001b[1m\u001b[32m    Updating\u001b[0m crates.io index\n",
            "\u001b[1m\u001b[32m     Locking\u001b[0m 52 packages to latest compatible versions\n",
            "\u001b[1m\u001b[36m      Adding\u001b[0m aho-corasick v1.1.3\n",
            "\u001b[1m\u001b[36m      Adding\u001b[0m anyhow v1.0.95\n",
            "\u001b[1m\u001b[36m      Adding\u001b[0m async-stream v0.3.6\n",
            "\u001b[1m\u001b[36m      Adding\u001b[0m async-stream-impl v0.3.6\n",
            "\u001b[1m\u001b[36m      Adding\u001b[0m async-trait v0.1.86\n",
            "\u001b[1m\u001b[36m      Adding\u001b[0m axum v0.5.17\n",
            "\u001b[1m\u001b[36m      Adding\u001b[0m axum-core v0.2.9\n",
            "\u001b[1m\u001b[33m Downgrading\u001b[0m base64 v0.21.7 -> v0.13.1\n",
            "\u001b[1m\u001b[36m      Adding\u001b[0m byteorder v1.5.0\n",
            "\u001b[1m\u001b[36m      Adding\u001b[0m cmake v0.1.54\n",
            "\u001b[1m\u001b[36m      Adding\u001b[0m either v1.13.0\n",
            "\u001b[1m\u001b[36m      Adding\u001b[0m fixedbitset v0.4.2\n",
            "\u001b[1m\u001b[36m      Adding\u001b[0m getrandom v0.2.15\n",
            "\u001b[1m\u001b[36m      Adding\u001b[0m hashbrown v0.12.3\n",
            "\u001b[1m\u001b[36m      Adding\u001b[0m heck v0.4.1\n",
            "\u001b[1m\u001b[36m      Adding\u001b[0m home v0.5.11\n",
            "\u001b[1m\u001b[36m      Adding\u001b[0m http-range-header v0.3.1\n",
            "\u001b[1m\u001b[36m      Adding\u001b[0m hyper-timeout v0.4.1\n",
            "\u001b[1m\u001b[36m      Adding\u001b[0m indexmap v1.9.3\n",
            "\u001b[1m\u001b[36m      Adding\u001b[0m itertools v0.10.5\n",
            "\u001b[1m\u001b[36m      Adding\u001b[0m lazy_static v1.5.0\n",
            "\u001b[1m\u001b[36m      Adding\u001b[0m matchit v0.5.0\n",
            "\u001b[1m\u001b[36m      Adding\u001b[0m multimap v0.8.3\n",
            "\u001b[1m\u001b[36m      Adding\u001b[0m petgraph v0.6.5\n",
            "\u001b[1m\u001b[36m      Adding\u001b[0m pin-project v1.1.9\n",
            "\u001b[1m\u001b[36m      Adding\u001b[0m pin-project-internal v1.1.9\n",
            "\u001b[1m\u001b[36m      Adding\u001b[0m ppv-lite86 v0.2.20\n",
            "\u001b[1m\u001b[36m      Adding\u001b[0m prettyplease v0.1.25\n",
            "\u001b[1m\u001b[36m      Adding\u001b[0m prost v0.10.4 \u001b[1m\u001b[33m(available: v0.13.5)\u001b[0m\n",
            "\u001b[1m\u001b[36m      Adding\u001b[0m prost-build v0.10.4\n",
            "\u001b[1m\u001b[36m      Adding\u001b[0m prost-derive v0.10.1\n",
            "\u001b[1m\u001b[36m      Adding\u001b[0m prost-types v0.10.1\n",
            "\u001b[1m\u001b[36m      Adding\u001b[0m rand v0.8.5\n",
            "\u001b[1m\u001b[36m      Adding\u001b[0m rand_chacha v0.3.1\n",
            "\u001b[1m\u001b[36m      Adding\u001b[0m rand_core v0.6.4\n",
            "\u001b[1m\u001b[36m      Adding\u001b[0m regex v1.11.1\n",
            "\u001b[1m\u001b[36m      Adding\u001b[0m regex-automata v0.4.9\n",
            "\u001b[1m\u001b[36m      Adding\u001b[0m regex-syntax v0.8.5\n",
            "\u001b[1m\u001b[36m      Adding\u001b[0m syn v1.0.109\n",
            "\u001b[1m\u001b[36m      Adding\u001b[0m tokio-io-timeout v1.2.0\n",
            "\u001b[1m\u001b[36m      Adding\u001b[0m tokio-stream v0.1.17\n",
            "\u001b[1m\u001b[36m      Adding\u001b[0m tonic v0.7.2 \u001b[1m\u001b[33m(available: v0.12.3)\u001b[0m\n",
            "\u001b[1m\u001b[36m      Adding\u001b[0m tonic-build v0.7.2 \u001b[1m\u001b[33m(available: v0.12.3)\u001b[0m\n",
            "\u001b[1m\u001b[36m      Adding\u001b[0m tonic-reflection v0.4.0 \u001b[1m\u001b[33m(available: v0.12.3)\u001b[0m\n",
            "\u001b[1m\u001b[36m      Adding\u001b[0m tower v0.4.13\n",
            "\u001b[1m\u001b[36m      Adding\u001b[0m tower-http v0.3.5\n",
            "\u001b[1m\u001b[36m      Adding\u001b[0m tower-layer v0.3.3\n",
            "\u001b[1m\u001b[36m      Adding\u001b[0m tracing-attributes v0.1.28\n",
            "\u001b[1m\u001b[36m      Adding\u001b[0m tracing-futures v0.2.5\n",
            "\u001b[1m\u001b[36m      Adding\u001b[0m which v4.4.2\n",
            "\u001b[1m\u001b[36m      Adding\u001b[0m zerocopy v0.7.35\n",
            "\u001b[1m\u001b[36m      Adding\u001b[0m zerocopy-derive v0.7.35\n",
            "\u001b[1m\u001b[32m Downloading\u001b[0m crates ...\n",
            "\u001b[1m\u001b[32m  Downloaded\u001b[0m axum-core v0.2.9\n",
            "\u001b[1m\u001b[32m  Downloaded\u001b[0m async-stream v0.3.6\n",
            "\u001b[1m\u001b[32m  Downloaded\u001b[0m async-trait v0.1.86\n",
            "\u001b[1m\u001b[32m  Downloaded\u001b[0m tower-layer v0.3.3\n",
            "\u001b[1m\u001b[32m  Downloaded\u001b[0m tonic-reflection v0.4.0\n",
            "\u001b[1m\u001b[32m  Downloaded\u001b[0m async-stream-impl v0.3.6\n",
            "\u001b[1m\u001b[32m  Downloaded\u001b[0m multimap v0.8.3\n",
            "\u001b[1m\u001b[32m  Downloaded\u001b[0m which v4.4.2\n",
            "\u001b[1m\u001b[32m  Downloaded\u001b[0m tonic-build v0.7.2\n",
            "\u001b[1m\u001b[32m  Downloaded\u001b[0m heck v0.4.1\n",
            "\u001b[1m\u001b[32m  Downloaded\u001b[0m tracing-futures v0.2.5\n",
            "\u001b[1m\u001b[32m  Downloaded\u001b[0m pin-project v1.1.9\n",
            "\u001b[1m\u001b[32m  Downloaded\u001b[0m prettyplease v0.1.25\n",
            "\u001b[1m\u001b[32m  Downloaded\u001b[0m tonic v0.7.2\n",
            "\u001b[1m\u001b[32m  Downloaded\u001b[0m tower-http v0.3.5\n",
            "\u001b[1m\u001b[32m  Downloaded\u001b[0m itertools v0.10.5\n",
            "\u001b[1m\u001b[32m  Downloaded\u001b[0m tower v0.4.13\n",
            "\u001b[1m\u001b[32m  Downloaded\u001b[0m aho-corasick v1.1.3\n",
            "\u001b[1m\u001b[32m  Downloaded\u001b[0m hashbrown v0.12.3\n",
            "\u001b[1m\u001b[32m  Downloaded\u001b[0m axum v0.5.17\n",
            "\u001b[1m\u001b[32m  Downloaded\u001b[0m indexmap v1.9.3\n",
            "\u001b[1m\u001b[32m  Downloaded\u001b[0m syn v1.0.109\n",
            "\u001b[1m\u001b[32m  Downloaded\u001b[0m regex v1.11.1\n",
            "\u001b[1m\u001b[32m  Downloaded\u001b[0m base64 v0.13.1\n",
            "\u001b[1m\u001b[32m  Downloaded\u001b[0m getrandom v0.3.1\n",
            "\u001b[1m\u001b[32m  Downloaded\u001b[0m tracing-attributes v0.1.28\n",
            "\u001b[1m\u001b[32m  Downloaded\u001b[0m tokio-stream v0.1.17\n",
            "\u001b[1m\u001b[32m  Downloaded\u001b[0m rustix v0.38.44\n",
            "\u001b[1m\u001b[32m  Downloaded\u001b[0m regex-syntax v0.8.5\n",
            "\u001b[1m\u001b[32m  Downloaded\u001b[0m tempfile v3.16.0\n",
            "\u001b[1m\u001b[32m  Downloaded\u001b[0m prost-types v0.10.1\n",
            "\u001b[1m\u001b[32m  Downloaded\u001b[0m prost v0.10.4\n",
            "\u001b[1m\u001b[32m  Downloaded\u001b[0m pin-project-internal v1.1.9\n",
            "\u001b[1m\u001b[32m  Downloaded\u001b[0m errno v0.3.10\n",
            "\u001b[1m\u001b[32m  Downloaded\u001b[0m tokio-io-timeout v1.2.0\n",
            "\u001b[1m\u001b[32m  Downloaded\u001b[0m prost-derive v0.10.1\n",
            "\u001b[1m\u001b[32m  Downloaded\u001b[0m hyper-timeout v0.4.1\n",
            "\u001b[1m\u001b[32m  Downloaded\u001b[0m http-range-header v0.3.1\n",
            "\u001b[1m\u001b[32m  Downloaded\u001b[0m home v0.5.11\n",
            "\u001b[1m\u001b[32m  Downloaded\u001b[0m fixedbitset v0.4.2\n",
            "\u001b[1m\u001b[32m  Downloaded\u001b[0m regex-automata v0.4.9\n",
            "\u001b[1m\u001b[32m  Downloaded\u001b[0m cmake v0.1.54\n",
            "\u001b[1m\u001b[32m  Downloaded\u001b[0m matchit v0.5.0\n",
            "\u001b[1m\u001b[32m  Downloaded\u001b[0m lazy_static v1.5.0\n",
            "\u001b[1m\u001b[32m  Downloaded\u001b[0m fastrand v2.3.0\n",
            "\u001b[1m\u001b[32m  Downloaded\u001b[0m anyhow v1.0.95\n",
            "\u001b[1m\u001b[32m  Downloaded\u001b[0m petgraph v0.6.5\n",
            "\u001b[1m\u001b[32m  Downloaded\u001b[0m linux-raw-sys v0.4.15\n",
            "\u001b[1m\u001b[32m  Downloaded\u001b[0m prost-build v0.10.4\n",
            "\u001b[1m\u001b[32m   Compiling\u001b[0m syn v2.0.98\n",
            "\u001b[1m\u001b[32m   Compiling\u001b[0m futures-task v0.3.31\n",
            "\u001b[1m\u001b[32m   Compiling\u001b[0m futures-util v0.3.31\n",
            "\u001b[1m\u001b[32m   Compiling\u001b[0m byteorder v1.5.0\n",
            "\u001b[1m\u001b[32m   Compiling\u001b[0m indexmap v1.9.3\n",
            "\u001b[1m\u001b[32m   Compiling\u001b[0m tower-layer v0.3.3\n",
            "\u001b[1m\u001b[32m   Compiling\u001b[0m hashbrown v0.12.3\n",
            "\u001b[1m\u001b[32m   Compiling\u001b[0m anyhow v1.0.95\n",
            "\u001b[1m\u001b[32m   Compiling\u001b[0m syn v1.0.109\n",
            "\u001b[1m\u001b[32m   Compiling\u001b[0m serde v1.0.217\n",
            "\u001b[1m\u001b[32m   Compiling\u001b[0m either v1.13.0\n",
            "\u001b[1m\u001b[32m   Compiling\u001b[0m itertools v0.10.5\n",
            "\u001b[1m\u001b[32m   Compiling\u001b[0m tokio-macros v2.5.0\n",
            "\u001b[1m\u001b[32m   Compiling\u001b[0m tracing-attributes v0.1.28\n",
            "\u001b[1m\u001b[32m   Compiling\u001b[0m tokio v1.43.0\n",
            "\u001b[1m\u001b[32m   Compiling\u001b[0m tracing v0.1.41\n",
            "\u001b[1m\u001b[32m   Compiling\u001b[0m zerocopy-derive v0.7.35\n",
            "\u001b[1m\u001b[32m   Compiling\u001b[0m zerocopy v0.7.35\n",
            "\u001b[1m\u001b[32m   Compiling\u001b[0m ppv-lite86 v0.2.20\n",
            "\u001b[1m\u001b[32m   Compiling\u001b[0m pin-project-internal v1.1.9\n",
            "\u001b[1m\u001b[32m   Compiling\u001b[0m tokio-util v0.7.13\n",
            "\u001b[1m\u001b[32m   Compiling\u001b[0m pin-project v1.1.9\n",
            "\u001b[1m\u001b[32m   Compiling\u001b[0m rand_chacha v0.3.1\n",
            "\u001b[1m\u001b[32m   Compiling\u001b[0m rand v0.8.5\n",
            "\u001b[1m\u001b[32m   Compiling\u001b[0m h2 v0.3.26\n",
            "\u001b[1m\u001b[32m   Compiling\u001b[0m tower v0.4.13\n",
            "\u001b[1m\u001b[32m   Compiling\u001b[0m async-trait v0.1.86\n",
            "\u001b[1m\u001b[32m   Compiling\u001b[0m hyper v0.14.32\n",
            "\u001b[1m\u001b[32m   Compiling\u001b[0m http-range-header v0.3.1\n",
            "\u001b[1m\u001b[32m   Compiling\u001b[0m tower-http v0.3.5\n",
            "\u001b[1m\u001b[32m   Compiling\u001b[0m axum-core v0.2.9\n",
            "\u001b[1m\u001b[32m   Compiling\u001b[0m prost-derive v0.10.1\n",
            "\u001b[1m\u001b[32m   Compiling\u001b[0m tokio-io-timeout v1.2.0\n",
            "\u001b[1m\u001b[32m   Compiling\u001b[0m async-stream-impl v0.3.6\n",
            "\u001b[1m\u001b[32m   Compiling\u001b[0m matchit v0.5.0\n",
            "\u001b[1m\u001b[32m   Compiling\u001b[0m async-stream v0.3.6\n",
            "\u001b[1m\u001b[32m   Compiling\u001b[0m hyper-timeout v0.4.1\n",
            "\u001b[1m\u001b[32m   Compiling\u001b[0m prost v0.10.4\n",
            "\u001b[1m\u001b[32m   Compiling\u001b[0m tracing-futures v0.2.5\n",
            "\u001b[1m\u001b[32m   Compiling\u001b[0m tokio-stream v0.1.17\n",
            "\u001b[1m\u001b[32m   Compiling\u001b[0m base64 v0.13.1\n",
            "\u001b[1m\u001b[32m   Compiling\u001b[0m axum v0.5.17\n",
            "\u001b[1m\u001b[32m   Compiling\u001b[0m tonic v0.7.2\n",
            "\u001b[1m\u001b[32m   Compiling\u001b[0m my_rust_project2 v0.1.0 (/content/my_rust_project/my_rust_project2)\n",
            "\u001b[0m\u001b[1m\u001b[33mwarning\u001b[0m\u001b[0m\u001b[1m: unused imports: `env` and `path::PathBuf`\u001b[0m\n",
            "\u001b[0m \u001b[0m\u001b[0m\u001b[1m\u001b[38;5;12m--> \u001b[0m\u001b[0msrc/main.rs:1:11\u001b[0m\n",
            "\u001b[0m  \u001b[0m\u001b[0m\u001b[1m\u001b[38;5;12m|\u001b[0m\n",
            "\u001b[0m\u001b[1m\u001b[38;5;12m1\u001b[0m\u001b[0m \u001b[0m\u001b[0m\u001b[1m\u001b[38;5;12m|\u001b[0m\u001b[0m \u001b[0m\u001b[0muse std::{env, path::PathBuf};\u001b[0m\n",
            "\u001b[0m  \u001b[0m\u001b[0m\u001b[1m\u001b[38;5;12m|\u001b[0m\u001b[0m           \u001b[0m\u001b[0m\u001b[1m\u001b[33m^^^\u001b[0m\u001b[0m  \u001b[0m\u001b[0m\u001b[1m\u001b[33m^^^^^^^^^^^^^\u001b[0m\n",
            "\u001b[0m  \u001b[0m\u001b[0m\u001b[1m\u001b[38;5;12m|\u001b[0m\n",
            "\u001b[0m  \u001b[0m\u001b[0m\u001b[1m\u001b[38;5;12m= \u001b[0m\u001b[0m\u001b[1mnote\u001b[0m\u001b[0m: `#[warn(unused_imports)]` on by default\u001b[0m\n",
            "\n",
            "\u001b[0m\u001b[1m\u001b[38;5;9merror[E0433]\u001b[0m\u001b[0m\u001b[1m: failed to resolve: use of undeclared crate or module `tonic_build`\u001b[0m\n",
            "\u001b[0m \u001b[0m\u001b[0m\u001b[1m\u001b[38;5;12m--> \u001b[0m\u001b[0msrc/main.rs:6:5\u001b[0m\n",
            "\u001b[0m  \u001b[0m\u001b[0m\u001b[1m\u001b[38;5;12m|\u001b[0m\n",
            "\u001b[0m\u001b[1m\u001b[38;5;12m6\u001b[0m\u001b[0m \u001b[0m\u001b[0m\u001b[1m\u001b[38;5;12m|\u001b[0m\u001b[0m \u001b[0m\u001b[0m    tonic_build::configure()\u001b[0m\n",
            "\u001b[0m  \u001b[0m\u001b[0m\u001b[1m\u001b[38;5;12m|\u001b[0m\u001b[0m     \u001b[0m\u001b[0m\u001b[1m\u001b[38;5;9m^^^^^^^^^^^\u001b[0m\u001b[0m \u001b[0m\u001b[0m\u001b[1m\u001b[38;5;9muse of undeclared crate or module `tonic_build`\u001b[0m\n",
            "\n",
            "\u001b[0m\u001b[1mFor more information about this error, try `rustc --explain E0433`.\u001b[0m\n",
            "\u001b[1m\u001b[33mwarning\u001b[0m\u001b[1m:\u001b[0m `my_rust_project2` (bin \"main\") generated 1 warning\n",
            "\u001b[1m\u001b[31merror\u001b[0m\u001b[1m:\u001b[0m could not compile `my_rust_project2` (bin \"main\") due to 1 previous error; 1 warning emitted\n"
          ]
        }
      ]
    },
    {
      "cell_type": "code",
      "source": [
        "!cargo run"
      ],
      "metadata": {
        "id": "g7FLWfqnTdXs"
      },
      "execution_count": null,
      "outputs": []
    },
    {
      "cell_type": "code",
      "source": [
        "%cd /content"
      ],
      "metadata": {
        "colab": {
          "base_uri": "https://localhost:8080/"
        },
        "id": "dsLbNDQEVga0",
        "outputId": "fa87299b-825c-47a9-dda3-6a8c0ae30d8a"
      },
      "execution_count": 68,
      "outputs": [
        {
          "output_type": "stream",
          "name": "stdout",
          "text": [
            "/content\n"
          ]
        }
      ]
    },
    {
      "cell_type": "code",
      "source": [],
      "metadata": {
        "id": "DEoKDdysa_4k"
      },
      "execution_count": null,
      "outputs": []
    },
    {
      "cell_type": "code",
      "source": [],
      "metadata": {
        "id": "dLSrAqp4a_yQ"
      },
      "execution_count": null,
      "outputs": []
    },
    {
      "cell_type": "code",
      "source": [],
      "metadata": {
        "id": "Zgj2l2Aha_ue"
      },
      "execution_count": null,
      "outputs": []
    },
    {
      "cell_type": "code",
      "source": [],
      "metadata": {
        "id": "V_TYLXLAa_rA"
      },
      "execution_count": null,
      "outputs": []
    },
    {
      "cell_type": "code",
      "source": [],
      "metadata": {
        "id": "OdjWjTXia_ne"
      },
      "execution_count": null,
      "outputs": []
    },
    {
      "cell_type": "code",
      "source": [],
      "metadata": {
        "id": "xDkoUgoUa_j7"
      },
      "execution_count": null,
      "outputs": []
    },
    {
      "cell_type": "code",
      "source": [],
      "metadata": {
        "id": "cQImKsRIa_gL"
      },
      "execution_count": null,
      "outputs": []
    },
    {
      "cell_type": "code",
      "source": [],
      "metadata": {
        "id": "F1GjQCcIa_cY"
      },
      "execution_count": null,
      "outputs": []
    },
    {
      "cell_type": "code",
      "source": [],
      "metadata": {
        "id": "RaXNC7BUa_Ya"
      },
      "execution_count": null,
      "outputs": []
    },
    {
      "cell_type": "code",
      "source": [],
      "metadata": {
        "id": "j3wAKVYta_Ud"
      },
      "execution_count": null,
      "outputs": []
    },
    {
      "cell_type": "code",
      "source": [],
      "metadata": {
        "id": "CahVcnSia_Rn"
      },
      "execution_count": null,
      "outputs": []
    },
    {
      "cell_type": "code",
      "source": [],
      "metadata": {
        "id": "qn2xIYsIa_On"
      },
      "execution_count": null,
      "outputs": []
    },
    {
      "cell_type": "code",
      "source": [],
      "metadata": {
        "id": "sm8XB1s_a_Jv"
      },
      "execution_count": null,
      "outputs": []
    },
    {
      "cell_type": "code",
      "source": [],
      "metadata": {
        "id": "FJkL4anea_E8"
      },
      "execution_count": null,
      "outputs": []
    },
    {
      "cell_type": "code",
      "source": [],
      "metadata": {
        "id": "2dWgxnvRa_BG"
      },
      "execution_count": null,
      "outputs": []
    },
    {
      "cell_type": "code",
      "source": [],
      "metadata": {
        "id": "dr_0DgWPa-89"
      },
      "execution_count": null,
      "outputs": []
    },
    {
      "cell_type": "code",
      "source": [],
      "metadata": {
        "id": "Stx3GgH4a-48"
      },
      "execution_count": null,
      "outputs": []
    },
    {
      "cell_type": "code",
      "source": [],
      "metadata": {
        "id": "ZD5ut7fJa-0x"
      },
      "execution_count": null,
      "outputs": []
    },
    {
      "cell_type": "code",
      "source": [],
      "metadata": {
        "id": "YSgscCrza-xI"
      },
      "execution_count": null,
      "outputs": []
    },
    {
      "cell_type": "code",
      "source": [],
      "metadata": {
        "id": "s_zStlO6a-tJ"
      },
      "execution_count": null,
      "outputs": []
    },
    {
      "cell_type": "code",
      "source": [],
      "metadata": {
        "id": "ihWkOYOca-pB"
      },
      "execution_count": null,
      "outputs": []
    },
    {
      "cell_type": "code",
      "source": [],
      "metadata": {
        "id": "QDzG71oMa-lb"
      },
      "execution_count": null,
      "outputs": []
    },
    {
      "cell_type": "code",
      "source": [],
      "metadata": {
        "id": "n2lzn_NNa-hb"
      },
      "execution_count": null,
      "outputs": []
    },
    {
      "cell_type": "markdown",
      "source": [
        "https://github.com/rustformers/llm#running\n",
        "\n",
        "\n",
        "\n",
        "\n",
        "\n",
        "https://docs.rs/llm/latest/src/llm/builder.rs.html\n",
        "\n",
        "\n",
        "\n",
        "\n",
        "\n",
        "\n",
        "\n",
        "\n",
        "\n",
        "\n",
        "https://github.com/rustformers/llmhttps://github.com/rustformers/llmhttps://github.com/rustformers/llmhttps://github.com/rustformers/llmhttps://github.com/rustformers/llmhttps://github.com/rustformers/llm"
      ],
      "metadata": {
        "id": "yydQ-2qxbFGM"
      }
    },
    {
      "cell_type": "markdown",
      "source": [
        "### $$$$$$$$$$$$$$$$$$$$$$$$$$$$$$$$$$$"
      ],
      "metadata": {
        "id": "7Vcs7Cgka7Ll"
      }
    },
    {
      "cell_type": "code",
      "source": [],
      "metadata": {
        "id": "gq1dsowcbNSe"
      },
      "execution_count": null,
      "outputs": []
    },
    {
      "cell_type": "code",
      "source": [
        "!git clone https://github.com/rustformers/llm.git\n",
        "!nix build"
      ],
      "metadata": {
        "colab": {
          "base_uri": "https://localhost:8080/"
        },
        "id": "T3NAqf6aTBmC",
        "outputId": "fb6328b8-744b-4975-fe51-63038de75925"
      },
      "execution_count": 69,
      "outputs": [
        {
          "output_type": "stream",
          "name": "stdout",
          "text": [
            "Cloning into 'llm'...\n",
            "remote: Enumerating objects: 10402, done.\u001b[K\n",
            "remote: Counting objects:  33% (1/3)\u001b[K\rremote: Counting objects:  66% (2/3)\u001b[K\rremote: Counting objects: 100% (3/3)\u001b[K\rremote: Counting objects: 100% (3/3), done.\u001b[K\n",
            "remote: Compressing objects: 100% (3/3), done.\u001b[K\n",
            "remote: Total 10402 (delta 0), reused 1 (delta 0), pack-reused 10399 (from 1)\u001b[K\n",
            "Receiving objects: 100% (10402/10402), 6.49 MiB | 19.59 MiB/s, done.\n",
            "Resolving deltas: 100% (5037/5037), done.\n",
            "/bin/bash: line 1: nix: command not found\n"
          ]
        }
      ]
    },
    {
      "cell_type": "code",
      "source": [
        "%cd llm"
      ],
      "metadata": {
        "colab": {
          "base_uri": "https://localhost:8080/"
        },
        "id": "DzqE-FlyVXB7",
        "outputId": "19173d81-d6eb-4d82-9a36-497228a4b4f0"
      },
      "execution_count": 70,
      "outputs": [
        {
          "output_type": "stream",
          "name": "stdout",
          "text": [
            "/content/llm\n"
          ]
        }
      ]
    },
    {
      "cell_type": "code",
      "source": [
        "!nix build"
      ],
      "metadata": {
        "colab": {
          "base_uri": "https://localhost:8080/"
        },
        "id": "eCz6lEW_VmFc",
        "outputId": "0ac45368-14b8-401e-892d-31effcf83f2b"
      },
      "execution_count": 71,
      "outputs": [
        {
          "output_type": "stream",
          "name": "stdout",
          "text": [
            "/bin/bash: line 1: nix: command not found\n"
          ]
        }
      ]
    },
    {
      "cell_type": "markdown",
      "source": [
        "https://stackoverflow.com/questions/76675438/how-to-compile-the-llm-library-with-nix"
      ],
      "metadata": {
        "id": "-h1swh_yV3Ur"
      }
    },
    {
      "cell_type": "code",
      "source": [
        "!nix develop -i\n",
        "!cargo build --release"
      ],
      "metadata": {
        "colab": {
          "base_uri": "https://localhost:8080/"
        },
        "id": "1hqQqOvzVmb7",
        "outputId": "0fc49bb9-e037-4535-8bfe-28120f07c70d"
      },
      "execution_count": 72,
      "outputs": [
        {
          "output_type": "stream",
          "name": "stdout",
          "text": [
            "/bin/bash: line 1: nix: command not found\n",
            "\u001b[1m\u001b[32m    Updating\u001b[0m crates.io index\n",
            "\u001b[1m\u001b[32m Downloading\u001b[0m crates ...\n",
            "\u001b[1m\u001b[32m  Downloaded\u001b[0m addr2line v0.21.0\n",
            "\u001b[1m\u001b[32m  Downloaded\u001b[0m zstd-safe v6.0.5+zstd.1.5.4\n",
            "\u001b[1m\u001b[32m  Downloaded\u001b[0m aes v0.8.3\n",
            "\u001b[1m\u001b[32m  Downloaded\u001b[0m zstd v0.11.2+zstd.1.5.2\n",
            "\u001b[1m\u001b[32m  Downloaded\u001b[0m itoa v1.0.6\n",
            "\u001b[1m\u001b[32m  Downloaded\u001b[0m utf8parse v0.2.1\n",
            "\u001b[1m\u001b[32m  Downloaded\u001b[0m indicatif v0.16.2\n",
            "\u001b[1m\u001b[32m  Downloaded\u001b[0m tracing-subscriber v0.3.17\n",
            "\u001b[1m\u001b[32m  Downloaded\u001b[0m partial_sort v0.2.0\n",
            "\u001b[1m\u001b[32m  Downloaded\u001b[0m anstyle-parse v0.2.1\n",
            "\u001b[1m\u001b[32m  Downloaded\u001b[0m rustyline-derive v0.8.0\n",
            "\u001b[1m\u001b[32m  Downloaded\u001b[0m aho-corasick v0.7.20\n",
            "\u001b[1m\u001b[32m  Downloaded\u001b[0m tracing-appender v0.2.2\n",
            "\u001b[1m\u001b[32m  Downloaded\u001b[0m memoffset v0.9.0\n",
            "\u001b[1m\u001b[32m  Downloaded\u001b[0m termcolor v1.2.0\n",
            "\u001b[1m\u001b[32m  Downloaded\u001b[0m percent-encoding v2.3.0\n",
            "\u001b[1m\u001b[32m  Downloaded\u001b[0m adler v1.0.2\n",
            "\u001b[1m\u001b[32m  Downloaded\u001b[0m time-macros v0.2.9\n",
            "\u001b[1m\u001b[32m  Downloaded\u001b[0m tracing-log v0.1.3\n",
            "\u001b[1m\u001b[32m  Downloaded\u001b[0m memmap2 v0.5.10\n",
            "\u001b[1m\u001b[32m  Downloaded\u001b[0m tracing-attributes v0.1.26\n",
            "\u001b[1m\u001b[32m  Downloaded\u001b[0m tracing-core v0.1.31\n",
            "\u001b[1m\u001b[32m  Downloaded\u001b[0m tracing v0.1.37\n",
            "\u001b[1m\u001b[32m  Downloaded\u001b[0m unicode-normalization-alignments v0.1.12\n",
            "\u001b[1m\u001b[32m  Downloaded\u001b[0m serde_json v1.0.99\n",
            "\u001b[1m\u001b[32m  Downloaded\u001b[0m reqwest v0.11.18\n",
            "\u001b[1m\u001b[32m  Downloaded\u001b[0m rayon v1.7.0\n",
            "\u001b[1m\u001b[32m  Downloaded\u001b[0m syn v2.0.22\n",
            "\u001b[1m\u001b[32m  Downloaded\u001b[0m is-terminal v0.4.9\n",
            "\u001b[1m\u001b[32m  Downloaded\u001b[0m regex v1.8.4\n",
            "\u001b[1m\u001b[32m  Downloaded\u001b[0m try-lock v0.2.4\n",
            "\u001b[1m\u001b[32m  Downloaded\u001b[0m unicode-width v0.1.10\n",
            "\u001b[1m\u001b[32m  Downloaded\u001b[0m unicode-bidi v0.3.13\n",
            "\u001b[1m\u001b[32m  Downloaded\u001b[0m flate2 v1.0.26\n",
            "\u001b[1m\u001b[32m  Downloaded\u001b[0m unicode_categories v0.1.1\n",
            "\u001b[1m\u001b[32m  Downloaded\u001b[0m unicode-segmentation v1.10.1\n",
            "\u001b[1m\u001b[32m  Downloaded\u001b[0m tokenizers v0.13.4\n",
            "\u001b[1m\u001b[32m  Downloaded\u001b[0m spm_precompiled v0.1.4\n",
            "\u001b[1m\u001b[32m  Downloaded\u001b[0m onig_sys v69.8.1\n",
            "\u001b[1m\u001b[32m  Downloaded\u001b[0m tokio v1.29.1\n",
            "\u001b[1m\u001b[32m  Downloaded\u001b[0m futures-util v0.3.28\n",
            "\u001b[1m\u001b[32m  Downloaded\u001b[0m zstd-sys v2.0.8+zstd.1.5.5\n",
            "\u001b[1m\u001b[32m  Downloaded\u001b[0m http v0.2.9\n",
            "\u001b[1m\u001b[32m  Downloaded\u001b[0m mio v0.8.8\n",
            "\u001b[1m\u001b[32m  Downloaded\u001b[0m esaxx-rs v0.1.8\n",
            "\u001b[1m\u001b[32m  Downloaded\u001b[0m tar v0.4.38\n",
            "\u001b[1m\u001b[32m  Downloaded\u001b[0m serde_derive v1.0.164\n",
            "\u001b[1m\u001b[32m  Downloaded\u001b[0m tokio-util v0.7.8\n",
            "\u001b[1m\u001b[32m  Downloaded\u001b[0m openssl-sys v0.9.90\n",
            "\u001b[1m\u001b[32m  Downloaded\u001b[0m gimli v0.28.0\n",
            "\u001b[1m\u001b[32m  Downloaded\u001b[0m url v2.4.0\n",
            "\u001b[1m\u001b[32m  Downloaded\u001b[0m crossbeam-channel v0.5.8\n",
            "\u001b[1m\u001b[32m  Downloaded\u001b[0m typenum v1.16.0\n",
            "\u001b[1m\u001b[32m  Downloaded\u001b[0m unicode-ident v1.0.9\n",
            "\u001b[1m\u001b[32m  Downloaded\u001b[0m itertools v0.9.0\n",
            "\u001b[1m\u001b[32m  Downloaded\u001b[0m linux-raw-sys v0.4.11\n",
            "\u001b[1m\u001b[32m  Downloaded\u001b[0m itertools v0.8.2\n",
            "\u001b[1m\u001b[32m  Downloaded\u001b[0m half v2.2.1\n",
            "\u001b[1m\u001b[32m  Downloaded\u001b[0m crossbeam-utils v0.8.16\n",
            "\u001b[1m\u001b[32m  Downloaded\u001b[0m rustix v0.38.19\n",
            "\u001b[1m\u001b[32m  Downloaded\u001b[0m rustix v0.37.27\n",
            "\u001b[1m\u001b[32m  Downloaded\u001b[0m color-eyre v0.6.2\n",
            "\u001b[1m\u001b[32m  Downloaded\u001b[0m regex-syntax v0.7.2\n",
            "\u001b[1m\u001b[32m  Downloaded\u001b[0m httparse v1.8.0\n",
            "\u001b[1m\u001b[32m  Downloaded\u001b[0m regex-syntax v0.6.29\n",
            "\u001b[1m\u001b[32m  Downloaded\u001b[0m hmac v0.12.1\n",
            "\u001b[1m\u001b[32m  Downloaded\u001b[0m futures-task v0.3.28\n",
            "\u001b[1m\u001b[32m  Downloaded\u001b[0m filetime v0.2.21\n",
            "\u001b[1m\u001b[32m  Downloaded\u001b[0m fd-lock v3.0.13\n",
            "\u001b[1m\u001b[32m  Downloaded\u001b[0m libc v0.2.150\n",
            "\u001b[1m\u001b[32m  Downloaded\u001b[0m env_logger v0.10.0\n",
            "\u001b[1m\u001b[32m  Downloaded\u001b[0m derive_builder_core v0.12.0\n",
            "\u001b[1m\u001b[32m  Downloaded\u001b[0m derive_builder v0.12.0\n",
            "\u001b[1m\u001b[32m  Downloaded\u001b[0m nix v0.26.2\n",
            "\u001b[1m\u001b[32m  Downloaded\u001b[0m inout v0.1.3\n",
            "\u001b[1m\u001b[32m  Downloaded\u001b[0m h2 v0.3.20\n",
            "\u001b[1m\u001b[32m  Downloaded\u001b[0m glob v0.3.1\n",
            "\u001b[1m\u001b[32m  Downloaded\u001b[0m getrandom v0.2.10\n",
            "\u001b[1m\u001b[32m  Downloaded\u001b[0m futures-core v0.3.28\n",
            "\u001b[1m\u001b[32m  Downloaded\u001b[0m futures-channel v0.3.28\n",
            "\u001b[1m\u001b[32m  Downloaded\u001b[0m endian-type v0.1.2\n",
            "\u001b[1m\u001b[32m  Downloaded\u001b[0m linux-raw-sys v0.3.8\n",
            "\u001b[1m\u001b[32m  Downloaded\u001b[0m either v1.8.1\n",
            "\u001b[1m\u001b[32m  Downloaded\u001b[0m dirs-sys v0.3.7\n",
            "\u001b[1m\u001b[32m  Downloaded\u001b[0m dirs-next v2.0.0\n",
            "\u001b[1m\u001b[32m  Downloaded\u001b[0m dirs v4.0.0\n",
            "\u001b[1m\u001b[32m  Downloaded\u001b[0m digest v0.10.7\n",
            "\u001b[1m\u001b[32m  Downloaded\u001b[0m crossbeam-deque v0.8.3\n",
            "\u001b[1m\u001b[32m  Downloaded\u001b[0m constant_time_eq v0.1.5\n",
            "\u001b[1m\u001b[32m  Downloaded\u001b[0m colored v2.0.4\n",
            "\u001b[1m\u001b[32m  Downloaded\u001b[0m clap_derive v4.3.2\n",
            "\u001b[1m\u001b[32m  Downloaded\u001b[0m radix_trie v0.2.1\n",
            "\u001b[1m\u001b[32m  Downloaded\u001b[0m openssl v0.10.55\n",
            "\u001b[1m\u001b[32m  Downloaded\u001b[0m object v0.32.1\n",
            "\u001b[1m\u001b[32m  Downloaded\u001b[0m lazy_static v1.4.0\n",
            "\u001b[1m\u001b[32m  Downloaded\u001b[0m encoding_rs v0.8.32\n",
            "\u001b[1m\u001b[32m  Downloaded\u001b[0m jobserver v0.1.26\n",
            "\u001b[1m\u001b[32m  Downloaded\u001b[0m generic-array v0.14.7\n",
            "\u001b[1m\u001b[32m  Downloaded\u001b[0m form_urlencoded v1.2.0\n",
            "\u001b[1m\u001b[32m  Downloaded\u001b[0m fastrand v1.9.0\n",
            "\u001b[1m\u001b[32m  Downloaded\u001b[0m eyre v0.6.8\n",
            "\u001b[1m\u001b[32m  Downloaded\u001b[0m errno v0.3.1\n",
            "\u001b[1m\u001b[32m  Downloaded\u001b[0m dirs-sys-next v0.1.2\n",
            "\u001b[1m\u001b[32m  Downloaded\u001b[0m derive_builder_macro v0.12.0\n",
            "\u001b[1m\u001b[32m  Downloaded\u001b[0m darling_macro v0.14.4\n",
            "\u001b[1m\u001b[32m  Downloaded\u001b[0m crc32fast v1.3.2\n",
            "\u001b[1m\u001b[32m  Downloaded\u001b[0m cpufeatures v0.2.8\n",
            "\u001b[1m\u001b[32m  Downloaded\u001b[0m clap_builder v4.3.10\n",
            "\u001b[1m\u001b[32m  Downloaded\u001b[0m cached-path v0.6.1\n",
            "\u001b[1m\u001b[32m  Downloaded\u001b[0m anyhow v1.0.71\n",
            "\u001b[1m\u001b[32m  Downloaded\u001b[0m anstyle-query v1.0.0\n",
            "\u001b[1m\u001b[32m  Downloaded\u001b[0m ipnet v2.8.0\n",
            "\u001b[1m\u001b[32m  Downloaded\u001b[0m io-lifetimes v1.0.11\n",
            "\u001b[1m\u001b[32m  Downloaded\u001b[0m indenter v0.3.3\n",
            "\u001b[1m\u001b[32m  Downloaded\u001b[0m idna v0.4.0\n",
            "\u001b[1m\u001b[32m  Downloaded\u001b[0m hyper v0.14.27\n",
            "\u001b[1m\u001b[32m  Downloaded\u001b[0m humantime v2.1.0\n",
            "\u001b[1m\u001b[32m  Downloaded\u001b[0m httpdate v1.0.2\n",
            "\u001b[1m\u001b[32m  Downloaded\u001b[0m futures-sink v0.3.28\n",
            "\u001b[1m\u001b[32m  Downloaded\u001b[0m fs2 v0.4.3\n",
            "\u001b[1m\u001b[32m  Downloaded\u001b[0m darling_core v0.14.4\n",
            "\u001b[1m\u001b[32m  Downloaded\u001b[0m crossbeam-epoch v0.9.15\n",
            "\u001b[1m\u001b[32m  Downloaded\u001b[0m colorchoice v1.0.0\n",
            "\u001b[1m\u001b[32m  Downloaded\u001b[0m clap_lex v0.5.0\n",
            "\u001b[1m\u001b[32m  Downloaded\u001b[0m clap v4.3.10\n",
            "\u001b[1m\u001b[32m  Downloaded\u001b[0m cc v1.0.79\n",
            "\u001b[1m\u001b[32m  Downloaded\u001b[0m bzip2-sys v0.1.11+1.0.8\n",
            "\u001b[1m\u001b[32m  Downloaded\u001b[0m bzip2 v0.4.4\n",
            "\u001b[1m\u001b[32m  Downloaded\u001b[0m bytesize v1.2.0\n",
            "\u001b[1m\u001b[32m  Downloaded\u001b[0m byteorder v1.4.3\n",
            "\u001b[1m\u001b[32m  Downloaded\u001b[0m block-buffer v0.10.4\n",
            "\u001b[1m\u001b[32m  Downloaded\u001b[0m bytemuck v1.13.1\n",
            "\u001b[1m\u001b[32m  Downloaded\u001b[0m base64ct v1.6.0\n",
            "\u001b[1m\u001b[32m  Downloaded\u001b[0m cipher v0.4.4\n",
            "\u001b[1m\u001b[32m  Downloaded\u001b[0m llm-samplers v0.0.7\n",
            "\u001b[1m\u001b[32m  Downloaded\u001b[0m nom v7.1.3\n",
            "\u001b[1m\u001b[32m  Downloaded\u001b[0m unicode-normalization v0.1.22\n",
            "\u001b[1m\u001b[32m  Downloaded\u001b[0m time v0.3.22\n",
            "\u001b[1m\u001b[32m  Downloaded\u001b[0m rustyline v11.0.0\n",
            "\u001b[1m\u001b[32m  Downloaded\u001b[0m regex-automata v0.1.10\n",
            "\u001b[1m\u001b[32m  Downloaded\u001b[0m rayon-core v1.11.0\n",
            "\u001b[1m\u001b[32m  Downloaded\u001b[0m minimal-lexical v0.2.1\n",
            "\u001b[1m\u001b[32m  Downloaded\u001b[0m aho-corasick v1.0.2\n",
            "\u001b[1m\u001b[32m  Downloaded\u001b[0m serde v1.0.164\n",
            "\u001b[1m\u001b[32m  Downloaded\u001b[0m miniz_oxide v0.7.1\n",
            "\u001b[1m\u001b[32m  Downloaded\u001b[0m memchr v2.5.0\n",
            "\u001b[1m\u001b[32m  Downloaded\u001b[0m socket2 v0.4.9\n",
            "\u001b[1m\u001b[32m  Downloaded\u001b[0m ryu v1.0.13\n",
            "\u001b[1m\u001b[32m  Downloaded\u001b[0m proc-macro2 v1.0.63\n",
            "\u001b[1m\u001b[32m  Downloaded\u001b[0m pin-project-lite v0.2.9\n",
            "\u001b[1m\u001b[32m  Downloaded\u001b[0m password-hash v0.4.2\n",
            "\u001b[1m\u001b[32m  Downloaded\u001b[0m num-traits v0.2.15\n",
            "\u001b[1m\u001b[32m  Downloaded\u001b[0m native-tls v0.2.11\n",
            "\u001b[1m\u001b[32m  Downloaded\u001b[0m monostate v0.1.6\n",
            "\u001b[1m\u001b[32m  Downloaded\u001b[0m log v0.4.19\n",
            "\u001b[1m\u001b[32m  Downloaded\u001b[0m tinyvec v1.6.0\n",
            "\u001b[1m\u001b[32m  Downloaded\u001b[0m tempfile v3.6.0\n",
            "\u001b[1m\u001b[32m  Downloaded\u001b[0m static_assertions v1.1.0\n",
            "\u001b[1m\u001b[32m  Downloaded\u001b[0m smallvec v1.10.0\n",
            "\u001b[1m\u001b[32m  Downloaded\u001b[0m sharded-slab v0.1.4\n",
            "\u001b[1m\u001b[32m  Downloaded\u001b[0m sha2 v0.10.7\n",
            "\u001b[1m\u001b[32m  Downloaded\u001b[0m rustc-demangle v0.1.23\n",
            "\u001b[1m\u001b[32m  Downloaded\u001b[0m quote v1.0.29\n",
            "\u001b[1m\u001b[32m  Downloaded\u001b[0m ppv-lite86 v0.2.17\n",
            "\u001b[1m\u001b[32m  Downloaded\u001b[0m owo-colors v3.5.0\n",
            "\u001b[1m\u001b[32m  Downloaded\u001b[0m overload v0.1.1\n",
            "\u001b[1m\u001b[32m  Downloaded\u001b[0m onig v6.4.0\n",
            "\u001b[1m\u001b[32m  Downloaded\u001b[0m nu-ansi-term v0.46.0\n",
            "\u001b[1m\u001b[32m  Downloaded\u001b[0m strsim v0.10.0\n",
            "\u001b[1m\u001b[32m  Downloaded\u001b[0m once_cell v1.18.0\n",
            "\u001b[1m\u001b[32m  Downloaded\u001b[0m nibble_vec v0.1.0\n",
            "\u001b[1m\u001b[32m  Downloaded\u001b[0m macro_rules_attribute v0.1.3\n",
            "\u001b[1m\u001b[32m  Downloaded\u001b[0m thiserror v1.0.40\n",
            "\u001b[1m\u001b[32m  Downloaded\u001b[0m subtle v2.5.0\n",
            "\u001b[1m\u001b[32m  Downloaded\u001b[0m spinoff v0.8.0\n",
            "\u001b[1m\u001b[32m  Downloaded\u001b[0m slab v0.4.8\n",
            "\u001b[1m\u001b[32m  Downloaded\u001b[0m sha1 v0.10.5\n",
            "\u001b[1m\u001b[32m  Downloaded\u001b[0m serde_bytes v0.11.9\n",
            "\u001b[1m\u001b[32m  Downloaded\u001b[0m scopeguard v1.1.0\n",
            "\u001b[1m\u001b[32m  Downloaded\u001b[0m rayon-cond v0.1.0\n",
            "\u001b[1m\u001b[32m  Downloaded\u001b[0m paste v1.0.12\n",
            "\u001b[1m\u001b[32m  Downloaded\u001b[0m pbkdf2 v0.11.0\n",
            "\u001b[1m\u001b[32m  Downloaded\u001b[0m macro_rules_attribute-proc_macro v0.1.3\n",
            "\u001b[1m\u001b[32m  Downloaded\u001b[0m tower-service v0.3.2\n",
            "\u001b[1m\u001b[32m  Downloaded\u001b[0m tinyvec_macros v0.1.1\n",
            "\u001b[1m\u001b[32m  Downloaded\u001b[0m time-core v0.1.1\n",
            "\u001b[1m\u001b[32m  Downloaded\u001b[0m thread_local v1.1.7\n",
            "\u001b[1m\u001b[32m  Downloaded\u001b[0m thiserror-impl v1.0.40\n",
            "\u001b[1m\u001b[32m  Downloaded\u001b[0m pkg-config v0.3.27\n",
            "\u001b[1m\u001b[32m  Downloaded\u001b[0m openssl-probe v0.1.5\n",
            "\u001b[1m\u001b[32m  Downloaded\u001b[0m number_prefix v0.4.0\n",
            "\u001b[1m\u001b[32m  Downloaded\u001b[0m monostate-impl v0.1.6\n",
            "\u001b[1m\u001b[32m  Downloaded\u001b[0m matchers v0.1.0\n",
            "\u001b[1m\u001b[32m  Downloaded\u001b[0m anstyle v1.0.1\n",
            "\u001b[1m\u001b[32m  Downloaded\u001b[0m zstd-safe v5.0.2+zstd.1.5.2\n",
            "\u001b[1m\u001b[32m  Downloaded\u001b[0m zstd v0.12.3+zstd.1.5.2\n",
            "\u001b[1m\u001b[32m  Downloaded\u001b[0m xattr v0.2.3\n",
            "\u001b[1m\u001b[32m  Downloaded\u001b[0m version_check v0.9.4\n",
            "\u001b[1m\u001b[32m  Downloaded\u001b[0m anstream v0.3.2\n",
            "\u001b[1m\u001b[32m  Downloaded\u001b[0m darling v0.14.4\n",
            "\u001b[1m\u001b[32m  Downloaded\u001b[0m bytes v1.4.0\n",
            "\u001b[1m\u001b[32m  Downloaded\u001b[0m backtrace v0.3.69\n",
            "\u001b[1m\u001b[32m  Downloaded\u001b[0m http-body v0.4.5\n",
            "\u001b[1m\u001b[32m  Downloaded\u001b[0m futures-io v0.3.28\n",
            "\u001b[1m\u001b[32m  Downloaded\u001b[0m crypto-common v0.1.6\n",
            "\u001b[1m\u001b[32m  Downloaded\u001b[0m console v0.15.7\n",
            "\u001b[1m\u001b[32m  Downloaded\u001b[0m bitflags v2.4.1\n",
            "\u001b[1m\u001b[32m  Downloaded\u001b[0m bincode v1.3.3\n",
            "\u001b[1m\u001b[32m  Downloaded\u001b[0m base64 v0.21.2\n",
            "\u001b[1m\u001b[32m  Downloaded\u001b[0m autocfg v1.1.0\n",
            "\u001b[1m\u001b[32m  Downloaded\u001b[0m ident_case v1.0.1\n",
            "\u001b[1m\u001b[32m   Compiling\u001b[0m libc v0.2.150\n",
            "\u001b[1m\u001b[32m   Compiling\u001b[0m cfg-if v1.0.0\n",
            "\u001b[1m\u001b[32m   Compiling\u001b[0m proc-macro2 v1.0.63\n",
            "\u001b[1m\u001b[32m   Compiling\u001b[0m unicode-ident v1.0.9\n",
            "\u001b[1m\u001b[32m   Compiling\u001b[0m quote v1.0.29\n",
            "\u001b[1m\u001b[32m   Compiling\u001b[0m autocfg v1.1.0\n",
            "\u001b[1m\u001b[32m   Compiling\u001b[0m jobserver v0.1.26\n",
            "\u001b[1m\u001b[32m   Compiling\u001b[0m syn v2.0.22\n",
            "\u001b[1m\u001b[32m   Compiling\u001b[0m cc v1.0.79\n",
            "\u001b[1m\u001b[32m   Compiling\u001b[0m pkg-config v0.3.27\n",
            "\u001b[1m\u001b[32m   Compiling\u001b[0m memchr v2.5.0\n",
            "\u001b[1m\u001b[32m   Compiling\u001b[0m once_cell v1.18.0\n",
            "\u001b[1m\u001b[32m   Compiling\u001b[0m version_check v0.9.4\n",
            "\u001b[1m\u001b[32m   Compiling\u001b[0m typenum v1.16.0\n",
            "\u001b[1m\u001b[32m   Compiling\u001b[0m generic-array v0.14.7\n",
            "\u001b[1m\u001b[32m   Compiling\u001b[0m log v0.4.19\n",
            "\u001b[1m\u001b[32m   Compiling\u001b[0m pin-project-lite v0.2.9\n",
            "\u001b[1m\u001b[32m   Compiling\u001b[0m itoa v1.0.6\n",
            "\u001b[1m\u001b[32m   Compiling\u001b[0m num_cpus v1.16.0\n",
            "\u001b[1m\u001b[32m   Compiling\u001b[0m bitflags v1.3.2\n",
            "\u001b[1m\u001b[32m   Compiling\u001b[0m tracing-core v0.1.31\n",
            "\u001b[1m\u001b[32m   Compiling\u001b[0m zstd-sys v2.0.8+zstd.1.5.5\n",
            "\u001b[1m\u001b[32m   Compiling\u001b[0m openssl-sys v0.9.90\n",
            "\u001b[1m\u001b[32m   Compiling\u001b[0m serde v1.0.164\n",
            "\u001b[1m\u001b[32m   Compiling\u001b[0m futures-core v0.3.28\n",
            "\u001b[1m\u001b[32m   Compiling\u001b[0m bytes v1.4.0\n",
            "\u001b[1m\u001b[32m   Compiling\u001b[0m syn v1.0.109\n",
            "\u001b[1m\u001b[32m   Compiling\u001b[0m crypto-common v0.1.6\n",
            "\u001b[1m\u001b[32m   Compiling\u001b[0m serde_derive v1.0.164\n",
            "\u001b[1m\u001b[32m   Compiling\u001b[0m tracing-attributes v0.1.26\n",
            "\u001b[1m\u001b[32m   Compiling\u001b[0m tokio v1.29.1\n",
            "\u001b[1m\u001b[32m   Compiling\u001b[0m lazy_static v1.4.0\n",
            "\u001b[1m\u001b[32m   Compiling\u001b[0m crossbeam-utils v0.8.16\n",
            "\u001b[1m\u001b[32m   Compiling\u001b[0m tracing v0.1.37\n",
            "\u001b[1m\u001b[32m   Compiling\u001b[0m slab v0.4.8\n",
            "\u001b[1m\u001b[32m   Compiling\u001b[0m getrandom v0.2.10\n",
            "\u001b[1m\u001b[32m   Compiling\u001b[0m socket2 v0.4.9\n",
            "\u001b[1m\u001b[32m   Compiling\u001b[0m mio v0.8.8\n",
            "\u001b[1m\u001b[32m   Compiling\u001b[0m futures-task v0.3.28\n",
            "\u001b[1m\u001b[32m   Compiling\u001b[0m subtle v2.5.0\n",
            "\u001b[1m\u001b[32m   Compiling\u001b[0m rand_core v0.6.4\n",
            "\u001b[1m\u001b[32m   Compiling\u001b[0m block-buffer v0.10.4\n",
            "\u001b[1m\u001b[32m   Compiling\u001b[0m indexmap v1.9.3\n",
            "\u001b[1m\u001b[32m   Compiling\u001b[0m memoffset v0.9.0\n",
            "\u001b[1m\u001b[32m   Compiling\u001b[0m foreign-types-shared v0.1.1\n",
            "\u001b[1m\u001b[32m   Compiling\u001b[0m openssl v0.10.55\n",
            "\u001b[1m\u001b[32m   Compiling\u001b[0m futures-util v0.3.28\n",
            "\u001b[1m\u001b[32m   Compiling\u001b[0m fnv v1.0.7\n",
            "\u001b[1m\u001b[32m   Compiling\u001b[0m http v0.2.9\n",
            "\u001b[1m\u001b[32m   Compiling\u001b[0m foreign-types v0.3.2\n",
            "\u001b[1m\u001b[32m   Compiling\u001b[0m digest v0.10.7\n",
            "\u001b[1m\u001b[32m   Compiling\u001b[0m openssl-macros v0.1.1\n",
            "\u001b[1m\u001b[32m   Compiling\u001b[0m aho-corasick v1.0.2\n",
            "\u001b[1m\u001b[32m   Compiling\u001b[0m crossbeam-epoch v0.9.15\n",
            "\u001b[1m\u001b[32m   Compiling\u001b[0m tinyvec_macros v0.1.1\n",
            "\u001b[1m\u001b[32m   Compiling\u001b[0m ident_case v1.0.1\n",
            "\u001b[1m\u001b[32m   Compiling\u001b[0m smallvec v1.10.0\n",
            "\u001b[1m\u001b[32m   Compiling\u001b[0m cpufeatures v0.2.8\n",
            "\u001b[1m\u001b[32m   Compiling\u001b[0m strsim v0.10.0\n",
            "\u001b[1m\u001b[32m   Compiling\u001b[0m adler v1.0.2\n",
            "\u001b[1m\u001b[32m   Compiling\u001b[0m futures-io v0.3.28\n",
            "\u001b[1m\u001b[32m   Compiling\u001b[0m regex-syntax v0.7.2\n",
            "\u001b[1m\u001b[32m   Compiling\u001b[0m pin-utils v0.1.0\n",
            "\u001b[1m\u001b[32m   Compiling\u001b[0m futures-sink v0.3.28\n",
            "\u001b[1m\u001b[32m   Compiling\u001b[0m hashbrown v0.12.3\n",
            "\u001b[1m\u001b[32m   Compiling\u001b[0m futures-channel v0.3.28\n",
            "\u001b[1m\u001b[32m   Compiling\u001b[0m native-tls v0.2.11\n",
            "\u001b[1m\u001b[32m   Compiling\u001b[0m httparse v1.8.0\n",
            "\u001b[1m\u001b[32m   Compiling\u001b[0m regex v1.8.4\n",
            "\u001b[1m\u001b[32m   Compiling\u001b[0m darling_core v0.14.4\n",
            "\u001b[1m\u001b[32m   Compiling\u001b[0m tokio-util v0.7.8\n",
            "\u001b[1m\u001b[32m   Compiling\u001b[0m miniz_oxide v0.7.1\n",
            "\u001b[1m\u001b[32m   Compiling\u001b[0m tinyvec v1.6.0\n",
            "\u001b[1m\u001b[32m   Compiling\u001b[0m bzip2-sys v0.1.11+1.0.8\n",
            "\u001b[1m\u001b[32m   Compiling\u001b[0m scopeguard v1.1.0\n",
            "\u001b[1m\u001b[32m   Compiling\u001b[0m openssl-probe v0.1.5\n",
            "\u001b[1m\u001b[32m   Compiling\u001b[0m percent-encoding v2.3.0\n",
            "\u001b[1m\u001b[32m   Compiling\u001b[0m zstd-safe v5.0.2+zstd.1.5.2\n",
            "\u001b[1m\u001b[32m   Compiling\u001b[0m thiserror v1.0.40\n",
            "\u001b[1m\u001b[32m   Compiling\u001b[0m try-lock v0.2.4\n",
            "\u001b[1m\u001b[32m   Compiling\u001b[0m crc32fast v1.3.2\n",
            "\u001b[1m\u001b[32m   Compiling\u001b[0m io-lifetimes v1.0.11\n",
            "\u001b[1m\u001b[32m   Compiling\u001b[0m want v0.3.1\n",
            "\u001b[1m\u001b[32m   Compiling\u001b[0m form_urlencoded v1.2.0\n",
            "\u001b[1m\u001b[32m   Compiling\u001b[0m unicode-normalization v0.1.22\n",
            "\u001b[1m\u001b[32m   Compiling\u001b[0m h2 v0.3.20\n",
            "\u001b[1m\u001b[32m   Compiling\u001b[0m darling_macro v0.14.4\n",
            "\u001b[1m\u001b[32m   Compiling\u001b[0m http-body v0.4.5\n",
            "\u001b[1m\u001b[32m   Compiling\u001b[0m crossbeam-channel v0.5.8\n",
            "\u001b[1m\u001b[32m   Compiling\u001b[0m inout v0.1.3\n",
            "\u001b[1m\u001b[32m   Compiling\u001b[0m thiserror-impl v1.0.40\n",
            "\u001b[1m\u001b[32m   Compiling\u001b[0m time-core v0.1.1\n",
            "\u001b[1m\u001b[32m   Compiling\u001b[0m ryu v1.0.13\n",
            "\u001b[1m\u001b[32m   Compiling\u001b[0m rustix v0.37.27\n",
            "\u001b[1m\u001b[32m   Compiling\u001b[0m either v1.8.1\n",
            "\u001b[1m\u001b[32m   Compiling\u001b[0m base64ct v1.6.0\n",
            "\u001b[1m\u001b[32m   Compiling\u001b[0m ppv-lite86 v0.2.17\n",
            "\u001b[1m\u001b[32m   Compiling\u001b[0m tower-service v0.3.2\n",
            "\u001b[1m\u001b[32m   Compiling\u001b[0m rayon-core v1.11.0\n",
            "\u001b[1m\u001b[32m   Compiling\u001b[0m unicode-bidi v0.3.13\n",
            "\u001b[1m\u001b[32m   Compiling\u001b[0m paste v1.0.12\n",
            "\u001b[1m\u001b[32m   Compiling\u001b[0m httpdate v1.0.2\n",
            "\u001b[1m\u001b[32m   Compiling\u001b[0m hyper v0.14.27\n",
            "\u001b[1m\u001b[32m   Compiling\u001b[0m idna v0.4.0\n",
            "\u001b[1m\u001b[32m   Compiling\u001b[0m rand_chacha v0.3.1\n",
            "\u001b[1m\u001b[32m   Compiling\u001b[0m password-hash v0.4.2\n",
            "\u001b[1m\u001b[32m   Compiling\u001b[0m time v0.3.22\n",
            "\u001b[0m\u001b[1m\u001b[38;5;9merror[E0282]\u001b[0m\u001b[0m\u001b[1m: type annotations needed for `Box<_>`\u001b[0m\n",
            "\u001b[0m  \u001b[0m\u001b[0m\u001b[1m\u001b[38;5;12m--> \u001b[0m\u001b[0m/root/.cargo/registry/src/index.crates.io-6f17d22bba15001f/time-0.3.22/src/format_description/parse/mod.rs:83:9\u001b[0m\n",
            "\u001b[0m   \u001b[0m\u001b[0m\u001b[1m\u001b[38;5;12m|\u001b[0m\n",
            "\u001b[0m\u001b[1m\u001b[38;5;12m83\u001b[0m\u001b[0m \u001b[0m\u001b[0m\u001b[1m\u001b[38;5;12m|\u001b[0m\u001b[0m \u001b[0m\u001b[0m    let items = format_items\u001b[0m\n",
            "\u001b[0m   \u001b[0m\u001b[0m\u001b[1m\u001b[38;5;12m|\u001b[0m\u001b[0m         \u001b[0m\u001b[0m\u001b[1m\u001b[38;5;9m^^^^^\u001b[0m\n",
            "\u001b[0m\u001b[1m\u001b[38;5;12m...\u001b[0m\n",
            "\u001b[0m\u001b[1m\u001b[38;5;12m86\u001b[0m\u001b[0m \u001b[0m\u001b[0m\u001b[1m\u001b[38;5;12m|\u001b[0m\u001b[0m \u001b[0m\u001b[0m    Ok(items.into())\u001b[0m\n",
            "\u001b[0m   \u001b[0m\u001b[0m\u001b[1m\u001b[38;5;12m|\u001b[0m\u001b[0m              \u001b[0m\u001b[0m\u001b[1m\u001b[38;5;12m----\u001b[0m\u001b[0m \u001b[0m\u001b[0m\u001b[1m\u001b[38;5;12mtype must be known at this point\u001b[0m\n",
            "\u001b[0m   \u001b[0m\u001b[0m\u001b[1m\u001b[38;5;12m|\u001b[0m\n",
            "\u001b[0m   \u001b[0m\u001b[0m\u001b[1m\u001b[38;5;12m= \u001b[0m\u001b[0m\u001b[1mnote\u001b[0m\u001b[0m: this is an inference error on crate `time` caused by an API change in Rust 1.80.0; update `time` to version `>=0.3.35` by calling `cargo update`\u001b[0m\n",
            "\n",
            "\u001b[0m\u001b[1mFor more information about this error, try `rustc --explain E0282`.\u001b[0m\n",
            "\u001b[1m\u001b[31merror\u001b[0m\u001b[1m:\u001b[0m could not compile `time` (lib) due to 1 previous error\n",
            "\u001b[1m\u001b[33mwarning\u001b[0m\u001b[1m:\u001b[0m build failed, waiting for other jobs to finish...\n"
          ]
        }
      ]
    },
    {
      "cell_type": "markdown",
      "source": [
        "https://github.com/rustformers/llm#running"
      ],
      "metadata": {
        "id": "RxWGc-y-Wy5D"
      }
    },
    {
      "cell_type": "markdown",
      "source": [
        "%%%%%%%%%%%%%%%%%%%%%%%%%%%%%%%%%%%%%%%%%"
      ],
      "metadata": {
        "id": "zncavtyOa18L"
      }
    },
    {
      "cell_type": "code",
      "source": [
        "!cargo install --git https://github.com/rustformers/llm llm-cli"
      ],
      "metadata": {
        "colab": {
          "base_uri": "https://localhost:8080/"
        },
        "id": "mr9c3YmEVza7",
        "outputId": "7e4e9706-0c1d-4513-b688-70e61fdde8c3"
      },
      "execution_count": 73,
      "outputs": [
        {
          "output_type": "stream",
          "name": "stdout",
          "text": [
            "\u001b[1m\u001b[32m    Updating\u001b[0m git repository `https://github.com/rustformers/llm`\n",
            "\u001b[1m\u001b[32m    Updating\u001b[0m git submodule `https://github.com/ggerganov/llama.cpp`\n",
            "\u001b[1m\u001b[32m  Installing\u001b[0m llm-cli v0.2.0-dev (https://github.com/rustformers/llm#b11ffb14)\n",
            "\u001b[1m\u001b[32m    Updating\u001b[0m crates.io index\n",
            "\u001b[1m\u001b[32m     Locking\u001b[0m 324 packages to latest compatible versions\n",
            "\u001b[1m\u001b[36m      Adding\u001b[0m backtrace v0.3.71 \u001b[1m\u001b[33m(available: v0.3.74)\u001b[0m\n",
            "\u001b[1m\u001b[36m      Adding\u001b[0m env_logger v0.10.2 \u001b[1m\u001b[33m(available: v0.11.6)\u001b[0m\n",
            "\u001b[1m\u001b[36m      Adding\u001b[0m memmap2 v0.5.10 \u001b[1m\u001b[33m(available: v0.9.5)\u001b[0m\n",
            "\u001b[1m\u001b[36m      Adding\u001b[0m partial_sort v0.2.0 \u001b[1m\u001b[33m(available: v1.0.0)\u001b[0m\n",
            "\u001b[1m\u001b[36m      Adding\u001b[0m rand v0.8.5 \u001b[1m\u001b[33m(available: v0.9.0)\u001b[0m\n",
            "\u001b[1m\u001b[36m      Adding\u001b[0m rustyline v11.0.0 \u001b[1m\u001b[33m(available: v15.0.0)\u001b[0m\n",
            "\u001b[1m\u001b[36m      Adding\u001b[0m thiserror v1.0.69 \u001b[1m\u001b[33m(available: v2.0.11)\u001b[0m\n",
            "\u001b[1m\u001b[36m      Adding\u001b[0m tokenizers v0.13.4 \u001b[1m\u001b[33m(available: v0.21.0)\u001b[0m\n",
            "\u001b[1m\u001b[36m      Adding\u001b[0m zstd v0.12.4 \u001b[1m\u001b[33m(available: v0.13.2)\u001b[0m\n",
            "\u001b[1m\u001b[32m Downloading\u001b[0m crates ...\n",
            "\u001b[1m\u001b[32m  Downloaded\u001b[0m anstream v0.6.18\n",
            "\u001b[1m\u001b[32m  Downloaded\u001b[0m bytesize v1.3.2\n",
            "\u001b[1m\u001b[32m  Downloaded\u001b[0m anstyle v1.0.10\n",
            "\u001b[1m\u001b[32m  Downloaded\u001b[0m anstyle-parse v0.2.6\n",
            "\u001b[1m\u001b[32m  Downloaded\u001b[0m anstyle-query v1.1.2\n",
            "\u001b[1m\u001b[32m  Downloaded\u001b[0m adler2 v2.0.0\n",
            "\u001b[1m\u001b[32m  Downloaded\u001b[0m time-core v0.1.2\n",
            "\u001b[1m\u001b[32m  Downloaded\u001b[0m monostate-impl v0.1.13\n",
            "\u001b[1m\u001b[32m  Downloaded\u001b[0m backtrace v0.3.71\n",
            "\u001b[1m\u001b[32m  Downloaded\u001b[0m is_terminal_polyfill v1.70.1\n",
            "\u001b[1m\u001b[32m  Downloaded\u001b[0m num-conv v0.1.0\n",
            "\u001b[1m\u001b[32m  Downloaded\u001b[0m tracing-appender v0.2.3\n",
            "\u001b[1m\u001b[32m  Downloaded\u001b[0m strsim v0.11.1\n",
            "\u001b[1m\u001b[32m  Downloaded\u001b[0m subtle v2.6.1\n",
            "\u001b[1m\u001b[32m  Downloaded\u001b[0m xattr v1.4.0\n",
            "\u001b[1m\u001b[32m  Downloaded\u001b[0m zstd-safe v6.0.6\n",
            "\u001b[1m\u001b[32m  Downloaded\u001b[0m zstd v0.12.4\n",
            "\u001b[1m\u001b[32m  Downloaded\u001b[0m time-macros v0.2.19\n",
            "\u001b[1m\u001b[32m  Downloaded\u001b[0m typenum v1.17.0\n",
            "\u001b[1m\u001b[32m  Downloaded\u001b[0m tar v0.4.43\n",
            "\u001b[1m\u001b[32m  Downloaded\u001b[0m miniz_oxide v0.8.4\n",
            "\u001b[1m\u001b[32m  Downloaded\u001b[0m unicode-segmentation v1.12.0\n",
            "\u001b[1m\u001b[32m  Downloaded\u001b[0m time v0.3.37\n",
            "\u001b[1m\u001b[32m  Downloaded\u001b[0m flate2 v1.0.35\n",
            "\u001b[1m\u001b[32m  Downloaded\u001b[0m clap_builder v4.5.29\n",
            "\u001b[1m\u001b[32m  Downloaded\u001b[0m aes v0.8.4\n",
            "\u001b[1m\u001b[32m  Downloaded\u001b[0m tracing-subscriber v0.3.19\n",
            "\u001b[1m\u001b[32m  Downloaded\u001b[0m esaxx-rs v0.1.10\n",
            "\u001b[1m\u001b[32m  Downloaded\u001b[0m crossbeam-channel v0.5.14\n",
            "\u001b[1m\u001b[32m  Downloaded\u001b[0m unicode-width v0.1.14\n",
            "\u001b[1m\u001b[32m  Downloaded\u001b[0m object v0.32.2\n",
            "\u001b[1m\u001b[32m  Downloaded\u001b[0m gimli v0.28.1\n",
            "\u001b[1m\u001b[32m  Downloaded\u001b[0m nix v0.26.4\n",
            "\u001b[1m\u001b[32m  Downloaded\u001b[0m eyre v0.6.12\n",
            "\u001b[1m\u001b[32m  Downloaded\u001b[0m sharded-slab v0.1.7\n",
            "\u001b[1m\u001b[32m  Downloaded\u001b[0m regex-syntax v0.7.5\n",
            "\u001b[1m\u001b[32m  Downloaded\u001b[0m miniz_oxide v0.7.4\n",
            "\u001b[1m\u001b[32m  Downloaded\u001b[0m env_logger v0.10.2\n",
            "\u001b[1m\u001b[32m  Downloaded\u001b[0m clap v4.5.29\n",
            "\u001b[1m\u001b[32m  Downloaded\u001b[0m rustc-demangle v0.1.24\n",
            "\u001b[1m\u001b[32m  Downloaded\u001b[0m console v0.15.10\n",
            "\u001b[1m\u001b[32m  Downloaded\u001b[0m colored v2.2.0\n",
            "\u001b[1m\u001b[32m  Downloaded\u001b[0m jobserver v0.1.32\n",
            "\u001b[1m\u001b[32m  Downloaded\u001b[0m clap_derive v4.5.28\n",
            "\u001b[1m\u001b[32m  Downloaded\u001b[0m thread_local v1.1.8\n",
            "\u001b[1m\u001b[32m  Downloaded\u001b[0m termcolor v1.4.1\n",
            "\u001b[1m\u001b[32m  Downloaded\u001b[0m sha2 v0.10.8\n",
            "\u001b[1m\u001b[32m  Downloaded\u001b[0m serde_bytes v0.11.15\n",
            "\u001b[1m\u001b[32m  Downloaded\u001b[0m bzip2-sys v0.1.12+1.0.8\n",
            "\u001b[1m\u001b[32m  Downloaded\u001b[0m filetime v0.2.25\n",
            "\u001b[1m\u001b[32m  Downloaded\u001b[0m deranged v0.3.11\n",
            "\u001b[1m\u001b[32m  Downloaded\u001b[0m color-eyre v0.6.3\n",
            "\u001b[1m\u001b[32m  Downloaded\u001b[0m colorchoice v1.0.3\n",
            "\u001b[1m\u001b[32m  Downloaded\u001b[0m version_check v0.9.5\n",
            "\u001b[1m\u001b[32m  Downloaded\u001b[0m utf8parse v0.2.2\n",
            "\u001b[1m\u001b[32m  Downloaded\u001b[0m tracing-log v0.2.0\n",
            "\u001b[1m\u001b[32m  Downloaded\u001b[0m sha1 v0.10.6\n",
            "\u001b[1m\u001b[32m  Downloaded\u001b[0m zstd-sys v2.0.13+zstd.1.5.6\n",
            "\u001b[1m\u001b[32m  Downloaded\u001b[0m powerfmt v0.2.0\n",
            "\u001b[1m\u001b[32m  Downloaded\u001b[0m monostate v0.1.13\n",
            "\u001b[1m\u001b[32m  Downloaded\u001b[0m glob v0.3.2\n",
            "\u001b[1m\u001b[32m  Downloaded\u001b[0m cpufeatures v0.2.17\n",
            "\u001b[1m\u001b[32m  Downloaded\u001b[0m clap_lex v0.7.4\n",
            "\u001b[1m\u001b[32m  Downloaded\u001b[0m is-terminal v0.4.15\n",
            "\u001b[1m\u001b[32m  Downloaded\u001b[0m heck v0.5.0\n",
            "\u001b[1m\u001b[32m   Compiling\u001b[0m proc-macro2 v1.0.93\n",
            "\u001b[1m\u001b[32m   Compiling\u001b[0m unicode-ident v1.0.16\n",
            "\u001b[1m\u001b[32m   Compiling\u001b[0m libc v0.2.169\n",
            "\u001b[1m\u001b[32m   Compiling\u001b[0m quote v1.0.38\n",
            "\u001b[1m\u001b[32m   Compiling\u001b[0m syn v2.0.98\n",
            "\u001b[1m\u001b[32m   Compiling\u001b[0m jobserver v0.1.32\n",
            "\u001b[1m\u001b[32m   Compiling\u001b[0m shlex v1.3.0\n",
            "\u001b[1m\u001b[32m   Compiling\u001b[0m cc v1.2.13\n",
            "\u001b[1m\u001b[32m   Compiling\u001b[0m cfg-if v1.0.0\n",
            "\u001b[1m\u001b[32m   Compiling\u001b[0m pkg-config v0.3.31\n",
            "\u001b[1m\u001b[32m   Compiling\u001b[0m memchr v2.7.4\n",
            "\u001b[1m\u001b[32m   Compiling\u001b[0m once_cell v1.20.3\n",
            "\u001b[1m\u001b[32m   Compiling\u001b[0m synstructure v0.13.1\n",
            "\u001b[1m\u001b[32m   Compiling\u001b[0m version_check v0.9.5\n",
            "\u001b[1m\u001b[32m   Compiling\u001b[0m typenum v1.17.0\n",
            "\u001b[1m\u001b[32m   Compiling\u001b[0m zerofrom-derive v0.1.5\n",
            "\u001b[1m\u001b[32m   Compiling\u001b[0m yoke-derive v0.7.5\n",
            "\u001b[1m\u001b[32m   Compiling\u001b[0m generic-array v0.14.7\n",
            "\u001b[1m\u001b[32m   Compiling\u001b[0m stable_deref_trait v1.2.0\n",
            "\u001b[1m\u001b[32m   Compiling\u001b[0m zerofrom v0.1.5\n",
            "\u001b[1m\u001b[32m   Compiling\u001b[0m yoke v0.7.5\n",
            "\u001b[1m\u001b[32m   Compiling\u001b[0m zerovec-derive v0.10.3\n",
            "\u001b[1m\u001b[32m   Compiling\u001b[0m pin-project-lite v0.2.16\n",
            "\u001b[1m\u001b[32m   Compiling\u001b[0m log v0.4.25\n",
            "\u001b[1m\u001b[32m   Compiling\u001b[0m autocfg v1.4.0\n",
            "\u001b[1m\u001b[32m   Compiling\u001b[0m zerovec v0.10.4\n",
            "\u001b[1m\u001b[32m   Compiling\u001b[0m displaydoc v0.2.5\n",
            "\u001b[1m\u001b[32m   Compiling\u001b[0m bitflags v2.8.0\n",
            "\u001b[1m\u001b[32m   Compiling\u001b[0m itoa v1.0.14\n",
            "\u001b[1m\u001b[32m   Compiling\u001b[0m smallvec v1.13.2\n",
            "\u001b[1m\u001b[32m   Compiling\u001b[0m vcpkg v0.2.15\n",
            "\u001b[1m\u001b[32m   Compiling\u001b[0m tinystr v0.7.6\n",
            "\u001b[1m\u001b[32m   Compiling\u001b[0m zstd-sys v2.0.13+zstd.1.5.6\n",
            "\u001b[1m\u001b[32m   Compiling\u001b[0m bytes v1.10.0\n",
            "\u001b[1m\u001b[32m   Compiling\u001b[0m openssl-sys v0.9.105\n",
            "\u001b[1m\u001b[32m   Compiling\u001b[0m serde v1.0.217\n",
            "\u001b[1m\u001b[32m   Compiling\u001b[0m syn v1.0.109\n",
            "\u001b[1m\u001b[32m   Compiling\u001b[0m litemap v0.7.4\n",
            "\u001b[1m\u001b[32m   Compiling\u001b[0m writeable v0.5.5\n",
            "\u001b[1m\u001b[32m   Compiling\u001b[0m icu_locid v1.5.0\n",
            "\u001b[1m\u001b[32m   Compiling\u001b[0m crypto-common v0.1.6\n",
            "\u001b[1m\u001b[32m   Compiling\u001b[0m tracing-core v0.1.33\n",
            "\u001b[1m\u001b[32m   Compiling\u001b[0m icu_provider_macros v1.5.0\n",
            "\u001b[1m\u001b[32m   Compiling\u001b[0m serde_derive v1.0.217\n",
            "\u001b[1m\u001b[32m   Compiling\u001b[0m crossbeam-utils v0.8.21\n",
            "\u001b[1m\u001b[32m   Compiling\u001b[0m icu_provider v1.5.0\n",
            "\u001b[1m\u001b[32m   Compiling\u001b[0m slab v0.4.9\n",
            "\u001b[1m\u001b[32m   Compiling\u001b[0m tracing-attributes v0.1.28\n",
            "\u001b[1m\u001b[32m   Compiling\u001b[0m getrandom v0.2.15\n",
            "\u001b[1m\u001b[32m   Compiling\u001b[0m mio v1.0.3\n",
            "\u001b[1m\u001b[32m   Compiling\u001b[0m socket2 v0.5.8\n",
            "\u001b[1m\u001b[32m   Compiling\u001b[0m rustix v0.38.44\n",
            "\u001b[1m\u001b[32m   Compiling\u001b[0m futures-core v0.3.31\n",
            "\u001b[1m\u001b[32m   Compiling\u001b[0m icu_locid_transform_data v1.5.0\n",
            "\u001b[1m\u001b[32m   Compiling\u001b[0m subtle v2.6.1\n",
            "\u001b[1m\u001b[32m   Compiling\u001b[0m icu_locid_transform v1.5.0\n",
            "\u001b[1m\u001b[32m   Compiling\u001b[0m tokio v1.43.0\n",
            "\u001b[1m\u001b[32m   Compiling\u001b[0m rand_core v0.6.4\n",
            "\u001b[1m\u001b[32m   Compiling\u001b[0m tracing v0.1.41\n",
            "\u001b[1m\u001b[32m   Compiling\u001b[0m icu_collections v1.5.0\n",
            "\u001b[1m\u001b[32m   Compiling\u001b[0m block-buffer v0.10.4\n",
            "\u001b[1m\u001b[32m   Compiling\u001b[0m aho-corasick v1.1.3\n",
            "\u001b[1m\u001b[32m   Compiling\u001b[0m byteorder v1.5.0\n",
            "\u001b[1m\u001b[32m   Compiling\u001b[0m linux-raw-sys v0.4.15\n",
            "\u001b[1m\u001b[32m   Compiling\u001b[0m openssl v0.10.70\n",
            "\u001b[1m\u001b[32m   Compiling\u001b[0m regex-syntax v0.8.5\n",
            "\u001b[1m\u001b[32m   Compiling\u001b[0m icu_properties_data v1.5.0\n",
            "\u001b[1m\u001b[32m   Compiling\u001b[0m fnv v1.0.7\n",
            "\u001b[1m\u001b[32m   Compiling\u001b[0m foreign-types-shared v0.1.1\n",
            "\u001b[1m\u001b[32m   Compiling\u001b[0m lazy_static v1.5.0\n",
            "\u001b[1m\u001b[32m   Compiling\u001b[0m foreign-types v0.3.2\n",
            "\u001b[1m\u001b[32m   Compiling\u001b[0m http v0.2.12\n",
            "\u001b[1m\u001b[32m   Compiling\u001b[0m icu_properties v1.5.1\n",
            "\u001b[1m\u001b[32m   Compiling\u001b[0m regex-automata v0.4.9\n",
            "\u001b[1m\u001b[32m   Compiling\u001b[0m digest v0.10.7\n",
            "\u001b[1m\u001b[32m   Compiling\u001b[0m zerocopy-derive v0.7.35\n",
            "\u001b[1m\u001b[32m   Compiling\u001b[0m openssl-macros v0.1.1\n",
            "\u001b[1m\u001b[32m   Compiling\u001b[0m write16 v1.0.0\n",
            "\u001b[1m\u001b[32m   Compiling\u001b[0m utf16_iter v1.0.5\n",
            "\u001b[1m\u001b[32m   Compiling\u001b[0m native-tls v0.2.13\n",
            "\u001b[1m\u001b[32m   Compiling\u001b[0m futures-io v0.3.31\n",
            "\u001b[1m\u001b[32m   Compiling\u001b[0m strsim v0.10.0\n",
            "\u001b[1m\u001b[32m   Compiling\u001b[0m utf8_iter v1.0.4\n",
            "\u001b[1m\u001b[32m   Compiling\u001b[0m futures-task v0.3.31\n",
            "\u001b[1m\u001b[32m   Compiling\u001b[0m pin-utils v0.1.0\n",
            "\u001b[1m\u001b[32m   Compiling\u001b[0m httparse v1.10.0\n",
            "\u001b[1m\u001b[32m   Compiling\u001b[0m equivalent v1.0.1\n",
            "\u001b[1m\u001b[32m   Compiling\u001b[0m futures-sink v0.3.31\n",
            "\u001b[1m\u001b[32m   Compiling\u001b[0m cpufeatures v0.2.17\n",
            "\u001b[1m\u001b[32m   Compiling\u001b[0m icu_normalizer_data v1.5.0\n",
            "\u001b[1m\u001b[32m   Compiling\u001b[0m ident_case v1.0.1\n",
            "\u001b[1m\u001b[32m   Compiling\u001b[0m thiserror v1.0.69\n",
            "\u001b[1m\u001b[32m   Compiling\u001b[0m hashbrown v0.15.2\n",
            "\u001b[1m\u001b[32m   Compiling\u001b[0m indexmap v2.7.1\n",
            "\u001b[1m\u001b[32m   Compiling\u001b[0m darling_core v0.14.4\n",
            "\u001b[1m\u001b[32m   Compiling\u001b[0m icu_normalizer v1.5.0\n",
            "\u001b[1m\u001b[32m   Compiling\u001b[0m tokio-util v0.7.13\n",
            "\u001b[1m\u001b[32m   Compiling\u001b[0m futures-util v0.3.31\n",
            "\u001b[1m\u001b[32m   Compiling\u001b[0m zerocopy v0.7.35\n",
            "\u001b[1m\u001b[32m   Compiling\u001b[0m regex v1.11.1\n",
            "\u001b[1m\u001b[32m   Compiling\u001b[0m thiserror-impl v1.0.69\n",
            "\u001b[1m\u001b[32m   Compiling\u001b[0m bzip2-sys v0.1.12+1.0.8\n",
            "\u001b[1m\u001b[32m   Compiling\u001b[0m openssl-probe v0.1.6\n",
            "\u001b[1m\u001b[32m   Compiling\u001b[0m zstd-safe v5.0.2+zstd.1.5.2\n",
            "\u001b[1m\u001b[32m   Compiling\u001b[0m percent-encoding v2.3.1\n",
            "\u001b[1m\u001b[32m   Compiling\u001b[0m try-lock v0.2.5\n",
            "\u001b[1m\u001b[32m   Compiling\u001b[0m powerfmt v0.2.0\n",
            "\u001b[1m\u001b[32m   Compiling\u001b[0m want v0.3.1\n",
            "\u001b[1m\u001b[32m   Compiling\u001b[0m deranged v0.3.11\n",
            "\u001b[1m\u001b[32m   Compiling\u001b[0m form_urlencoded v1.2.1\n",
            "\u001b[1m\u001b[32m   Compiling\u001b[0m ppv-lite86 v0.2.20\n",
            "\u001b[1m\u001b[32m   Compiling\u001b[0m h2 v0.3.26\n",
            "\u001b[1m\u001b[32m   Compiling\u001b[0m idna_adapter v1.2.0\n",
            "\u001b[1m\u001b[32m   Compiling\u001b[0m darling_macro v0.14.4\n",
            "\u001b[1m\u001b[32m   Compiling\u001b[0m http-body v0.4.6\n",
            "\u001b[1m\u001b[32m   Compiling\u001b[0m crossbeam-epoch v0.9.18\n",
            "\u001b[1m\u001b[32m   Compiling\u001b[0m futures-channel v0.3.31\n",
            "\u001b[1m\u001b[32m   Compiling\u001b[0m inout v0.1.3\n",
            "\u001b[1m\u001b[32m   Compiling\u001b[0m ryu v1.0.19\n",
            "\u001b[1m\u001b[32m   Compiling\u001b[0m tower-service v0.3.3\n",
            "\u001b[1m\u001b[32m   Compiling\u001b[0m rayon-core v1.12.1\n",
            "\u001b[1m\u001b[32m   Compiling\u001b[0m paste v1.0.15\n",
            "\u001b[1m\u001b[32m   Compiling\u001b[0m num-conv v0.1.0\n",
            "\u001b[1m\u001b[32m   Compiling\u001b[0m time-core v0.1.2\n",
            "\u001b[1m\u001b[32m   Compiling\u001b[0m base64ct v1.6.0\n",
            "\u001b[1m\u001b[32m   Compiling\u001b[0m adler2 v2.0.0\n",
            "\u001b[1m\u001b[32m   Compiling\u001b[0m httpdate v1.0.3\n",
            "\u001b[1m\u001b[32m   Compiling\u001b[0m either v1.13.0\n",
            "\u001b[1m\u001b[32m   Compiling\u001b[0m getrandom v0.3.1\n",
            "\u001b[1m\u001b[32m   Compiling\u001b[0m hyper v0.14.32\n",
            "\u001b[1m\u001b[32m   Compiling\u001b[0m miniz_oxide v0.8.4\n",
            "\u001b[1m\u001b[32m   Compiling\u001b[0m password-hash v0.4.2\n",
            "\u001b[1m\u001b[32m   Compiling\u001b[0m time v0.3.37\n",
            "\u001b[1m\u001b[32m   Compiling\u001b[0m cipher v0.4.4\n",
            "\u001b[1m\u001b[32m   Compiling\u001b[0m crossbeam-deque v0.8.6\n",
            "\u001b[1m\u001b[32m   Compiling\u001b[0m darling v0.14.4\n",
            "\u001b[1m\u001b[32m   Compiling\u001b[0m idna v1.0.3\n",
            "\u001b[1m\u001b[32m   Compiling\u001b[0m rand_chacha v0.3.1\n",
            "\u001b[1m\u001b[32m   Compiling\u001b[0m tokio-native-tls v0.3.1\n",
            "\u001b[1m\u001b[32m   Compiling\u001b[0m sha2 v0.10.8\n",
            "\u001b[1m\u001b[32m   Compiling\u001b[0m hmac v0.12.1\n",
            "\u001b[1m\u001b[32m   Compiling\u001b[0m onig_sys v69.8.1\n",
            "\u001b[1m\u001b[32m   Compiling\u001b[0m crc32fast v1.4.2\n",
            "\u001b[1m\u001b[32m   Compiling\u001b[0m bitflags v1.3.2\n",
            "\u001b[1m\u001b[32m   Compiling\u001b[0m base64 v0.21.7\n",
            "\u001b[1m\u001b[32m   Compiling\u001b[0m serde_json v1.0.138\n",
            "\u001b[1m\u001b[32m   Compiling\u001b[0m rustls-pemfile v1.0.4\n",
            "\u001b[1m\u001b[32m   Compiling\u001b[0m flate2 v1.0.35\n",
            "\u001b[1m\u001b[32m   Compiling\u001b[0m pbkdf2 v0.11.0\n",
            "\u001b[1m\u001b[32m   Compiling\u001b[0m zstd v0.11.2+zstd.1.5.2\n",
            "\u001b[1m\u001b[32m   Compiling\u001b[0m hyper-tls v0.5.0\n",
            "\u001b[1m\u001b[32m   Compiling\u001b[0m rand v0.8.5\n",
            "\u001b[1m\u001b[32m   Compiling\u001b[0m bzip2 v0.4.4\n",
            "\u001b[1m\u001b[32m   Compiling\u001b[0m url v2.5.4\n",
            "\u001b[1m\u001b[32m   Compiling\u001b[0m derive_builder_core v0.12.0\n",
            "\u001b[1m\u001b[32m   Compiling\u001b[0m aes v0.8.4\n",
            "\u001b[1m\u001b[32m   Compiling\u001b[0m serde_urlencoded v0.7.1\n",
            "\u001b[1m\u001b[32m   Compiling\u001b[0m sha1 v0.10.6\n",
            "\u001b[1m\u001b[32m   Compiling\u001b[0m xattr v1.4.0\n",
            "\u001b[1m\u001b[32m   Compiling\u001b[0m num-traits v0.2.19\n",
            "\u001b[1m\u001b[32m   Compiling\u001b[0m console v0.15.10\n",
            "\u001b[1m\u001b[32m   Compiling\u001b[0m encoding_rs v0.8.35\n",
            "\u001b[1m\u001b[32m   Compiling\u001b[0m filetime v0.2.25\n",
            "\u001b[1m\u001b[32m   Compiling\u001b[0m ggml-sys v0.2.0-dev (/root/.cargo/git/checkouts/llm-d8a8bbe144aa0546/b11ffb1/crates/ggml/sys)\n",
            "\u001b[1m\u001b[32m   Compiling\u001b[0m number_prefix v0.4.0\n",
            "\u001b[1m\u001b[32m   Compiling\u001b[0m esaxx-rs v0.1.10\n",
            "\u001b[1m\u001b[32m   Compiling\u001b[0m mime v0.3.17\n",
            "\u001b[1m\u001b[32m   Compiling\u001b[0m fastrand v2.3.0\n",
            "\u001b[1m\u001b[32m   Compiling\u001b[0m unicode-segmentation v1.12.0\n",
            "\u001b[1m\u001b[32m   Compiling\u001b[0m ipnet v2.11.0\n",
            "\u001b[1m\u001b[32m   Compiling\u001b[0m sync_wrapper v0.1.2\n",
            "\u001b[1m\u001b[32m   Compiling\u001b[0m minimal-lexical v0.2.1\n",
            "\u001b[1m\u001b[32m   Compiling\u001b[0m anyhow v1.0.95\n",
            "\u001b[1m\u001b[32m   Compiling\u001b[0m constant_time_eq v0.1.5\n",
            "\u001b[1m\u001b[32m   Compiling\u001b[0m zip v0.6.6\n",
            "\u001b[1m\u001b[32m   Compiling\u001b[0m nom v7.1.3\n",
            "\u001b[1m\u001b[32m   Compiling\u001b[0m reqwest v0.11.27\n",
            "\u001b[1m\u001b[32m   Compiling\u001b[0m tempfile v3.16.0\n",
            "\u001b[1m\u001b[32m   Compiling\u001b[0m indicatif v0.16.2\n",
            "\u001b[1m\u001b[32m   Compiling\u001b[0m tar v0.4.43\n",
            "\u001b[1m\u001b[32m   Compiling\u001b[0m rayon v1.10.0\n",
            "\u001b[1m\u001b[32m   Compiling\u001b[0m derive_builder_macro v0.12.0\n",
            "\u001b[1m\u001b[32m   Compiling\u001b[0m itertools v0.8.2\n",
            "\u001b[1m\u001b[32m   Compiling\u001b[0m monostate-impl v0.1.13\n",
            "\u001b[1m\u001b[32m   Compiling\u001b[0m fs2 v0.4.3\n",
            "\u001b[1m\u001b[32m   Compiling\u001b[0m dirs-sys v0.3.7\n",
            "\u001b[1m\u001b[32m   Compiling\u001b[0m macro_rules_attribute-proc_macro v0.1.3\n",
            "\u001b[1m\u001b[32m   Compiling\u001b[0m glob v0.3.2\n",
            "\u001b[1m\u001b[32m   Compiling\u001b[0m base64 v0.13.1\n",
            "\u001b[1m\u001b[32m   Compiling\u001b[0m spm_precompiled v0.1.4\n",
            "\u001b[1m\u001b[32m   Compiling\u001b[0m cached-path v0.6.1\n",
            "\u001b[1m\u001b[32m   Compiling\u001b[0m macro_rules_attribute v0.1.3\n",
            "\u001b[1m\u001b[32m   Compiling\u001b[0m dirs v4.0.0\n",
            "\u001b[1m\u001b[32m   Compiling\u001b[0m monostate v0.1.13\n",
            "\u001b[1m\u001b[32m   Compiling\u001b[0m rayon-cond v0.1.0\n",
            "\u001b[1m\u001b[32m   Compiling\u001b[0m derive_builder v0.12.0\n",
            "\u001b[1m\u001b[32m   Compiling\u001b[0m onig v6.4.0\n",
            "\u001b[1m\u001b[32m   Compiling\u001b[0m itertools v0.9.0\n",
            "\u001b[1m\u001b[32m   Compiling\u001b[0m unicode-normalization-alignments v0.1.12\n",
            "\u001b[1m\u001b[32m   Compiling\u001b[0m aho-corasick v0.7.20\n",
            "\u001b[1m\u001b[32m   Compiling\u001b[0m memmap2 v0.5.10\n",
            "\u001b[1m\u001b[32m   Compiling\u001b[0m unicode_categories v0.1.1\n",
            "\u001b[1m\u001b[32m   Compiling\u001b[0m regex-syntax v0.7.5\n",
            "\u001b[1m\u001b[32m   Compiling\u001b[0m tokenizers v0.13.4\n",
            "\u001b[1m\u001b[32m   Compiling\u001b[0m ggml v0.2.0-dev (/root/.cargo/git/checkouts/llm-d8a8bbe144aa0546/b11ffb1/crates/ggml)\n",
            "\u001b[1m\u001b[32m   Compiling\u001b[0m llm-samplers v0.0.7\n",
            "\u001b[1m\u001b[32m   Compiling\u001b[0m serde_bytes v0.11.15\n",
            "\u001b[1m\u001b[32m   Compiling\u001b[0m half v2.4.1\n",
            "\u001b[1m\u001b[32m   Compiling\u001b[0m bytemuck v1.21.0\n",
            "\u001b[1m\u001b[32m   Compiling\u001b[0m partial_sort v0.2.0\n",
            "\u001b[1m\u001b[32m   Compiling\u001b[0m llm-base v0.2.0-dev (/root/.cargo/git/checkouts/llm-d8a8bbe144aa0546/b11ffb1/crates/llm-base)\n",
            "\u001b[0m\u001b[1m\u001b[33mwarning\u001b[0m\u001b[0m\u001b[1m: field `0` is never read\u001b[0m\n",
            "\u001b[0m   \u001b[0m\u001b[0m\u001b[1m\u001b[38;5;12m--> \u001b[0m\u001b[0mcrates/llm-base/src/model/mod.rs:274:25\u001b[0m\n",
            "\u001b[0m    \u001b[0m\u001b[0m\u001b[1m\u001b[38;5;12m|\u001b[0m\n",
            "\u001b[0m\u001b[1m\u001b[38;5;12m274\u001b[0m\u001b[0m \u001b[0m\u001b[0m\u001b[1m\u001b[38;5;12m|\u001b[0m\u001b[0m \u001b[0m\u001b[0mpub struct ModelContext(pub(crate) Arc<ggml::Context>);\u001b[0m\n",
            "\u001b[0m    \u001b[0m\u001b[0m\u001b[1m\u001b[38;5;12m|\u001b[0m\u001b[0m            \u001b[0m\u001b[0m\u001b[1m\u001b[38;5;12m------------\u001b[0m\u001b[0m \u001b[0m\u001b[0m\u001b[1m\u001b[33m^^^^^^^^^^^^^^^^^^^^^^^^^^^^^\u001b[0m\n",
            "\u001b[0m    \u001b[0m\u001b[0m\u001b[1m\u001b[38;5;12m|\u001b[0m\u001b[0m            \u001b[0m\u001b[0m\u001b[1m\u001b[38;5;12m|\u001b[0m\n",
            "\u001b[0m    \u001b[0m\u001b[0m\u001b[1m\u001b[38;5;12m|\u001b[0m\u001b[0m            \u001b[0m\u001b[0m\u001b[1m\u001b[38;5;12mfield in this struct\u001b[0m\n",
            "\u001b[0m    \u001b[0m\u001b[0m\u001b[1m\u001b[38;5;12m|\u001b[0m\n",
            "\u001b[0m    \u001b[0m\u001b[0m\u001b[1m\u001b[38;5;12m= \u001b[0m\u001b[0m\u001b[1mhelp\u001b[0m\u001b[0m: consider removing this field\u001b[0m\n",
            "\u001b[0m    \u001b[0m\u001b[0m\u001b[1m\u001b[38;5;12m= \u001b[0m\u001b[0m\u001b[1mnote\u001b[0m\u001b[0m: `ModelContext` has a derived impl for the trait `Clone`, but this is intentionally ignored during dead code analysis\u001b[0m\n",
            "\u001b[0m    \u001b[0m\u001b[0m\u001b[1m\u001b[38;5;12m= \u001b[0m\u001b[0m\u001b[1mnote\u001b[0m\u001b[0m: `#[warn(dead_code)]` on by default\u001b[0m\n",
            "\n",
            "\u001b[1m\u001b[33mwarning\u001b[0m\u001b[1m:\u001b[0m `llm-base` (lib) generated 1 warning\n",
            "\u001b[1m\u001b[32m   Compiling\u001b[0m utf8parse v0.2.2\n",
            "\u001b[1m\u001b[32m   Compiling\u001b[0m regex-syntax v0.6.29\n",
            "\u001b[1m\u001b[32m   Compiling\u001b[0m regex-automata v0.1.10\n",
            "\u001b[1m\u001b[32m   Compiling\u001b[0m anstyle-parse v0.2.6\n",
            "\u001b[1m\u001b[32m   Compiling\u001b[0m backtrace v0.3.71\n",
            "\u001b[1m\u001b[32m   Compiling\u001b[0m anstyle-query v1.1.2\n",
            "\u001b[1m\u001b[32m   Compiling\u001b[0m is_terminal_polyfill v1.70.1\n",
            "\u001b[1m\u001b[32m   Compiling\u001b[0m anstyle v1.0.10\n",
            "\u001b[1m\u001b[32m   Compiling\u001b[0m gimli v0.28.1\n",
            "\u001b[1m\u001b[32m   Compiling\u001b[0m colorchoice v1.0.3\n",
            "\u001b[1m\u001b[32m   Compiling\u001b[0m zstd-safe v6.0.6\n",
            "\u001b[1m\u001b[32m   Compiling\u001b[0m overload v0.1.1\n",
            "\u001b[1m\u001b[32m   Compiling\u001b[0m adler v1.0.2\n",
            "\u001b[1m\u001b[32m   Compiling\u001b[0m eyre v0.6.12\n",
            "\u001b[1m\u001b[32m   Compiling\u001b[0m miniz_oxide v0.7.4\n",
            "\u001b[1m\u001b[32m   Compiling\u001b[0m addr2line v0.21.0\n",
            "\u001b[1m\u001b[32m   Compiling\u001b[0m nu-ansi-term v0.46.0\n",
            "\u001b[1m\u001b[32m   Compiling\u001b[0m anstream v0.6.18\n",
            "\u001b[1m\u001b[32m   Compiling\u001b[0m matchers v0.1.0\n",
            "\u001b[1m\u001b[32m   Compiling\u001b[0m sharded-slab v0.1.7\n",
            "\u001b[1m\u001b[32m   Compiling\u001b[0m tracing-log v0.2.0\n",
            "\u001b[1m\u001b[32m   Compiling\u001b[0m nibble_vec v0.1.0\n",
            "\u001b[1m\u001b[32m   Compiling\u001b[0m thread_local v1.1.8\n",
            "\u001b[1m\u001b[32m   Compiling\u001b[0m object v0.32.2\n",
            "\u001b[1m\u001b[32m   Compiling\u001b[0m dirs-sys-next v0.1.2\n",
            "\u001b[1m\u001b[32m   Compiling\u001b[0m rustc-demangle v0.1.24\n",
            "\u001b[1m\u001b[32m   Compiling\u001b[0m heck v0.5.0\n",
            "\u001b[1m\u001b[32m   Compiling\u001b[0m indenter v0.3.3\n",
            "\u001b[1m\u001b[32m   Compiling\u001b[0m clap_lex v0.7.4\n",
            "\u001b[1m\u001b[32m   Compiling\u001b[0m endian-type v0.1.2\n",
            "\u001b[1m\u001b[32m   Compiling\u001b[0m strsim v0.11.1\n",
            "\u001b[1m\u001b[32m   Compiling\u001b[0m clap_builder v4.5.29\n",
            "\u001b[1m\u001b[32m   Compiling\u001b[0m radix_trie v0.2.1\n",
            "\u001b[1m\u001b[32m   Compiling\u001b[0m clap_derive v4.5.28\n",
            "\u001b[1m\u001b[32m   Compiling\u001b[0m dirs-next v2.0.0\n",
            "\u001b[1m\u001b[32m   Compiling\u001b[0m tracing-subscriber v0.3.19\n",
            "\u001b[1m\u001b[32m   Compiling\u001b[0m llm-mpt v0.2.0-dev (/root/.cargo/git/checkouts/llm-d8a8bbe144aa0546/b11ffb1/crates/models/mpt)\n",
            "\u001b[1m\u001b[32m   Compiling\u001b[0m llm-bloom v0.2.0-dev (/root/.cargo/git/checkouts/llm-d8a8bbe144aa0546/b11ffb1/crates/models/bloom)\n",
            "\u001b[1m\u001b[32m   Compiling\u001b[0m llm-llama v0.2.0-dev (/root/.cargo/git/checkouts/llm-d8a8bbe144aa0546/b11ffb1/crates/models/llama)\n",
            "\u001b[1m\u001b[32m   Compiling\u001b[0m llm-gptneox v0.2.0-dev (/root/.cargo/git/checkouts/llm-d8a8bbe144aa0546/b11ffb1/crates/models/gptneox)\n",
            "\u001b[1m\u001b[32m   Compiling\u001b[0m llm-gptj v0.2.0-dev (/root/.cargo/git/checkouts/llm-d8a8bbe144aa0546/b11ffb1/crates/models/gptj)\n",
            "\u001b[1m\u001b[32m   Compiling\u001b[0m llm-gpt2 v0.2.0-dev (/root/.cargo/git/checkouts/llm-d8a8bbe144aa0546/b11ffb1/crates/models/gpt2)\n",
            "\u001b[1m\u001b[32m   Compiling\u001b[0m nix v0.26.4\n",
            "\u001b[1m\u001b[32m   Compiling\u001b[0m fd-lock v3.0.13\n",
            "\u001b[1m\u001b[32m   Compiling\u001b[0m colored v2.2.0\n",
            "\u001b[1m\u001b[32m   Compiling\u001b[0m crossbeam-channel v0.5.14\n",
            "\u001b[1m\u001b[32m   Compiling\u001b[0m rustyline-derive v0.8.0\n",
            "\u001b[1m\u001b[32m   Compiling\u001b[0m is-terminal v0.4.15\n",
            "\u001b[1m\u001b[32m   Compiling\u001b[0m unicode-width v0.1.14\n",
            "\u001b[1m\u001b[32m   Compiling\u001b[0m humantime v2.1.0\n",
            "\u001b[1m\u001b[32m   Compiling\u001b[0m owo-colors v3.5.0\n",
            "\u001b[1m\u001b[32m   Compiling\u001b[0m termcolor v1.4.1\n",
            "\u001b[1m\u001b[32m   Compiling\u001b[0m env_logger v0.10.2\n",
            "\u001b[1m\u001b[32m   Compiling\u001b[0m color-eyre v0.6.3\n",
            "\u001b[1m\u001b[32m   Compiling\u001b[0m rustyline v11.0.0\n",
            "\u001b[1m\u001b[32m   Compiling\u001b[0m tracing-appender v0.2.3\n",
            "\u001b[1m\u001b[32m   Compiling\u001b[0m spinoff v0.8.0\n",
            "\u001b[1m\u001b[32m   Compiling\u001b[0m llm v0.2.0-dev (/root/.cargo/git/checkouts/llm-d8a8bbe144aa0546/b11ffb1/crates/llm)\n",
            "\u001b[1m\u001b[32m   Compiling\u001b[0m zstd v0.12.4\n",
            "\u001b[1m\u001b[32m   Compiling\u001b[0m clap v4.5.29\n",
            "\u001b[1m\u001b[32m   Compiling\u001b[0m bincode v1.3.3\n",
            "\u001b[1m\u001b[32m   Compiling\u001b[0m num_cpus v1.16.0\n",
            "\u001b[1m\u001b[32m   Compiling\u001b[0m bytesize v1.3.2\n",
            "\u001b[1m\u001b[32m   Compiling\u001b[0m llm-cli v0.2.0-dev (/root/.cargo/git/checkouts/llm-d8a8bbe144aa0546/b11ffb1/binaries/llm-cli)\n",
            "\u001b[1m\u001b[32m    Finished\u001b[0m `release` profile [optimized] target(s) in 8m 34s\n",
            "\u001b[1m\u001b[32m  Installing\u001b[0m /root/.cargo/bin/llm\n",
            "\u001b[1m\u001b[32m   Installed\u001b[0m package `llm-cli v0.2.0-dev (https://github.com/rustformers/llm#b11ffb14)` (executable `llm`)\n"
          ]
        }
      ]
    },
    {
      "cell_type": "code",
      "source": [],
      "metadata": {
        "id": "0-lGkW_FXPIT"
      },
      "execution_count": null,
      "outputs": []
    },
    {
      "cell_type": "code",
      "source": [
        "%cd /content\n",
        "!git clone https://huggingface.co/togethercomputer/RedPajama-INCITE-Base-3B-v1"
      ],
      "metadata": {
        "colab": {
          "base_uri": "https://localhost:8080/"
        },
        "id": "cj1-3aZBXL8k",
        "outputId": "b2b7b1c4-e329-4313-8117-95a308f55ceb"
      },
      "execution_count": 75,
      "outputs": [
        {
          "output_type": "stream",
          "name": "stdout",
          "text": [
            "/content\n",
            "Cloning into 'RedPajama-INCITE-Base-3B-v1'...\n",
            "remote: Enumerating objects: 75, done.\u001b[K\n",
            "remote: Total 75 (delta 0), reused 0 (delta 0), pack-reused 75 (from 1)\u001b[K\n",
            "Unpacking objects: 100% (75/75), 601.38 KiB | 4.97 MiB/s, done.\n",
            "warning: Clone succeeded, but checkout failed.\n",
            "You can inspect what was checked out with 'git status'\n",
            "and retry with 'git restore --source=HEAD :/'\n",
            "\n",
            "\n",
            "Exiting because of \"interrupt\" signal.\n",
            "^C\n"
          ]
        }
      ]
    },
    {
      "cell_type": "code",
      "source": [
        "%cd /content/RedPajama-INCITE-Base-3B-v1\n",
        "!wget https://huggingface.co/togethercomputer/RedPajama-INCITE-Base-3B-v1/resolve/main/pytorch_model.bin"
      ],
      "metadata": {
        "colab": {
          "base_uri": "https://localhost:8080/"
        },
        "id": "GeKS1aB0XVbD",
        "outputId": "81016a99-dcf3-4c6b-c528-7e2b1007db96"
      },
      "execution_count": 76,
      "outputs": [
        {
          "output_type": "stream",
          "name": "stdout",
          "text": [
            "/content/RedPajama-INCITE-Base-3B-v1\n",
            "--2025-02-13 03:39:11--  https://huggingface.co/togethercomputer/RedPajama-INCITE-Base-3B-v1/resolve/main/pytorch_model.bin\n",
            "Resolving huggingface.co (huggingface.co)... 18.172.134.4, 18.172.134.88, 18.172.134.24, ...\n",
            "Connecting to huggingface.co (huggingface.co)|18.172.134.4|:443... connected.\n",
            "HTTP request sent, awaiting response... 302 Found\n",
            "Location: https://cdn-lfs.hf.co/repos/46/28/4628639db4a82781b4ff9dd35e306d62dabf40d7d08628e594c71fc3220cb0b2/844708c42241de49775b872663ad58422a35b8e5a7d50b1f808408db8c1fb84b?response-content-disposition=inline%3B+filename*%3DUTF-8%27%27pytorch_model.bin%3B+filename%3D%22pytorch_model.bin%22%3B&response-content-type=application%2Foctet-stream&Expires=1739421551&Policy=eyJTdGF0ZW1lbnQiOlt7IkNvbmRpdGlvbiI6eyJEYXRlTGVzc1RoYW4iOnsiQVdTOkVwb2NoVGltZSI6MTczOTQyMTU1MX19LCJSZXNvdXJjZSI6Imh0dHBzOi8vY2RuLWxmcy5oZi5jby9yZXBvcy80Ni8yOC80NjI4NjM5ZGI0YTgyNzgxYjRmZjlkZDM1ZTMwNmQ2MmRhYmY0MGQ3ZDA4NjI4ZTU5NGM3MWZjMzIyMGNiMGIyLzg0NDcwOGM0MjI0MWRlNDk3NzViODcyNjYzYWQ1ODQyMmEzNWI4ZTVhN2Q1MGIxZjgwODQwOGRiOGMxZmI4NGI%7EcmVzcG9uc2UtY29udGVudC1kaXNwb3NpdGlvbj0qJnJlc3BvbnNlLWNvbnRlbnQtdHlwZT0qIn1dfQ__&Signature=M9gz-vSA3LFRiCLW2erUd8O0pH64F%7EJECs9Jmp28caRC8SA3hoMzB95sfufHBPEf7T-XGX3YbCDbVvAhV3%7EiAuKWLLq24SryuDZ3RfgxQOQjhZNnIxKX8qXbC-NXLGyHEC%7EO1NjcYRfiWGX5q%7EvJyFRBnr9z0pf3UyA0gWcQvdwmWH3WmHhYTSMT5H4ul2M1S8rgxq8T3sDT%7EAUFcV2ROpbkRHMup3j6f63uEnvvVdFkuVwuaqBSGE8TNM6BKu8miCqCZyJOQprrpXtw8YKWZvMT%7Eshf2ZNYcsr-r9boEJq-ZQJeZy7YjSmQlup82D3A-MA1yZVM6h7yzC-jiw%7EEFw__&Key-Pair-Id=K3RPWS32NSSJCE [following]\n",
            "--2025-02-13 03:39:11--  https://cdn-lfs.hf.co/repos/46/28/4628639db4a82781b4ff9dd35e306d62dabf40d7d08628e594c71fc3220cb0b2/844708c42241de49775b872663ad58422a35b8e5a7d50b1f808408db8c1fb84b?response-content-disposition=inline%3B+filename*%3DUTF-8%27%27pytorch_model.bin%3B+filename%3D%22pytorch_model.bin%22%3B&response-content-type=application%2Foctet-stream&Expires=1739421551&Policy=eyJTdGF0ZW1lbnQiOlt7IkNvbmRpdGlvbiI6eyJEYXRlTGVzc1RoYW4iOnsiQVdTOkVwb2NoVGltZSI6MTczOTQyMTU1MX19LCJSZXNvdXJjZSI6Imh0dHBzOi8vY2RuLWxmcy5oZi5jby9yZXBvcy80Ni8yOC80NjI4NjM5ZGI0YTgyNzgxYjRmZjlkZDM1ZTMwNmQ2MmRhYmY0MGQ3ZDA4NjI4ZTU5NGM3MWZjMzIyMGNiMGIyLzg0NDcwOGM0MjI0MWRlNDk3NzViODcyNjYzYWQ1ODQyMmEzNWI4ZTVhN2Q1MGIxZjgwODQwOGRiOGMxZmI4NGI%7EcmVzcG9uc2UtY29udGVudC1kaXNwb3NpdGlvbj0qJnJlc3BvbnNlLWNvbnRlbnQtdHlwZT0qIn1dfQ__&Signature=M9gz-vSA3LFRiCLW2erUd8O0pH64F%7EJECs9Jmp28caRC8SA3hoMzB95sfufHBPEf7T-XGX3YbCDbVvAhV3%7EiAuKWLLq24SryuDZ3RfgxQOQjhZNnIxKX8qXbC-NXLGyHEC%7EO1NjcYRfiWGX5q%7EvJyFRBnr9z0pf3UyA0gWcQvdwmWH3WmHhYTSMT5H4ul2M1S8rgxq8T3sDT%7EAUFcV2ROpbkRHMup3j6f63uEnvvVdFkuVwuaqBSGE8TNM6BKu8miCqCZyJOQprrpXtw8YKWZvMT%7Eshf2ZNYcsr-r9boEJq-ZQJeZy7YjSmQlup82D3A-MA1yZVM6h7yzC-jiw%7EEFw__&Key-Pair-Id=K3RPWS32NSSJCE\n",
            "Resolving cdn-lfs.hf.co (cdn-lfs.hf.co)... 3.167.152.37, 3.167.152.119, 3.167.152.106, ...\n",
            "Connecting to cdn-lfs.hf.co (cdn-lfs.hf.co)|3.167.152.37|:443... connected.\n",
            "HTTP request sent, awaiting response... 200 OK\n",
            "Length: 5686113497 (5.3G) [application/octet-stream]\n",
            "Saving to: ‘pytorch_model.bin’\n",
            "\n",
            "pytorch_model.bin   100%[===================>]   5.29G  64.2MB/s    in 67s     \n",
            "\n",
            "2025-02-13 03:40:18 (81.1 MB/s) - ‘pytorch_model.bin’ saved [5686113497/5686113497]\n",
            "\n"
          ]
        }
      ]
    },
    {
      "cell_type": "markdown",
      "source": [
        "https://docs.rs/llm/latest/src/llm/chat/mod.rs.html#1-106"
      ],
      "metadata": {
        "id": "5RDfNqzDYFZL"
      }
    },
    {
      "cell_type": "markdown",
      "source": [
        "https://docs.rs/llm/latest/src/llm/builder.rs.html"
      ],
      "metadata": {
        "id": "Pa-6uevCYhM4"
      }
    },
    {
      "cell_type": "markdown",
      "source": [
        "https://huggingface.co/rustformers/redpajama-3b-ggml/blob/main/README.md?code=true#L25"
      ],
      "metadata": {
        "id": "e2bjsfjOZW1t"
      }
    },
    {
      "cell_type": "code",
      "source": [
        "%cd /content\n",
        "!wget https://huggingface.co/rustformers/redpajama-3b-ggml/resolve/main/RedPajama-INCITE-Base-3B-v1-q4_0.bin"
      ],
      "metadata": {
        "colab": {
          "base_uri": "https://localhost:8080/"
        },
        "id": "e71tA5kfZ2Gs",
        "outputId": "d1802498-31f6-4f04-dfbc-86984c60d3f6"
      },
      "execution_count": 79,
      "outputs": [
        {
          "output_type": "stream",
          "name": "stdout",
          "text": [
            "/content\n",
            "--2025-02-13 03:44:54--  https://huggingface.co/rustformers/redpajama-3b-ggml/resolve/main/RedPajama-INCITE-Base-3B-v1-q4_0.bin\n",
            "Resolving huggingface.co (huggingface.co)... 18.172.134.124, 18.172.134.24, 18.172.134.88, ...\n",
            "Connecting to huggingface.co (huggingface.co)|18.172.134.124|:443... connected.\n",
            "HTTP request sent, awaiting response... 302 Found\n",
            "Location: https://cdn-lfs.hf.co/repos/1e/6b/1e6b7b71c8679230d45d3d1f5cf71effa2052c1608e85061cb8a87dce0513282/549b4f8d5f153aacdd635ff999d16f63ed0e7b8458ad1a1a41ac235a89e4582d?response-content-disposition=inline%3B+filename*%3DUTF-8%27%27RedPajama-INCITE-Base-3B-v1-q4_0.bin%3B+filename%3D%22RedPajama-INCITE-Base-3B-v1-q4_0.bin%22%3B&response-content-type=application%2Foctet-stream&Expires=1739421894&Policy=eyJTdGF0ZW1lbnQiOlt7IkNvbmRpdGlvbiI6eyJEYXRlTGVzc1RoYW4iOnsiQVdTOkVwb2NoVGltZSI6MTczOTQyMTg5NH19LCJSZXNvdXJjZSI6Imh0dHBzOi8vY2RuLWxmcy5oZi5jby9yZXBvcy8xZS82Yi8xZTZiN2I3MWM4Njc5MjMwZDQ1ZDNkMWY1Y2Y3MWVmZmEyMDUyYzE2MDhlODUwNjFjYjhhODdkY2UwNTEzMjgyLzU0OWI0ZjhkNWYxNTNhYWNkZDYzNWZmOTk5ZDE2ZjYzZWQwZTdiODQ1OGFkMWExYTQxYWMyMzVhODllNDU4MmQ%7EcmVzcG9uc2UtY29udGVudC1kaXNwb3NpdGlvbj0qJnJlc3BvbnNlLWNvbnRlbnQtdHlwZT0qIn1dfQ__&Signature=mwOGCWrb%7EPtF-rVEf63RNgLy6IjXIDTWArk%7E5xdnccR0l7%7ETYJm3ly6M88uWAOFYmY5Du84j-6eb7-w-h0CwBCq5qcsRWFbVxQRQ7QTneaXnq6mUe9DEFS8%7EHcbkdut%7EQK7VscYPRCqYLSPH-iA%7E6z-1pWdJsM%7EPotbJgUno1rlwfM79HxkOFlBhS0Om0qQa0DzQaxz3R2RJRJs5QwhbBEEYxv55Dieb3IusJa4y93klWg3osh9hxzFpKa1jEX5y8tXcOeWoNvHLvi9MMqwK%7EakDt-LguQzaD69r0We2jOBbIoC3RLxvp67aEKqbe7gOsocyyMUXZrhTiZ3BuOmlDw__&Key-Pair-Id=K3RPWS32NSSJCE [following]\n",
            "--2025-02-13 03:44:54--  https://cdn-lfs.hf.co/repos/1e/6b/1e6b7b71c8679230d45d3d1f5cf71effa2052c1608e85061cb8a87dce0513282/549b4f8d5f153aacdd635ff999d16f63ed0e7b8458ad1a1a41ac235a89e4582d?response-content-disposition=inline%3B+filename*%3DUTF-8%27%27RedPajama-INCITE-Base-3B-v1-q4_0.bin%3B+filename%3D%22RedPajama-INCITE-Base-3B-v1-q4_0.bin%22%3B&response-content-type=application%2Foctet-stream&Expires=1739421894&Policy=eyJTdGF0ZW1lbnQiOlt7IkNvbmRpdGlvbiI6eyJEYXRlTGVzc1RoYW4iOnsiQVdTOkVwb2NoVGltZSI6MTczOTQyMTg5NH19LCJSZXNvdXJjZSI6Imh0dHBzOi8vY2RuLWxmcy5oZi5jby9yZXBvcy8xZS82Yi8xZTZiN2I3MWM4Njc5MjMwZDQ1ZDNkMWY1Y2Y3MWVmZmEyMDUyYzE2MDhlODUwNjFjYjhhODdkY2UwNTEzMjgyLzU0OWI0ZjhkNWYxNTNhYWNkZDYzNWZmOTk5ZDE2ZjYzZWQwZTdiODQ1OGFkMWExYTQxYWMyMzVhODllNDU4MmQ%7EcmVzcG9uc2UtY29udGVudC1kaXNwb3NpdGlvbj0qJnJlc3BvbnNlLWNvbnRlbnQtdHlwZT0qIn1dfQ__&Signature=mwOGCWrb%7EPtF-rVEf63RNgLy6IjXIDTWArk%7E5xdnccR0l7%7ETYJm3ly6M88uWAOFYmY5Du84j-6eb7-w-h0CwBCq5qcsRWFbVxQRQ7QTneaXnq6mUe9DEFS8%7EHcbkdut%7EQK7VscYPRCqYLSPH-iA%7E6z-1pWdJsM%7EPotbJgUno1rlwfM79HxkOFlBhS0Om0qQa0DzQaxz3R2RJRJs5QwhbBEEYxv55Dieb3IusJa4y93klWg3osh9hxzFpKa1jEX5y8tXcOeWoNvHLvi9MMqwK%7EakDt-LguQzaD69r0We2jOBbIoC3RLxvp67aEKqbe7gOsocyyMUXZrhTiZ3BuOmlDw__&Key-Pair-Id=K3RPWS32NSSJCE\n",
            "Resolving cdn-lfs.hf.co (cdn-lfs.hf.co)... 18.160.225.18, 18.160.225.14, 18.160.225.90, ...\n",
            "Connecting to cdn-lfs.hf.co (cdn-lfs.hf.co)|18.160.225.18|:443... connected.\n",
            "HTTP request sent, awaiting response... 200 OK\n",
            "Length: 1565640927 (1.5G) [application/octet-stream]\n",
            "Saving to: ‘RedPajama-INCITE-Base-3B-v1-q4_0.bin.1’\n",
            "\n",
            "RedPajama-INCITE-Ba 100%[===================>]   1.46G  45.0MB/s    in 23s     \n",
            "\n",
            "2025-02-13 03:45:18 (64.3 MB/s) - ‘RedPajama-INCITE-Base-3B-v1-q4_0.bin.1’ saved [1565640927/1565640927]\n",
            "\n"
          ]
        }
      ]
    },
    {
      "cell_type": "code",
      "source": [],
      "metadata": {
        "id": "N0q_3H4iZ1-0"
      },
      "execution_count": null,
      "outputs": []
    },
    {
      "cell_type": "code",
      "source": [
        "!llm infer -a gptneox -m /content/RedPajama-INCITE-Base-3B-v1-q4_0.bin -p \"Rust is a cool programming language because\" -r togethercomputer/RedPajama-INCITE-Base-3B-v1"
      ],
      "metadata": {
        "colab": {
          "base_uri": "https://localhost:8080/"
        },
        "id": "l3ALB2HLZ15F",
        "outputId": "980cd388-6dc9-47e8-b8bc-affa08f57d27"
      },
      "execution_count": 80,
      "outputs": [
        {
          "output_type": "stream",
          "name": "stdout",
          "text": [
            "\u001b[1;32m✓\u001b[0m Loaded 388 tensors (1.6 GB) after 2182ms\n",
            "Rust is a cool programming language because it compiles to C code which has been proven for decades. It’s also cross platform so you can build on Windows or Linux without having both runtimes installed, and the libraries are all open source projects that people have contributed back into Rust including some of them from other languages in use by Google today such as LLVM/Clang compiler (similar to Clojure) which compiles C code for Mac OS X.\n",
            "You can also take advantage of JITs like Lazy Byte’s Just-In Time Debugger, or Apple’s Swift Compiler with their respective libraries and build rust on the fly without compiling from command line using just system resources in a few minutes to hours depending upon your CPU/OS type (and how much RAM it has). Rust isn't meant for massive games though.\n",
            "There is an OpenGL implementation that you can use if want's graphics support which seems like more of what we need than native code at the moment and there are other libraries such as JSON from C++, Irimagi’s WebRender (like Cocoa Touch but with JavaScript), Rust bindings to popular APIs for Ruby/Python etc.\n",
            "There have been various studies done recently showing that a large portion or all developers would like open source software in their company environment today despite being somewhat skeptical about using an unknown language and not having enough time on hand, especially when there are other tools available such as JetBrain’s JRuby which compiles Java to Ruby for Mac OS X.\n",
            "And now comes the problem of Rust taking over C where it was a weakling before - developers that wrote code in non-C languages like Python and JavaScript would have had no choice but just migrate their libraries into using native platforms such as .NET with its excellent development environment, not really having to care about compiler performance.\n",
            "So they’re still on the fence for now until someone comes up a way around this - it seems most of them are considering migrating projects over time and some will stick there while others just go full speed ahead onto Rust which is what I'm planning too after seeing how much love JRuby has received from Java developers, especially during conferences.\n",
            "What we really need for C to be replaced by something like Swift with a compiler that compiles native code but can also take advantage of other languages such as Python/JavaScript and not just Ruby or even Javascript itself if it's going full steam ahead - there are lots more than those I'm sure, so having someone come up around then would have been the best choice in my opinion.\n",
            "JRuby has already got a huge following especially among Java developers who don't care what language they use for development because its performance and features make C obsolete today; but now that Rust is taking over even more of them will migrate to it or at least give serious consideration if not yet commit time into making their existing libraries convertible.\n",
            "This year we’ll be seeing^C\n"
          ]
        }
      ]
    },
    {
      "cell_type": "markdown",
      "source": [
        "✓ Loaded 388 tensors (1.6 GB) after 2182ms\n",
        "Rust is a cool programming language because it compiles to C code which has been proven for decades. It’s also cross platform so you can build on Windows or Linux without having both runtimes installed, and the libraries are all open source projects that people have contributed back into Rust including some of them from other languages in use by Google today such as LLVM/Clang compiler (similar to Clojure) which compiles C code for Mac OS X.\n",
        "You can also take advantage of JITs like Lazy Byte’s Just-In Time Debugger, or Apple’s Swift Compiler with their respective libraries and build rust on the fly without compiling from command line using just system resources in a few minutes to hours depending upon your CPU/OS type (and how much RAM it has). Rust isn't meant for massive games though.\n",
        "There is an OpenGL implementation that you can use if want's graphics support which seems like more of what we need than native code at the moment and there are other libraries such as JSON from C++, Irimagi’s WebRender (like Cocoa Touch but with JavaScript), Rust bindings to popular APIs for Ruby/Python etc.\n",
        "There have been various studies done recently showing that a large portion or all developers would like open source software in their company environment today despite being somewhat skeptical about using an unknown language and not having enough time on hand, especially when there are other tools available such as JetBrain’s JRuby which compiles Java to Ruby for Mac OS X.\n",
        "And now comes the problem of Rust taking over C where it was a weakling before - developers that wrote code in non-C languages like Python and JavaScript would have had no choice but just migrate their libraries into using native platforms such as .NET with its excellent development environment, not really having to care about compiler performance.\n",
        "So they’re still on the fence for now until someone comes up a way around this - it seems most of them are considering migrating projects over time and some will stick there while others just go full speed ahead onto Rust which is what I'm planning too after seeing how much love JRuby has received from Java developers, especially during conferences.\n",
        "What we really need for C to be replaced by something like Swift with a compiler that compiles native code but can also take advantage of other languages such as Python/JavaScript and not just Ruby or even Javascript itself if it's going full steam ahead - there are lots more than those I'm sure, so having someone come up around then would have been the best choice in my opinion.\n",
        "JRuby has already got a huge following especially among Java developers who don't care what language they use for development because its performance and features make C obsolete today; but now that Rust is taking over even more of them will migrate to it or at least give serious consideration if not yet commit time into making their existing libraries convertible.\n",
        "This year we’ll be seeing^C"
      ],
      "metadata": {
        "id": "eLfbl5DEbqA9"
      }
    },
    {
      "cell_type": "markdown",
      "source": [
        "✓ تم تحميل 388 موترًا (1.6 جيجابايت) بعد 2182 مللي ثانية\n",
        "Rust هي لغة برمجة رائعة لأنها تُجمَّع إلى كود C الذي أثبت كفاءته لعقود من الزمن. كما أنها متعددة المنصات بحيث يمكنك البناء على Windows أو Linux دون الحاجة إلى تثبيت كلا بيئتي التشغيل، والمكتبات كلها عبارة عن مشاريع مفتوحة المصدر ساهم بها الناس في Rust بما في ذلك بعضها من لغات أخرى تستخدمها Google اليوم مثل مُجمِّع LLVM/Clang (مشابه لـ Clojure) الذي يُجمِّع كود C لنظام التشغيل Mac OS X.\n",
        "يمكنك أيضًا الاستفادة من JITs مثل Just-In Time Debugger من Lazy Byte، أو Swift Compiler من Apple مع مكتباتها الخاصة وبناء Rust أثناء التنقل دون التجميع من سطر الأوامر باستخدام موارد النظام فقط في بضع دقائق إلى ساعات اعتمادًا على نوع وحدة المعالجة المركزية/نظام التشغيل (وكمية ذاكرة الوصول العشوائي التي يحتوي عليها). ومع ذلك، فإن Rust غير مخصص للألعاب الضخمة.\n",
        "هناك تطبيق OpenGL يمكنك استخدامه إذا كنت تريد دعمًا للرسومات، ويبدو أنه أكثر مما نحتاجه من التعليمات البرمجية الأصلية في الوقت الحالي، وهناك مكتبات أخرى مثل JSON من C++، وWebRender من Irimagi (مثل Cocoa Touch ولكن مع JavaScript)، وروابط Rust لواجهات برمجة التطبيقات الشائعة لـ Ruby/Python وما إلى ذلك.\n",
        "لقد أجريت دراسات مختلفة مؤخرًا أظهرت أن جزءًا كبيرًا أو جميع المطورين يرغبون في استخدام برامج مفتوحة المصدر في بيئة شركتهم اليوم على الرغم من تشككهم إلى حد ما في استخدام لغة غير معروفة وعدم وجود وقت كافٍ في متناول اليد، خاصةً عندما تتوفر أدوات أخرى مثل JRuby من JetBrain والتي تقوم بتجميع Java إلى Ruby لنظام التشغيل Mac OS X.\n",
        "والآن تأتي مشكلة Rust التي تغلبت على C حيث كانت ضعيفة من قبل - لم يكن أمام المطورين الذين كتبوا التعليمات البرمجية بلغات غير C مثل Python وJavaScript أي خيار سوى نقل مكتباتهم إلى استخدام منصات أصلية مثل .NET مع بيئة التطوير الممتازة الخاصة بها، دون الاضطرار حقًا إلى الاهتمام بأداء المترجم.\n",
        "لذا فهم ما زالوا مترددين في الوقت الحالي حتى يأتي شخص ما بطريقة للالتفاف على هذا - يبدو أن معظمهم يفكرون في نقل المشاريع بمرور الوقت وسيلتزم البعض بذلك بينما يمضي آخرون بأقصى سرعة نحو Rust وهو ما أخطط له أيضًا بعد رؤية مقدار الحب الذي تلقاه JRuby من مطوري Java، وخاصة أثناء المؤتمرات.\n",
        "ما نحتاجه حقًا لاستبدال C بشيء مثل Swift مع مُجمِّع يقوم بتجميع الكود الأصلي ولكن يمكنه أيضًا الاستفادة من لغات أخرى مثل Python / JavaScript وليس فقط Ruby أو حتى Javascript نفسها إذا كان يعمل بكامل طاقته - هناك الكثير غير ذلك أنا متأكد، لذلك فإن وجود شخص ما سيأتي بعد ذلك سيكون الخيار الأفضل في رأيي.\n",
        "لقد حصل JRuby بالفعل على عدد كبير من المتابعين خاصة بين مطوري Java الذين لا يهتمون باللغة التي يستخدمونها للتطوير لأن أداءها وميزاتها تجعل C عتيقة اليوم؛ ولكن الآن بعد أن استولى Rust على المزيد منهم سيهاجرون إليه أو على الأقل يفكرون بجدية إن لم يكن قد خصصوا الوقت لجعل مكتباتهم الحالية قابلة للتحويل.\n",
        "سنرى هذا العام ^C"
      ],
      "metadata": {
        "id": "Gt_9tDsCbmbO"
      }
    },
    {
      "cell_type": "code",
      "source": [
        "!llm infer -a gptneox -m /content/RedPajama-INCITE-Base-3B-v1-q4_0.bin -p \"Who is Napoleon Bonaparte?\" -r togethercomputer/RedPajama-INCITE-Base-3B-v1 --num-predict 10"
      ],
      "metadata": {
        "colab": {
          "base_uri": "https://localhost:8080/"
        },
        "id": "p4iMmR8uahac",
        "outputId": "fbbe6366-c82b-475b-ec25-52a8e80e519b"
      },
      "execution_count": 82,
      "outputs": [
        {
          "output_type": "stream",
          "name": "stdout",
          "text": [
            "\u001b[1;32m✓\u001b[0m Loaded 388 tensors (1.6 GB) after 2961ms\n",
            "Who is Napoleon Bonaparte?\n",
            "The French general who would become one of history\n"
          ]
        }
      ]
    },
    {
      "cell_type": "markdown",
      "source": [
        "https://huggingface.co/rustformers"
      ],
      "metadata": {
        "id": "qkMpqnChcDLF"
      }
    },
    {
      "cell_type": "code",
      "source": [
        "!llm infer -h"
      ],
      "metadata": {
        "colab": {
          "base_uri": "https://localhost:8080/"
        },
        "id": "-1UsWgjhbtCf",
        "outputId": "9cd75df2-2634-47c5-f7de-1bd44ddce0c7"
      },
      "execution_count": 81,
      "outputs": [
        {
          "output_type": "stream",
          "name": "stdout",
          "text": [
            "Use a model to infer the next tokens in a sequence, and exit\n",
            "\n",
            "\u001b[1m\u001b[4mUsage:\u001b[0m \u001b[1mllm infer\u001b[0m [OPTIONS] \u001b[1m--model-path\u001b[0m <MODEL_PATH>\n",
            "\n",
            "\u001b[1m\u001b[4mOptions:\u001b[0m\n",
            "  \u001b[1m-m\u001b[0m, \u001b[1m--model-path\u001b[0m <MODEL_PATH>\n",
            "          Where to load the model from\n",
            "  \u001b[1m-a\u001b[0m, \u001b[1m--model-architecture\u001b[0m <MODEL_ARCHITECTURE>\n",
            "          The model architecture to use. Will attempt to guess if not specified\n",
            "  \u001b[1m-v\u001b[0m, \u001b[1m--tokenizer-path\u001b[0m <TOKENIZER_PATH>\n",
            "          Local path to Hugging Face tokenizer file\n",
            "  \u001b[1m-r\u001b[0m, \u001b[1m--tokenizer-repository\u001b[0m <TOKENIZER_REPOSITORY>\n",
            "          Remote Hugging Face repository containing a tokenizer\n",
            "      \u001b[1m--num-ctx-tokens\u001b[0m <NUM_CTX_TOKENS>\n",
            "          Sets the size of the context (in tokens). Allows feeding longer prompts. Note that this affects memory [default: 2048]\n",
            "      \u001b[1m--no-mmap\u001b[0m\n",
            "          Don't use mmap to load the model\n",
            "      \u001b[1m--lora-paths\u001b[0m [<LORA_PATHS>...]\n",
            "          LoRA adapter to use for the model\n",
            "      \u001b[1m--gpu-layers\u001b[0m <GPU_LAYERS>\n",
            "          Number of layers to run on the GPU. If not specified, all layers will be run on the GPU\n",
            "      \u001b[1m--rope-freq-base\u001b[0m <ROPE_FREQ_BASE>\n",
            "          \n",
            "      \u001b[1m--rope-freq-scale\u001b[0m <ROPE_FREQ_SCALE>\n",
            "          \n",
            "  \u001b[1m-f\u001b[0m, \u001b[1m--prompt-file\u001b[0m <PROMPT_FILE>\n",
            "          A file to read the prompt from\n",
            "  \u001b[1m-t\u001b[0m, \u001b[1m--num-threads\u001b[0m <NUM_THREADS>\n",
            "          Sets the number of threads to use\n",
            "  \u001b[1m-n\u001b[0m, \u001b[1m--num-predict\u001b[0m <NUM_PREDICT>\n",
            "          Sets how many tokens to predict\n",
            "      \u001b[1m--batch-size\u001b[0m <BATCH_SIZE>\n",
            "          How many tokens from the prompt at a time to feed the network. Does not affect generation [default: 8]\n",
            "  \u001b[1m-s\u001b[0m, \u001b[1m--sampler\u001b[0m <SAMPLER_OPTIONS>\n",
            "          Configure sampler settings using a string in the format: sampler_name:key1=value1:key2=value2\n",
            "          To configure multiple samplers at once, separate the sampler configuration strings with space or '/' (forward slash).\n",
            "          NOTE: Mirostat samplers are incompatible with top-p, top-k, locally typical and tail free samplers.\n",
            "          TIPS:\n",
            "            1. Sampler options aren't required. For example \"mirostat1\" will enable Mirostat 1 with its default options.\n",
            "            2. It's possible to specify partial option names, as long as they are unambiguous.\n",
            "            3. Underscore and dash are ignored in sampler names, so \"top-p\" is the same as \"topp\" or \"top_p\".\n",
            "      \u001b[1m--seed\u001b[0m <SEED>\n",
            "          Specifies the seed to use during sampling. Note that, depending on hardware, the same seed may lead to different results on two separate machines\n",
            "      \u001b[1m--no-float16\u001b[0m\n",
            "          Use 32-bit floats for model memory key and value. Not recommended: doubles size without a measurable quality increase. Ignored when restoring from the cache\n",
            "      \u001b[1m--token-bias\u001b[0m <TOKEN_BIAS>\n",
            "          A comma separated list of token biases. The list should be in the format \"TID=BIAS,TID=BIAS\" where TID is an integer token ID and BIAS is a floating point number. For example, \"1=-1.0,2=-1.0\" sets the bias for token IDs 1 (start of document) and 2 (end of document) to -1.0 which effectively disables the model from generating responses containing those token IDs\n",
            "      \u001b[1m--ignore-eos\u001b[0m\n",
            "          Prevent the end of stream (EOS/EOD) token from being generated. This will allow the model to generate text until it runs out of context space\n",
            "      \u001b[1m--use-gpu\u001b[0m\n",
            "          Whether to use GPU acceleration when available\n",
            "  \u001b[1m-p\u001b[0m, \u001b[1m--prompt\u001b[0m <PROMPT>\n",
            "          The prompt to feed the generator\n",
            "      \u001b[1m--hide-prompt\u001b[0m\n",
            "          Hide the prompt in the generation\n",
            "      \u001b[1m--load-session\u001b[0m <LOAD_SESSION>\n",
            "          Loads a saved inference session from the given path, previously saved using `--save-session`\n",
            "      \u001b[1m--save-session\u001b[0m <SAVE_SESSION>\n",
            "          Saves an inference session at the given path. The same session can then be loaded from disk using `--load-session`\n",
            "      \u001b[1m--persist-session\u001b[0m <PERSIST_SESSION>\n",
            "          Loads an inference session from the given path if present, and then saves the result to the same path after inference is completed\n",
            "      \u001b[1m--stats\u001b[0m\n",
            "          Output statistics about the time taken to perform inference, among other things\n",
            "  \u001b[1m-h\u001b[0m, \u001b[1m--help\u001b[0m\n",
            "          Print help (see more with '--help')\n"
          ]
        }
      ]
    },
    {
      "cell_type": "markdown",
      "source": [
        "Use a model to infer the next tokens in a sequence, and exit\n",
        "\n",
        "Usage: llm infer [OPTIONS] --model-path <MODEL_PATH>\n",
        "\n",
        "Options:\n",
        "  -m, --model-path <MODEL_PATH>\n",
        "          Where to load the model from\n",
        "  -a, --model-architecture <MODEL_ARCHITECTURE>\n",
        "          The model architecture to use. Will attempt to guess if not specified\n",
        "  -v, --tokenizer-path <TOKENIZER_PATH>\n",
        "          Local path to Hugging Face tokenizer file\n",
        "  -r, --tokenizer-repository <TOKENIZER_REPOSITORY>\n",
        "          Remote Hugging Face repository containing a tokenizer\n",
        "      --num-ctx-tokens <NUM_CTX_TOKENS>\n",
        "          Sets the size of the context (in tokens). Allows feeding longer prompts. Note that this affects memory [default: 2048]\n",
        "      --no-mmap\n",
        "          Don't use mmap to load the model\n",
        "      --lora-paths [<LORA_PATHS>...]\n",
        "          LoRA adapter to use for the model\n",
        "      --gpu-layers <GPU_LAYERS>\n",
        "          Number of layers to run on the GPU. If not specified, all layers will be run on the GPU\n",
        "      --rope-freq-base <ROPE_FREQ_BASE>\n",
        "          \n",
        "      --rope-freq-scale <ROPE_FREQ_SCALE>\n",
        "          \n",
        "  -f, --prompt-file <PROMPT_FILE>\n",
        "          A file to read the prompt from\n",
        "  -t, --num-threads <NUM_THREADS>\n",
        "          Sets the number of threads to use\n",
        "  -n, --num-predict <NUM_PREDICT>\n",
        "          Sets how many tokens to predict\n",
        "      --batch-size <BATCH_SIZE>\n",
        "          How many tokens from the prompt at a time to feed the network. Does not affect generation [default: 8]\n",
        "  -s, --sampler <SAMPLER_OPTIONS>\n",
        "          Configure sampler settings using a string in the format: sampler_name:key1=value1:key2=value2\n",
        "          To configure multiple samplers at once, separate the sampler configuration strings with space or '/' (forward slash).\n",
        "          NOTE: Mirostat samplers are incompatible with top-p, top-k, locally typical and tail free samplers.\n",
        "          TIPS:\n",
        "            1. Sampler options aren't required. For example \"mirostat1\" will enable Mirostat 1 with its default options.\n",
        "            2. It's possible to specify partial option names, as long as they are unambiguous.\n",
        "            3. Underscore and dash are ignored in sampler names, so \"top-p\" is the same as \"topp\" or \"top_p\".\n",
        "      --seed <SEED>\n",
        "          Specifies the seed to use during sampling. Note that, depending on hardware, the same seed may lead to different results on two separate machines\n",
        "      --no-float16\n",
        "          Use 32-bit floats for model memory key and value. Not recommended: doubles size without a measurable quality increase. Ignored when restoring from the cache\n",
        "      --token-bias <TOKEN_BIAS>\n",
        "          A comma separated list of token biases. The list should be in the format \"TID=BIAS,TID=BIAS\" where TID is an integer token ID and BIAS is a floating point number. For example, \"1=-1.0,2=-1.0\" sets the bias for token IDs 1 (start of document) and 2 (end of document) to -1.0 which effectively disables the model from generating responses containing those token IDs\n",
        "      --ignore-eos\n",
        "          Prevent the end of stream (EOS/EOD) token from being generated. This will allow the model to generate text until it runs out of context space\n",
        "      --use-gpu\n",
        "          Whether to use GPU acceleration when available\n",
        "  -p, --prompt <PROMPT>\n",
        "          The prompt to feed the generator\n",
        "      --hide-prompt\n",
        "          Hide the prompt in the generation\n",
        "      --load-session <LOAD_SESSION>\n",
        "          Loads a saved inference session from the given path, previously saved using `--save-session`\n",
        "      --save-session <SAVE_SESSION>\n",
        "          Saves an inference session at the given path. The same session can then be loaded from disk using `--load-session`\n",
        "      --persist-session <PERSIST_SESSION>\n",
        "          Loads an inference session from the given path if present, and then saves the result to the same path after inference is completed\n",
        "      --stats\n",
        "          Output statistics about the time taken to perform inference, among other things\n",
        "  -h, --help\n",
        "          Print help (see more with '--help')"
      ],
      "metadata": {
        "id": "WUQvV-5Gbxq1"
      }
    },
    {
      "cell_type": "markdown",
      "source": [
        "https://github.com/sekmet/llm-rust"
      ],
      "metadata": {
        "id": "lRAv1-p0cPi8"
      }
    },
    {
      "cell_type": "markdown",
      "source": [
        "https://github.com/jondot/awesome-rust-llm"
      ],
      "metadata": {
        "id": "RuaycVbzcTiV"
      }
    },
    {
      "cell_type": "markdown",
      "source": [
        "$$$$$$$$$$$$$$$$$$$$$$$$$$$$$$$$$"
      ],
      "metadata": {
        "id": "eyGyZpeqaq_b"
      }
    }
  ]
}